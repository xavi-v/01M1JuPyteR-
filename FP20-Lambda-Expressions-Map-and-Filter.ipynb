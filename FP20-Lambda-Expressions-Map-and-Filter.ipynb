{
 "nbformat": 4,
 "nbformat_minor": 0,
 "metadata": {
  "kernelspec": {
   "display_name": "Python 3 (ipykernel)",
   "language": "python",
   "name": "python3"
  },
  "language_info": {
   "codemirror_mode": {
    "name": "ipython",
    "version": 3
   },
   "file_extension": ".py",
   "mimetype": "text/x-python",
   "name": "python",
   "nbconvert_exporter": "python",
   "pygments_lexer": "ipython3",
   "version": "3.8.11"
  },
  "colab": {
   "provenance": [],
   "toc_visible": true
  }
 },
 "cells": [
  {
   "cell_type": "markdown",
   "metadata": {
    "id": "5H371uVRVQa5"
   },
   "source": [
    "# **Introducción a Python**\n",
    "# FP20. Expresiones Lambda, Map y Filter"
   ]
  },
  {
   "cell_type": "markdown",
   "metadata": {
    "id": "cboFi8FzVQa_"
   },
   "source": [
    "Ahora es el momento de aprender sobre dos funciones integradas, `filter` y `map`. Una vez que aprendamos cómo funcionan, podemos aprender sobre la expresión `lambda`, que será útil cuando comiences a desarrollar más tus habilidades."
   ]
  },
  {
   "cell_type": "markdown",
   "metadata": {
    "id": "owNzerYJVQa_"
   },
   "source": [
    "## <font color='blue'>**Función `map()`**</font>\n",
    "La función `map()` te permite \"asignar\" una función a un objeto iterable (e.g. un string o una lista). Es decir, puedes llamar rápidamente a la misma función para todos los elementos que constituyen el objeto iterable.<br>\n",
    "Veamos un ejemplo:"
   ]
  },
  {
   "cell_type": "code",
   "metadata": {
    "id": "ZOPew8c1VQbA",
    "ExecuteTime": {
     "end_time": "2023-09-01T23:25:47.782447200Z",
     "start_time": "2023-09-01T23:25:47.744448200Z"
    }
   },
   "source": [
    "# Definimos una función\n",
    "def square(num):\n",
    "    return num ** 2"
   ],
   "execution_count": 3,
   "outputs": []
  },
  {
   "cell_type": "code",
   "metadata": {
    "id": "BIdlzY4rVQbC",
    "ExecuteTime": {
     "end_time": "2023-09-01T23:25:52.218041200Z",
     "start_time": "2023-09-01T23:25:52.160037900Z"
    }
   },
   "source": [
    "# Y ahora una lista\n",
    "my_nums = [1, 2, 3, 4, 5]"
   ],
   "execution_count": 4,
   "outputs": []
  },
  {
   "cell_type": "markdown",
   "metadata": {
    "id": "YLHYTBNJVQbC"
   },
   "source": [
    "Aplicamos `map` a la función y la lista (iterable)"
   ]
  },
  {
   "cell_type": "code",
   "metadata": {
    "id": "2jPVHiXnVQbC",
    "ExecuteTime": {
     "end_time": "2023-09-01T23:28:02.409256800Z",
     "start_time": "2023-09-01T23:28:02.303188300Z"
    }
   },
   "source": [
    "map(square, my_nums)"
   ],
   "execution_count": 5,
   "outputs": [
    {
     "data": {
      "text/plain": "<map at 0x1c71bc92460>"
     },
     "execution_count": 5,
     "metadata": {},
     "output_type": "execute_result"
    }
   ]
  },
  {
   "cell_type": "markdown",
   "metadata": {
    "id": "3Jr0pkWHVQbE"
   },
   "source": [
    "No nos devuelve nada porque es un iterable. Hay que iterar sobre él, o desempaquetarlo o convertirlo en otro objeto (lista)."
   ]
  },
  {
   "cell_type": "code",
   "metadata": {
    "id": "YfDFFrIvVQbF",
    "ExecuteTime": {
     "end_time": "2023-09-01T23:28:04.821720800Z",
     "start_time": "2023-09-01T23:28:04.795716600Z"
    }
   },
   "source": [
    "# Iteramos sobre el objeto map\n",
    "for i in map(square, my_nums):\n",
    "    print(i, end=' ')"
   ],
   "execution_count": 6,
   "outputs": [
    {
     "name": "stdout",
     "output_type": "stream",
     "text": [
      "1 4 9 16 25 "
     ]
    }
   ]
  },
  {
   "cell_type": "code",
   "metadata": {
    "id": "ncbI8DewVQbG",
    "ExecuteTime": {
     "end_time": "2023-09-01T23:28:10.059111Z",
     "start_time": "2023-09-01T23:28:10.035109200Z"
    }
   },
   "source": [
    "# Lo desempaquetamos dentro de un print()\n",
    "print(*map(square, my_nums))"
   ],
   "execution_count": 7,
   "outputs": [
    {
     "name": "stdout",
     "output_type": "stream",
     "text": [
      "1 4 9 16 25\n"
     ]
    }
   ]
  },
  {
   "cell_type": "code",
   "metadata": {
    "id": "nTl4ovuHVQbH",
    "ExecuteTime": {
     "end_time": "2023-09-01T23:28:12.693814900Z",
     "start_time": "2023-09-01T23:28:12.666812100Z"
    }
   },
   "source": [
    "# O simplemente lo ponermos como argumento de la función list\n",
    "list(map(square, my_nums))"
   ],
   "execution_count": 8,
   "outputs": [
    {
     "data": {
      "text/plain": "[1, 4, 9, 16, 25]"
     },
     "execution_count": 8,
     "metadata": {},
     "output_type": "execute_result"
    }
   ]
  },
  {
   "cell_type": "markdown",
   "metadata": {
    "id": "debHqFPDVQbH"
   },
   "source": [
    "Las funciones pueden ser mucho más complejas"
   ]
  },
  {
   "cell_type": "code",
   "metadata": {
    "id": "T3QFDFK_VQbI",
    "ExecuteTime": {
     "end_time": "2023-09-01T23:28:48.515646600Z",
     "start_time": "2023-09-01T23:28:48.438639800Z"
    }
   },
   "source": [
    "def splicer(mystring):\n",
    "    if len(mystring) % 2 == 0:\n",
    "        return 'es par'\n",
    "    else:\n",
    "        return 'es impar' #"
   ],
   "execution_count": 9,
   "outputs": []
  },
  {
   "cell_type": "code",
   "metadata": {
    "id": "vjJVVHNlVQbI",
    "ExecuteTime": {
     "end_time": "2023-09-01T23:28:52.500458900Z",
     "start_time": "2023-09-01T23:28:52.464463600Z"
    }
   },
   "source": [
    "mynames = ['Juan', 'Andrea', 'Julia', 'Beto', 'Zoe']"
   ],
   "execution_count": 10,
   "outputs": []
  },
  {
   "cell_type": "code",
   "metadata": {
    "id": "GF5KjtYNVQbJ",
    "ExecuteTime": {
     "end_time": "2023-09-01T23:28:54.169694Z",
     "start_time": "2023-09-01T23:28:54.085695100Z"
    }
   },
   "source": [
    "list(map(splicer,mynames))"
   ],
   "execution_count": 11,
   "outputs": [
    {
     "data": {
      "text/plain": "['es par', 'es par', 'es impar', 'es par', 'es impar']"
     },
     "execution_count": 11,
     "metadata": {},
     "output_type": "execute_result"
    }
   ]
  },
  {
   "cell_type": "markdown",
   "metadata": {
    "id": "-CuYOt4tVQbK"
   },
   "source": [
    "## <font color='blue'>**Función `filter()`**</font>\n",
    "\n",
    "La función `filter()` devuelve un iterador donde los elementos se filtran a través de una función para probar si el elemento es aceptado o no, i.e., que cumpla con una confición o no. Esto qué significa? Que debe filtrar por una función que devuelva `True` o `False`."
   ]
  },
  {
   "cell_type": "code",
   "metadata": {
    "id": "E63xYDv1VQbK",
    "ExecuteTime": {
     "end_time": "2023-09-01T23:29:37.285720100Z",
     "start_time": "2023-09-01T23:29:37.264720800Z"
    }
   },
   "source": [
    "def check_even(num):\n",
    "    \"\"\"\n",
    "    Esta función chequea si el número ingresado es par o impar\n",
    "    Devuelve True o False\n",
    "    \"\"\"\n",
    "    return num % 2 == 0"
   ],
   "execution_count": 12,
   "outputs": []
  },
  {
   "cell_type": "code",
   "metadata": {
    "id": "PZ0rLp2nVQbK",
    "ExecuteTime": {
     "end_time": "2023-09-01T23:29:42.000480300Z",
     "start_time": "2023-09-01T23:29:41.921475300Z"
    }
   },
   "source": [
    "check_even(3)"
   ],
   "execution_count": 13,
   "outputs": [
    {
     "data": {
      "text/plain": "False"
     },
     "execution_count": 13,
     "metadata": {},
     "output_type": "execute_result"
    }
   ]
  },
  {
   "cell_type": "code",
   "metadata": {
    "id": "BV_McKpmVQbL",
    "ExecuteTime": {
     "end_time": "2023-09-01T23:29:59.464311300Z",
     "start_time": "2023-09-01T23:29:59.382308400Z"
    }
   },
   "source": [
    "check_even(8)"
   ],
   "execution_count": 14,
   "outputs": [
    {
     "data": {
      "text/plain": "True"
     },
     "execution_count": 14,
     "metadata": {},
     "output_type": "execute_result"
    }
   ]
  },
  {
   "cell_type": "code",
   "metadata": {
    "id": "cG1KrfsdVQbL",
    "ExecuteTime": {
     "end_time": "2023-09-01T23:30:09.105729700Z",
     "start_time": "2023-09-01T23:30:09.086735500Z"
    }
   },
   "source": [
    "nums = [0, 1, 2, 3, 4, 5, 6, 7, 8, 9, 10]"
   ],
   "execution_count": 16,
   "outputs": []
  },
  {
   "cell_type": "markdown",
   "metadata": {
    "id": "UxB2o6G2VQbM"
   },
   "source": [
    "Apliquémosla a una lista con una función `filter()`"
   ]
  },
  {
   "cell_type": "code",
   "metadata": {
    "id": "SQx576ehVQbM",
    "ExecuteTime": {
     "end_time": "2023-09-01T23:30:11.297040700Z",
     "start_time": "2023-09-01T23:30:11.275040900Z"
    }
   },
   "source": [
    "filter(check_even, nums)"
   ],
   "execution_count": 17,
   "outputs": [
    {
     "data": {
      "text/plain": "<filter at 0x1c71bc929d0>"
     },
     "execution_count": 17,
     "metadata": {},
     "output_type": "execute_result"
    }
   ]
  },
  {
   "cell_type": "markdown",
   "metadata": {
    "id": "os8q0myHVQbM"
   },
   "source": [
    "Nuevamente nos devuelve un iterador"
   ]
  },
  {
   "cell_type": "code",
   "metadata": {
    "id": "f0yUITjaVQbM",
    "ExecuteTime": {
     "end_time": "2023-09-01T23:30:28.532171300Z",
     "start_time": "2023-09-01T23:30:28.462167600Z"
    }
   },
   "source": [
    "even = filter(check_even, nums)\n",
    "print(*even)"
   ],
   "execution_count": 18,
   "outputs": [
    {
     "name": "stdout",
     "output_type": "stream",
     "text": [
      "0 2 4 6 8 10\n"
     ]
    }
   ]
  },
  {
   "cell_type": "markdown",
   "metadata": {
    "id": "P7FV2z6PVQbN"
   },
   "source": [
    "## <font color='blue'>**Generators (generadores)**</font>\n",
    "\n",
    "Los generadores (**generators**) fueron introducidos en el [PEP255](https://www.python.org/dev/peps/pep-0255/). Son funciones especiales que retornan un iterador de tipo *lazzy*. Una **evaluación lazzy** es aquella que retrasa la evaluación de una expresión hasta el momento preciso en que se necesita su valor (evaluación no estricta) y no inmediatamemte cuando aparece en nuestro código.\n",
    "\n",
    "Como resultado de la generación *lazzy* (bajo demanda) de valores, se produce una mejora del rendimiento y un menor uso de memoria. Además, no necesitamos esperar hasta que se hayan generado todos los elementos antes de empezar a utilizarlos. Esto es similar a los beneficios proporcionados por los iteradores."
   ]
  },
  {
   "cell_type": "code",
   "metadata": {
    "id": "K3-BrQPyVQbN",
    "ExecuteTime": {
     "end_time": "2023-09-01T23:31:26.309356400Z",
     "start_time": "2023-09-01T23:31:26.294356100Z"
    }
   },
   "source": [
    "generador = filter(check_even, nums)"
   ],
   "execution_count": 19,
   "outputs": []
  },
  {
   "cell_type": "code",
   "metadata": {
    "id": "b34T4-AlVQbN",
    "ExecuteTime": {
     "end_time": "2023-09-01T23:31:42.628684300Z",
     "start_time": "2023-09-01T23:31:42.535679200Z"
    }
   },
   "source": [
    "generador"
   ],
   "execution_count": 20,
   "outputs": [
    {
     "data": {
      "text/plain": "<filter at 0x1c71bc926d0>"
     },
     "execution_count": 20,
     "metadata": {},
     "output_type": "execute_result"
    }
   ]
  },
  {
   "cell_type": "code",
   "metadata": {
    "id": "y0_v3lS0VQbO",
    "ExecuteTime": {
     "end_time": "2023-09-01T23:33:53.160990100Z",
     "start_time": "2023-09-01T23:33:53.082986100Z"
    }
   },
   "source": [
    "# Ejecuta esta celda repetidas veces, verás como next( ) nos entrega un valor a la vez.\n",
    "# Le pide a la función 'check_even' que genere un valor a la vez.\n",
    "# Nota que en algún punto el generador se agota y ya no entrega más valores y devuelve un error\n",
    "# de 'StopIteration'\n",
    "\n",
    "next(generador)"
   ],
   "execution_count": 23,
   "outputs": [
    {
     "data": {
      "text/plain": "4"
     },
     "execution_count": 23,
     "metadata": {},
     "output_type": "execute_result"
    }
   ]
  },
  {
   "cell_type": "markdown",
   "metadata": {
    "id": "13ehNHOrVQbO"
   },
   "source": [
    "Si quieres utilizar el generador deberás recrearlo nuevamente:\n",
    "```Python\n",
    "generador = filter(check_even, nums)\n",
    "```\n",
    "Como te habrás fijado, el generador devuelve un valor a la vez, lo cual es muy eficiente para el uso de memoria. Por ejemplo, si desempaquetas todos los elementos con una lista (`list()`):\n",
    "```Python\n",
    "list(generador)\n",
    "```\n",
    "... estarás utilizando el máximo de memoria asociado a la operación; si el generador es muy grande, podrías complicar el uso de memoria en tu equipo."
   ]
  },
  {
   "cell_type": "code",
   "metadata": {
    "id": "CyW_x9_rVQbO",
    "ExecuteTime": {
     "end_time": "2023-09-01T23:34:50.514635400Z",
     "start_time": "2023-09-01T23:34:50.403619700Z"
    }
   },
   "source": [
    "# La función map() también devuelve un generador\n",
    "a = map(square, my_nums)\n",
    "next(a)"
   ],
   "execution_count": 24,
   "outputs": [
    {
     "data": {
      "text/plain": "1"
     },
     "execution_count": 24,
     "metadata": {},
     "output_type": "execute_result"
    }
   ]
  },
  {
   "cell_type": "code",
   "metadata": {
    "id": "P0I4xQYpVQbP",
    "ExecuteTime": {
     "end_time": "2023-09-01T23:35:40.405799Z",
     "start_time": "2023-09-01T23:35:40.304795Z"
    }
   },
   "source": [
    "next(a)"
   ],
   "execution_count": 25,
   "outputs": [
    {
     "data": {
      "text/plain": "4"
     },
     "execution_count": 25,
     "metadata": {},
     "output_type": "execute_result"
    }
   ]
  },
  {
   "cell_type": "code",
   "source": [],
   "metadata": {
    "id": "s9B2dG9SDpVW",
    "ExecuteTime": {
     "end_time": "2023-09-01T23:35:42.269168600Z",
     "start_time": "2023-09-01T23:35:42.257171200Z"
    }
   },
   "execution_count": 25,
   "outputs": []
  },
  {
   "cell_type": "markdown",
   "metadata": {
    "id": "QwZ4MlbbVQbP"
   },
   "source": [
    "## <font color='blue'>**Funciones de usuario generadoras**</font>"
   ]
  },
  {
   "cell_type": "markdown",
   "metadata": {
    "id": "yAjyxMM_VQbP"
   },
   "source": [
    "Podemos definir nuestras propias funciones generadores, para ello utilizaremos la expresión `yield` en vez de `return` en ellas."
   ]
  },
  {
   "cell_type": "code",
   "metadata": {
    "id": "xKyDLVJsVQbP",
    "ExecuteTime": {
     "end_time": "2023-09-01T23:35:48.162151Z",
     "start_time": "2023-09-01T23:35:48.111152900Z"
    }
   },
   "source": [
    "# Definimos una función generadora\n",
    "# Nota el uso de 'yield' en vez de 'return'\n",
    "\n",
    "def secuencia_infinita():\n",
    "    num = 0\n",
    "    while True:\n",
    "        yield num\n",
    "        num += 1"
   ],
   "execution_count": 26,
   "outputs": []
  },
  {
   "cell_type": "code",
   "metadata": {
    "id": "8VfheX0gVQbP",
    "ExecuteTime": {
     "end_time": "2023-09-01T23:35:54.533756600Z",
     "start_time": "2023-09-01T23:35:54.517758900Z"
    }
   },
   "source": [
    "# Creamos un generador\n",
    "\n",
    "generador_2 = secuencia_infinita()"
   ],
   "execution_count": 27,
   "outputs": []
  },
  {
   "cell_type": "code",
   "metadata": {
    "id": "N5kbThoAVQbP",
    "ExecuteTime": {
     "end_time": "2023-09-01T23:36:00.597205700Z",
     "start_time": "2023-09-01T23:36:00.568208900Z"
    }
   },
   "source": [
    "next(generador_2)"
   ],
   "execution_count": 28,
   "outputs": [
    {
     "data": {
      "text/plain": "0"
     },
     "execution_count": 28,
     "metadata": {},
     "output_type": "execute_result"
    }
   ]
  },
  {
   "cell_type": "code",
   "metadata": {
    "id": "kqwwPItGVQbQ",
    "ExecuteTime": {
     "end_time": "2023-09-01T23:36:03.316430900Z",
     "start_time": "2023-09-01T23:36:03.245427600Z"
    }
   },
   "source": [
    "next(generador_2)"
   ],
   "execution_count": 29,
   "outputs": [
    {
     "data": {
      "text/plain": "1"
     },
     "execution_count": 29,
     "metadata": {},
     "output_type": "execute_result"
    }
   ]
  },
  {
   "cell_type": "code",
   "metadata": {
    "id": "SSZy0LgaVQbQ",
    "ExecuteTime": {
     "end_time": "2023-09-01T23:36:07.175353800Z",
     "start_time": "2023-09-01T23:36:07.152351300Z"
    }
   },
   "source": [
    "generador_2.close()"
   ],
   "execution_count": 30,
   "outputs": []
  },
  {
   "cell_type": "code",
   "metadata": {
    "id": "er_BGIOiVQbQ",
    "ExecuteTime": {
     "end_time": "2023-09-01T23:36:09.637791600Z",
     "start_time": "2023-09-01T23:36:08.861477700Z"
    }
   },
   "source": [
    "# Esta celda dará un error ya que hemos cerrado (close) el generador\n",
    "next(generador_2)"
   ],
   "execution_count": 31,
   "outputs": [
    {
     "ename": "StopIteration",
     "evalue": "",
     "output_type": "error",
     "traceback": [
      "\u001B[1;31m---------------------------------------------------------------------------\u001B[0m",
      "\u001B[1;31mStopIteration\u001B[0m                             Traceback (most recent call last)",
      "Cell \u001B[1;32mIn[31], line 2\u001B[0m\n\u001B[0;32m      1\u001B[0m \u001B[38;5;66;03m# Esta celda dará un error ya que hemos cerrado (close) el generador\u001B[39;00m\n\u001B[1;32m----> 2\u001B[0m \u001B[38;5;28;43mnext\u001B[39;49m\u001B[43m(\u001B[49m\u001B[43mgenerador_2\u001B[49m\u001B[43m)\u001B[49m\n",
      "\u001B[1;31mStopIteration\u001B[0m: "
     ]
    }
   ]
  },
  {
   "cell_type": "markdown",
   "source": [
    "## <font color='blue'>__Ejercicios__</font>"
   ],
   "metadata": {
    "id": "WIEOudTsI-cm"
   }
  },
  {
   "cell_type": "markdown",
   "metadata": {
    "id": "wSvgSf41VQbQ"
   },
   "source": [
    "### <font color='green'>Actividad 1: </font>\n",
    "### Crea un generador\n",
    "Desarrolla un generador utilizando la función `map()` aplicando una función a una lista"
   ]
  },
  {
   "cell_type": "code",
   "metadata": {
    "id": "ARhHez1xVQbQ"
   },
   "source": [
    "# Tu código aquí ...\n",
    "\n"
   ],
   "execution_count": null,
   "outputs": []
  },
  {
   "cell_type": "markdown",
   "metadata": {
    "id": "LzOexuimVQbR"
   },
   "source": [
    "<font color='green'>Fin actividad 1</font>"
   ]
  },
  {
   "cell_type": "markdown",
   "metadata": {
    "id": "FZfrp7h8VQbR"
   },
   "source": [
    "### <font color='green'>Actividad 2: Challenging</font>\n",
    "### Crea un generador de lectura de archivos\n",
    "Desarrolla un generador para leer un archivo (supuestamente muy) grande\n",
    "\n",
    "Pasos:\n",
    "1. Crea una función llamada **txt_reader** que reciba el nombre de un archivo y lo abra en modo lectura\n",
    "2. Haz que la función recorra las líneas del archivo con un ciclo for\n",
    "3. Retorna cada línea leída con un `yield`\n",
    "4. Crea un generador asociado a tu funcion generadora\n",
    "4. Prueba tu generador con la función `next()` y `close()`.\n",
    "\n",
    "Tip:<br>\n",
    "1. Utiliza esta estructura\n",
    "```python\n",
    "def txt_reader(file_name):\n",
    "    with open ... # Abre el archivo de forma pythonista\n",
    "        for ...:  # recórrelo\n",
    "        yield row\n",
    "```\n",
    "2. Prueba tu función generadora con el archivo ***poblaciones.txt***\n",
    "3. Recuerda corregir la ruta de acceso si estás trabajando en la nube."
   ]
  },
  {
   "cell_type": "code",
   "metadata": {
    "id": "0km0P6IpVQbR"
   },
   "source": [
    "# Tu código aquí ..\n",
    "def txt_reader(file_name):\n",
    "    with open('D:\\Cursos\\Data Analyst Diplomado UDD\\Modulo1Python\\poblaciones.txt')\n",
    "        for ...:  # recórrelo\n",
    "        yield row\n",
    "#\n",
    "#\n",
    "# .\n",
    "\n"
   ],
   "execution_count": null,
   "outputs": []
  },
  {
   "cell_type": "markdown",
   "metadata": {
    "id": "wxDXPQkDVQbS"
   },
   "source": [
    "<font color='green'>Fin actividad 2</font>"
   ]
  },
  {
   "cell_type": "markdown",
   "metadata": {
    "id": "MX_Xq5soVQbS"
   },
   "source": [
    "## <font color='blue'>**Expresiones `lambda`**</font>\n",
    "\n",
    "Una de las herramientas más útiles de Python (y potencialmente confusa) es la expresión `lambda`. Las expresiones `lambda` nos permiten crear funciones \"anónimas\", es decir, sin nombre. Básicamente, esto significa que podemos crear funciones ad-hoc rápidamente sin necesidad de definir correctamente una función usando `def`.\n",
    "\n",
    "Los objetos de función devueltos al ejecutar expresiones `lambda` funcionan exactamente igual que los creados y asignados por `def`.\n",
    "\n",
    "Existe una diferencia clave que hace que lambda sea útil en roles especializados:\n",
    "\n",
    "* El cuerpo de `lambda` es una expresión única, no un bloque de declaraciones.\n",
    "\n",
    "* Debido a que se limita a una expresión, una `lambda` es menos general que una `def`.\n",
    "\n",
    "* `lambda` está diseñado para codificar funciones simples y `def` maneja las tareas más grandes y complejas.\n",
    "\n",
    "* Las funciones `def` son reutilizables, las `lambda` no."
   ]
  },
  {
   "cell_type": "markdown",
   "metadata": {
    "id": "XdAguhhJVQbS"
   },
   "source": [
    "Analicemos lentamente una expresión lambda deconstruyendo una función:"
   ]
  },
  {
   "cell_type": "code",
   "metadata": {
    "id": "w_kYYBxJVQbS",
    "ExecuteTime": {
     "end_time": "2023-09-01T23:39:38.257911800Z",
     "start_time": "2023-09-01T23:39:38.228907500Z"
    }
   },
   "source": [
    "def square(num):\n",
    "    \"\"\"\n",
    "    Esta función calcula el cuadrado de un número\n",
    "    \"\"\"\n",
    "    result = num ** 2\n",
    "    return result"
   ],
   "execution_count": 32,
   "outputs": []
  },
  {
   "cell_type": "code",
   "metadata": {
    "id": "478eZvjzVQbS",
    "ExecuteTime": {
     "end_time": "2023-09-01T23:39:41.340708800Z",
     "start_time": "2023-09-01T23:39:41.233128500Z"
    }
   },
   "source": [
    "square(2)"
   ],
   "execution_count": 33,
   "outputs": [
    {
     "data": {
      "text/plain": "4"
     },
     "execution_count": 33,
     "metadata": {},
     "output_type": "execute_result"
    }
   ]
  },
  {
   "cell_type": "markdown",
   "metadata": {
    "id": "eiRgyQpjVQbS"
   },
   "source": [
    "La podemos simplificar así:"
   ]
  },
  {
   "cell_type": "code",
   "metadata": {
    "id": "GZJVsIAMVQbS",
    "ExecuteTime": {
     "end_time": "2023-09-01T23:39:43.484281300Z",
     "start_time": "2023-09-01T23:39:43.439282600Z"
    }
   },
   "source": [
    "def square(num):\n",
    "    return num ** 2"
   ],
   "execution_count": 34,
   "outputs": []
  },
  {
   "cell_type": "code",
   "metadata": {
    "id": "BwWt9IeIVQbT",
    "ExecuteTime": {
     "end_time": "2023-09-01T23:39:46.864788200Z",
     "start_time": "2023-09-01T23:39:46.752779700Z"
    }
   },
   "source": [
    "square(2)"
   ],
   "execution_count": 35,
   "outputs": [
    {
     "data": {
      "text/plain": "4"
     },
     "execution_count": 35,
     "metadata": {},
     "output_type": "execute_result"
    }
   ]
  },
  {
   "cell_type": "markdown",
   "metadata": {
    "id": "iHt64628VQbT"
   },
   "source": [
    "Idiomáticamente hablando, incluso podríamos escribir todo esto en una sola línea."
   ]
  },
  {
   "cell_type": "code",
   "metadata": {
    "id": "p_la0SzDVQbT",
    "ExecuteTime": {
     "end_time": "2023-09-01T23:39:49.668002900Z",
     "start_time": "2023-09-01T23:39:49.649004500Z"
    }
   },
   "source": [
    "def square(num): return num ** 2"
   ],
   "execution_count": 36,
   "outputs": []
  },
  {
   "cell_type": "code",
   "metadata": {
    "id": "Y_8o9akNVQbT",
    "ExecuteTime": {
     "end_time": "2023-09-01T23:39:51.345258600Z",
     "start_time": "2023-09-01T23:39:51.284255800Z"
    }
   },
   "source": [
    "square(2)"
   ],
   "execution_count": 37,
   "outputs": [
    {
     "data": {
      "text/plain": "4"
     },
     "execution_count": 37,
     "metadata": {},
     "output_type": "execute_result"
    }
   ]
  },
  {
   "cell_type": "markdown",
   "metadata": {
    "id": "SQV6ON0VVQbT"
   },
   "source": [
    "Esta es jústamente la forma que una expresión *`lambda`* intenta replicar. Una expresión *`lambda`* se puede escribir como:"
   ]
  },
  {
   "cell_type": "code",
   "metadata": {
    "id": "i29xZxNFVQbT",
    "ExecuteTime": {
     "end_time": "2023-09-01T23:40:05.495634200Z",
     "start_time": "2023-09-01T23:40:05.439624600Z"
    }
   },
   "source": [
    "lambda num: num ** 2"
   ],
   "execution_count": 39,
   "outputs": [
    {
     "data": {
      "text/plain": "<function __main__.<lambda>(num)>"
     },
     "execution_count": 39,
     "metadata": {},
     "output_type": "execute_result"
    }
   ]
  },
  {
   "cell_type": "code",
   "metadata": {
    "id": "PcXRikPCVQbT",
    "ExecuteTime": {
     "end_time": "2023-09-01T23:40:19.151382Z",
     "start_time": "2023-09-01T23:40:19.092377Z"
    }
   },
   "source": [
    "# Normalmente, no asignaremos una variable a una expresión lambda\n",
    "# esto es solo para demostración!\n",
    "\n",
    "square = lambda num: num **2"
   ],
   "execution_count": 40,
   "outputs": []
  },
  {
   "cell_type": "code",
   "metadata": {
    "id": "21rw28mBVQbT",
    "ExecuteTime": {
     "end_time": "2023-09-01T23:40:23.143838500Z",
     "start_time": "2023-09-01T23:40:23.066833500Z"
    }
   },
   "source": [
    "square(2)"
   ],
   "execution_count": 41,
   "outputs": [
    {
     "data": {
      "text/plain": "4"
     },
     "execution_count": 41,
     "metadata": {},
     "output_type": "execute_result"
    }
   ]
  },
  {
   "cell_type": "markdown",
   "metadata": {
    "id": "gof6i5FnVQbU"
   },
   "source": [
    "Entonces, ¿por qué usaríamos esto?\n",
    "\n",
    "Muchas llamadas a funciones necesitan una función creada anteriormente (más arriba en nuestro código), como en los casos de `map` y `filter`. Sin embargo, a veces solo se necesita usar la función una vez, por lo que en lugar de definirla formalmente con `def`), usamos una expresión `lambda`.\n",
    "\n",
    "Repitamos algunos de los ejemplos anteriores con una expresión `lambda`."
   ]
  },
  {
   "cell_type": "code",
   "metadata": {
    "id": "hrscxHo4VQbU",
    "ExecuteTime": {
     "end_time": "2023-09-01T23:41:00.515553500Z",
     "start_time": "2023-09-01T23:41:00.411578600Z"
    }
   },
   "source": [
    "list(map(lambda num: num ** 2, my_nums))"
   ],
   "execution_count": 42,
   "outputs": [
    {
     "data": {
      "text/plain": "[1, 4, 9, 16, 25]"
     },
     "execution_count": 42,
     "metadata": {},
     "output_type": "execute_result"
    }
   ]
  },
  {
   "cell_type": "code",
   "metadata": {
    "id": "Wl4LtqfGVQbU",
    "ExecuteTime": {
     "end_time": "2023-09-01T23:41:51.851199700Z",
     "start_time": "2023-09-01T23:41:51.749197100Z"
    }
   },
   "source": [
    "list(filter(lambda n: n % 2 == 0, nums))"
   ],
   "execution_count": 43,
   "outputs": [
    {
     "data": {
      "text/plain": "[0, 2, 4, 6, 8, 10]"
     },
     "execution_count": 43,
     "metadata": {},
     "output_type": "execute_result"
    }
   ]
  },
  {
   "cell_type": "markdown",
   "metadata": {
    "id": "msVQz6mjVQbU"
   },
   "source": [
    "Ten en cuenta que cuanto más compleja sea una función, más difícil será traducirla a una expresión `lambda`, lo que significa que a veces es más fácil (y a menudo la única forma) crear la función con `def`.\n",
    "\n",
    "A continuación algunos ejemplos más."
   ]
  },
  {
   "cell_type": "markdown",
   "metadata": {
    "id": "eAVXIeaVVQbU"
   },
   "source": [
    "### Expresión `lambda` para capturar el primer carácter de una cadena"
   ]
  },
  {
   "cell_type": "code",
   "metadata": {
    "id": "fy3da_xjVQbU",
    "ExecuteTime": {
     "end_time": "2023-09-01T23:43:17.306952900Z",
     "start_time": "2023-09-01T23:43:17.224941Z"
    }
   },
   "source": [
    "cadena = lambda s: s[0]\n",
    "print(cadena('Hola'))"
   ],
   "execution_count": 44,
   "outputs": [
    {
     "name": "stdout",
     "output_type": "stream",
     "text": [
      "H\n"
     ]
    }
   ]
  },
  {
   "cell_type": "markdown",
   "metadata": {
    "id": "yLGhvqE5VQbU"
   },
   "source": [
    "### Expresión `lambda` para invertir una cadena"
   ]
  },
  {
   "cell_type": "code",
   "metadata": {
    "id": "QjAnO01kVQbU",
    "ExecuteTime": {
     "end_time": "2023-09-01T23:44:36.975101800Z",
     "start_time": "2023-09-01T23:44:36.869096300Z"
    }
   },
   "source": [
    "cadena_invertida = lambda s: s[::-1]\n",
    "print(cadena_invertida('Hola'))"
   ],
   "execution_count": 45,
   "outputs": [
    {
     "name": "stdout",
     "output_type": "stream",
     "text": [
      "aloH\n"
     ]
    }
   ]
  },
  {
   "cell_type": "markdown",
   "metadata": {
    "id": "ifHkLAFrVQbU"
   },
   "source": [
    "Incluso puedes pasar varios argumentos a una expresión `lambda`. Nuevamente, ten en cuenta que no todas las funciones se pueden traducir a una expresión `lambda`."
   ]
  },
  {
   "cell_type": "markdown",
   "metadata": {
    "id": "tCT-p7NIVQbU"
   },
   "source": [
    "### Expresión `lambda` para sumar dos números"
   ]
  },
  {
   "cell_type": "code",
   "metadata": {
    "id": "h2EBkUn_VQbV",
    "ExecuteTime": {
     "end_time": "2023-09-01T23:44:56.166278Z",
     "start_time": "2023-09-01T23:44:56.142275500Z"
    }
   },
   "source": [
    "suma_2_num = lambda x,y : x + y\n",
    "suma_2_num(3, 4)"
   ],
   "execution_count": 46,
   "outputs": [
    {
     "data": {
      "text/plain": "7"
     },
     "execution_count": 46,
     "metadata": {},
     "output_type": "execute_result"
    }
   ]
  },
  {
   "cell_type": "markdown",
   "metadata": {
    "id": "q9Q8iWbNVQbV"
   },
   "source": [
    "### Expresión `lambda` para sumar muchos números"
   ]
  },
  {
   "cell_type": "code",
   "metadata": {
    "id": "8yJ1LIUVVQbV",
    "ExecuteTime": {
     "end_time": "2023-09-01T23:46:03.600420200Z",
     "start_time": "2023-09-01T23:46:03.519419500Z"
    }
   },
   "source": [
    "suma_n_num = lambda *args: sum(args)\n",
    "suma_n_num(1, 2, 3, 4, 5, 6, 7, 8, 9)"
   ],
   "execution_count": 48,
   "outputs": [
    {
     "data": {
      "text/plain": "45"
     },
     "execution_count": 48,
     "metadata": {},
     "output_type": "execute_result"
    }
   ]
  },
  {
   "cell_type": "markdown",
   "metadata": {
    "id": "pWCQevdZVQbV"
   },
   "source": [
    "Más adelante verás que ciertas librerías de Python (e.g. Pandas) utilizan mucho las expresiones `lambda`."
   ]
  },
  {
   "cell_type": "markdown",
   "source": [
    "<img src=\"https://drive.google.com/uc?export=view&id=1Igtn9UXg6NGeRWsqh4hefQUjV0hmzlBv\" width=\"100\" align=\"left\" title=\"Runa-perth\">\n",
    "<br clear=\"left\">\n",
    "Contenido opcional\n",
    "\n",
    "##<font color='blue'>__Ejercicios avanzados__</font>\n",
    "\n",
    "Desarrolla los siguientes ejercicios si quieres profundizar tus conocimientos en expresiones `lambda`."
   ],
   "metadata": {
    "id": "jG41TV9pJleJ"
   }
  },
  {
   "cell_type": "markdown",
   "source": [
    "### <font color='green'>Actividad 3</font>\n",
    "Dada una lista de tuplas que representan productos en un inventario, donde cada tupla contiene el nombre del producto como una cadena y su cantidad en el inventario como un número entero, escribe una expresión lambda que tome dicha lista y devuelva la misma lista ordenada por la cantidad de producto en orden descendente."
   ],
   "metadata": {
    "id": "JC3fG6bIJv0G"
   }
  },
  {
   "cell_type": "code",
   "source": [
    "productos = [(\"manzanas\", 10), (\"plátanos\", 40), (\"bananas\", 20), (\"naranjas\", 30)]\n",
    "\n",
    "# Tu código aquí ...\n",
    "# -> [('plátanos', 40), ('naranjas', 30), ('bananas', 20), ('manzanas', 10)]\n",
    "\n",
    "\n"
   ],
   "metadata": {
    "id": "Jcr5TaGiERQ6"
   },
   "execution_count": null,
   "outputs": []
  },
  {
   "cell_type": "markdown",
   "source": [
    "### <font color='green'>Actividad 4</font>\n",
    "Escribe una expresión lambda que tome una lista de cadenas y devuelva una nueva lista que contenga solo las cadenas que tienen una longitud de exactamente tres caracteres."
   ],
   "metadata": {
    "id": "7UUrAZQiKYex"
   }
  },
  {
   "cell_type": "code",
   "source": [
    "# Probemos tu expresión con el siguiente texto\n",
    "noticia = \"\"\"El Planeta. Los astrónomos han descubierto un fenómeno sorprendente en nuestro sistema solar. Un planeta, previamente no identificado, parece haber entrado en nuestro sistema solar desde el espacio interestelar.\n",
    "Este planeta, provisionalmente denominado \"Eris II!\", ha causado un gran revuelo en la comunidad astronómica. Según los primeros informes, el planeta es aproximadamente del tamaño de Marte y parece tener una composición similar a la de los planetas gigantes gaseosos como Júpiter y Saturno.\n",
    "El planeta fue descubierto por un equipo de astrónomos de la Universidad de California, que estaban utilizando el telescopio espacial Kepler para estudiar las estrellas en la constelación de Cygnus. El equipo se dio cuenta de que una estrella parecía oscurecerse periódicamente, un signo clásico de un planeta en tránsito.\n",
    "\"Estábamos buscando planetas alrededor de otras estrellas, así que fue una gran sorpresa cuando nos dimos cuenta de que este planeta estaba mucho más cerca de casa\", dijo la Dra. Jane Foster, líder del equipo de investigación.\n",
    "El descubrimiento de este nuevo planeta plantea muchas preguntas. ¿Cómo logró este planeta entrar en nuestro sistema solar sin ser detectado antes? ¿Podría haber otros planetas desconocidos en nuestro sistema solar? ¿Y qué efectos podría tener este planeta en los otros planetas de nuestro sistema solar?\n",
    "\"Este es un momento emocionante para la ciencia planetaria\", dijo el Dr. Foster. \"Cada nuevo planeta que descubrimos nos enseña algo nuevo sobre nuestro sistema solar y sobre cómo se forman y evolucionan los planetas\".\n",
    "La búsqueda de respuestas a estas preguntas está en marcha. Los astrónomos de todo el mundo están apuntando sus telescopios hacia este nuevo planeta, y las misiones espaciales futuras podrían ser redirigidas para estudiar este intrigante nuevo miembro de nuestro sistema solar.\n",
    "Mientras tanto, el planeta Eris II sigue su camino a través de nuestro sistema solar, un recordatorio de cuánto queda por descubrir en nuestra propia esquina del universo.\n",
    "\"\"\""
   ],
   "metadata": {
    "id": "wPeaacSzLLVw"
   },
   "execution_count": null,
   "outputs": []
  },
  {
   "cell_type": "code",
   "source": [
    "# Tu código aquí ...\n",
    "\n"
   ],
   "metadata": {
    "id": "XhC2RcCtKhdu"
   },
   "execution_count": null,
   "outputs": []
  },
  {
   "cell_type": "markdown",
   "source": [
    "### <font color='green'>Actividad 5</font>\n",
    "Dada una lista de números, escribe una expresión lambda que tome dicha lista y devuelva la suma de todos los números en la lista que sean múltiplos de tres o cinco."
   ],
   "metadata": {
    "id": "oCy7AJfqKZPS"
   }
  },
  {
   "cell_type": "code",
   "source": [
    "numeros = [1, 2, 3, 4, 5, 6, 7, 8, 9, 10]\n",
    "\n",
    "# Tu código aquí ...\n",
    "# -> 33\n",
    "\n"
   ],
   "metadata": {
    "id": "QOnikNvLNRef"
   },
   "execution_count": null,
   "outputs": []
  },
  {
   "cell_type": "markdown",
   "source": [
    "### <font color='green'>Actividad 6: Challenging</font>\n",
    "Escribe una expresión lambda que tome una lista de cadenas y devuelva una nueva lista que contenga las mismas cadenas pero con todas las vocales eliminadas."
   ],
   "metadata": {
    "id": "DAEyfWt6KZWV"
   }
  },
  {
   "cell_type": "code",
   "source": [
    "palabras = [\"hola\", \"mundo\", \"soy\", \"un\", \"programador\", \"atómico\"]\n",
    "\n",
    "# Tu código aquí ...\n",
    "# -> ['hl', 'mnd', 'sy', 'n', 'prgrmdr', 'tmc']\n",
    "\n"
   ],
   "metadata": {
    "id": "za5u8o1yNkM3"
   },
   "execution_count": null,
   "outputs": []
  },
  {
   "cell_type": "markdown",
   "source": [
    "<img src=\"https://drive.google.com/uc?export=view&id=1Igtn9UXg6NGeRWsqh4hefQUjV0hmzlBv\" width=\"50\" align=\"left\" title=\"Runa-perth\">"
   ],
   "metadata": {
    "id": "fIo0IRRCOkKj"
   }
  },
  {
   "cell_type": "markdown",
   "source": [
    "<img src=\"https://drive.google.com/uc?export=view&id=1Igtn9UXg6NGeRWsqh4hefQUjV0hmzlBv\" width=\"100\" align=\"left\" title=\"Runa-perth\">\n",
    "<br clear=\"left\">\n",
    "Contenido opcional\n",
    "\n",
    "##<font color='blue'>__Función `reduce()`__</font>\n",
    "\n",
    "La función `reduce()` es una función incorporada en Python (disponible en el módulo functools) que aplica una función de dos argumentos de manera acumulativa a los elementos de un iterable (como una lista), de manera que reduce el iterable a un único valor de salida.\n",
    "\n",
    "Por ejemplo, si tienes una lista de números y quieres encontrar el producto de todos los números en la lista, puedes usar `reduce()` con una función que multiplica dos números.\n",
    "\n",
    "Aquí está el código que demuestra esto:"
   ],
   "metadata": {
    "id": "r60z14QLOlY7"
   }
  },
  {
   "cell_type": "code",
   "source": [
    "from functools import reduce\n",
    "\n",
    "# Definimos una función que multiplica dos números\n",
    "def multiplica(x, y):\n",
    "    return x * y\n",
    "\n",
    "# Tenemos una lista de números\n",
    "numeros = [1, 2, 3, 4, 5]\n",
    "\n",
    "# Usamos reduce para multiplicar todos los números en la lista\n",
    "producto = reduce(multiplica, numeros)\n",
    "\n",
    "print(producto)  # Debería imprimir: 120"
   ],
   "metadata": {
    "id": "5ykZNlUwPQlr",
    "ExecuteTime": {
     "end_time": "2023-09-01T23:50:54.337737800Z",
     "start_time": "2023-09-01T23:50:54.269736800Z"
    }
   },
   "execution_count": 49,
   "outputs": [
    {
     "name": "stdout",
     "output_type": "stream",
     "text": [
      "120\n"
     ]
    }
   ]
  },
  {
   "cell_type": "markdown",
   "source": [
    "La función `reduce()` es especialmente útil cuando necesitas aplicar una función específica a todos los elementos de un iterable y acumular un resultado. Esto puede ser muy útil en varias situaciones, a continuación\n",
    " algunos ejemplos:\n",
    "\n",
    "* __Cálculos acumulativos__: `reduce()` se puede usar para calcular la suma, el producto, el mínimo, el máximo, etc., de todos los elementos en un iterable. Por ejemplo, podrías usar `reduce()` para calcular el producto de todos los elementos en una lista de números, o para encontrar el número más grande en una lista.\n",
    "* __Transformación de datos__: `reduce()` también se puede usar para transformar un iterable en una forma acumulativa. Por ejemplo, podrías usar `reduce(`) para convertir una lista de cadenas en una sola cadena que contenga todas las cadenas concatenadas, o para convertir una lista de diccionarios en un solo diccionario que contenga todas las claves y valores de los diccionarios.\n",
    "* __Procesamiento de secuencias__: `reduce()` puede ser útil para procesar secuencias de datos en un solo paso. Por ejemplo, podrías usar `reduce()` para procesar una lista de transacciones y calcular el saldo de una cuenta bancaria.\n",
    "* __Programación funcional__: `reduce()` es una herramienta clave en la programación funcional, un paradigma de programación en el que las funciones son ciudadanos de primera clase y el estado y los datos mutables son evitados. En la programación funcional, las funciones como `reduce()` se utilizan para evitar los bucles y las variables de estado."
   ],
   "metadata": {
    "id": "CdkXL54UPs9i"
   }
  },
  {
   "cell_type": "markdown",
   "source": [
    "### <font color='green'>Actividad 3</font>\n",
    "Dada una lista de números, escribe una expresión lambda que tome dicha lista y devuelva el producto de todos los números en la lista."
   ],
   "metadata": {
    "id": "7YdccbRjKZab"
   }
  },
  {
   "cell_type": "code",
   "source": [
    "from functools import reduce\n",
    "\n",
    "numeros = [1, 2, 3, 4, 5]\n",
    "\n",
    "# Tu código aquí ...\n",
    "# -> 120\n",
    "\n",
    "producto = reduce(lambda x, y: x * y, numeros)\n",
    "print(producto)"
   ],
   "metadata": {
    "id": "h0UGOka6O1Cq"
   },
   "execution_count": null,
   "outputs": []
  },
  {
   "cell_type": "markdown",
   "source": [
    "<img src=\"https://drive.google.com/uc?export=view&id=1Igtn9UXg6NGeRWsqh4hefQUjV0hmzlBv\" width=\"50\" align=\"left\" title=\"Runa-perth\">"
   ],
   "metadata": {
    "id": "leGE6Az2RA1Q"
   }
  }
 ]
}
