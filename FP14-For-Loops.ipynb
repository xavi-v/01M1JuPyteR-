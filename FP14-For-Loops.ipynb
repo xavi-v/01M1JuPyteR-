{
 "cells": [
  {
   "cell_type": "markdown",
   "metadata": {
    "id": "Ovaf2vWDgk1P"
   },
   "source": [
    "# **Introducción a Python**\n",
    "# FP14. Ciclos for (for loop)"
   ]
  },
  {
   "cell_type": "markdown",
   "metadata": {
    "id": "7Wmh4IoTgk1S"
   },
   "source": [
    "¡Bienvenidos de nuevo Hackers, es hora de aprender un nuevo ciclo!\n",
    "\n",
    "## <font color='blue'>**Ciclo `for`**</font>\n",
    "Un bucle `for` actúa como un iterador en Python, pasa por elementos que están en una secuencia o cualquier otro **objeto iterable**. Los objetos que hemos aprendido, sobre los que podemos iterar incluyen: cadenas o strings, listas, tuplas e incluso iterables incorporados para diccionarios, como las claves o los valores.\n",
    "\n",
    "Aquí está el formato general para un bucle `for` en Python:\n",
    "```python\n",
    "     for item in object:\n",
    "         your code\n",
    "         your code\n",
    "```        \n",
    "El nombre de la variable utilizado para el *item* depende completamente del programador (o sea, tú!!), así que usa tu mejor criterio para elegir un nombre que tenga sentido y que podrás entenderlo cuando vuelvas a revisar tu código. Puedes utiliza esa variable **sólo dentro del bucle**, fuera del mismo no tendrá un valor asignado.\n",
    "\n",
    "Sigamos adelante y trabajemos con varios ejemplos de bucles `for` utilizando una variedad de tipos de objetos de datos."
   ]
  },
  {
   "cell_type": "markdown",
   "metadata": {
    "id": "aRdor3a1gk1S"
   },
   "source": [
    "## <font color='blue'>**`for` con listas**</font>\n",
    "\n",
    "Con `for`podemos ecorrer los elementos de una lista."
   ]
  },
  {
   "cell_type": "code",
   "execution_count": 1,
   "metadata": {
    "id": "1LW0galigk1T",
    "ExecuteTime": {
     "end_time": "2023-08-26T01:31:52.748423300Z",
     "start_time": "2023-08-26T01:31:52.737424500Z"
    }
   },
   "outputs": [
    {
     "name": "stdout",
     "output_type": "stream",
     "text": [
      "1\n",
      "2\n",
      "3\n",
      "4\n",
      "5\n",
      "6\n",
      "7\n",
      "8\n",
      "9\n",
      "10\n"
     ]
    }
   ],
   "source": [
    "mylist = [1, 2, 3, 4, 5, 6, 7, 8, 9, 10]\n",
    "# La lista es un objeto iterable por esencia\n",
    "# Esto significa que podemos recorrerla\n",
    "\n",
    "for num in mylist:\n",
    "    print(num)"
   ]
  },
  {
   "cell_type": "code",
   "source": [
    "help(str)"
   ],
   "metadata": {
    "id": "aBYXCgz5RIdU"
   },
   "execution_count": null,
   "outputs": []
  },
  {
   "cell_type": "code",
   "execution_count": 2,
   "metadata": {
    "id": "R-83gTcAgk1U",
    "ExecuteTime": {
     "end_time": "2023-08-26T01:32:28.080369700Z",
     "start_time": "2023-08-26T01:32:28.003367300Z"
    }
   },
   "outputs": [
    {
     "name": "stdout",
     "output_type": "stream",
     "text": [
      "1\n",
      "2\n",
      "3\n",
      "4\n",
      "5\n",
      "6\n",
      "7\n",
      "8\n",
      "9\n",
      "10\n"
     ]
    }
   ],
   "source": [
    "for la_variable_puede_ser_cualquier_cosa in mylist:\n",
    "    print(la_variable_puede_ser_cualquier_cosa)"
   ]
  },
  {
   "cell_type": "markdown",
   "metadata": {
    "id": "4WH3o1BMgk1V"
   },
   "source": [
    "Pero no creo que te atrevas a usar un nombre variable como este!! O sí?"
   ]
  },
  {
   "cell_type": "code",
   "execution_count": 3,
   "metadata": {
    "id": "iThKtaHbgk1V",
    "ExecuteTime": {
     "end_time": "2023-08-26T01:33:01.595333100Z",
     "start_time": "2023-08-26T01:33:01.571330100Z"
    }
   },
   "outputs": [
    {
     "name": "stdout",
     "output_type": "stream",
     "text": [
      "1 2 3 4 5 6 7 8 9 10 "
     ]
    }
   ],
   "source": [
    "for num in mylist:\n",
    "    print(num, end=' ')"
   ]
  },
  {
   "cell_type": "code",
   "source": [
    "## con asterisco se desempaquetan las listas\n",
    "print(*mylist)"
   ],
   "metadata": {
    "id": "6l8W9Q5iSXgW"
   },
   "execution_count": null,
   "outputs": []
  },
  {
   "cell_type": "code",
   "execution_count": 4,
   "metadata": {
    "id": "zSqYKEtogk1V",
    "ExecuteTime": {
     "end_time": "2023-08-26T01:33:46.644201700Z",
     "start_time": "2023-08-26T01:33:46.620203100Z"
    }
   },
   "outputs": [
    {
     "name": "stdout",
     "output_type": "stream",
     "text": [
      "Este texto se imprimirá tantas veces como elementos haya en la lista\n",
      "Este texto se imprimirá tantas veces como elementos haya en la lista\n",
      "Este texto se imprimirá tantas veces como elementos haya en la lista\n",
      "Este texto se imprimirá tantas veces como elementos haya en la lista\n",
      "Este texto se imprimirá tantas veces como elementos haya en la lista\n",
      "Este texto se imprimirá tantas veces como elementos haya en la lista\n",
      "Este texto se imprimirá tantas veces como elementos haya en la lista\n",
      "Este texto se imprimirá tantas veces como elementos haya en la lista\n",
      "Este texto se imprimirá tantas veces como elementos haya en la lista\n",
      "Este texto se imprimirá tantas veces como elementos haya en la lista\n"
     ]
    }
   ],
   "source": [
    "for num in mylist:\n",
    "    print(\"Este texto se imprimirá tantas veces como elementos haya en la lista\")"
   ]
  },
  {
   "cell_type": "markdown",
   "metadata": {
    "id": "GmAde9pwgk1W"
   },
   "source": [
    "## <font color='blue'>**`for` con strings**</font>\n",
    "También podemos recorrer los caracteres de un string."
   ]
  },
  {
   "cell_type": "code",
   "execution_count": 5,
   "metadata": {
    "id": "q1GXtN76gk1X",
    "ExecuteTime": {
     "end_time": "2023-08-26T01:33:55.973987700Z",
     "start_time": "2023-08-26T01:33:55.952988Z"
    }
   },
   "outputs": [
    {
     "name": "stdout",
     "output_type": "stream",
     "text": [
      "E\n",
      "s\n",
      "t\n",
      "o\n",
      " \n",
      "e\n",
      "s\n",
      " \n",
      "u\n",
      "n\n",
      " \n",
      "s\n",
      "t\n",
      "r\n",
      "i\n",
      "n\n",
      "g\n"
     ]
    }
   ],
   "source": [
    "for letter in \"Esto es un string\":\n",
    "    print(letter)"
   ]
  },
  {
   "cell_type": "code",
   "execution_count": 6,
   "metadata": {
    "id": "tz6VQdFxgk1X",
    "ExecuteTime": {
     "end_time": "2023-08-26T01:34:26.485636400Z",
     "start_time": "2023-08-26T01:34:26.410600Z"
    }
   },
   "outputs": [
    {
     "name": "stdout",
     "output_type": "stream",
     "text": [
      "This\n",
      "is\n",
      "a\n",
      "string\n",
      "Hackers\n"
     ]
    }
   ],
   "source": [
    "mystring = 'This is a string Hackers'\n",
    "\n",
    "for word in mystring.split():\n",
    "    print(word)"
   ]
  },
  {
   "cell_type": "markdown",
   "metadata": {
    "id": "VGdzluvagk1X"
   },
   "source": [
    "## <font color='blue'>**`for` con tuplas**</font>"
   ]
  },
  {
   "cell_type": "code",
   "execution_count": 7,
   "metadata": {
    "id": "hCitaqh1gk1Y",
    "ExecuteTime": {
     "end_time": "2023-08-26T01:36:13.205445Z",
     "start_time": "2023-08-26T01:36:13.189442100Z"
    }
   },
   "outputs": [
    {
     "name": "stdout",
     "output_type": "stream",
     "text": [
      "1\n",
      "2\n",
      "3\n",
      "4\n"
     ]
    }
   ],
   "source": [
    "tup = (1, 2, 3, 4)\n",
    "\n",
    "for num in tup:\n",
    "    print(num)"
   ]
  },
  {
   "cell_type": "code",
   "source": [],
   "metadata": {
    "id": "ENZp2H8VUG4J",
    "ExecuteTime": {
     "end_time": "2023-08-26T01:36:33.580203700Z",
     "start_time": "2023-08-26T01:36:33.560204400Z"
    }
   },
   "execution_count": 7,
   "outputs": []
  },
  {
   "cell_type": "markdown",
   "metadata": {
    "id": "qbMF41QPgk1Y"
   },
   "source": [
    "## <font color='blue'>**Desempaquetado de tuplas (_tuple unpacking_)**</font>"
   ]
  },
  {
   "cell_type": "code",
   "execution_count": 8,
   "metadata": {
    "id": "VEjEJAGqgk1Y",
    "ExecuteTime": {
     "end_time": "2023-08-26T01:36:36.415175200Z",
     "start_time": "2023-08-26T01:36:36.372665800Z"
    }
   },
   "outputs": [],
   "source": [
    "list_of_tups = [(1, 2), (3, 4), (5, 6), (7, 8), (9, 10)]"
   ]
  },
  {
   "cell_type": "code",
   "execution_count": 9,
   "metadata": {
    "id": "9Tv1hIwVgk1Y",
    "ExecuteTime": {
     "end_time": "2023-08-26T01:36:47.851394200Z",
     "start_time": "2023-08-26T01:36:47.836395800Z"
    }
   },
   "outputs": [
    {
     "name": "stdout",
     "output_type": "stream",
     "text": [
      "(1, 2)\n",
      "(3, 4)\n",
      "(5, 6)\n",
      "(7, 8)\n",
      "(9, 10)\n"
     ]
    }
   ],
   "source": [
    "for x in list_of_tups:\n",
    "    print(x)"
   ]
  },
  {
   "cell_type": "code",
   "execution_count": 13,
   "metadata": {
    "id": "OE5rWnXTgk1Z",
    "ExecuteTime": {
     "end_time": "2023-08-26T01:37:29.477570200Z",
     "start_time": "2023-08-26T01:37:29.454568300Z"
    }
   },
   "outputs": [
    {
     "name": "stdout",
     "output_type": "stream",
     "text": [
      "1\n",
      "3\n",
      "5\n",
      "7\n",
      "9\n"
     ]
    }
   ],
   "source": [
    "# Imprimimos el primer elemento de cada tupla\n",
    "for x in list_of_tups:\n",
    "    print(x[0])"
   ]
  },
  {
   "cell_type": "code",
   "execution_count": 14,
   "metadata": {
    "id": "ghpIEFomgk1Z",
    "ExecuteTime": {
     "end_time": "2023-08-26T01:37:43.588646100Z",
     "start_time": "2023-08-26T01:37:43.568646100Z"
    }
   },
   "outputs": [
    {
     "name": "stdout",
     "output_type": "stream",
     "text": [
      "2\n",
      "4\n",
      "6\n",
      "8\n",
      "10\n"
     ]
    }
   ],
   "source": [
    "# Imprimimos el segundo elemento de cada tupla\n",
    "for x in list_of_tups:\n",
    "    print(x[1])"
   ]
  },
  {
   "cell_type": "markdown",
   "metadata": {
    "id": "_DW8-Zx_gk1a"
   },
   "source": [
    "Continuemos"
   ]
  },
  {
   "cell_type": "code",
   "execution_count": 15,
   "metadata": {
    "id": "nAPLSRiGgk1a",
    "ExecuteTime": {
     "end_time": "2023-08-26T01:38:08.037194400Z",
     "start_time": "2023-08-26T01:38:08.021197700Z"
    }
   },
   "outputs": [
    {
     "name": "stdout",
     "output_type": "stream",
     "text": [
      "1\n",
      "2\n",
      "\n",
      "\n",
      "3\n",
      "4\n",
      "\n",
      "\n",
      "5\n",
      "6\n",
      "\n",
      "\n",
      "7\n",
      "8\n",
      "\n",
      "\n",
      "9\n",
      "10\n",
      "\n",
      "\n"
     ]
    }
   ],
   "source": [
    "for (num1,num2) in list_of_tups:\n",
    "    print(num1)\n",
    "    print(num2)\n",
    "    print('\\n')"
   ]
  },
  {
   "cell_type": "code",
   "execution_count": 16,
   "metadata": {
    "id": "q-b5J3VIgk1a",
    "ExecuteTime": {
     "end_time": "2023-08-26T01:38:27.310164100Z",
     "start_time": "2023-08-26T01:38:27.295340Z"
    }
   },
   "outputs": [
    {
     "name": "stdout",
     "output_type": "stream",
     "text": [
      "1\n",
      "2\n",
      "\n",
      "\n",
      "3\n",
      "4\n",
      "\n",
      "\n",
      "5\n",
      "6\n",
      "\n",
      "\n",
      "7\n",
      "8\n",
      "\n",
      "\n",
      "9\n",
      "10\n",
      "\n",
      "\n"
     ]
    }
   ],
   "source": [
    "# No necesitamos el paréntesis\n",
    "\n",
    "for num1, num2 in list_of_tups:\n",
    "    print(num1)\n",
    "    print(num2)\n",
    "    print('\\n')"
   ]
  },
  {
   "cell_type": "markdown",
   "metadata": {
    "id": "byfWAhbsgk1a"
   },
   "source": [
    "## <font color='blue'>**`for` con diccionarios**</font>\n",
    "Recuerda que los diccionarios no mantienen ningún orden. Al recorrerlos hay que tener esto en mente."
   ]
  },
  {
   "cell_type": "code",
   "execution_count": 18,
   "metadata": {
    "id": "98Ws1d4lgk1a",
    "ExecuteTime": {
     "end_time": "2023-08-26T01:40:19.255143300Z",
     "start_time": "2023-08-26T01:40:19.200142800Z"
    }
   },
   "outputs": [],
   "source": [
    "countries_populations = {'Chile':'18', 'USA':'323', 'Germany':'83', 'India':'1324', 'Spain':'45'}"
   ]
  },
  {
   "cell_type": "code",
   "execution_count": 19,
   "metadata": {
    "id": "f9bdBSJ9gk1b",
    "ExecuteTime": {
     "end_time": "2023-08-26T01:40:32.120880800Z",
     "start_time": "2023-08-26T01:40:32.045321500Z"
    }
   },
   "outputs": [
    {
     "name": "stdout",
     "output_type": "stream",
     "text": [
      "Chile\n",
      "USA\n",
      "Germany\n",
      "India\n",
      "Spain\n"
     ]
    }
   ],
   "source": [
    "for item in countries_populations:\n",
    "    print(item)"
   ]
  },
  {
   "cell_type": "code",
   "execution_count": 20,
   "metadata": {
    "id": "oFBGMBMSgk1b",
    "ExecuteTime": {
     "end_time": "2023-08-26T01:40:44.403893600Z",
     "start_time": "2023-08-26T01:40:44.377892400Z"
    }
   },
   "outputs": [
    {
     "name": "stdout",
     "output_type": "stream",
     "text": [
      "Chile\n",
      "USA\n",
      "Germany\n",
      "India\n",
      "Spain\n"
     ]
    }
   ],
   "source": [
    "for k in countries_populations.keys():\n",
    "    print(k)"
   ]
  },
  {
   "cell_type": "code",
   "execution_count": 21,
   "metadata": {
    "id": "zzTNfw4dgk1b",
    "ExecuteTime": {
     "end_time": "2023-08-26T01:41:03.970095600Z",
     "start_time": "2023-08-26T01:41:03.954101Z"
    }
   },
   "outputs": [
    {
     "name": "stdout",
     "output_type": "stream",
     "text": [
      "18\n",
      "323\n",
      "83\n",
      "1324\n",
      "45\n"
     ]
    }
   ],
   "source": [
    "for values in countries_populations.values():\n",
    "    print(values)"
   ]
  },
  {
   "cell_type": "code",
   "source": [
    "for k, v in countries_populations.items():\n",
    "    print(f'{k} : {v} millones.')"
   ],
   "metadata": {
    "id": "d1LLe5GjwwtM",
    "ExecuteTime": {
     "end_time": "2023-08-26T01:41:20.576900100Z",
     "start_time": "2023-08-26T01:41:20.505153Z"
    }
   },
   "execution_count": 22,
   "outputs": [
    {
     "name": "stdout",
     "output_type": "stream",
     "text": [
      "Chile : 18 millones.\n",
      "USA : 323 millones.\n",
      "Germany : 83 millones.\n",
      "India : 1324 millones.\n",
      "Spain : 45 millones.\n"
     ]
    }
   ]
  },
  {
   "cell_type": "markdown",
   "metadata": {
    "id": "7SfHfxydgk1b"
   },
   "source": [
    "## <font color='blue'>**Más usos de `for`**</font>"
   ]
  },
  {
   "cell_type": "code",
   "execution_count": 25,
   "metadata": {
    "id": "w22KyGS9gk1b",
    "ExecuteTime": {
     "end_time": "2023-08-26T01:45:02.939125800Z",
     "start_time": "2023-08-26T01:45:02.869124300Z"
    }
   },
   "outputs": [
    {
     "name": "stdout",
     "output_type": "stream",
     "text": [
      "Hello Sebastián\n",
      "Hello Zavi\n",
      "Hello Isidora\n"
     ]
    }
   ],
   "source": [
    "for name in \"Sebastián\", \"Zavi\", \"Isidora\":\n",
    "    print(\"Hello \" + name)"
   ]
  },
  {
   "cell_type": "code",
   "execution_count": 27,
   "metadata": {
    "id": "uxGdUwx4gk1b",
    "ExecuteTime": {
     "end_time": "2023-08-26T01:45:13.426819500Z",
     "start_time": "2023-08-26T01:45:13.358817900Z"
    }
   },
   "outputs": [
    {
     "name": "stdout",
     "output_type": "stream",
     "text": [
      "0\n",
      "1\n",
      "2\n",
      "3\n",
      "4\n",
      "5\n",
      "6\n",
      "7\n",
      "8\n",
      "9\n"
     ]
    }
   ],
   "source": [
    "for i in range(10):\n",
    "    print(i)"
   ]
  },
  {
   "cell_type": "code",
   "execution_count": 28,
   "metadata": {
    "id": "OJm7C-rZgk1c",
    "ExecuteTime": {
     "end_time": "2023-08-26T01:45:19.720879Z",
     "start_time": "2023-08-26T01:45:19.697864700Z"
    }
   },
   "outputs": [
    {
     "name": "stdout",
     "output_type": "stream",
     "text": [
      "5\n",
      "7\n",
      "11\n",
      "13\n",
      "36\n"
     ]
    }
   ],
   "source": [
    "total = 0\n",
    "for i in 5, 7, 11, 13:\n",
    "    print(i)\n",
    "    total = total + i  # total += i\n",
    "\n",
    "print(total)"
   ]
  },
  {
   "cell_type": "code",
   "source": [
    "lista_tuplas = [('Seba', 24), ('Mati', 20), ('Zoé', 23)]\n",
    "for persona, edad in lista_tuplas:\n",
    "    if edad >= 23:\n",
    "        print(f'{persona} tiene {edad} años')"
   ],
   "metadata": {
    "id": "YwrLdQjcoRZi",
    "ExecuteTime": {
     "end_time": "2023-08-26T01:46:21.311426800Z",
     "start_time": "2023-08-26T01:46:21.237912600Z"
    }
   },
   "execution_count": 30,
   "outputs": [
    {
     "name": "stdout",
     "output_type": "stream",
     "text": [
      "Seba tiene 24 años\n",
      "Zoé tiene 23 años\n"
     ]
    }
   ]
  },
  {
   "cell_type": "markdown",
   "metadata": {
    "id": "cN_EFnvUgk1c"
   },
   "source": [
    "## <font color='blue'>**La sentencia `continue`**</font>\n",
    "\n",
    "La palabra clave `continue`puede ser un poco complicada para ver su utilidad. Te permite continuar con el ciclo de nivel superior, básicamente lo opuesto a `break`. Pasará tiempo antes de que te des cuenta de una buena situación para usarla, pero aquí hay un ejemplo simple:"
   ]
  },
  {
   "cell_type": "code",
   "execution_count": 32,
   "metadata": {
    "id": "Gqp1IEdEgk1c",
    "ExecuteTime": {
     "end_time": "2023-08-26T01:47:47.508334200Z",
     "start_time": "2023-08-26T01:47:47.465336900Z"
    }
   },
   "outputs": [
    {
     "name": "stdout",
     "output_type": "stream",
     "text": [
      "La letra actual es: c\n",
      "La letra actual es: o\n",
      "La letra actual es: e\n"
     ]
    }
   ],
   "source": [
    "for letter in 'code':\n",
    "    if letter == 'd':\n",
    "        continue\n",
    "\n",
    "    print(f'La letra actual es: {letter}')"
   ]
  },
  {
   "cell_type": "code",
   "execution_count": 35,
   "metadata": {
    "id": "CguOgXdUgk1c",
    "ExecuteTime": {
     "end_time": "2023-08-26T01:49:49.760988900Z",
     "start_time": "2023-08-26T01:49:49.667301800Z"
    }
   },
   "outputs": [
    {
     "name": "stdout",
     "output_type": "stream",
     "text": [
      "Aestestringleeliminaremoslosespacios\n"
     ]
    }
   ],
   "source": [
    "list = []\n",
    "string = 'A este string le eliminaremos los espacios'\n",
    "for letra in string:\n",
    "    if letra != ' ':\n",
    "        list.append(letra)\n",
    "    else:\n",
    "        continue\n",
    "print(*list, sep='')"
   ]
  },
  {
   "cell_type": "markdown",
   "metadata": {
    "id": "cqdrb36Fgk1c"
   },
   "source": [
    "Intenta explicar qué paso aquí!!"
   ]
  },
  {
   "cell_type": "markdown",
   "source": [
    "## <font color='blue'>__Ejercicios__</font>"
   ],
   "metadata": {
    "id": "NgsnychLl-am"
   }
  },
  {
   "cell_type": "markdown",
   "metadata": {
    "id": "L0Hf37-Cgk1Z"
   },
   "source": [
    "### <font color='green'>Actividad 1:</font>  \n",
    "### Desempaque el elemento numérico de cada tupla\n",
    "Ejecuta la siguiente celda donde creamos una lista de tuplas.<br>\n",
    "Extrae e imprime los números de las tuplas usando un bucle `for`\n",
    "\n",
    "Pasos:\n",
    "1. Ejecuta la celda para crear la lista de tuplas.\n",
    "2. Extrae e imprime los números usando un bucle `for` e indexado\n",
    "\n",
    "Challenge:\n",
    "3. Imprime los números en una única fila separados por un espacio; así: 1 4 6 8 10"
   ]
  },
  {
   "cell_type": "code",
   "execution_count": 37,
   "metadata": {
    "id": "J5_rF_47gk1Z",
    "ExecuteTime": {
     "end_time": "2023-08-26T01:52:29.793636700Z",
     "start_time": "2023-08-26T01:52:29.773638900Z"
    }
   },
   "outputs": [],
   "source": [
    "# EJECUTA ESTA CELDA. NO LA MODIFIQUES !!!\n",
    "\n",
    "list_of_tuples = [('A', ['B', 1]),\n",
    "                  ('C', ['D', 4]),\n",
    "                  ('E', ['F', 6]),\n",
    "                  ('G', ['H', 8]),\n",
    "                  ('I', ['J', 10])]"
   ]
  },
  {
   "cell_type": "code",
   "execution_count": 48,
   "metadata": {
    "id": "baULOhDSgk1a",
    "ExecuteTime": {
     "end_time": "2023-08-26T01:57:13.681932Z",
     "start_time": "2023-08-26T01:57:13.640934300Z"
    }
   },
   "outputs": [
    {
     "name": "stdout",
     "output_type": "stream",
     "text": [
      "1-4-6-8-10-"
     ]
    }
   ],
   "source": [
    "# Tu código aquí ...\n",
    "for afuera, adentro in list_of_tuples:\n",
    "    print(adentro[1], end=\"-\")"
   ]
  },
  {
   "cell_type": "markdown",
   "metadata": {
    "id": "gOheKUXEgk1a"
   },
   "source": [
    "<font color='green'>Fin actividad 1</font>"
   ]
  },
  {
   "cell_type": "markdown",
   "metadata": {
    "id": "8zTGvUTKgk1b"
   },
   "source": [
    "### <font color='green'>Actividad 2:</font>\n",
    "### Imprimiendo países y poblaciones. Buscando en [stackoverflow](https://stackoverflow.com/)\n",
    "\n",
    "Crea un programa que imprima el nombre del país y su población, de esta manera:\n",
    "\n",
    "      En Chile hay 18 millones de habitantes.\n",
    "\n",
    "Imprime un país por línea<br>\n",
    "Deja una línea en blanco entre países\n",
    "\n",
    "Pasos:\n",
    "1. Utiliza un bucle `for` para recorrer el diccionario.\n",
    "2. Busca en [stackoverflow](https://stackoverflow.com/) cómo desempaquetar un diccionario en un ciclo for\n",
    "3. Imprima utilizando la función de `print()` y `f-strings`.\n",
    "4. Deje una línea en blanco usando el carácter de control `'\\n'` dentro de la función `print()`."
   ]
  },
  {
   "cell_type": "code",
   "execution_count": null,
   "metadata": {
    "id": "j95ncbo0gk1b"
   },
   "outputs": [],
   "source": [
    "# Tu código aquí ...\n",
    "\n"
   ]
  },
  {
   "cell_type": "markdown",
   "metadata": {
    "id": "PMRtK7Iggk1b"
   },
   "source": [
    "<font color='green'>Fin actividad 2</font>"
   ]
  },
  {
   "cell_type": "markdown",
   "source": [
    "<img src=\"https://drive.google.com/uc?export=view&id=1Igtn9UXg6NGeRWsqh4hefQUjV0hmzlBv\" width=\"100\" align=\"left\" title=\"Runa-perth\">\n",
    "<br clear=\"left\">\n",
    "Contenido opcional\n",
    "\n",
    "##<font color='blue'>__Ejercicios avanzados__</font>\n",
    "\n",
    "Si quieres aprender más, anímate a desarrollar los siguientes ejercicios utilizando sólo lo aprendido hasta el momento: tipos de datos, estructuras y sus métodos (e.g., listas, diccionarios, conjuntos, tuplas), slicing e indexing, control de flujo y ciclos (`for`, `while`).\n",
    "\n",
    "No puedes utilizar funciones incorporadas (salvo `print()` y `len()`), lambdas o librerías de apoyo.\n",
    "\n",
    "Imprime un mensaje con `print()` indicando si la condición solicitada en el ejercicio se cumple o no; e.g., la Actividad 3 debería tener una salida condicional del tipo:\n",
    "\n",
    "```python\n",
    "print(\"El primer número duplicado es:\")\n",
    "````\n",
    "o si no se cumple la condición ...\n",
    "```python\n",
    "print(\"No hay números duplicados.\")\n",
    "```"
   ],
   "metadata": {
    "id": "b9wI0aPfme1q"
   }
  },
  {
   "cell_type": "markdown",
   "source": [
    "### <font color='green'>Actividad 3</font>\n",
    "Dada una lista de números, encuentra el primer número duplicado. Si no hay números duplicados, imprime \"No hay números duplicados\"."
   ],
   "metadata": {
    "id": "txUX7fz9mxNd"
   }
  },
  {
   "cell_type": "code",
   "source": [
    "lista = [1, 2, 3, 2, 5, 6, 7, 8, 9]\n",
    "\n",
    "# Tu código aquí ...\n",
    "\n"
   ],
   "metadata": {
    "id": "PCOb7uk8m5Xt"
   },
   "execution_count": null,
   "outputs": []
  },
  {
   "cell_type": "markdown",
   "source": [
    "### <font color='green'>Actividad 4</font>\n",
    "Dada una lista de tuplas, cada una conteniendo dos elementos (un número y una cadena), imprime la cadena asociada a cada número impar."
   ],
   "metadata": {
    "id": "y000BU-ynvqm"
   }
  },
  {
   "cell_type": "code",
   "source": [
    "lista = [(1, 'a'), (2, 'b'), (3, 'c'), (4, 'd'), (5, 'e')]\n",
    "\n",
    "# Tu código aquí ...\n",
    "\n"
   ],
   "metadata": {
    "id": "yyF99uYInLDE"
   },
   "execution_count": null,
   "outputs": []
  },
  {
   "cell_type": "markdown",
   "source": [
    "### <font color='green'>Actividad 5</font>\n",
    "Dado un diccionario, imprime cada clave hasta que encuentres una clave que sea una cadena de longitud 3."
   ],
   "metadata": {
    "id": "TSHqyLR6tysu"
   }
  },
  {
   "cell_type": "code",
   "source": [
    "diccionario = {\"a\": 1, \"bb\": 2, \"ccc\": 3, \"dddd\": 4}\n",
    "\n",
    "# Tu código aquí ...\n",
    "\n"
   ],
   "metadata": {
    "id": "Uy3mtk7dt6xW"
   },
   "execution_count": null,
   "outputs": []
  },
  {
   "cell_type": "markdown",
   "source": [
    "### <font color='green'>Actividad 6</font>\n",
    "Dado un diccionario de acrónimos, imprime todos aquellos cuya llave tenga un largo distinto de 3 caracteres. Haz que tu salida quede correctamente tabulada de esta forma:\n",
    "```python\n",
    "HTML   : HyperText Markup Language\n",
    "JSON   : JavaScript Object Notation\n",
    "HTTPS  : Hypertext Transfer Protocol Secure\n",
    "AI     : Artificial Intelligence\n",
    "```\n",
    "\n"
   ],
   "metadata": {
    "id": "cwNcmzsRt0YS"
   }
  },
  {
   "cell_type": "code",
   "source": [
    "acronimos = {\n",
    "    'HTML': 'HyperText Markup Language',\n",
    "    'CSS': 'Cascading Style Sheets',\n",
    "    'API': 'Application Programming Interface',\n",
    "    'SQL': 'Structured Query Language',\n",
    "    'JSON': 'JavaScript Object Notation',\n",
    "    'VPN': 'Virtual Private Network',\n",
    "    'HTTPS': 'Hypertext Transfer Protocol Secure',\n",
    "    'IoT': 'Internet of Things',\n",
    "    'AI': 'Artificial Intelligence',\n",
    "    'DNS': 'Domain Name System'\n",
    "}\n",
    "\n",
    "# Tu código aquí ...\n",
    "\n"
   ],
   "metadata": {
    "id": "g1e9M5ZGtbhw"
   },
   "execution_count": null,
   "outputs": []
  },
  {
   "cell_type": "markdown",
   "source": [
    "### <font color='green'>Actividad 7</font>\n",
    "Dada una lista de números enteros positivos desordenada, encuentra el menor número que no está en el rango de la lista. Por ejemplo, en la lista:\n",
    "\n",
    "```python\n",
    "lista = [4, 3, 6, 1, 7, 9]\n",
    "```\n",
    "el menor número faltante es el 2.\n",
    "Si todos los números están presentes, imprime \"Todos los números están presentes\".\n",
    "\n",
    "No puedes usar funciones incorporadas, salvo `print()`."
   ],
   "metadata": {
    "id": "bsPhKuRAys-Z"
   }
  },
  {
   "cell_type": "code",
   "source": [
    "lista = [4, 3, 6, 7, 9]\n",
    "# lista = [4, 3, 6, 7, 9, 2, 8, 1, 5]\n",
    "\n",
    "# Tu cópdigo aquí\n",
    "\n"
   ],
   "metadata": {
    "id": "XLcZZx7gwGKy"
   },
   "execution_count": null,
   "outputs": []
  },
  {
   "cell_type": "markdown",
   "source": [
    "### <font color='green'>Actividad 8</font>\n",
    "Dada una lista de cadenas, genera una salida impresa indicando si las cadenas son o no un palíndromo. Ejemplo:\n",
    "\n",
    "```python\n",
    "hola       : no es palíndromo\n",
    "mundo      : no es palíndromo\n",
    "python     : no es palíndromo\n",
    "radar      : es palíndromo\n",
    "IA         : no es palíndromo\n",
    "```\n"
   ],
   "metadata": {
    "id": "PwNciJMJ7MMk"
   }
  },
  {
   "cell_type": "code",
   "source": [
    "lista = [\"hola\", \"mundo\", \"python\", \"radar\", \"IA\"]\n",
    "\n",
    "# Tu código aquí ...\n",
    "\n",
    "\n"
   ],
   "metadata": {
    "id": "-HKkxEEg7Mv_"
   },
   "execution_count": null,
   "outputs": []
  },
  {
   "cell_type": "markdown",
   "source": [
    "<img src=\"https://drive.google.com/uc?export=view&id=1Igtn9UXg6NGeRWsqh4hefQUjV0hmzlBv\" width=\"50\" align=\"left\" title=\"Runa-perth\">"
   ],
   "metadata": {
    "id": "TPEZyyNi6pMx"
   }
  }
 ],
 "metadata": {
  "kernelspec": {
   "display_name": "Python 3 (ipykernel)",
   "language": "python",
   "name": "python3"
  },
  "language_info": {
   "codemirror_mode": {
    "name": "ipython",
    "version": 3
   },
   "file_extension": ".py",
   "mimetype": "text/x-python",
   "name": "python",
   "nbconvert_exporter": "python",
   "pygments_lexer": "ipython3",
   "version": "3.8.11"
  },
  "colab": {
   "provenance": [],
   "toc_visible": true
  }
 },
 "nbformat": 4,
 "nbformat_minor": 0
}
