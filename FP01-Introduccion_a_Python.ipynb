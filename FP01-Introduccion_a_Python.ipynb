{
 "nbformat": 4,
 "nbformat_minor": 0,
 "metadata": {
  "colab": {
   "provenance": [],
   "toc_visible": true
  },
  "kernelspec": {
   "display_name": "Python 3 (ipykernel)",
   "language": "python",
   "name": "python3"
  },
  "language_info": {
   "codemirror_mode": {
    "name": "ipython",
    "version": 3
   },
   "file_extension": ".py",
   "mimetype": "text/x-python",
   "name": "python",
   "nbconvert_exporter": "python",
   "pygments_lexer": "ipython3",
   "version": "3.8.11"
  }
 },
 "cells": [
  {
   "cell_type": "markdown",
   "metadata": {
    "id": "ukqkTxThSKu5"
   },
   "source": [
    "# **Introducción a Python**\n",
    "# FP01. Introducción a Python"
   ]
  },
  {
   "cell_type": "markdown",
   "metadata": {
    "id": "e__p9PGPyird"
   },
   "source": [
    "## <font color='orange'>Cómo aprenderemos Python?</font>\n",
    "Durante el presente curso, ustedes recibirán un entrenamiento para convertirse en agentes secretos de criptografía. Conocerán las reglas y secretos de Python a fondo y lograrán desarrollar un proyecto final en el cual desarrollarán una máquina [Enigma](https://es.wikipedia.org/wiki/Enigma_(máquina)). Con esta máquina criptográfica deberán descifrar el desafío final del curso.\n",
    "\n",
    "Mucha suerte aprendices de hackers!!"
   ]
  },
  {
   "cell_type": "markdown",
   "metadata": {
    "id": "pCqshoFASKu7"
   },
   "source": [
    "## <font color='blue'>**El Zen de Python**</font>\n",
    "El veterano pytonista Tim Peters, canaliza sucintamente los principios rectores para el diseño de Python en 19 aforismos. Se le conoce como **El Zen de Python**."
   ]
  },
  {
   "cell_type": "code",
   "metadata": {
    "id": "cIZbli-wSKu8",
    "ExecuteTime": {
     "end_time": "2023-09-05T06:04:44.493016100Z",
     "start_time": "2023-09-05T06:04:44.443796400Z"
    }
   },
   "source": [
    "# El Zen de Python\n",
    "import this"
   ],
   "execution_count": 1,
   "outputs": [
    {
     "name": "stdout",
     "output_type": "stream",
     "text": [
      "The Zen of Python, by Tim Peters\n",
      "\n",
      "Beautiful is better than ugly.\n",
      "Explicit is better than implicit.\n",
      "Simple is better than complex.\n",
      "Complex is better than complicated.\n",
      "Flat is better than nested.\n",
      "Sparse is better than dense.\n",
      "Readability counts.\n",
      "Special cases aren't special enough to break the rules.\n",
      "Although practicality beats purity.\n",
      "Errors should never pass silently.\n",
      "Unless explicitly silenced.\n",
      "In the face of ambiguity, refuse the temptation to guess.\n",
      "There should be one-- and preferably only one --obvious way to do it.\n",
      "Although that way may not be obvious at first unless you're Dutch.\n",
      "Now is better than never.\n",
      "Although never is often better than *right* now.\n",
      "If the implementation is hard to explain, it's a bad idea.\n",
      "If the implementation is easy to explain, it may be a good idea.\n",
      "Namespaces are one honking great idea -- let's do more of those!\n"
     ]
    }
   ]
  },
  {
   "cell_type": "markdown",
   "metadata": {
    "id": "j6TcNepCSKvA"
   },
   "source": [
    "## <font color='blue'>**Variables**</font>"
   ]
  },
  {
   "cell_type": "markdown",
   "metadata": {
    "id": "FsZ3ne33SKvC"
   },
   "source": [
    "Un nombre que se usa para denotar algo o un valor se llama variable. En Python, las variables se pueden declarar y se le pueden asignar valores de la siguiente manera,"
   ]
  },
  {
   "cell_type": "code",
   "metadata": {
    "id": "boRLkp-2SKvD",
    "ExecuteTime": {
     "end_time": "2023-09-05T06:10:07.184591Z",
     "start_time": "2023-09-05T06:10:07.140646300Z"
    }
   },
   "source": [
    "x = 2\n",
    "y = 5\n",
    "xy = 'Hey'"
   ],
   "execution_count": 3,
   "outputs": []
  },
  {
   "cell_type": "code",
   "metadata": {
    "id": "m-xNhpDQSKvG",
    "ExecuteTime": {
     "end_time": "2023-09-05T06:10:16.590146100Z",
     "start_time": "2023-09-05T06:10:16.568674800Z"
    }
   },
   "source": [
    "# Aquí usamos nuestra primera función: print()\n",
    "\n",
    "print(x + y, xy)"
   ],
   "execution_count": 4,
   "outputs": [
    {
     "name": "stdout",
     "output_type": "stream",
     "text": [
      "7 Hey\n"
     ]
    }
   ]
  },
  {
   "cell_type": "markdown",
   "metadata": {
    "id": "3v_UgKKkSKvI"
   },
   "source": [
    "Multiples variables pueden ser asignadas con el mismo valor."
   ]
  },
  {
   "cell_type": "code",
   "metadata": {
    "id": "5mIoxxN9SKvJ",
    "ExecuteTime": {
     "end_time": "2023-09-05T06:10:50.644903700Z",
     "start_time": "2023-09-05T06:10:50.605799900Z"
    }
   },
   "source": [
    "x = y = 20"
   ],
   "execution_count": 5,
   "outputs": []
  },
  {
   "cell_type": "code",
   "metadata": {
    "id": "H_-JtHX1SKvM",
    "ExecuteTime": {
     "end_time": "2023-09-05T06:11:02.144673200Z",
     "start_time": "2023-09-05T06:11:02.055465400Z"
    }
   },
   "source": [
    "print(x, y)"
   ],
   "execution_count": 6,
   "outputs": [
    {
     "name": "stdout",
     "output_type": "stream",
     "text": [
      "20 20\n"
     ]
    }
   ]
  },
  {
   "cell_type": "markdown",
   "metadata": {
    "id": "72RcAngJSKvP"
   },
   "source": [
    "Si has programado en otros lenguajes, probablemente aprendiste que las variables eran una suerte de \"caja\" en la cual guardabas algo. En Python ese concepto es algo distinto. Mira:"
   ]
  },
  {
   "cell_type": "code",
   "metadata": {
    "id": "4JemAWBcSKvP",
    "ExecuteTime": {
     "end_time": "2023-09-05T06:11:30.843090200Z",
     "start_time": "2023-09-05T06:11:30.768414500Z"
    }
   },
   "source": [
    "a = 1"
   ],
   "execution_count": 7,
   "outputs": []
  },
  {
   "cell_type": "code",
   "metadata": {
    "id": "lamwRl8ISKvS",
    "ExecuteTime": {
     "end_time": "2023-09-05T06:11:49.533723400Z",
     "start_time": "2023-09-05T06:11:49.450295300Z"
    }
   },
   "source": [
    "id(a)"
   ],
   "execution_count": 8,
   "outputs": [
    {
     "data": {
      "text/plain": "2187519682864"
     },
     "execution_count": 8,
     "metadata": {},
     "output_type": "execute_result"
    }
   ]
  },
  {
   "cell_type": "markdown",
   "metadata": {
    "id": "3pUY587JyeNv"
   },
   "source": [
    "Si te fijas el identificador de $a$, `id(a)`, nos da un valor. Si asigno 1 a otra variable, en este caso $b$, te darás cuenta que se obtiene el mismo identificador. En Python las variables apuntan a direcciones de memoria en las cuales se almacenan objetos."
   ]
  },
  {
   "cell_type": "code",
   "metadata": {
    "id": "yvvt-KgESKvV",
    "ExecuteTime": {
     "end_time": "2023-09-05T06:12:34.820574Z",
     "start_time": "2023-09-05T06:12:34.750627Z"
    }
   },
   "source": [
    "b = 1"
   ],
   "execution_count": 9,
   "outputs": []
  },
  {
   "cell_type": "code",
   "metadata": {
    "id": "svNrsowiSKvY",
    "ExecuteTime": {
     "end_time": "2023-09-05T06:12:40.542851800Z",
     "start_time": "2023-09-05T06:12:40.395860400Z"
    }
   },
   "source": [
    "id(b)"
   ],
   "execution_count": 10,
   "outputs": [
    {
     "data": {
      "text/plain": "2187519682864"
     },
     "execution_count": 10,
     "metadata": {},
     "output_type": "execute_result"
    }
   ]
  },
  {
   "cell_type": "code",
   "metadata": {
    "id": "jk-XjX5TSKva",
    "ExecuteTime": {
     "end_time": "2023-09-05T06:14:17.973670200Z",
     "start_time": "2023-09-05T06:14:17.878355Z"
    }
   },
   "source": [
    "# Veamos si son iguales usando el operador ==\n",
    "id(a) == id(b)"
   ],
   "execution_count": 12,
   "outputs": [
    {
     "data": {
      "text/plain": "True"
     },
     "execution_count": 12,
     "metadata": {},
     "output_type": "execute_result"
    }
   ]
  },
  {
   "cell_type": "code",
   "metadata": {
    "id": "6H0YTx5kSKve",
    "ExecuteTime": {
     "end_time": "2023-09-05T06:14:20.819837500Z",
     "start_time": "2023-09-05T06:14:20.736378800Z"
    }
   },
   "source": [
    "id(1)"
   ],
   "execution_count": 13,
   "outputs": [
    {
     "data": {
      "text/plain": "2187519682864"
     },
     "execution_count": 13,
     "metadata": {},
     "output_type": "execute_result"
    }
   ]
  },
  {
   "cell_type": "code",
   "metadata": {
    "id": "xwqfn4x3SKvh",
    "ExecuteTime": {
     "end_time": "2023-09-05T06:14:23.749376200Z",
     "start_time": "2023-09-05T06:14:23.725467300Z"
    }
   },
   "source": [
    "id(a) == id(b) == id(1)"
   ],
   "execution_count": 14,
   "outputs": [
    {
     "data": {
      "text/plain": "True"
     },
     "execution_count": 14,
     "metadata": {},
     "output_type": "execute_result"
    }
   ]
  },
  {
   "cell_type": "markdown",
   "metadata": {
    "id": "4UbITV14SKvj"
   },
   "source": [
    "## <font color='blue'>**Operadores**</font>"
   ]
  },
  {
   "cell_type": "markdown",
   "metadata": {
    "id": "3YUg138HSKvk"
   },
   "source": [
    "### Operadores aritméticos"
   ]
  },
  {
   "cell_type": "markdown",
   "metadata": {
    "id": "-2ku2AyFSKvk"
   },
   "source": [
    "| Símbolo | Tarea ejecutada |\n",
    "|:---:|---:|\n",
    "| +  | Suma |\n",
    "| -  | Resta |\n",
    "| /  | División |\n",
    "| %  | Módulo |\n",
    "| *  | Multiplicación |\n",
    "| //  | Función de parte entera - Piso |\n",
    "| **  | Potencia |"
   ]
  },
  {
   "cell_type": "code",
   "metadata": {
    "id": "uieR0l0kSKvl",
    "ExecuteTime": {
     "end_time": "2023-09-05T06:15:25.725295100Z",
     "start_time": "2023-09-05T06:15:25.635787Z"
    }
   },
   "source": [
    "# Suma\n",
    "1 + 2"
   ],
   "execution_count": 15,
   "outputs": [
    {
     "data": {
      "text/plain": "3"
     },
     "execution_count": 15,
     "metadata": {},
     "output_type": "execute_result"
    }
   ]
  },
  {
   "cell_type": "code",
   "metadata": {
    "id": "9VFGD5TkSKvo",
    "ExecuteTime": {
     "end_time": "2023-09-05T06:15:28.821904800Z",
     "start_time": "2023-09-05T06:15:28.737037Z"
    }
   },
   "source": [
    "# Resta\n",
    "2 - 1"
   ],
   "execution_count": 16,
   "outputs": [
    {
     "data": {
      "text/plain": "1"
     },
     "execution_count": 16,
     "metadata": {},
     "output_type": "execute_result"
    }
   ]
  },
  {
   "cell_type": "code",
   "metadata": {
    "id": "fERDe26CSKvq",
    "ExecuteTime": {
     "end_time": "2023-09-05T06:15:36.421879300Z",
     "start_time": "2023-09-05T06:15:36.355014300Z"
    }
   },
   "source": [
    "# Multiplicación\n",
    "1 * 2"
   ],
   "execution_count": 17,
   "outputs": [
    {
     "data": {
      "text/plain": "2"
     },
     "execution_count": 17,
     "metadata": {},
     "output_type": "execute_result"
    }
   ]
  },
  {
   "cell_type": "code",
   "metadata": {
    "id": "n8BJnmnVSKvt",
    "ExecuteTime": {
     "end_time": "2023-09-05T06:15:46.166805600Z",
     "start_time": "2023-09-05T06:15:46.068282600Z"
    }
   },
   "source": [
    "# División\n",
    "1 / 2"
   ],
   "execution_count": 18,
   "outputs": [
    {
     "data": {
      "text/plain": "0.5"
     },
     "execution_count": 18,
     "metadata": {},
     "output_type": "execute_result"
    }
   ]
  },
  {
   "cell_type": "code",
   "metadata": {
    "id": "QZLQlxRCSKvv",
    "ExecuteTime": {
     "end_time": "2023-09-05T06:19:08.320249500Z",
     "start_time": "2023-09-05T06:19:08.220366100Z"
    }
   },
   "source": [
    "# División. Entrega muchos decimales\n",
    "15 / 6 , 16 / 4 , 10 / 100"
   ],
   "execution_count": 31,
   "outputs": [
    {
     "data": {
      "text/plain": "(2.5, 4.0, 0.1)"
     },
     "execution_count": 31,
     "metadata": {},
     "output_type": "execute_result"
    }
   ]
  },
  {
   "cell_type": "code",
   "metadata": {
    "id": "9ZizYm_qSKvy",
    "ExecuteTime": {
     "end_time": "2023-09-05T06:18:28.516957100Z",
     "start_time": "2023-09-05T06:18:28.443945300Z"
    }
   },
   "source": [
    "# Módulo\n",
    "\n",
    "15 % 6 , 16 % 4 , 5 % 5 , 10 % 100\n"
   ],
   "execution_count": 30,
   "outputs": [
    {
     "data": {
      "text/plain": "(3, 0, 0, 10)"
     },
     "execution_count": 30,
     "metadata": {},
     "output_type": "execute_result"
    }
   ]
  },
  {
   "cell_type": "markdown",
   "metadata": {
    "id": "SEw_41wqSKv0"
   },
   "source": [
    "La división de piso no es más que convertir el resultado así obtenido al número entero más cercano."
   ]
  },
  {
   "cell_type": "code",
   "metadata": {
    "id": "QHbkT1mYSKv0",
    "ExecuteTime": {
     "end_time": "2023-09-05T06:19:45.918946400Z",
     "start_time": "2023-09-05T06:19:45.896948500Z"
    }
   },
   "source": [
    "# Floor division\n",
    "15 // 6, 16 // 4 , 10 // 100"
   ],
   "execution_count": 32,
   "outputs": [
    {
     "data": {
      "text/plain": "(2, 4, 0)"
     },
     "execution_count": 32,
     "metadata": {},
     "output_type": "execute_result"
    }
   ]
  },
  {
   "cell_type": "markdown",
   "metadata": {
    "id": "grtcaAvsSKv3"
   },
   "source": [
    "### Operadores relacionales"
   ]
  },
  {
   "cell_type": "markdown",
   "metadata": {
    "id": "kE7nh7-oSKv4"
   },
   "source": [
    "|   Símbolo   | Tarea ejecutada |\n",
    "|:-----:|---|\n",
    "| == | igual |\n",
    "| !=  | no igual |\n",
    "| < | menor que |\n",
    "| > | mayor que |\n",
    "| <=  | menor o igual que |\n",
    "| >=  | mayor o igual que |"
   ]
  },
  {
   "cell_type": "code",
   "metadata": {
    "id": "gTDrLtZGyeN0",
    "ExecuteTime": {
     "end_time": "2023-09-05T06:20:23.331559300Z",
     "start_time": "2023-09-05T06:20:23.267630700Z"
    }
   },
   "source": [
    "z = 1"
   ],
   "execution_count": 36,
   "outputs": []
  },
  {
   "cell_type": "code",
   "metadata": {
    "id": "hGY7Vdr7SKv4",
    "ExecuteTime": {
     "end_time": "2023-09-05T06:20:25.344253100Z",
     "start_time": "2023-09-05T06:20:25.314640500Z"
    }
   },
   "source": [
    "z = 1"
   ],
   "execution_count": 37,
   "outputs": []
  },
  {
   "cell_type": "code",
   "metadata": {
    "id": "YJwbtHseSKv6",
    "ExecuteTime": {
     "end_time": "2023-09-05T06:20:26.998136100Z",
     "start_time": "2023-09-05T06:20:26.913695100Z"
    }
   },
   "source": [
    "print(z)"
   ],
   "execution_count": 38,
   "outputs": [
    {
     "name": "stdout",
     "output_type": "stream",
     "text": [
      "1\n"
     ]
    }
   ]
  },
  {
   "cell_type": "code",
   "metadata": {
    "id": "ow9c7CzeSKv9",
    "ExecuteTime": {
     "end_time": "2023-09-05T06:20:30.408020600Z",
     "start_time": "2023-09-05T06:20:30.311517Z"
    }
   },
   "source": [
    "z == 2"
   ],
   "execution_count": 39,
   "outputs": [
    {
     "data": {
      "text/plain": "False"
     },
     "execution_count": 39,
     "metadata": {},
     "output_type": "execute_result"
    }
   ]
  },
  {
   "cell_type": "code",
   "metadata": {
    "id": "UB3Aags_SKv_",
    "ExecuteTime": {
     "end_time": "2023-09-05T06:20:40.219885700Z",
     "start_time": "2023-09-05T06:20:40.139039300Z"
    }
   },
   "source": [
    "z >= 1"
   ],
   "execution_count": 40,
   "outputs": [
    {
     "data": {
      "text/plain": "True"
     },
     "execution_count": 40,
     "metadata": {},
     "output_type": "execute_result"
    }
   ]
  },
  {
   "cell_type": "code",
   "metadata": {
    "id": "FfYBlVx6SKwC",
    "ExecuteTime": {
     "end_time": "2023-09-05T06:20:44.019022900Z",
     "start_time": "2023-09-05T06:20:43.981836400Z"
    }
   },
   "source": [
    "z == 1.0"
   ],
   "execution_count": 41,
   "outputs": [
    {
     "data": {
      "text/plain": "True"
     },
     "execution_count": 41,
     "metadata": {},
     "output_type": "execute_result"
    }
   ]
  },
  {
   "cell_type": "code",
   "metadata": {
    "id": "rOonkgUISKwF",
    "ExecuteTime": {
     "end_time": "2023-09-05T06:20:49.086647900Z",
     "start_time": "2023-09-05T06:20:48.955410500Z"
    }
   },
   "source": [
    "id(z) == id(1.0)"
   ],
   "execution_count": 42,
   "outputs": [
    {
     "data": {
      "text/plain": "False"
     },
     "execution_count": 42,
     "metadata": {},
     "output_type": "execute_result"
    }
   ]
  },
  {
   "cell_type": "markdown",
   "metadata": {
    "id": "ZsI8yjNtSKwH"
   },
   "source": [
    "## <font color='blue'>**Algunas funciones interesantes**</font>"
   ]
  },
  {
   "cell_type": "markdown",
   "metadata": {
    "id": "YOYMfCNZSKwH"
   },
   "source": [
    "Veamos qué es una función primero.\n",
    "\n",
    "**Función**: Una función es un bloque de código con un nombre asociado, que recibe cero o más argumentos como entrada, sigue una secuencia de sentencias, la cuales ejecuta una operación deseada y devuelve un valor y/o realiza una tarea. Este bloque puede ser llamados cuando se necesite.\n",
    "\n",
    "Python implementa muchas funciones en sus librerías básicas.\n",
    "\n",
    "A continuación algunas de ellas:"
   ]
  },
  {
   "cell_type": "markdown",
   "metadata": {
    "id": "XjksHFZzSKwI"
   },
   "source": [
    "__`round()`__<br>\n",
    "Esta función redondea el valor de entrada a un número específico de lugares o al número entero más cercano."
   ]
  },
  {
   "cell_type": "code",
   "metadata": {
    "id": "tSmh5C3dSKwI",
    "ExecuteTime": {
     "end_time": "2023-09-05T06:21:40.461835700Z",
     "start_time": "2023-09-05T06:21:40.358886200Z"
    }
   },
   "source": [
    "round(3.1415)"
   ],
   "execution_count": 43,
   "outputs": [
    {
     "data": {
      "text/plain": "3"
     },
     "execution_count": 43,
     "metadata": {},
     "output_type": "execute_result"
    }
   ]
  },
  {
   "cell_type": "markdown",
   "metadata": {
    "id": "9B7M6d2OSKwK"
   },
   "source": [
    "<div class=\"alert alert-block alert-warning\">\n",
    "<b>TIP:</b> en Python, como en muchos lenguajes de programación, la separación de unidades de mil y decimales es con notación inglesa; i.e., se utilizan comas para las unidades de mil y punto para los decimales.\n",
    "</div>"
   ]
  },
  {
   "cell_type": "code",
   "metadata": {
    "id": "w3cNeFqmSKwL",
    "ExecuteTime": {
     "end_time": "2023-09-05T06:22:28.402728800Z",
     "start_time": "2023-09-05T06:22:28.343724Z"
    }
   },
   "source": [
    "print(round(5.6231))\n",
    "print(round(4.55892, 3))"
   ],
   "execution_count": 44,
   "outputs": [
    {
     "name": "stdout",
     "output_type": "stream",
     "text": [
      "6\n",
      "4.559\n"
     ]
    }
   ]
  },
  {
   "cell_type": "code",
   "metadata": {
    "id": "NJLfDDLeSKwN",
    "ExecuteTime": {
     "end_time": "2023-09-05T06:22:35.885805500Z",
     "start_time": "2023-09-05T06:22:35.847793700Z"
    }
   },
   "source": [
    "print(round(1.1234567,5))\n",
    "print(round(1.5))"
   ],
   "execution_count": 45,
   "outputs": [
    {
     "name": "stdout",
     "output_type": "stream",
     "text": [
      "1.12346\n",
      "2\n"
     ]
    }
   ]
  },
  {
   "cell_type": "markdown",
   "metadata": {
    "id": "kCBdlYlmSKwP"
   },
   "source": [
    "**`type()`** <br>\n",
    "La función `type()` es probablemente las más usada en Python; ella nos entrega en tipo de objeto que estamos manejando."
   ]
  },
  {
   "cell_type": "code",
   "metadata": {
    "id": "-k-L3GrESKwP",
    "ExecuteTime": {
     "end_time": "2023-09-05T06:23:05.481518500Z",
     "start_time": "2023-09-05T06:23:05.460520Z"
    }
   },
   "source": [
    "b = 10"
   ],
   "execution_count": 46,
   "outputs": []
  },
  {
   "cell_type": "code",
   "metadata": {
    "id": "tR7gdpifSKwS",
    "ExecuteTime": {
     "end_time": "2023-09-05T06:23:10.974635900Z",
     "start_time": "2023-09-05T06:23:10.882777500Z"
    }
   },
   "source": [
    "type(b)"
   ],
   "execution_count": 47,
   "outputs": [
    {
     "data": {
      "text/plain": "int"
     },
     "execution_count": 47,
     "metadata": {},
     "output_type": "execute_result"
    }
   ]
  },
  {
   "cell_type": "code",
   "metadata": {
    "id": "FUJBExGvSKwU",
    "ExecuteTime": {
     "end_time": "2023-09-05T06:23:16.483490900Z",
     "start_time": "2023-09-05T06:23:16.356005800Z"
    }
   },
   "source": [
    "type(\"Hola mundo\")"
   ],
   "execution_count": 48,
   "outputs": [
    {
     "data": {
      "text/plain": "str"
     },
     "execution_count": 48,
     "metadata": {},
     "output_type": "execute_result"
    }
   ]
  },
  {
   "cell_type": "code",
   "metadata": {
    "id": "nODNpEVRSKwW",
    "ExecuteTime": {
     "end_time": "2023-09-05T06:23:55.391917500Z",
     "start_time": "2023-09-05T06:23:55.350056200Z"
    }
   },
   "source": [
    "c = 3\n",
    "d = b / c"
   ],
   "execution_count": 49,
   "outputs": []
  },
  {
   "cell_type": "code",
   "metadata": {
    "id": "XMcWkHcbSKwY",
    "ExecuteTime": {
     "end_time": "2023-09-05T06:24:39.296732500Z",
     "start_time": "2023-09-05T06:24:39.214806900Z"
    }
   },
   "source": [
    "type(d)"
   ],
   "execution_count": 50,
   "outputs": [
    {
     "data": {
      "text/plain": "float"
     },
     "execution_count": 50,
     "metadata": {},
     "output_type": "execute_result"
    }
   ]
  },
  {
   "cell_type": "markdown",
   "metadata": {
    "id": "v6RI0GKWSKwa"
   },
   "source": [
    "**`range()`**<br>\n",
    "Esta función crea una lista de elementos del tipo `range`. La veremos en detalle más adelante."
   ]
  },
  {
   "cell_type": "code",
   "metadata": {
    "id": "2XzLvyyRSKwa",
    "ExecuteTime": {
     "end_time": "2023-09-05T06:25:33.330163200Z",
     "start_time": "2023-09-05T06:25:33.277059900Z"
    }
   },
   "source": [
    "range(3)\n",
    "#range(2,9)\n",
    "#range(2,27,8)"
   ],
   "execution_count": 56,
   "outputs": [
    {
     "data": {
      "text/plain": "range(0, 3)"
     },
     "execution_count": 56,
     "metadata": {},
     "output_type": "execute_result"
    }
   ]
  },
  {
   "cell_type": "code",
   "metadata": {
    "id": "P8sQo10fSKwc",
    "ExecuteTime": {
     "end_time": "2023-09-05T06:27:05.047187600Z",
     "start_time": "2023-09-05T06:27:04.969685900Z"
    }
   },
   "source": [
    "type(range(3))"
   ],
   "execution_count": 58,
   "outputs": [
    {
     "data": {
      "text/plain": "range"
     },
     "execution_count": 58,
     "metadata": {},
     "output_type": "execute_result"
    }
   ]
  },
  {
   "cell_type": "code",
   "metadata": {
    "id": "gxdfofgdSKwe",
    "ExecuteTime": {
     "end_time": "2023-09-05T06:27:12.384610500Z",
     "start_time": "2023-09-05T06:27:12.358727300Z"
    }
   },
   "source": [
    "len(range(3))"
   ],
   "execution_count": 59,
   "outputs": [
    {
     "data": {
      "text/plain": "3"
     },
     "execution_count": 59,
     "metadata": {},
     "output_type": "execute_result"
    }
   ]
  },
  {
   "cell_type": "code",
   "metadata": {
    "id": "qUeUbkiaSKwi",
    "ExecuteTime": {
     "end_time": "2023-09-05T06:27:28.856074800Z",
     "start_time": "2023-09-05T06:27:28.796070300Z"
    }
   },
   "source": [
    "# Guardemos el resultado de range en una variable\n",
    "r = range(2,9)"
   ],
   "execution_count": 60,
   "outputs": []
  },
  {
   "cell_type": "code",
   "metadata": {
    "id": "d85QmjSsSKwk",
    "ExecuteTime": {
     "end_time": "2023-09-05T06:28:01.547901700Z",
     "start_time": "2023-09-05T06:28:01.441757400Z"
    }
   },
   "source": [
    "# Verifiquemos el tipo\n",
    "type(r)"
   ],
   "execution_count": 61,
   "outputs": [
    {
     "data": {
      "text/plain": "range"
     },
     "execution_count": 61,
     "metadata": {},
     "output_type": "execute_result"
    }
   ]
  },
  {
   "cell_type": "markdown",
   "metadata": {
    "id": "6X-qodSDSKwn"
   },
   "source": [
    "**`id()`**<br>\n",
    "En Python todo, absolutamente todo, es un objeto !!<br>\n",
    "Un **objeto** es una unidad dentro de un programa informático que tiene un estado, y un comportamiento. Es decir, tiene una serie de datos almacenados y tareas que realiza con esos datos en el tiempo de ejecución. La función `id()` nos entregará un identificador único del objeto (algo así como su *RUT*). Nos será miuy útil para saber cuando un elemento es único o no."
   ]
  },
  {
   "cell_type": "code",
   "metadata": {
    "id": "xco6KQMHSKwn",
    "ExecuteTime": {
     "end_time": "2023-09-05T06:29:06.434797300Z",
     "start_time": "2023-09-05T06:29:06.384764900Z"
    }
   },
   "source": [
    "id(r) == id(range(2, 9))"
   ],
   "execution_count": 64,
   "outputs": [
    {
     "data": {
      "text/plain": "False"
     },
     "execution_count": 64,
     "metadata": {},
     "output_type": "execute_result"
    }
   ]
  },
  {
   "cell_type": "code",
   "metadata": {
    "id": "RzcNGQXTSKwp",
    "ExecuteTime": {
     "end_time": "2023-09-05T06:29:11.012427400Z",
     "start_time": "2023-09-05T06:29:10.983478900Z"
    }
   },
   "source": [
    "id(range(2,9))"
   ],
   "execution_count": 65,
   "outputs": [
    {
     "data": {
      "text/plain": "2187575354880"
     },
     "execution_count": 65,
     "metadata": {},
     "output_type": "execute_result"
    }
   ]
  },
  {
   "cell_type": "code",
   "metadata": {
    "id": "pQZR3RweSKwr",
    "ExecuteTime": {
     "end_time": "2023-09-05T06:29:13.271828Z",
     "start_time": "2023-09-05T06:29:13.239826700Z"
    }
   },
   "source": [
    "id(range(2,9))"
   ],
   "execution_count": 66,
   "outputs": [
    {
     "data": {
      "text/plain": "2187604190912"
     },
     "execution_count": 66,
     "metadata": {},
     "output_type": "execute_result"
    }
   ]
  },
  {
   "cell_type": "markdown",
   "metadata": {
    "id": "z2sxrl4NSKwu"
   },
   "source": [
    "**`help()`**<br>\n",
    "La función `help()` nos entrega una descripción detallada del objeto pasado como argumento."
   ]
  },
  {
   "cell_type": "code",
   "metadata": {
    "id": "LED0BMKPSKwu",
    "ExecuteTime": {
     "end_time": "2023-09-05T06:29:37.042349300Z",
     "start_time": "2023-09-05T06:29:36.919686Z"
    }
   },
   "source": [
    "help(range)"
   ],
   "execution_count": 67,
   "outputs": [
    {
     "name": "stdout",
     "output_type": "stream",
     "text": [
      "Help on class range in module builtins:\n",
      "\n",
      "class range(object)\n",
      " |  range(stop) -> range object\n",
      " |  range(start, stop[, step]) -> range object\n",
      " |  \n",
      " |  Return an object that produces a sequence of integers from start (inclusive)\n",
      " |  to stop (exclusive) by step.  range(i, j) produces i, i+1, i+2, ..., j-1.\n",
      " |  start defaults to 0, and stop is omitted!  range(4) produces 0, 1, 2, 3.\n",
      " |  These are exactly the valid indices for a list of 4 elements.\n",
      " |  When step is given, it specifies the increment (or decrement).\n",
      " |  \n",
      " |  Methods defined here:\n",
      " |  \n",
      " |  __bool__(self, /)\n",
      " |      self != 0\n",
      " |  \n",
      " |  __contains__(self, key, /)\n",
      " |      Return key in self.\n",
      " |  \n",
      " |  __eq__(self, value, /)\n",
      " |      Return self==value.\n",
      " |  \n",
      " |  __ge__(self, value, /)\n",
      " |      Return self>=value.\n",
      " |  \n",
      " |  __getattribute__(self, name, /)\n",
      " |      Return getattr(self, name).\n",
      " |  \n",
      " |  __getitem__(self, key, /)\n",
      " |      Return self[key].\n",
      " |  \n",
      " |  __gt__(self, value, /)\n",
      " |      Return self>value.\n",
      " |  \n",
      " |  __hash__(self, /)\n",
      " |      Return hash(self).\n",
      " |  \n",
      " |  __iter__(self, /)\n",
      " |      Implement iter(self).\n",
      " |  \n",
      " |  __le__(self, value, /)\n",
      " |      Return self<=value.\n",
      " |  \n",
      " |  __len__(self, /)\n",
      " |      Return len(self).\n",
      " |  \n",
      " |  __lt__(self, value, /)\n",
      " |      Return self<value.\n",
      " |  \n",
      " |  __ne__(self, value, /)\n",
      " |      Return self!=value.\n",
      " |  \n",
      " |  __reduce__(...)\n",
      " |      Helper for pickle.\n",
      " |  \n",
      " |  __repr__(self, /)\n",
      " |      Return repr(self).\n",
      " |  \n",
      " |  __reversed__(...)\n",
      " |      Return a reverse iterator.\n",
      " |  \n",
      " |  count(...)\n",
      " |      rangeobject.count(value) -> integer -- return number of occurrences of value\n",
      " |  \n",
      " |  index(...)\n",
      " |      rangeobject.index(value) -> integer -- return index of value.\n",
      " |      Raise ValueError if the value is not present.\n",
      " |  \n",
      " |  ----------------------------------------------------------------------\n",
      " |  Static methods defined here:\n",
      " |  \n",
      " |  __new__(*args, **kwargs) from builtins.type\n",
      " |      Create and return a new object.  See help(type) for accurate signature.\n",
      " |  \n",
      " |  ----------------------------------------------------------------------\n",
      " |  Data descriptors defined here:\n",
      " |  \n",
      " |  start\n",
      " |  \n",
      " |  step\n",
      " |  \n",
      " |  stop\n",
      "\n"
     ]
    }
   ]
  },
  {
   "cell_type": "code",
   "metadata": {
    "id": "DaFx8ns6SKwx",
    "ExecuteTime": {
     "end_time": "2023-09-05T06:29:51.245698600Z",
     "start_time": "2023-09-05T06:29:51.051578700Z"
    }
   },
   "source": [
    "range?"
   ],
   "execution_count": 68,
   "outputs": []
  },
  {
   "cell_type": "markdown",
   "metadata": {
    "id": "lX8Pc55LSKwz"
   },
   "source": [
    "## <font color='blue'>**Guía de estilos para el código de Python**</font>"
   ]
  },
  {
   "cell_type": "markdown",
   "metadata": {
    "id": "62o2dWDYSKwz"
   },
   "source": [
    "Python posee un Programa de Mejoas llamado **PEP** (Python Enhancement program). Cada uso de los edictos que salen de este equipo llevan una codificación del estilo ***PEP-numero_correlativo***\n",
    "\n",
    "El **PEP-8** (muy famoso) nos habla de la [**Guía de estilo para el código Python**](http://recursospython.com/pep8es.pdf).\n",
    "\n",
    "### <font color='green'>Actividad 1:</font>\n",
    "### Escribe tres estilos de Python a elección\n",
    "La tarea consiste en leer el documento adjunto ([**Guía de estilo para el código Python**](http://recursospython.com/pep8es.pdf)) y escribir utilizando Markdown 3 de los estilos que más te llamen la atención."
   ]
  },
  {
   "cell_type": "markdown",
   "source": [
    "## Separa funciones de alto nivel y definiciones de clase con dos líneas en blanco.\n",
    "![N|Solid](https://i.imgur.com/lBrGMeb.png)\n",
    "\n",
    "- En el ejemplo vemos que existe doble espacio entre las 2 definiciones que se ven\n",
    "- Ademas debajo de la importacion de Bag existe doble espacio\n",
    "-"
   ],
   "metadata": {
    "id": "THo8JsqQv4K-"
   }
  },
  {
   "cell_type": "markdown",
   "source": [
    "## Importaciones\n",
    "- Las importaciones siempre se colocan al comienzo del archivo, simplemente luego de cualquier comentario o documentación del módulo, y antes de globales y constantes.\n",
    "- En el mismo ejemplo anterior observamos como la importación es lo primero escrito en el archivo order.py"
   ],
   "metadata": {
    "collapsed": false
   }
  },
  {
   "cell_type": "markdown",
   "source": [
    "## Comentarios\n",
    "- Los comentarios ayudan a entender mejor el codigo.\n",
    "- Al final del ejemplo vemos una serie de comentarios que me ayudan a recordar como funcionan esas lineas de codigo."
   ],
   "metadata": {
    "collapsed": false
   }
  },
  {
   "cell_type": "markdown",
   "metadata": {
    "id": "6GSqsb_WSKw1"
   },
   "source": [
    "<font color='green'>Fin actividad 1</font>"
   ]
  },
  {
   "cell_type": "code",
   "execution_count": null,
   "outputs": [],
   "source": [],
   "metadata": {
    "collapsed": false
   }
  }
 ]
}
