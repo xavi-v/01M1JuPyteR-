{
 "nbformat": 4,
 "nbformat_minor": 0,
 "metadata": {
  "kernelspec": {
   "display_name": "Python 3 (ipykernel)",
   "language": "python",
   "name": "python3"
  },
  "language_info": {
   "codemirror_mode": {
    "name": "ipython",
    "version": 3
   },
   "file_extension": ".py",
   "mimetype": "text/x-python",
   "name": "python",
   "nbconvert_exporter": "python",
   "pygments_lexer": "ipython3",
   "version": "3.8.11"
  },
  "colab": {
   "provenance": [],
   "toc_visible": true
  }
 },
 "cells": [
  {
   "cell_type": "markdown",
   "metadata": {
    "id": "F30S0ev2m9nL"
   },
   "source": [
    "# **Introducción a Python**\n",
    "# FP04. Python Strings"
   ]
  },
  {
   "cell_type": "markdown",
   "metadata": {
    "id": "PncZNuecm9nP"
   },
   "source": [
    "Bienvenidos aspirantes a Hackers. Es hora de que aprendan sobre uno de los tipos de datos fundamentales más básicos en Python, la cadena o *string*. ¿Qué es un `string`? Formalmente, **una cadena es una secuencia ordenada e inmutable de caracteres**. Aquí hat tres palabras claves, **ordenada**, **inmutable** y **caracteres**. Ordenado significa que podremos usar *indexing* y *slicing* para tomar elementos de la cadena. Inmutable significa que no se pueden modificar directamente después de ser creados. Y caracteres, insinúa el hecho de que las cadenas son más flexibles que simplemente usar el alfabeto, veremos que también pueden contener otros tipos de caracteres."
   ]
  },
  {
   "cell_type": "markdown",
   "metadata": {
    "id": "xgpImCiOm9nP"
   },
   "source": [
    "## <font color='blue'>**Creando strings**</font>"
   ]
  },
  {
   "cell_type": "code",
   "metadata": {
    "id": "Z0N09PxRm9nQ",
    "ExecuteTime": {
     "end_time": "2023-09-06T07:51:03.195756100Z",
     "start_time": "2023-09-06T07:51:03.062650Z"
    }
   },
   "source": [
    "# Comentarios.\n",
    "# Cada vez que necesitemos documentar algo en nuestro código, usaremos un signo # al comienzo de la línea.\n",
    "# Esta línea no se considerará al momento de ejecutar nuestro programa"
   ],
   "execution_count": 2,
   "outputs": []
  },
  {
   "cell_type": "code",
   "metadata": {
    "id": "28kwyMusm9nR",
    "ExecuteTime": {
     "end_time": "2023-09-06T07:51:07.364772200Z",
     "start_time": "2023-09-06T07:51:07.252800100Z"
    }
   },
   "source": [
    "# Para crear strings las comillas simples o dobles están bien\n",
    "'hello'"
   ],
   "execution_count": 3,
   "outputs": [
    {
     "data": {
      "text/plain": "'hello'"
     },
     "execution_count": 3,
     "metadata": {},
     "output_type": "execute_result"
    }
   ]
  },
  {
   "cell_type": "code",
   "metadata": {
    "id": "Kb3zRsjkm9nS",
    "ExecuteTime": {
     "end_time": "2023-09-06T07:51:10.143880900Z",
     "start_time": "2023-09-06T07:51:10.063152700Z"
    }
   },
   "source": [
    "\"hello\""
   ],
   "execution_count": 4,
   "outputs": [
    {
     "data": {
      "text/plain": "'hello'"
     },
     "execution_count": 4,
     "metadata": {},
     "output_type": "execute_result"
    }
   ]
  },
  {
   "cell_type": "code",
   "metadata": {
    "id": "YT7RJ7cxm9nT",
    "ExecuteTime": {
     "end_time": "2023-09-06T07:51:20.504650200Z",
     "start_time": "2023-09-06T07:51:20.381812500Z"
    }
   },
   "source": [
    "# Ten en mente potenciales errores con los apóstrofes\n",
    "'I'm not a spy!'"
   ],
   "execution_count": 5,
   "outputs": [
    {
     "ename": "SyntaxError",
     "evalue": "invalid syntax (2797844614.py, line 2)",
     "output_type": "error",
     "traceback": [
      "\u001B[1;36m  Cell \u001B[1;32mIn[5], line 2\u001B[1;36m\u001B[0m\n\u001B[1;33m    'I'm not a spy!'\u001B[0m\n\u001B[1;37m       ^\u001B[0m\n\u001B[1;31mSyntaxError\u001B[0m\u001B[1;31m:\u001B[0m invalid syntax\n"
     ]
    }
   ]
  },
  {
   "cell_type": "code",
   "metadata": {
    "id": "K6mLm6fQm9nT",
    "ExecuteTime": {
     "end_time": "2023-09-06T07:51:32.938868600Z",
     "start_time": "2023-09-06T07:51:32.874427200Z"
    }
   },
   "source": [
    "# Usa otro conjunto de comillas distintas para ello\n",
    "\" I'm not a spy! \""
   ],
   "execution_count": 6,
   "outputs": [
    {
     "data": {
      "text/plain": "\" I'm not a spy! \""
     },
     "execution_count": 6,
     "metadata": {},
     "output_type": "execute_result"
    }
   ]
  },
  {
   "cell_type": "markdown",
   "metadata": {
    "id": "K2kkOfCZm9nU"
   },
   "source": [
    "## <font color='blue'>**Impresión básica de _strings_**</font>\n",
    "En el cuaderno Jupyter, una sola cadena en una celda se devuelve automáticamente. Sin embargo, esto es diferente a imprimir una cadena. Imprimir una cadena nos permite tener múltiples salidas. Veamos algunos ejemplos útiles:"
   ]
  },
  {
   "cell_type": "code",
   "metadata": {
    "id": "azkcD0CQm9nV",
    "ExecuteTime": {
     "end_time": "2023-09-06T07:51:44.307730800Z",
     "start_time": "2023-09-06T07:51:44.282480900Z"
    }
   },
   "source": [
    "'one'\n",
    "'two'"
   ],
   "execution_count": 7,
   "outputs": [
    {
     "data": {
      "text/plain": "'two'"
     },
     "execution_count": 7,
     "metadata": {},
     "output_type": "execute_result"
    }
   ]
  },
  {
   "cell_type": "code",
   "metadata": {
    "id": "EIuB39-am9nV",
    "ExecuteTime": {
     "end_time": "2023-09-06T07:51:51.253669700Z",
     "start_time": "2023-09-06T07:51:51.217658900Z"
    }
   },
   "source": [
    "print('one')\n",
    "print('two')"
   ],
   "execution_count": 8,
   "outputs": [
    {
     "name": "stdout",
     "output_type": "stream",
     "text": [
      "one\n",
      "two\n"
     ]
    }
   ]
  },
  {
   "cell_type": "code",
   "metadata": {
    "id": "SR2URz-lm9nW",
    "ExecuteTime": {
     "end_time": "2023-09-06T07:51:56.827757500Z",
     "start_time": "2023-09-06T07:51:56.749969600Z"
    }
   },
   "source": [
    "print(\"1. Special Codes\")\n",
    "print('2. Esto es una nueva línea \\n nota como se imprime')\n",
    "print('3. Esto es un tabulador (tab) \\t nota como se imprime')\n",
    "print(\"4. Observa cómo ambos siguen el caracter de escape general de la barra invertida. \")"
   ],
   "execution_count": 9,
   "outputs": [
    {
     "name": "stdout",
     "output_type": "stream",
     "text": [
      "1. Special Codes\n",
      "2. Esto es una nueva línea \n",
      " nota como se imprime\n",
      "3. Esto es un tabulador (tab) \t nota como se imprime\n",
      "4. Observa cómo ambos siguen el caracter de escape general de la barra invertida. \n"
     ]
    }
   ]
  },
  {
   "cell_type": "markdown",
   "metadata": {
    "id": "Utq-aFnhm9nX"
   },
   "source": [
    "## <font color='blue'>**_Indexing_ y _Slicing_ sobre strings**</font>\n",
    "\n",
    "NOTA: Intensionalmente no traduciremos conceptos en inglés para habituarnos en su uso y hacer más facil la comprensión de otros documentos a los que accedamos.\n",
    "\n",
    "Recuerde que las cadenas son *secuencias ordenadas* de caracteres. Esto significa que podemos seleccionar caracteres individuales (__indexing__) o tomar subsecciones de la cadena (__slicing__)."
   ]
  },
  {
   "cell_type": "markdown",
   "metadata": {
    "id": "X6CqiYFKm9nX"
   },
   "source": [
    "### Indexing\n",
    "\n",
    "Indexing comienza a contar desde 0, de esta forma el string **hello**:\n",
    "\n",
    "    character:    h    e    l   l   o\n",
    "    index:        0    1    2   3   4\n",
    "    \n",
    "Puedes usar corchetes cuadrados para seleccionar un caracter"
   ]
  },
  {
   "cell_type": "code",
   "metadata": {
    "id": "tDJP5GRPm9nY",
    "ExecuteTime": {
     "end_time": "2023-09-06T07:53:07.784725600Z",
     "start_time": "2023-09-06T07:53:07.722992400Z"
    }
   },
   "source": [
    "word = \"hello\""
   ],
   "execution_count": 10,
   "outputs": []
  },
  {
   "cell_type": "code",
   "metadata": {
    "id": "vTYJdx6xm9nY",
    "ExecuteTime": {
     "end_time": "2023-09-06T07:53:10.990157200Z",
     "start_time": "2023-09-06T07:53:10.952428200Z"
    }
   },
   "source": [
    "word[0]"
   ],
   "execution_count": 11,
   "outputs": [
    {
     "data": {
      "text/plain": "'h'"
     },
     "execution_count": 11,
     "metadata": {},
     "output_type": "execute_result"
    }
   ]
  },
  {
   "cell_type": "code",
   "metadata": {
    "id": "BOIhU0obm9nY",
    "ExecuteTime": {
     "end_time": "2023-09-06T07:53:14.521164300Z",
     "start_time": "2023-09-06T07:53:14.405400300Z"
    }
   },
   "source": [
    "word[3]"
   ],
   "execution_count": 12,
   "outputs": [
    {
     "data": {
      "text/plain": "'l'"
     },
     "execution_count": 12,
     "metadata": {},
     "output_type": "execute_result"
    }
   ]
  },
  {
   "cell_type": "markdown",
   "metadata": {
    "id": "0yt3Xj-mm9nZ"
   },
   "source": [
    "Python soporta indexación reversa (reverse indexing):\n",
    "\n",
    "    character:        h     e     l    l    o\n",
    "    index:            0     1     2    3    4\n",
    "    reverse index:    0    -4    -3   -2   -1  \n",
    "    \n",
    "Reverse indexing es usado comúnmente para selecccionar caractares desde el final de una secuencia:"
   ]
  },
  {
   "cell_type": "code",
   "metadata": {
    "id": "uTTZ1F3om9nZ",
    "ExecuteTime": {
     "end_time": "2023-09-06T07:53:38.157810500Z",
     "start_time": "2023-09-06T07:53:38.067144300Z"
    }
   },
   "source": [
    "word[-1]"
   ],
   "execution_count": 13,
   "outputs": [
    {
     "data": {
      "text/plain": "'o'"
     },
     "execution_count": 13,
     "metadata": {},
     "output_type": "execute_result"
    }
   ]
  },
  {
   "cell_type": "markdown",
   "metadata": {
    "id": "mgGdDrgvm9nZ"
   },
   "source": [
    "### Slicing\n",
    "\n",
    "Podemos tomar subsecciones completas de una cadena con notación *slice*.\n",
    "\n",
    "Esta es la notación:\n",
    "\n",
    "     [inicio: parada: paso]\n",
    "\n",
    "Aspectos clave a tener en cuenta:\n",
    "\n",
    "1. La dirección del índice de inicio corresponde a donde comenzará su segmento.\n",
    "2. El índice de parada corresponde a donde subirá el corte. **¡No incluye este carácter de índice!**\n",
    "3. El tamaño del paso es la cantidad de caracteres que omite a medida que avanza y toma el siguiente.\n",
    "\n",
    "Veamos algunos ejemplos"
   ]
  },
  {
   "cell_type": "code",
   "metadata": {
    "id": "kwqb1P4zm9nZ",
    "ExecuteTime": {
     "end_time": "2023-09-06T08:18:12.460466400Z",
     "start_time": "2023-09-06T08:18:12.399327200Z"
    }
   },
   "source": [
    "alpha = 'abcdef'"
   ],
   "execution_count": 14,
   "outputs": []
  },
  {
   "cell_type": "code",
   "metadata": {
    "id": "ufl99srsm9na",
    "ExecuteTime": {
     "end_time": "2023-09-06T08:18:28.798685500Z",
     "start_time": "2023-09-06T08:18:28.700873200Z"
    }
   },
   "source": [
    "# Observa como la \"d\" no es incluida!\n",
    "alpha[0:3]"
   ],
   "execution_count": 15,
   "outputs": [
    {
     "data": {
      "text/plain": "'abc'"
     },
     "execution_count": 15,
     "metadata": {},
     "output_type": "execute_result"
    }
   ]
  },
  {
   "cell_type": "code",
   "metadata": {
    "id": "CrnQwcN3m9na",
    "ExecuteTime": {
     "end_time": "2023-09-06T08:18:32.397791500Z",
     "start_time": "2023-09-06T08:18:32.319049500Z"
    }
   },
   "source": [
    "alpha[0:4]"
   ],
   "execution_count": 16,
   "outputs": [
    {
     "data": {
      "text/plain": "'abcd'"
     },
     "execution_count": 16,
     "metadata": {},
     "output_type": "execute_result"
    }
   ]
  },
  {
   "cell_type": "code",
   "metadata": {
    "id": "DxtBsljbm9na",
    "ExecuteTime": {
     "end_time": "2023-09-06T08:18:37.349813200Z",
     "start_time": "2023-09-06T08:18:37.266954300Z"
    }
   },
   "source": [
    "# Desde la pocisión 2 hasta la 4; esta última no incluída\n",
    "alpha[2:4]"
   ],
   "execution_count": 17,
   "outputs": [
    {
     "data": {
      "text/plain": "'cd'"
     },
     "execution_count": 17,
     "metadata": {},
     "output_type": "execute_result"
    }
   ]
  },
  {
   "cell_type": "code",
   "metadata": {
    "id": "pdzBRvtWm9nb",
    "ExecuteTime": {
     "end_time": "2023-09-06T08:18:40.995640Z",
     "start_time": "2023-09-06T08:18:40.897529400Z"
    }
   },
   "source": [
    "# Desde la pocisión 2 hasta el final del string\n",
    "alpha[2:]"
   ],
   "execution_count": 18,
   "outputs": [
    {
     "data": {
      "text/plain": "'cdef'"
     },
     "execution_count": 18,
     "metadata": {},
     "output_type": "execute_result"
    }
   ]
  },
  {
   "cell_type": "code",
   "metadata": {
    "id": "JwiWV-jPm9nb",
    "ExecuteTime": {
     "end_time": "2023-09-06T08:18:47.374796100Z",
     "start_time": "2023-09-06T08:18:47.347794700Z"
    }
   },
   "source": [
    "# Desde el inicio del string hasta la posición 2; esta última no incluída\n",
    "alpha[:2]"
   ],
   "execution_count": 19,
   "outputs": [
    {
     "data": {
      "text/plain": "'ab'"
     },
     "execution_count": 19,
     "metadata": {},
     "output_type": "execute_result"
    }
   ]
  },
  {
   "cell_type": "code",
   "metadata": {
    "id": "y0TEkfycm9nb",
    "ExecuteTime": {
     "end_time": "2023-09-06T08:18:49.980353600Z",
     "start_time": "2023-09-06T08:18:49.955137800Z"
    }
   },
   "source": [
    "# Desde la posición 0 hasta la 6, con paso 2\n",
    "alpha[0:6:2]"
   ],
   "execution_count": 20,
   "outputs": [
    {
     "data": {
      "text/plain": "'ace'"
     },
     "execution_count": 20,
     "metadata": {},
     "output_type": "execute_result"
    }
   ]
  },
  {
   "cell_type": "code",
   "metadata": {
    "id": "_0z8nJYam9nb",
    "ExecuteTime": {
     "end_time": "2023-09-06T08:18:51.453715100Z",
     "start_time": "2023-09-06T08:18:51.361741600Z"
    }
   },
   "source": [
    "alpha[-1::-1]"
   ],
   "execution_count": 21,
   "outputs": [
    {
     "data": {
      "text/plain": "'fedcba'"
     },
     "execution_count": 21,
     "metadata": {},
     "output_type": "execute_result"
    }
   ]
  },
  {
   "cell_type": "markdown",
   "metadata": {
    "id": "pQr8ostEm9nc"
   },
   "source": [
    "## <font color='blue'>**Métodos básicos de cadena (string)**</font>\n",
    "\n",
    "Los métodos son acciones que puede llamar a un objeto generalmente en la forma **.method_name()** <br>\n",
    "Observe el punto al inicio y el paréntesis cerrado al final. Las cadenas tienen muchos, muchos métodos.\n",
    "\n",
    "En Colab, usa la siguiente instrucción para ver los métodos asociados a un string:\n",
    "\n",
    "```python\n",
    "help(str)\n",
    "```\n",
    "\n",
    "¡repasemos algunos de los más útiles!"
   ]
  },
  {
   "cell_type": "code",
   "metadata": {
    "id": "Bvl8_X0Qm9nd",
    "ExecuteTime": {
     "end_time": "2023-09-06T08:20:34.827996300Z",
     "start_time": "2023-09-06T08:20:34.703660Z"
    }
   },
   "source": [
    "# Si quieres ayuda sobre strings esto no te va a funcionar\n",
    "help(\"hola\")"
   ],
   "execution_count": 22,
   "outputs": [
    {
     "name": "stdout",
     "output_type": "stream",
     "text": [
      "No Python documentation found for 'hola'.\n",
      "Use help() to get the interactive help utility.\n",
      "Use help(str) for help on the str class.\n",
      "\n"
     ]
    }
   ]
  },
  {
   "cell_type": "code",
   "metadata": {
    "scrolled": true,
    "tags": [],
    "id": "ZCZAYglFm9nd",
    "ExecuteTime": {
     "end_time": "2023-09-06T08:20:41.037923700Z",
     "start_time": "2023-09-06T08:20:40.984941700Z"
    }
   },
   "source": [
    "# ... esto sí ...\n",
    "help(str)"
   ],
   "execution_count": 23,
   "outputs": [
    {
     "name": "stdout",
     "output_type": "stream",
     "text": [
      "Help on class str in module builtins:\n",
      "\n",
      "class str(object)\n",
      " |  str(object='') -> str\n",
      " |  str(bytes_or_buffer[, encoding[, errors]]) -> str\n",
      " |  \n",
      " |  Create a new string object from the given object. If encoding or\n",
      " |  errors is specified, then the object must expose a data buffer\n",
      " |  that will be decoded using the given encoding and error handler.\n",
      " |  Otherwise, returns the result of object.__str__() (if defined)\n",
      " |  or repr(object).\n",
      " |  encoding defaults to sys.getdefaultencoding().\n",
      " |  errors defaults to 'strict'.\n",
      " |  \n",
      " |  Methods defined here:\n",
      " |  \n",
      " |  __add__(self, value, /)\n",
      " |      Return self+value.\n",
      " |  \n",
      " |  __contains__(self, key, /)\n",
      " |      Return key in self.\n",
      " |  \n",
      " |  __eq__(self, value, /)\n",
      " |      Return self==value.\n",
      " |  \n",
      " |  __format__(self, format_spec, /)\n",
      " |      Return a formatted version of the string as described by format_spec.\n",
      " |  \n",
      " |  __ge__(self, value, /)\n",
      " |      Return self>=value.\n",
      " |  \n",
      " |  __getattribute__(self, name, /)\n",
      " |      Return getattr(self, name).\n",
      " |  \n",
      " |  __getitem__(self, key, /)\n",
      " |      Return self[key].\n",
      " |  \n",
      " |  __getnewargs__(...)\n",
      " |  \n",
      " |  __gt__(self, value, /)\n",
      " |      Return self>value.\n",
      " |  \n",
      " |  __hash__(self, /)\n",
      " |      Return hash(self).\n",
      " |  \n",
      " |  __iter__(self, /)\n",
      " |      Implement iter(self).\n",
      " |  \n",
      " |  __le__(self, value, /)\n",
      " |      Return self<=value.\n",
      " |  \n",
      " |  __len__(self, /)\n",
      " |      Return len(self).\n",
      " |  \n",
      " |  __lt__(self, value, /)\n",
      " |      Return self<value.\n",
      " |  \n",
      " |  __mod__(self, value, /)\n",
      " |      Return self%value.\n",
      " |  \n",
      " |  __mul__(self, value, /)\n",
      " |      Return self*value.\n",
      " |  \n",
      " |  __ne__(self, value, /)\n",
      " |      Return self!=value.\n",
      " |  \n",
      " |  __repr__(self, /)\n",
      " |      Return repr(self).\n",
      " |  \n",
      " |  __rmod__(self, value, /)\n",
      " |      Return value%self.\n",
      " |  \n",
      " |  __rmul__(self, value, /)\n",
      " |      Return value*self.\n",
      " |  \n",
      " |  __sizeof__(self, /)\n",
      " |      Return the size of the string in memory, in bytes.\n",
      " |  \n",
      " |  __str__(self, /)\n",
      " |      Return str(self).\n",
      " |  \n",
      " |  capitalize(self, /)\n",
      " |      Return a capitalized version of the string.\n",
      " |      \n",
      " |      More specifically, make the first character have upper case and the rest lower\n",
      " |      case.\n",
      " |  \n",
      " |  casefold(self, /)\n",
      " |      Return a version of the string suitable for caseless comparisons.\n",
      " |  \n",
      " |  center(self, width, fillchar=' ', /)\n",
      " |      Return a centered string of length width.\n",
      " |      \n",
      " |      Padding is done using the specified fill character (default is a space).\n",
      " |  \n",
      " |  count(...)\n",
      " |      S.count(sub[, start[, end]]) -> int\n",
      " |      \n",
      " |      Return the number of non-overlapping occurrences of substring sub in\n",
      " |      string S[start:end].  Optional arguments start and end are\n",
      " |      interpreted as in slice notation.\n",
      " |  \n",
      " |  encode(self, /, encoding='utf-8', errors='strict')\n",
      " |      Encode the string using the codec registered for encoding.\n",
      " |      \n",
      " |      encoding\n",
      " |        The encoding in which to encode the string.\n",
      " |      errors\n",
      " |        The error handling scheme to use for encoding errors.\n",
      " |        The default is 'strict' meaning that encoding errors raise a\n",
      " |        UnicodeEncodeError.  Other possible values are 'ignore', 'replace' and\n",
      " |        'xmlcharrefreplace' as well as any other name registered with\n",
      " |        codecs.register_error that can handle UnicodeEncodeErrors.\n",
      " |  \n",
      " |  endswith(...)\n",
      " |      S.endswith(suffix[, start[, end]]) -> bool\n",
      " |      \n",
      " |      Return True if S ends with the specified suffix, False otherwise.\n",
      " |      With optional start, test S beginning at that position.\n",
      " |      With optional end, stop comparing S at that position.\n",
      " |      suffix can also be a tuple of strings to try.\n",
      " |  \n",
      " |  expandtabs(self, /, tabsize=8)\n",
      " |      Return a copy where all tab characters are expanded using spaces.\n",
      " |      \n",
      " |      If tabsize is not given, a tab size of 8 characters is assumed.\n",
      " |  \n",
      " |  find(...)\n",
      " |      S.find(sub[, start[, end]]) -> int\n",
      " |      \n",
      " |      Return the lowest index in S where substring sub is found,\n",
      " |      such that sub is contained within S[start:end].  Optional\n",
      " |      arguments start and end are interpreted as in slice notation.\n",
      " |      \n",
      " |      Return -1 on failure.\n",
      " |  \n",
      " |  format(...)\n",
      " |      S.format(*args, **kwargs) -> str\n",
      " |      \n",
      " |      Return a formatted version of S, using substitutions from args and kwargs.\n",
      " |      The substitutions are identified by braces ('{' and '}').\n",
      " |  \n",
      " |  format_map(...)\n",
      " |      S.format_map(mapping) -> str\n",
      " |      \n",
      " |      Return a formatted version of S, using substitutions from mapping.\n",
      " |      The substitutions are identified by braces ('{' and '}').\n",
      " |  \n",
      " |  index(...)\n",
      " |      S.index(sub[, start[, end]]) -> int\n",
      " |      \n",
      " |      Return the lowest index in S where substring sub is found,\n",
      " |      such that sub is contained within S[start:end].  Optional\n",
      " |      arguments start and end are interpreted as in slice notation.\n",
      " |      \n",
      " |      Raises ValueError when the substring is not found.\n",
      " |  \n",
      " |  isalnum(self, /)\n",
      " |      Return True if the string is an alpha-numeric string, False otherwise.\n",
      " |      \n",
      " |      A string is alpha-numeric if all characters in the string are alpha-numeric and\n",
      " |      there is at least one character in the string.\n",
      " |  \n",
      " |  isalpha(self, /)\n",
      " |      Return True if the string is an alphabetic string, False otherwise.\n",
      " |      \n",
      " |      A string is alphabetic if all characters in the string are alphabetic and there\n",
      " |      is at least one character in the string.\n",
      " |  \n",
      " |  isascii(self, /)\n",
      " |      Return True if all characters in the string are ASCII, False otherwise.\n",
      " |      \n",
      " |      ASCII characters have code points in the range U+0000-U+007F.\n",
      " |      Empty string is ASCII too.\n",
      " |  \n",
      " |  isdecimal(self, /)\n",
      " |      Return True if the string is a decimal string, False otherwise.\n",
      " |      \n",
      " |      A string is a decimal string if all characters in the string are decimal and\n",
      " |      there is at least one character in the string.\n",
      " |  \n",
      " |  isdigit(self, /)\n",
      " |      Return True if the string is a digit string, False otherwise.\n",
      " |      \n",
      " |      A string is a digit string if all characters in the string are digits and there\n",
      " |      is at least one character in the string.\n",
      " |  \n",
      " |  isidentifier(self, /)\n",
      " |      Return True if the string is a valid Python identifier, False otherwise.\n",
      " |      \n",
      " |      Call keyword.iskeyword(s) to test whether string s is a reserved identifier,\n",
      " |      such as \"def\" or \"class\".\n",
      " |  \n",
      " |  islower(self, /)\n",
      " |      Return True if the string is a lowercase string, False otherwise.\n",
      " |      \n",
      " |      A string is lowercase if all cased characters in the string are lowercase and\n",
      " |      there is at least one cased character in the string.\n",
      " |  \n",
      " |  isnumeric(self, /)\n",
      " |      Return True if the string is a numeric string, False otherwise.\n",
      " |      \n",
      " |      A string is numeric if all characters in the string are numeric and there is at\n",
      " |      least one character in the string.\n",
      " |  \n",
      " |  isprintable(self, /)\n",
      " |      Return True if the string is printable, False otherwise.\n",
      " |      \n",
      " |      A string is printable if all of its characters are considered printable in\n",
      " |      repr() or if it is empty.\n",
      " |  \n",
      " |  isspace(self, /)\n",
      " |      Return True if the string is a whitespace string, False otherwise.\n",
      " |      \n",
      " |      A string is whitespace if all characters in the string are whitespace and there\n",
      " |      is at least one character in the string.\n",
      " |  \n",
      " |  istitle(self, /)\n",
      " |      Return True if the string is a title-cased string, False otherwise.\n",
      " |      \n",
      " |      In a title-cased string, upper- and title-case characters may only\n",
      " |      follow uncased characters and lowercase characters only cased ones.\n",
      " |  \n",
      " |  isupper(self, /)\n",
      " |      Return True if the string is an uppercase string, False otherwise.\n",
      " |      \n",
      " |      A string is uppercase if all cased characters in the string are uppercase and\n",
      " |      there is at least one cased character in the string.\n",
      " |  \n",
      " |  join(self, iterable, /)\n",
      " |      Concatenate any number of strings.\n",
      " |      \n",
      " |      The string whose method is called is inserted in between each given string.\n",
      " |      The result is returned as a new string.\n",
      " |      \n",
      " |      Example: '.'.join(['ab', 'pq', 'rs']) -> 'ab.pq.rs'\n",
      " |  \n",
      " |  ljust(self, width, fillchar=' ', /)\n",
      " |      Return a left-justified string of length width.\n",
      " |      \n",
      " |      Padding is done using the specified fill character (default is a space).\n",
      " |  \n",
      " |  lower(self, /)\n",
      " |      Return a copy of the string converted to lowercase.\n",
      " |  \n",
      " |  lstrip(self, chars=None, /)\n",
      " |      Return a copy of the string with leading whitespace removed.\n",
      " |      \n",
      " |      If chars is given and not None, remove characters in chars instead.\n",
      " |  \n",
      " |  partition(self, sep, /)\n",
      " |      Partition the string into three parts using the given separator.\n",
      " |      \n",
      " |      This will search for the separator in the string.  If the separator is found,\n",
      " |      returns a 3-tuple containing the part before the separator, the separator\n",
      " |      itself, and the part after it.\n",
      " |      \n",
      " |      If the separator is not found, returns a 3-tuple containing the original string\n",
      " |      and two empty strings.\n",
      " |  \n",
      " |  removeprefix(self, prefix, /)\n",
      " |      Return a str with the given prefix string removed if present.\n",
      " |      \n",
      " |      If the string starts with the prefix string, return string[len(prefix):].\n",
      " |      Otherwise, return a copy of the original string.\n",
      " |  \n",
      " |  removesuffix(self, suffix, /)\n",
      " |      Return a str with the given suffix string removed if present.\n",
      " |      \n",
      " |      If the string ends with the suffix string and that suffix is not empty,\n",
      " |      return string[:-len(suffix)]. Otherwise, return a copy of the original\n",
      " |      string.\n",
      " |  \n",
      " |  replace(self, old, new, count=-1, /)\n",
      " |      Return a copy with all occurrences of substring old replaced by new.\n",
      " |      \n",
      " |        count\n",
      " |          Maximum number of occurrences to replace.\n",
      " |          -1 (the default value) means replace all occurrences.\n",
      " |      \n",
      " |      If the optional argument count is given, only the first count occurrences are\n",
      " |      replaced.\n",
      " |  \n",
      " |  rfind(...)\n",
      " |      S.rfind(sub[, start[, end]]) -> int\n",
      " |      \n",
      " |      Return the highest index in S where substring sub is found,\n",
      " |      such that sub is contained within S[start:end].  Optional\n",
      " |      arguments start and end are interpreted as in slice notation.\n",
      " |      \n",
      " |      Return -1 on failure.\n",
      " |  \n",
      " |  rindex(...)\n",
      " |      S.rindex(sub[, start[, end]]) -> int\n",
      " |      \n",
      " |      Return the highest index in S where substring sub is found,\n",
      " |      such that sub is contained within S[start:end].  Optional\n",
      " |      arguments start and end are interpreted as in slice notation.\n",
      " |      \n",
      " |      Raises ValueError when the substring is not found.\n",
      " |  \n",
      " |  rjust(self, width, fillchar=' ', /)\n",
      " |      Return a right-justified string of length width.\n",
      " |      \n",
      " |      Padding is done using the specified fill character (default is a space).\n",
      " |  \n",
      " |  rpartition(self, sep, /)\n",
      " |      Partition the string into three parts using the given separator.\n",
      " |      \n",
      " |      This will search for the separator in the string, starting at the end. If\n",
      " |      the separator is found, returns a 3-tuple containing the part before the\n",
      " |      separator, the separator itself, and the part after it.\n",
      " |      \n",
      " |      If the separator is not found, returns a 3-tuple containing two empty strings\n",
      " |      and the original string.\n",
      " |  \n",
      " |  rsplit(self, /, sep=None, maxsplit=-1)\n",
      " |      Return a list of the words in the string, using sep as the delimiter string.\n",
      " |      \n",
      " |        sep\n",
      " |          The delimiter according which to split the string.\n",
      " |          None (the default value) means split according to any whitespace,\n",
      " |          and discard empty strings from the result.\n",
      " |        maxsplit\n",
      " |          Maximum number of splits to do.\n",
      " |          -1 (the default value) means no limit.\n",
      " |      \n",
      " |      Splits are done starting at the end of the string and working to the front.\n",
      " |  \n",
      " |  rstrip(self, chars=None, /)\n",
      " |      Return a copy of the string with trailing whitespace removed.\n",
      " |      \n",
      " |      If chars is given and not None, remove characters in chars instead.\n",
      " |  \n",
      " |  split(self, /, sep=None, maxsplit=-1)\n",
      " |      Return a list of the words in the string, using sep as the delimiter string.\n",
      " |      \n",
      " |      sep\n",
      " |        The delimiter according which to split the string.\n",
      " |        None (the default value) means split according to any whitespace,\n",
      " |        and discard empty strings from the result.\n",
      " |      maxsplit\n",
      " |        Maximum number of splits to do.\n",
      " |        -1 (the default value) means no limit.\n",
      " |  \n",
      " |  splitlines(self, /, keepends=False)\n",
      " |      Return a list of the lines in the string, breaking at line boundaries.\n",
      " |      \n",
      " |      Line breaks are not included in the resulting list unless keepends is given and\n",
      " |      true.\n",
      " |  \n",
      " |  startswith(...)\n",
      " |      S.startswith(prefix[, start[, end]]) -> bool\n",
      " |      \n",
      " |      Return True if S starts with the specified prefix, False otherwise.\n",
      " |      With optional start, test S beginning at that position.\n",
      " |      With optional end, stop comparing S at that position.\n",
      " |      prefix can also be a tuple of strings to try.\n",
      " |  \n",
      " |  strip(self, chars=None, /)\n",
      " |      Return a copy of the string with leading and trailing whitespace removed.\n",
      " |      \n",
      " |      If chars is given and not None, remove characters in chars instead.\n",
      " |  \n",
      " |  swapcase(self, /)\n",
      " |      Convert uppercase characters to lowercase and lowercase characters to uppercase.\n",
      " |  \n",
      " |  title(self, /)\n",
      " |      Return a version of the string where each word is titlecased.\n",
      " |      \n",
      " |      More specifically, words start with uppercased characters and all remaining\n",
      " |      cased characters have lower case.\n",
      " |  \n",
      " |  translate(self, table, /)\n",
      " |      Replace each character in the string using the given translation table.\n",
      " |      \n",
      " |        table\n",
      " |          Translation table, which must be a mapping of Unicode ordinals to\n",
      " |          Unicode ordinals, strings, or None.\n",
      " |      \n",
      " |      The table must implement lookup/indexing via __getitem__, for instance a\n",
      " |      dictionary or list.  If this operation raises LookupError, the character is\n",
      " |      left untouched.  Characters mapped to None are deleted.\n",
      " |  \n",
      " |  upper(self, /)\n",
      " |      Return a copy of the string converted to uppercase.\n",
      " |  \n",
      " |  zfill(self, width, /)\n",
      " |      Pad a numeric string with zeros on the left, to fill a field of the given width.\n",
      " |      \n",
      " |      The string is never truncated.\n",
      " |  \n",
      " |  ----------------------------------------------------------------------\n",
      " |  Static methods defined here:\n",
      " |  \n",
      " |  __new__(*args, **kwargs) from builtins.type\n",
      " |      Create and return a new object.  See help(type) for accurate signature.\n",
      " |  \n",
      " |  maketrans(...)\n",
      " |      Return a translation table usable for str.translate().\n",
      " |      \n",
      " |      If there is only one argument, it must be a dictionary mapping Unicode\n",
      " |      ordinals (integers) or characters to Unicode ordinals, strings or None.\n",
      " |      Character keys will be then converted to ordinals.\n",
      " |      If there are two arguments, they must be strings of equal length, and\n",
      " |      in the resulting dictionary, each character in x will be mapped to the\n",
      " |      character at the same position in y. If there is a third argument, it\n",
      " |      must be a string, whose characters will be mapped to None in the result.\n",
      "\n"
     ]
    }
   ]
  },
  {
   "cell_type": "code",
   "metadata": {
    "id": "5OJrD4DKm9nd",
    "ExecuteTime": {
     "end_time": "2023-09-06T08:20:44.881973700Z",
     "start_time": "2023-09-06T08:20:44.855042900Z"
    }
   },
   "source": [
    "basic = \"Hello world I am learning Python\""
   ],
   "execution_count": 24,
   "outputs": []
  },
  {
   "cell_type": "code",
   "metadata": {
    "id": "eeCAzRuIm9nd",
    "ExecuteTime": {
     "end_time": "2023-09-06T08:20:48.202446300Z",
     "start_time": "2023-09-06T08:20:48.116936300Z"
    }
   },
   "source": [
    "basic.upper()"
   ],
   "execution_count": 25,
   "outputs": [
    {
     "data": {
      "text/plain": "'HELLO WORLD I AM LEARNING PYTHON'"
     },
     "execution_count": 25,
     "metadata": {},
     "output_type": "execute_result"
    }
   ]
  },
  {
   "cell_type": "code",
   "metadata": {
    "id": "Nw6PST3Dm9nd",
    "ExecuteTime": {
     "end_time": "2023-09-06T08:20:52.661076Z",
     "start_time": "2023-09-06T08:20:52.583919300Z"
    }
   },
   "source": [
    "basic.lower()"
   ],
   "execution_count": 26,
   "outputs": [
    {
     "data": {
      "text/plain": "'hello world i am learning python'"
     },
     "execution_count": 26,
     "metadata": {},
     "output_type": "execute_result"
    }
   ]
  },
  {
   "cell_type": "code",
   "metadata": {
    "id": "xUCFK1cMm9ne",
    "ExecuteTime": {
     "end_time": "2023-09-06T08:20:54.877117100Z",
     "start_time": "2023-09-06T08:20:54.835799600Z"
    }
   },
   "source": [
    "# Veremos esto más adelanate, por ahora investiga de qué podría tratarse\n",
    "basic.split()"
   ],
   "execution_count": 27,
   "outputs": [
    {
     "data": {
      "text/plain": "['Hello', 'world', 'I', 'am', 'learning', 'Python']"
     },
     "execution_count": 27,
     "metadata": {},
     "output_type": "execute_result"
    }
   ]
  },
  {
   "cell_type": "markdown",
   "metadata": {
    "id": "gA-nsKRim9ne"
   },
   "source": [
    "La estructura generada se llama **lista**. Es una de las estructuras más utilizadas en Python.\n",
    "Las listas también pueden ser indexadas. Las veremos en el siguiente notebook."
   ]
  },
  {
   "cell_type": "code",
   "metadata": {
    "id": "vt1J6gFLm9ne",
    "ExecuteTime": {
     "end_time": "2023-09-06T08:21:12.606459400Z",
     "start_time": "2023-09-06T08:21:12.542529200Z"
    }
   },
   "source": [
    "# Las reglas de indexing también aplican en esta nueva estructura\n",
    "print(basic.split()[0])\n",
    "print(basic.split()[1])\n",
    "print(basic.split()[-1])"
   ],
   "execution_count": 28,
   "outputs": [
    {
     "name": "stdout",
     "output_type": "stream",
     "text": [
      "Hello\n",
      "world\n",
      "Python\n"
     ]
    }
   ]
  },
  {
   "cell_type": "code",
   "metadata": {
    "id": "VbGjlQ1Nm9ne",
    "ExecuteTime": {
     "end_time": "2023-09-06T08:21:36.360305900Z",
     "start_time": "2023-09-06T08:21:36.342301900Z"
    }
   },
   "source": [
    "# Qué utilidad le ves a esto?\n",
    "basic.split('I')"
   ],
   "execution_count": 29,
   "outputs": [
    {
     "data": {
      "text/plain": "['Hello world ', ' am learning Python']"
     },
     "execution_count": 29,
     "metadata": {},
     "output_type": "execute_result"
    }
   ]
  },
  {
   "cell_type": "markdown",
   "source": [
    "## <font color='blue'>__Ejercicios__</font>"
   ],
   "metadata": {
    "id": "Zu3VTw8RyOSV"
   }
  },
  {
   "cell_type": "markdown",
   "metadata": {
    "id": "jyaHJGZDm9nW"
   },
   "source": [
    "### <font color='green'>Actividad 1:</font>\n",
    "### Imprime un string \"Hello\" usando dos tabs al comienzo"
   ]
  },
  {
   "cell_type": "code",
   "metadata": {
    "id": "ZeECifkYm9nW",
    "ExecuteTime": {
     "end_time": "2023-09-06T08:24:16.168867800Z",
     "start_time": "2023-09-06T08:24:16.146124300Z"
    }
   },
   "source": [
    "# Tu código aquí ...\n",
    "print(' \\t \\tHello')"
   ],
   "execution_count": 40,
   "outputs": [
    {
     "name": "stdout",
     "output_type": "stream",
     "text": [
      " \t \tHello\n"
     ]
    }
   ]
  },
  {
   "cell_type": "markdown",
   "metadata": {
    "id": "vv18aUnKm9nX"
   },
   "source": [
    "<font color='green'>Fin actividad 1:</font>"
   ]
  },
  {
   "cell_type": "markdown",
   "metadata": {
    "id": "7TG8Vequm9nb"
   },
   "source": [
    "### <font color='green'>Actividad 2:</font>\n",
    "### Slicing sobre un RUT\n",
    "\n",
    "1. Extrae el dígito verificador del `rut1` con un único slicing"
   ]
  },
  {
   "cell_type": "code",
   "metadata": {
    "id": "zg2weyxfm9nb",
    "ExecuteTime": {
     "end_time": "2023-09-06T08:29:19.725548700Z",
     "start_time": "2023-09-06T08:29:19.696820Z"
    }
   },
   "source": [
    "rut1 = '9.621.955-4'\n",
    "\n",
    "# Tu código aquí ...\n",
    "rut1.split(\"-\")[1]\n",
    "#para no incluir el digito verificador sería en cambio:\n",
    "#rut1.split(\"-\")[0]"
   ],
   "execution_count": 53,
   "outputs": [
    {
     "data": {
      "text/plain": "'4'"
     },
     "execution_count": 53,
     "metadata": {},
     "output_type": "execute_result"
    }
   ]
  },
  {
   "cell_type": "markdown",
   "metadata": {
    "id": "9aQjghjKm9nc"
   },
   "source": [
    "2. Diseña un slicing estándar para imprimir los cuatro últimos dígitos de un `rut1`. El resultado no debe incluir el punto, debe ser en una única instrucción, y debe generar un único string de salida.\n",
    "\n",
    "Prueba tu instrucción con `rut1` y `rut2`\n",
    "\n",
    "Los resultados deberían ser:\n",
    "```python\n",
    "'1995'\n",
    "\n",
    "'0843'\n",
    "```\n",
    "Tip: investiga cómo concatenar strings en Python."
   ]
  },
  {
   "cell_type": "code",
   "metadata": {
    "id": "k4pHe1EKm9nc",
    "ExecuteTime": {
     "end_time": "2023-09-06T08:43:53.518749800Z",
     "start_time": "2023-09-06T08:43:53.477967900Z"
    }
   },
   "source": [
    "rut1 = '9.621.955-4'\n",
    "\n",
    "# Tu instrucción única aquí ...\n",
    "rut1.split(\".\")[1][2:]+rut1.split(\".\")[2][0:-2]"
   ],
   "execution_count": 91,
   "outputs": [
    {
     "data": {
      "text/plain": "'1955'"
     },
     "execution_count": 91,
     "metadata": {},
     "output_type": "execute_result"
    }
   ]
  },
  {
   "cell_type": "code",
   "metadata": {
    "id": "VdXoSj8_m9nc",
    "ExecuteTime": {
     "end_time": "2023-09-06T08:44:53.552992800Z",
     "start_time": "2023-09-06T08:44:53.447407300Z"
    }
   },
   "source": [
    "rut2 = '12.190.843-K'\n",
    "\n",
    "# Tu instrucción única aquí ...\n",
    "rut2.split(\".\")[1][2:]+rut2.split(\".\")[2][0:-2]"
   ],
   "execution_count": 93,
   "outputs": [
    {
     "data": {
      "text/plain": "'0843'"
     },
     "execution_count": 93,
     "metadata": {},
     "output_type": "execute_result"
    }
   ]
  },
  {
   "cell_type": "markdown",
   "metadata": {
    "id": "oncGjcrem9nc"
   },
   "source": [
    "<font color='green'>Fin actividad 2:</font>"
   ]
  },
  {
   "cell_type": "markdown",
   "metadata": {
    "id": "MLryYMS-m9ne"
   },
   "source": [
    "### <font color='green'>Actividad 3:</font>\n",
    "### Crea tu propia variable string y aplícale los métodos `upper()` y `lower()`\n",
    "\n",
    "1. Ingresa un string con tu nombre y tu apellido desde el teclado con `input()`\n",
    "2. Guádalo en una variable\n",
    "3. Imprime la variable aplicándo el método `upper()`\n",
    "4. Imprime la variable aplicándo el método `lower()`\n",
    "\n",
    "Haz que ambas expresiones se impriman utilizanfo `f-strings` y la función `print()`\n",
    "\n",
    "5. Separa la variable en dos (nombre y apellido), e imprímelas en una única línea con la primera letra en mayúscula y el resto en minúscula.\n",
    "\n",
    "Tip: utiliza el método `split()`"
   ]
  },
  {
   "cell_type": "code",
   "metadata": {
    "id": "ueT5O5s3m9ne",
    "ExecuteTime": {
     "end_time": "2023-09-06T09:09:58.770973300Z",
     "start_time": "2023-09-06T09:09:48.875582500Z"
    }
   },
   "source": [
    "# Tu código aquí ...\n",
    "nombreApe = input(\"ingrese 1er nombre y 1er apellido\")\n",
    "print(nombreApe.upper())\n",
    "print(nombreApe.lower())\n",
    "nombre = nombreApe.split(\" \")[0]\n",
    "apellido = nombreApe.split(\" \")[1]\n",
    "print(f\"{nombre.capitalize()} {apellido.capitalize()}\")\n"
   ],
   "execution_count": 126,
   "outputs": [
    {
     "name": "stdout",
     "output_type": "stream",
     "text": [
      "JAVIERA VERGARA\n",
      "javiera vergara\n",
      "Javiera Vergara\n"
     ]
    }
   ]
  },
  {
   "cell_type": "markdown",
   "metadata": {
    "id": "KJUTkiH-m9nf"
   },
   "source": [
    "<font color='green'>Fin actividad 3</font>"
   ]
  },
  {
   "cell_type": "markdown",
   "metadata": {
    "id": "DBOChyjRm9nf"
   },
   "source": [
    "## <font color='blue'>**Strings formatting**</font>\n",
    "\n",
    "Puedes usar el método `.format()` o los `f-string` vistos anteriormente  para realizar lo que se conoce formalmente como **interpolación de cadenas**, esencialmente insertando variables al imprimirla."
   ]
  },
  {
   "cell_type": "code",
   "metadata": {
    "id": "qRECyhVLm9nf",
    "ExecuteTime": {
     "end_time": "2023-09-06T09:06:03.964021200Z",
     "start_time": "2023-09-06T09:06:03.931022400Z"
    }
   },
   "source": [
    "user_name = \"Matías\""
   ],
   "execution_count": 120,
   "outputs": []
  },
  {
   "cell_type": "code",
   "metadata": {
    "id": "NiXCKdMkm9nf",
    "ExecuteTime": {
     "end_time": "2023-09-06T09:06:06.632578400Z",
     "start_time": "2023-09-06T09:06:06.557578100Z"
    }
   },
   "source": [
    "# Con opción 2\n",
    "print(\"Welcome {}\".format(user_name))"
   ],
   "execution_count": 121,
   "outputs": [
    {
     "name": "stdout",
     "output_type": "stream",
     "text": [
      "Welcome Matías\n"
     ]
    }
   ]
  },
  {
   "cell_type": "code",
   "metadata": {
    "id": "21K0AErem9nf",
    "ExecuteTime": {
     "end_time": "2023-09-06T09:06:50.532095700Z",
     "start_time": "2023-09-06T09:06:50.509096200Z"
    }
   },
   "source": [
    "# o con opción 3\n",
    "print(f'Welcome {user_name}')"
   ],
   "execution_count": 123,
   "outputs": [
    {
     "name": "stdout",
     "output_type": "stream",
     "text": [
      "Welcome Matías\n"
     ]
    }
   ]
  },
  {
   "cell_type": "markdown",
   "metadata": {
    "id": "P2I1HLjLm9nh"
   },
   "source": [
    "Excelente hackers !!!"
   ]
  }
 ]
}
