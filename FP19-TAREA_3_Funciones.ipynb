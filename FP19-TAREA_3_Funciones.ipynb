{
 "cells": [
  {
   "cell_type": "markdown",
   "metadata": {
    "id": "k2dQF-o-HQO6"
   },
   "source": [
    "# **Introducción a Python**\n",
    "# FP19. Tarea 3\n",
    "\n",
    "Hola hackers. Aquí tienes una tarea exclusiva de funciones. Hay desafíos de distinto tipo, trata de superarlos todos.\n",
    "Buena suerte !!\n"
   ]
  },
  {
   "cell_type": "markdown",
   "metadata": {
    "id": "rkIZsxKkHQO8"
   },
   "source": [
    "## <font color='green'>Tarea 1: Challenging</font>  \n",
    "Crea una función que tome un número del 1 al 10 y que devuelva la tabla de multiplicación de dicho número (hasta x 10).<br>\n",
    "Verifica que el númeor ingresado sea mayor que 0 y menor que 11, en caso contrario despliega un mensaje.\n",
    "Nombra la función como **tabla_mult**\n",
    "\n",
    "El resultado debería verse como\n",
    "```python\n",
    "tabla_mult(3)\n",
    "```\n",
    " 1 x 3 =   3 <br>\n",
    " 2 x 3 =   6 <br>\n",
    " 3 x 3 =   9 <br>\n",
    " 4 x 3 =  12 <br>\n",
    " 5 x 3 =  15 <br>\n",
    " 6 x 3 =  18 <br>\n",
    " 7 x 3 =  21 <br>\n",
    " 8 x 3 =  24 <br>\n",
    " 9 x 3 =  27 <br>\n",
    "10 x 3 =  30 <br>"
   ]
  },
  {
   "cell_type": "code",
   "execution_count": 47,
   "metadata": {
    "id": "cMJ_ntnLHQO8",
    "ExecuteTime": {
     "end_time": "2023-09-06T14:35:23.751232200Z",
     "start_time": "2023-09-06T14:35:21.524941900Z"
    }
   },
   "outputs": [
    {
     "name": "stdout",
     "output_type": "stream",
     "text": [
      "ingrese Numero\n",
      "numero valido!> | 3 ||||||\n",
      "1x3 = 3 \n",
      "2x3 = 6 \n",
      "3x3 = 9 \n",
      "4x3 = 12 \n",
      "5x3 = 15 \n",
      "6x3 = 18 \n",
      "7x3 = 21 \n",
      "8x3 = 24 \n",
      "9x3 = 27 \n",
      "10x3 = 30  \n"
     ]
    }
   ],
   "source": [
    "# Tu código aquí ...\n",
    "print(\"ingrese Numero\")\n",
    "\n",
    "while True:\n",
    "  try:\n",
    "      tabla_multi = int(input(\"ingrese numero entre [1-10]\"))\n",
    "  except:\n",
    "    continue\n",
    "\n",
    "  if tabla_multi < 1 or tabla_multi > 10:\n",
    "      print(\"Número\", tabla_multi, \"fuera de rango.\")\n",
    "      continue\n",
    "  print(\"numero valido!>\", \"|\", tabla_multi , \"|\"*6)\n",
    "\n",
    "  break\n",
    "tabla = (f\"1x{tabla_multi} = {tabla_multi*1} \\n2x{tabla_multi} = {tabla_multi*2} \\n3x{tabla_multi} = {tabla_multi*3} \\n4x{tabla_multi} = {tabla_multi*4 } \\n5x{tabla_multi} = {tabla_multi*5} \\n6x{tabla_multi} = {tabla_multi*6} \\n7x{tabla_multi} = {tabla_multi*7} \\n8x{tabla_multi} = {tabla_multi*8} \\n9x{tabla_multi} = {tabla_multi*9} \\n10x{tabla_multi} = {tabla_multi*10}  \")\n",
    "print(tabla)\n",
    "\n",
    "def tabla_mult(numero):\n",
    "    for i in range(1, 11):\n",
    "        print(f\"{i}x{numero} = {i * numero}\")\n",
    "\n",
    "\n"
   ]
  },
  {
   "cell_type": "code",
   "execution_count": 46,
   "metadata": {
    "id": "ZfRNUEXsHQO9",
    "ExecuteTime": {
     "end_time": "2023-09-06T14:34:33.251460900Z",
     "start_time": "2023-09-06T14:34:33.225464100Z"
    }
   },
   "outputs": [
    {
     "name": "stdout",
     "output_type": "stream",
     "text": [
      "1x3 = 3\n",
      "2x3 = 6\n",
      "3x3 = 9\n",
      "4x3 = 12\n",
      "5x3 = 15\n",
      "6x3 = 18\n",
      "7x3 = 21\n",
      "8x3 = 24\n",
      "9x3 = 27\n",
      "10x3 = 30\n"
     ]
    }
   ],
   "source": [
    "tabla_mult(3)"
   ]
  },
  {
   "cell_type": "code",
   "execution_count": 39,
   "metadata": {
    "id": "XIIJnqQ2HQO-",
    "ExecuteTime": {
     "end_time": "2023-09-06T14:32:07.273101800Z",
     "start_time": "2023-09-06T14:32:07.196100500Z"
    }
   },
   "outputs": [
    {
     "name": "stdout",
     "output_type": "stream",
     "text": [
      "1x1 = 1\n",
      "2x1 = 2\n",
      "3x1 = 3\n",
      "4x1 = 4\n",
      "5x1 = 5\n",
      "6x1 = 6\n",
      "7x1 = 7\n",
      "8x1 = 8\n",
      "9x1 = 9\n",
      "10x1 = 10\n"
     ]
    }
   ],
   "source": [
    "tabla_mult(1)"
   ]
  },
  {
   "cell_type": "code",
   "execution_count": 40,
   "metadata": {
    "id": "3j9fsnojHQO-",
    "ExecuteTime": {
     "end_time": "2023-09-06T14:32:09.809056500Z",
     "start_time": "2023-09-06T14:32:09.722966300Z"
    }
   },
   "outputs": [
    {
     "name": "stdout",
     "output_type": "stream",
     "text": [
      "1x15 = 15\n",
      "2x15 = 30\n",
      "3x15 = 45\n",
      "4x15 = 60\n",
      "5x15 = 75\n",
      "6x15 = 90\n",
      "7x15 = 105\n",
      "8x15 = 120\n",
      "9x15 = 135\n",
      "10x15 = 150\n"
     ]
    }
   ],
   "source": [
    "tabla_mult(15)"
   ]
  },
  {
   "cell_type": "markdown",
   "metadata": {
    "id": "fSNEHhh_HQO-"
   },
   "source": [
    "## <font color='green'>Tarea 2:</font>\n",
    "Crea una función que tome un entero y devuelva **True** si es par y **False** si es impar.<br>\n",
    "Nombra la función como **check_par_impar**"
   ]
  },
  {
   "cell_type": "code",
   "execution_count": 2,
   "metadata": {
    "id": "5e9DMWoXHQO-",
    "ExecuteTime": {
     "end_time": "2023-09-06T21:49:06.711531500Z",
     "start_time": "2023-09-06T21:49:06.665529400Z"
    }
   },
   "outputs": [],
   "source": [
    "# Tu código aquí ...\n",
    "def check_par_impar(n):\n",
    "    return n % 2 == 0\n",
    "\n",
    "\n",
    "\n"
   ]
  },
  {
   "cell_type": "code",
   "execution_count": 4,
   "metadata": {
    "id": "O_OBFBZFHQO_",
    "ExecuteTime": {
     "end_time": "2023-09-06T21:49:12.005000300Z",
     "start_time": "2023-09-06T21:49:11.942997600Z"
    }
   },
   "outputs": [
    {
     "data": {
      "text/plain": "True"
     },
     "execution_count": 4,
     "metadata": {},
     "output_type": "execute_result"
    }
   ],
   "source": [
    "check_par_impar(10)"
   ]
  },
  {
   "cell_type": "code",
   "execution_count": 5,
   "metadata": {
    "id": "EKJTW7lkHQO_",
    "ExecuteTime": {
     "end_time": "2023-09-06T21:49:14.122131200Z",
     "start_time": "2023-09-06T21:49:14.065128100Z"
    }
   },
   "outputs": [
    {
     "data": {
      "text/plain": "False"
     },
     "execution_count": 5,
     "metadata": {},
     "output_type": "execute_result"
    }
   ],
   "source": [
    "check_par_impar(7)"
   ]
  },
  {
   "cell_type": "markdown",
   "metadata": {
    "id": "Ji-HlWDCHQO_"
   },
   "source": [
    "## <font color='green'>Tarea 3:</font>\n",
    "\n",
    "Crea una función que tome una cadena y devuelva el primer carácter de esa cadena en mayúsculas y el resto en minúsculas.<br>\n",
    "Nombra la función como **first_upper**\n",
    "\n",
    "Tip:\n",
    "\n",
    "Busca en internet cómo concatenar strings en Python"
   ]
  },
  {
   "cell_type": "code",
   "execution_count": null,
   "metadata": {
    "id": "aUUeGnenHQO_"
   },
   "outputs": [],
   "source": [
    "# Tu código aquí ...\n",
    "first_upper\n"
   ]
  },
  {
   "cell_type": "code",
   "execution_count": null,
   "metadata": {
    "id": "NXb0EejrHQPA"
   },
   "outputs": [],
   "source": [
    "first_upper('hello') # -> 'Hello'"
   ]
  },
  {
   "cell_type": "code",
   "execution_count": null,
   "metadata": {
    "id": "uTleqzZSHQPA"
   },
   "outputs": [],
   "source": [
    "first_upper('agent') # -> 'Agent'"
   ]
  },
  {
   "cell_type": "code",
   "execution_count": null,
   "metadata": {
    "id": "wY2sfJI1HQPA"
   },
   "outputs": [],
   "source": [
    "first_upper('el EspíA que vinO del frÍo') # -> 'El espia que vino del frío'"
   ]
  },
  {
   "cell_type": "markdown",
   "metadata": {
    "id": "X_ykrqtsHQPA"
   },
   "source": [
    "## <font color='green'>Tarea 4:</font>\n",
    "\n",
    "Crea una función que tome una cadena y devuelva los dos últimos caracteres. Si hay menos de dos caracteres, devuelve la palabra: \"Error\".<br>\n",
    "Nombra la función como **last_two**\n",
    "\n",
    "Tip:\n",
    "[Usa este link si necesitas ayuda](https://stackoverflow.com/questions/7983820/get-the-last-4-characters-of-a-string)\n",
    "\n",
    "Acostúmbrate a buscar ayuda en internet!!!"
   ]
  },
  {
   "cell_type": "code",
   "execution_count": null,
   "metadata": {
    "id": "CByZ3UwHHQPA"
   },
   "outputs": [],
   "source": [
    "# Tu código aquí ...\n",
    "\n"
   ]
  },
  {
   "cell_type": "code",
   "execution_count": null,
   "metadata": {
    "id": "Cz-e8e8DHQPB"
   },
   "outputs": [],
   "source": [
    "last_two('hello') # -> 'lo'"
   ]
  },
  {
   "cell_type": "code",
   "execution_count": null,
   "metadata": {
    "id": "d4BQFkflHQPB"
   },
   "outputs": [],
   "source": [
    "last_two('hi') # -> 'hi'"
   ]
  },
  {
   "cell_type": "code",
   "execution_count": null,
   "metadata": {
    "id": "1tUgJqbbHQPB"
   },
   "outputs": [],
   "source": [
    "last_two('a') # -> 'Error'"
   ]
  },
  {
   "cell_type": "markdown",
   "metadata": {
    "id": "AvOReBVxHQPB"
   },
   "source": [
    "## <font color='green'>Tarea 5: Challenging</font>\n",
    "Dada una lista de enteros, devuelve **True** si la secuencia [1, 2, 3] está en algún lugar de la lista.\n",
    "<br>\n",
    "Nombra la función como **seq_check**\n",
    "\n",
    "Tip:\n",
    "\n",
    "Use *slicing* y un bucle **for**."
   ]
  },
  {
   "cell_type": "code",
   "execution_count": null,
   "metadata": {
    "id": "A7m1ZRcQHQPB"
   },
   "outputs": [],
   "source": [
    "# Tu código aquí ...\n",
    "\n"
   ]
  },
  {
   "cell_type": "code",
   "execution_count": null,
   "metadata": {
    "id": "KyybCPynHQPB"
   },
   "outputs": [],
   "source": [
    "seq_check([1, 2, 3])  # -> True"
   ]
  },
  {
   "cell_type": "code",
   "execution_count": null,
   "metadata": {
    "id": "jKuv99dNHQPB"
   },
   "outputs": [],
   "source": [
    "seq_check([7, 7, 7, 1, 2, 3, 7, 7, 7]) # -> True"
   ]
  },
  {
   "cell_type": "code",
   "execution_count": null,
   "metadata": {
    "id": "NIalLiNmHQPB"
   },
   "outputs": [],
   "source": [
    "seq_check([3, 2, 1, 3, 2, 1, 1, 1, 2, 2, 3, 3, 3]) # -> False"
   ]
  },
  {
   "cell_type": "code",
   "execution_count": null,
   "metadata": {
    "id": "6gwshsXvHQPB"
   },
   "outputs": [],
   "source": [
    "seq_check([1, 2]) # -> False"
   ]
  },
  {
   "cell_type": "code",
   "execution_count": null,
   "metadata": {
    "id": "pGVcAZtsHQPB"
   },
   "outputs": [],
   "source": [
    "seq_check([1]) # ->  False"
   ]
  },
  {
   "cell_type": "markdown",
   "metadata": {
    "id": "7SSBTJFBHQPB"
   },
   "source": [
    "## <font color='green'>Tarea 6: Challenging</font>\n",
    "\n",
    "Dados 2 strings (cadenas), crea una función que devuelva la diferencia de longitud entre ellas. Esta diferencia de longitud siempre debe ser un número positivo (o sólo 0). <br>\n",
    "Nombra la función como **compare_len**\n",
    "\n",
    "Tip:\n",
    "\n",
    "Busca en internet la función de valor absoluto en Python"
   ]
  },
  {
   "cell_type": "code",
   "execution_count": null,
   "metadata": {
    "id": "T0-eJH8yHQPC"
   },
   "outputs": [],
   "source": [
    "# Tu código aquí ...\n",
    "\n"
   ]
  },
  {
   "cell_type": "code",
   "execution_count": null,
   "metadata": {
    "id": "fecG8j3fHQPC"
   },
   "outputs": [],
   "source": [
    "compare_len('aa','aa') # -> 0"
   ]
  },
  {
   "cell_type": "code",
   "execution_count": null,
   "metadata": {
    "id": "UXm6FPj8HQPC"
   },
   "outputs": [],
   "source": [
    "compare_len('a','bb') # -> 1"
   ]
  },
  {
   "cell_type": "code",
   "execution_count": null,
   "metadata": {
    "id": "P09bEM1tHQPC"
   },
   "outputs": [],
   "source": [
    "compare_len('bb','a') # -> 1"
   ]
  },
  {
   "cell_type": "markdown",
   "metadata": {
    "id": "vKC9vBzTHQPC"
   },
   "source": [
    "## <font color='green'>Tarea 7:</font>\n",
    "\n",
    "Dada una lista de enteros, si la longitud de la lista es un número par, devuelve la suma de la lista. Si la longitud de la lista es impar, devuelva el valor máximo en esa lista.\n",
    "\n",
    "Nombra tu función como **sum_or_max**"
   ]
  },
  {
   "cell_type": "code",
   "execution_count": null,
   "metadata": {
    "id": "a6HcNU8wHQPC"
   },
   "outputs": [],
   "source": [
    "# Tu código aquí ...\n",
    "\n"
   ]
  },
  {
   "cell_type": "code",
   "execution_count": null,
   "metadata": {
    "id": "G4qibe27HQPC"
   },
   "outputs": [],
   "source": [
    "sum_or_max([1,2,3]) # -> 3"
   ]
  },
  {
   "cell_type": "code",
   "execution_count": null,
   "metadata": {
    "id": "gQirSKKTHQPC"
   },
   "outputs": [],
   "source": [
    "sum_or_max([0,1,2,3]) # -> 6"
   ]
  },
  {
   "cell_type": "markdown",
   "metadata": {
    "id": "tMDp_9XRHQPD"
   },
   "source": [
    "## <font color='green'>Tarea 8: Super challenging</font>\n",
    "\n",
    "Los agentes en el campo a veces necesitan hablar en código. Cree una función que tome un nombre (un string, por ejemplo, \"Juan Antonio\", \"Alejandra\", etc.) y haga lo siguiente:\n",
    "* Reemplace todas las vocales con la letra x. Para nuestros propósitos, consideremos estas letras como vocales: a, e, i, o, u, y sus respectivas mayúsculas.\n",
    "* Cambie la posición de la primera y última letra.\n",
    "* Entregue el resultado en mayúsculas.\n",
    "\n",
    "Tip:\n",
    "1. Esta tarea es desafiante, divídela en varias partes.\n",
    "2. AL trabajar sobre una lista, necesitarás unirla en un único string para devolver el resultado. Utiliza para ello el método **.join()** de los strings.\n",
    "\n",
    "Nombre tu función como **replace_and_switch**"
   ]
  },
  {
   "cell_type": "code",
   "execution_count": null,
   "metadata": {
    "id": "25x59X0VHQPD"
   },
   "outputs": [],
   "source": [
    "# Tu código aquí ...\n",
    "\n"
   ]
  },
  {
   "cell_type": "code",
   "execution_count": null,
   "metadata": {
    "id": "5JnYb0NAHQPD"
   },
   "outputs": [],
   "source": [
    "replace_and_switch('Juan Antonio') # -> 'XXXN XNTXNXJ'"
   ]
  },
  {
   "cell_type": "code",
   "execution_count": null,
   "metadata": {
    "id": "Q68fquZZHQPI"
   },
   "outputs": [],
   "source": [
    "replace_and_switch(\"Marcela\") # -> 'XXRCXLM'"
   ]
  },
  {
   "cell_type": "markdown",
   "source": [
    "<img src=\"https://drive.google.com/uc?export=view&id=1Igtn9UXg6NGeRWsqh4hefQUjV0hmzlBv\" width=\"100\" align=\"left\" title=\"Runa-perth\">\n",
    "<br clear=\"left\">\n",
    "Contenido opcional\n",
    "\n",
    "##<font color='blue'>__Ejercicios avanzados__</font>\n",
    "## <font color='green'>Tarea 9: Super challenging</font>\n",
    "###Calcular la suma máxima de una subsecuencia contigua.\n",
    "\n",
    "Dado un array de números, encuentra la suma máxima de cualquier subsecuencia contigua del array. Por ejemplo, dado el array [34, -50, 42, 14, -5, 86], la suma máxima sería 137, ya que tomaríamos los elementos 42, 14, -5 y 86. Dado el array [-5, -1, -8, -9], la suma máxima sería 0, ya que elegiríamos no tomar ningún elemento.\n",
    "\n",
    "1. Genera una solción utilizando una función que se llame `max_subarray_sum(array):`\n",
    "2. Mejora la solución anterior desarrollando una función que resuelva el problema leyendo solo un vez cada valor del arreglo."
   ],
   "metadata": {
    "id": "RdxinN2pHzl9"
   }
  },
  {
   "cell_type": "code",
   "source": [
    "# Tu código aquí ...\n",
    "\n"
   ],
   "metadata": {
    "id": "HBZ4F47xJWXW"
   },
   "execution_count": null,
   "outputs": []
  },
  {
   "cell_type": "code",
   "source": [
    "arr = [34, -50, 42, 14, -5, 86]\n",
    "max_subarray_sum(arr) # -> 137\n"
   ],
   "metadata": {
    "id": "26eKm3ZlKbYh"
   },
   "execution_count": null,
   "outputs": []
  },
  {
   "cell_type": "code",
   "source": [
    "arr = [1, -50, 2, 1]\n",
    "max_subarray_sum(arr) # -> 3"
   ],
   "metadata": {
    "id": "9INaNOr4Lb4L"
   },
   "execution_count": null,
   "outputs": []
  },
  {
   "cell_type": "markdown",
   "source": [
    "<img src=\"https://drive.google.com/uc?export=view&id=1Igtn9UXg6NGeRWsqh4hefQUjV0hmzlBv\" width=\"50\" align=\"left\" title=\"Runa-perth\">"
   ],
   "metadata": {
    "id": "AT5Hp6lhQVV5"
   }
  },
  {
   "cell_type": "markdown",
   "metadata": {
    "id": "nZqJVBR9HQPI"
   },
   "source": [
    "¡Excelente trabajo recluta! Más adelante, podrá combinar múltiples funciones para crear grandes piezas de código de trabajo que realizan tareas complejas."
   ]
  }
 ],
 "metadata": {
  "kernelspec": {
   "display_name": "Python 3 (ipykernel)",
   "language": "python",
   "name": "python3"
  },
  "language_info": {
   "codemirror_mode": {
    "name": "ipython",
    "version": 3
   },
   "file_extension": ".py",
   "mimetype": "text/x-python",
   "name": "python",
   "nbconvert_exporter": "python",
   "pygments_lexer": "ipython3",
   "version": "3.8.11"
  },
  "colab": {
   "provenance": []
  }
 },
 "nbformat": 4,
 "nbformat_minor": 0
}
