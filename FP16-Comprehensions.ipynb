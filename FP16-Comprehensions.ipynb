{
 "cells": [
  {
   "cell_type": "markdown",
   "metadata": {
    "id": "-VXeuloslm_F"
   },
   "source": [
    "# **Introducción a Python**\n",
    "# FP16. Comprehensions\n"
   ]
  },
  {
   "cell_type": "markdown",
   "metadata": {
    "id": "JLql0E_0lm_I"
   },
   "source": [
    "Además de las operaciones de secuencia y los métodos de lista, Python incluye una operación más avanzada llamada _comprehension_.\n",
    "En Python, las _comprehensions_ son una forma concisa de crear listas, diccionarios, conjuntos y otras secuencias a partir de secuencias existentes. Las comprehensions son una característica del lenguaje que permite una sintaxis clara y elegante para esta tarea común."
   ]
  },
  {
   "cell_type": "markdown",
   "metadata": {
    "id": "0jyb7eJnlm_J"
   },
   "source": [
    "## <font color='blue'>**list comprehension**</font>\n",
    "\n",
    "La forma más simple de una **list comprehension** en Python es la siguiente:\n",
    "```python\n",
    "list_variable = [expression for item in collection]\n",
    "```\n",
    "Se utilizan para crear una nueva lista a partir de otra secuencia.\n",
    "Si estás usando un bucle `for` sólo para realizar un `.append( )` a una lista, es posible que desees considerar una *list comprehension*, por ejemplo:"
   ]
  },
  {
   "cell_type": "code",
   "execution_count": 9,
   "metadata": {
    "id": "MUSvOty_lm_J",
    "ExecuteTime": {
     "end_time": "2023-08-30T23:46:46.601375200Z",
     "start_time": "2023-08-30T23:46:46.547340300Z"
    }
   },
   "outputs": [],
   "source": [
    "mylist = []\n",
    "for let in 'word':\n",
    "    mylist.append(let)"
   ]
  },
  {
   "cell_type": "code",
   "execution_count": 6,
   "metadata": {
    "id": "0YeG4IEElm_K",
    "ExecuteTime": {
     "end_time": "2023-08-30T23:43:58.766912300Z",
     "start_time": "2023-08-30T23:43:58.714912400Z"
    }
   },
   "outputs": [
    {
     "data": {
      "text/plain": "['w', 'o', 'r', 'd']"
     },
     "execution_count": 6,
     "metadata": {},
     "output_type": "execute_result"
    }
   ],
   "source": [
    "mylist"
   ]
  },
  {
   "cell_type": "markdown",
   "metadata": {
    "id": "XPhHNTdLlm_L"
   },
   "source": [
    "### Ahora lo mismo usando **list comprehension**"
   ]
  },
  {
   "cell_type": "code",
   "execution_count": 7,
   "metadata": {
    "id": "Qi0QBpf9lm_L",
    "ExecuteTime": {
     "end_time": "2023-08-30T23:44:01.074637600Z",
     "start_time": "2023-08-30T23:44:01.054637100Z"
    }
   },
   "outputs": [],
   "source": [
    "# Toma cada letra en el string\n",
    "\n",
    "myletters = [let for let in 'word']"
   ]
  },
  {
   "cell_type": "code",
   "execution_count": 8,
   "metadata": {
    "id": "cYeM7JSXlm_M",
    "ExecuteTime": {
     "end_time": "2023-08-30T23:44:08.621819800Z",
     "start_time": "2023-08-30T23:44:08.573310100Z"
    }
   },
   "outputs": [
    {
     "data": {
      "text/plain": "['w', 'o', 'r', 'd']"
     },
     "execution_count": 8,
     "metadata": {},
     "output_type": "execute_result"
    }
   ],
   "source": [
    "myletters"
   ]
  },
  {
   "cell_type": "markdown",
   "metadata": {
    "id": "p01JDM_Wlm_M"
   },
   "source": [
    "Veamos ejemplos más complejos"
   ]
  },
  {
   "cell_type": "code",
   "execution_count": 11,
   "metadata": {
    "id": "vtULt0l1lm_N",
    "ExecuteTime": {
     "end_time": "2023-08-30T23:50:13.185712300Z",
     "start_time": "2023-08-30T23:50:13.157309900Z"
    }
   },
   "outputs": [],
   "source": [
    "cuadrados = [x**2 for x in range(0,11)]"
   ]
  },
  {
   "cell_type": "code",
   "execution_count": 12,
   "metadata": {
    "id": "u1xxlXI8lm_N",
    "ExecuteTime": {
     "end_time": "2023-08-30T23:50:16.066819100Z",
     "start_time": "2023-08-30T23:50:16.029820Z"
    }
   },
   "outputs": [
    {
     "data": {
      "text/plain": "[0, 1, 4, 9, 16, 25, 36, 49, 64, 81, 100]"
     },
     "execution_count": 12,
     "metadata": {},
     "output_type": "execute_result"
    }
   ],
   "source": [
    "cuadrados"
   ]
  },
  {
   "cell_type": "markdown",
   "metadata": {
    "id": "DEHi5WU0lm_O"
   },
   "source": [
    "También podemos usar declaraciones `if` en un **list comprehension**"
   ]
  },
  {
   "cell_type": "code",
   "execution_count": 13,
   "metadata": {
    "id": "YZy0_Awplm_O",
    "ExecuteTime": {
     "end_time": "2023-08-30T23:50:25.812345200Z",
     "start_time": "2023-08-30T23:50:25.798345900Z"
    }
   },
   "outputs": [],
   "source": [
    "pares = [x for x in range(0,10) if x%2 == 0]"
   ]
  },
  {
   "cell_type": "code",
   "execution_count": 14,
   "metadata": {
    "id": "kOXYq7ihlm_O",
    "ExecuteTime": {
     "end_time": "2023-08-30T23:50:34.318259600Z",
     "start_time": "2023-08-30T23:50:34.266257500Z"
    }
   },
   "outputs": [
    {
     "data": {
      "text/plain": "[0, 2, 4, 6, 8]"
     },
     "execution_count": 14,
     "metadata": {},
     "output_type": "execute_result"
    }
   ],
   "source": [
    "pares"
   ]
  },
  {
   "cell_type": "markdown",
   "metadata": {
    "id": "x1Wj5FrKlm_O"
   },
   "source": [
    "o poner multiples condicionales `if ...`"
   ]
  },
  {
   "cell_type": "code",
   "execution_count": 16,
   "metadata": {
    "id": "lXFOUuNvlm_O",
    "ExecuteTime": {
     "end_time": "2023-08-30T23:51:15.014755500Z",
     "start_time": "2023-08-30T23:51:14.985758800Z"
    }
   },
   "outputs": [
    {
     "data": {
      "text/plain": "[0, 2, 4]"
     },
     "execution_count": 16,
     "metadata": {},
     "output_type": "execute_result"
    }
   ],
   "source": [
    "pares = [x for x in range(0,10) if x%2 == 0 if x < 5]\n",
    "pares"
   ]
  },
  {
   "cell_type": "markdown",
   "metadata": {
    "id": "Sd8ywIvKlm_P"
   },
   "source": [
    "o anidar múltiples **list comprehension**, unas dentro de otras ..."
   ]
  },
  {
   "cell_type": "code",
   "execution_count": 17,
   "metadata": {
    "id": "K64tE9EAlm_P",
    "ExecuteTime": {
     "end_time": "2023-08-30T23:51:16.910848500Z",
     "start_time": "2023-08-30T23:51:16.898851500Z"
    }
   },
   "outputs": [
    {
     "data": {
      "text/plain": "[64, 81, 100]"
     },
     "execution_count": 17,
     "metadata": {},
     "output_type": "execute_result"
    }
   ],
   "source": [
    "[y for y in [x**2 for x in range(0,11)] if y>50]"
   ]
  },
  {
   "cell_type": "markdown",
   "metadata": {
    "id": "YvQqgD7plm_P"
   },
   "source": [
    "También puedes hacer una declaración `if ... else` en un *list comprehension*, pero ten en cuenta que, en cierto punto, sacrificarás la legibilidad, lo cual es importante en Python. Si tienes problemas para averiguar cómo poner algo en un *list comprehension*, simplemente usa un bucle `for` en su lugar, casi siempre es igual de eficiente.\n",
    "\n",
    "Ten en cuenta que el orden cambia al agregar la instrucción `if ... else`. En general, probablemente sea mejor evitar estas complicadas formas idiomáticas para mantener la legibilidad."
   ]
  },
  {
   "cell_type": "code",
   "execution_count": 18,
   "metadata": {
    "id": "YmSLH7gYlm_P",
    "ExecuteTime": {
     "end_time": "2023-08-30T23:59:10.724427100Z",
     "start_time": "2023-08-30T23:59:10.709424Z"
    }
   },
   "outputs": [
    {
     "data": {
      "text/plain": "[0, 'impar', 2, 'impar', 4, 'impar', 6, 'impar', 8, 'impar']"
     },
     "execution_count": 18,
     "metadata": {},
     "output_type": "execute_result"
    }
   ],
   "source": [
    "mylist = [x if x%2 == 0 else 'impar' for x in range(0,10)]\n",
    "mylist"
   ]
  },
  {
   "cell_type": "code",
   "execution_count": 20,
   "metadata": {
    "id": "thwYL9TSlm_Q",
    "ExecuteTime": {
     "end_time": "2023-08-30T23:59:26.933634Z",
     "start_time": "2023-08-30T23:59:26.907633Z"
    }
   },
   "outputs": [
    {
     "data": {
      "text/plain": "['N/A', 'N/A', 'N/A', 'N/A', 'N/A', 'N/A', 'N/A', 'N/A', 64, 81, 100]"
     },
     "execution_count": 20,
     "metadata": {},
     "output_type": "execute_result"
    }
   ],
   "source": [
    "[y if y>50 else 'N/A' for y in [x**2 for x in range(0,11)]]"
   ]
  },
  {
   "cell_type": "markdown",
   "metadata": {
    "id": "Izyipm8Xlm_Q"
   },
   "source": [
    "## <font color='blue'>****Dict comprehension****</font>\n",
    "Los ***dict comprehension*** son un método para transformar un diccionario en otro diccionario. Durante esta transformación, los elementos del diccionario original se pueden incluir condicionalmente en el nuevo diccionario y cada elemento se puede transformar según sea necesario.\n",
    "\n",
    "Este es e patrón general que puede seguir para crear un ***dict comprehension*** en Python:\n",
    "\n",
    "```python\n",
    "dict_variable = {key:value for (key,value) in dictonary.items()}\n",
    "```"
   ]
  },
  {
   "cell_type": "markdown",
   "metadata": {
    "id": "qan95Ez9lm_Q"
   },
   "source": [
    "Veamos un ejemplo sencillo"
   ]
  },
  {
   "cell_type": "code",
   "execution_count": 23,
   "metadata": {
    "id": "vPUS3czWlm_Q",
    "ExecuteTime": {
     "end_time": "2023-08-31T00:01:32.547957100Z",
     "start_time": "2023-08-31T00:01:32.489951500Z"
    }
   },
   "outputs": [
    {
     "name": "stdout",
     "output_type": "stream",
     "text": [
      "{'Pedro': 1440.0, 'Luisa': 9600.0, 'Carlos': 6400.0, 'Beto': 3840.0, 'Enrique': 4000.0}\n"
     ]
    }
   ],
   "source": [
    "dict1 = {'Pedro': 1800, 'Luisa': 12000, 'Carlos': 8000, 'Beto': 4800, 'Enrique': 5000}\n",
    "\n",
    "# Apliquemos una reducción de 20% a los valores del diccionario\n",
    "dict1_20 = {k:v*0.8 for (k,v) in dict1.items()}\n",
    "print(dict1_20)"
   ]
  },
  {
   "cell_type": "markdown",
   "metadata": {
    "id": "yHedsQ0Alm_R"
   },
   "source": [
    "### ¿Por qué utilizar un ***dict comprehension***?\n",
    "\n",
    "El ***dict comprehension*** es un concepto poderoso y se puede utilizar para sustituir los bucles `for` y las funciones lambda (esto último lo veremos más adelante). Sin embargo, no todos los bucles `for` pueden escribirse como un ***dict comprehension***, pero todo ***dict comprehension***  se puede escribir con un bucle `for`.<br>\n",
    "Considere el siguiente problema, donde desea crear un nuevo diccionario donde la clave es un número divisible por 2 en un rango de 0 a 10 y su valor es el cuadrado del número.<br>\n",
    "Veamos cómo se puede resolver el mismo problema primero usando un bucle `for` y luego un un ***dict comprehension***:"
   ]
  },
  {
   "cell_type": "code",
   "execution_count": 24,
   "metadata": {
    "id": "o8E5Ru9rlm_R",
    "ExecuteTime": {
     "end_time": "2023-08-31T00:02:28.193908800Z",
     "start_time": "2023-08-31T00:02:28.162909100Z"
    }
   },
   "outputs": [
    {
     "name": "stdout",
     "output_type": "stream",
     "text": [
      "{0: 0, 2: 4, 4: 16, 6: 36, 8: 64}\n"
     ]
    }
   ],
   "source": [
    "# Utilizando for loops\n",
    "numbers = range(10)\n",
    "d = {}\n",
    "\n",
    "# Añadimos valores al diccionario d\n",
    "for n in numbers:\n",
    "    if n % 2 == 0:\n",
    "        d[n] = n ** 2\n",
    "\n",
    "print(d)"
   ]
  },
  {
   "cell_type": "markdown",
   "metadata": {
    "id": "SdyP0QZwlm_R"
   },
   "source": [
    "Ahora con ***dict comprehension***"
   ]
  },
  {
   "cell_type": "code",
   "execution_count": 25,
   "metadata": {
    "id": "BJ7z6aOzlm_R",
    "ExecuteTime": {
     "end_time": "2023-08-31T00:02:32.954865400Z",
     "start_time": "2023-08-31T00:02:32.940866900Z"
    }
   },
   "outputs": [
    {
     "name": "stdout",
     "output_type": "stream",
     "text": [
      "{0: 0, 2: 4, 4: 16, 6: 36, 8: 64}\n"
     ]
    }
   ],
   "source": [
    "# Utilizando dictionary comprehension\n",
    "d2 = {n:n**2 for n in numbers if n%2 == 0}\n",
    "\n",
    "print(d2)"
   ]
  },
  {
   "cell_type": "markdown",
   "metadata": {
    "id": "ArBa2Yhxlm_R"
   },
   "source": [
    "Podemos añadir un condicional `if`"
   ]
  },
  {
   "cell_type": "code",
   "execution_count": 26,
   "metadata": {
    "id": "_kBQXXL6lm_R",
    "ExecuteTime": {
     "end_time": "2023-08-31T00:03:01.931244500Z",
     "start_time": "2023-08-31T00:03:01.898244600Z"
    }
   },
   "outputs": [
    {
     "name": "stdout",
     "output_type": "stream",
     "text": [
      "{'Luisa': 12000, 'Carlos': 8000}\n"
     ]
    }
   ],
   "source": [
    "dict1 = {'Pedro': 1800, 'Luisa': 12000, 'Carlos': 8000, 'Beto': 4800, 'Enrique': 5000}\n",
    "\n",
    "# Check for items greater than 2\n",
    "dict1_cond = {k:v for (k,v) in dict1.items() if v>5000}\n",
    "\n",
    "print(dict1_cond)"
   ]
  },
  {
   "cell_type": "markdown",
   "metadata": {
    "id": "xp-NP03elm_S"
   },
   "source": [
    "o multiples condicionales `if`"
   ]
  },
  {
   "cell_type": "code",
   "execution_count": 27,
   "metadata": {
    "id": "nuHUg9Gjlm_S",
    "ExecuteTime": {
     "end_time": "2023-08-31T00:03:04.546942500Z",
     "start_time": "2023-08-31T00:03:04.506945200Z"
    }
   },
   "outputs": [
    {
     "name": "stdout",
     "output_type": "stream",
     "text": [
      "{'Carlos': 8000}\n"
     ]
    }
   ],
   "source": [
    "dict1_doubleCond = {k:v for (k,v) in dict1.items() if v>5000 if v<10000}\n",
    "print(dict1_doubleCond)"
   ]
  },
  {
   "cell_type": "markdown",
   "source": [
    "## <font color='blue'>**Set comprehension**</font>\n",
    "Los ***set comprehension***  se utilizan para crear un nuevo conjunto a partir de otra secuencia, aplicando todos los atributos propios de los conjuntos."
   ],
   "metadata": {
    "id": "y7uLyhgkHieg"
   }
  },
  {
   "cell_type": "code",
   "source": [
    "numeros = [1, 2, 3, 4, 5]\n",
    "cuadrados = {x**2 for x in numeros}\n",
    "cuadrados"
   ],
   "metadata": {
    "id": "WBXzQM6rHxlp",
    "ExecuteTime": {
     "end_time": "2023-08-31T00:05:17.781871400Z",
     "start_time": "2023-08-31T00:05:17.768870400Z"
    }
   },
   "execution_count": 28,
   "outputs": [
    {
     "data": {
      "text/plain": "{1, 4, 9, 16, 25}"
     },
     "execution_count": 28,
     "metadata": {},
     "output_type": "execute_result"
    }
   ]
  },
  {
   "cell_type": "code",
   "source": [
    "numeros = [1, 2, 3, 3, 1, 3, 4, 5,]\n",
    "cuadrados = {x**2 for x in numeros} # Elimina los elementos repetidos\n",
    "cuadrados"
   ],
   "metadata": {
    "id": "XOo7snfwIAV-"
   },
   "execution_count": null,
   "outputs": []
  },
  {
   "cell_type": "markdown",
   "source": [
    "## <font color='blue'>**Ejercicios**</font>"
   ],
   "metadata": {
    "id": "dIR_uaftHys6"
   }
  },
  {
   "cell_type": "markdown",
   "metadata": {
    "id": "zmYSr3L-lm_S"
   },
   "source": [
    "### <font color='green'>Actividad 1:</font>\n",
    "### Escribe el siguiente código como una ***list comprehension***\n",
    "```python\n",
    "lista = []\n",
    "\n",
    "for x in range(100):\n",
    "    if x%2 == 0 :\n",
    "        if x%6 == 0:\n",
    "            lista.append(x)\n",
    "```"
   ]
  },
  {
   "cell_type": "code",
   "execution_count": null,
   "metadata": {
    "id": "f-bUj5wIlm_S"
   },
   "outputs": [],
   "source": [
    "# Tu código aquí ...\n"
   ]
  },
  {
   "cell_type": "markdown",
   "metadata": {
    "id": "CxeRWiiplm_S"
   },
   "source": [
    "<font color='green'>Fin actividad 1</font>"
   ]
  },
  {
   "cell_type": "markdown",
   "metadata": {
    "id": "5Brnoo-Zlm_S"
   },
   "source": [
    "### <font color='green'>Actividad 2:</font>\n",
    "### Transponga la siguiente matriz utilizando dos métodos\n",
    "```python\n",
    "matrix = [[1,2,3],[4,5,6],[7,8,9]]\n",
    "```\n",
    "* Utilice una solución basada en ***for loops***\n",
    "* Utilice una solución basada en ***list comprehension***\n"
   ]
  },
  {
   "cell_type": "code",
   "execution_count": null,
   "metadata": {
    "id": "mOGREvEDlm_S"
   },
   "outputs": [],
   "source": [
    "# Matriz\n",
    "matrix = [[1,2,3],[4,5,6],[7,8,9]]\n",
    "# Tu código aquí ...\n",
    "\n",
    "# Opción con for loop\n",
    "\n",
    "\n",
    "# Opción con list comprehension\n",
    "\n"
   ]
  },
  {
   "cell_type": "markdown",
   "metadata": {
    "id": "8ySeDDBdlm_S"
   },
   "source": [
    "<font color='green'>Fin actividad 2</font>"
   ]
  },
  {
   "cell_type": "markdown",
   "source": [
    "<img src=\"https://drive.google.com/uc?export=view&id=1Igtn9UXg6NGeRWsqh4hefQUjV0hmzlBv\" width=\"100\" align=\"left\" title=\"Runa-perth\">\n",
    "<br clear=\"left\">\n",
    "Contenido opcional\n",
    "\n",
    "##<font color='blue'>__Ejercicios avanzados__</font>\n",
    "\n",
    "Si quieres aprender más, anímate a desarrollar los siguientes ejercicios utilizando sólo lo aprendido hasta el momento: tipos de datos, estructuras y sus métodos (e.g., listas, diccionarios, conjuntos, tuplas), slicing e indexing, control de flujo y ciclos (`for`, `while`).\n",
    "\n",
    "No puedes utilizar funciones incorporadas (salvo `print()` y `len()`), lambdas o librerías de apoyo.\n",
    "\n",
    "Imprime un mensaje con `print()` indicando si la condición solicitada en el ejercicio se cumple o no; e.g., la Actividad 3 debería tener una salida condicional del tipo:\n",
    "\n",
    "```python\n",
    "print(\"El primer número duplicado es:\")\n",
    "````\n",
    "o si no se cumple la condición ...\n",
    "```python\n",
    "print(\"No hay números duplicados.\")\n",
    "```"
   ],
   "metadata": {
    "id": "b9wI0aPfme1q"
   }
  },
  {
   "cell_type": "markdown",
   "source": [
    "### <font color='green'>Actividad 3</font>\n",
    "Dada una lista de números, crea un nuevo diccionario donde las claves son los números y los valores son 'par' o 'impar' dependiendo del número."
   ],
   "metadata": {
    "id": "txUX7fz9mxNd"
   }
  },
  {
   "cell_type": "code",
   "source": [
    "numeros = [1, 2, 3, 4, 5]\n",
    "\n",
    "# Tu código aquí ...\n",
    "\n"
   ],
   "metadata": {
    "id": "PCOb7uk8m5Xt"
   },
   "execution_count": null,
   "outputs": []
  },
  {
   "cell_type": "markdown",
   "source": [
    "### <font color='green'>Actividad 4</font>\n",
    "Dada una lista de números, crea una nueva lista que contenga todos los números primos en la lista original."
   ],
   "metadata": {
    "id": "J49N8BVWKqjq"
   }
  },
  {
   "cell_type": "code",
   "source": [
    "numeros = [2, 3, 4, 5, 6, 7, 8, 9, 10, 11]\n",
    "\n",
    "# Tu código aquí ...\n",
    "\n"
   ],
   "metadata": {
    "id": "7ODmGVzwKmo_"
   },
   "execution_count": null,
   "outputs": []
  },
  {
   "cell_type": "markdown",
   "source": [
    "### <font color='green'>Actividad 5</font>\n",
    "Dada una lista de cadenas, crea un nuevo diccionario que asocie cada cadena con una lista de todas las posiciones en las que aparece la cadena."
   ],
   "metadata": {
    "id": "YatZADQkeYtG"
   }
  },
  {
   "cell_type": "code",
   "source": [
    "cadenas = ['a', 'b', 'a', 'c', 'b', 'a', 'd', 'e']\n",
    "\n",
    "# Tu código aquí ...\n",
    "\n"
   ],
   "metadata": {
    "id": "TB1SDrmwLRLm"
   },
   "execution_count": null,
   "outputs": []
  },
  {
   "cell_type": "markdown",
   "source": [
    "<img src=\"https://drive.google.com/uc?export=view&id=1Igtn9UXg6NGeRWsqh4hefQUjV0hmzlBv\" width=\"50\" align=\"left\" title=\"Runa-perth\">"
   ],
   "metadata": {
    "id": "p-2MuWLhffuL"
   }
  }
 ],
 "metadata": {
  "kernelspec": {
   "display_name": "Python 3 (ipykernel)",
   "language": "python",
   "name": "python3"
  },
  "language_info": {
   "codemirror_mode": {
    "name": "ipython",
    "version": 3
   },
   "file_extension": ".py",
   "mimetype": "text/x-python",
   "name": "python",
   "nbconvert_exporter": "python",
   "pygments_lexer": "ipython3",
   "version": "3.8.11"
  },
  "colab": {
   "provenance": [],
   "toc_visible": true
  }
 },
 "nbformat": 4,
 "nbformat_minor": 0
}
