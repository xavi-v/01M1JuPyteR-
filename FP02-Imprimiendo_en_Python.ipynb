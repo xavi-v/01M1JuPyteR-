{
 "nbformat": 4,
 "nbformat_minor": 0,
 "metadata": {
  "kernelspec": {
   "display_name": "Python 3 (ipykernel)",
   "language": "python",
   "name": "python3"
  },
  "language_info": {
   "codemirror_mode": {
    "name": "ipython",
    "version": 3
   },
   "file_extension": ".py",
   "mimetype": "text/x-python",
   "name": "python",
   "nbconvert_exporter": "python",
   "pygments_lexer": "ipython3",
   "version": "3.8.11"
  },
  "colab": {
   "provenance": [],
   "toc_visible": true
  }
 },
 "cells": [
  {
   "cell_type": "markdown",
   "metadata": {
    "id": "Uubr3gOe45dD"
   },
   "source": [
    "# **Introducción a Python**\n",
    "# FP02. Imprimiendo"
   ]
  },
  {
   "cell_type": "markdown",
   "metadata": {
    "id": "A_HrwolY45dH"
   },
   "source": [
    "## <font color='blue'>**La función `print()`**</font>"
   ]
  },
  {
   "cell_type": "code",
   "metadata": {
    "id": "AFE_Aq-S45dH",
    "ExecuteTime": {
     "end_time": "2023-09-05T06:59:07.669761500Z",
     "start_time": "2023-09-05T06:59:07.648961700Z"
    }
   },
   "source": [
    "print(\"Hello World\")"
   ],
   "execution_count": 1,
   "outputs": [
    {
     "name": "stdout",
     "output_type": "stream",
     "text": [
      "Hello World\n"
     ]
    }
   ]
  },
  {
   "cell_type": "markdown",
   "metadata": {
    "id": "iuQxBj0-45dJ"
   },
   "source": [
    "<div class=\"alert alert-block alert-warning\">\n",
    "<b>TIP: </b>En Python, las comillas simples, dobles y triples se utilizan para denotar una cadena o _string_. <br>\n",
    "La mayoría usa comillas simples al declarar un solo carácter. <br>\n",
    "Comillas dobles al declarar una línea y ... <br>\n",
    "Comillas triples al declarar un párrafo / varias líneas.\n",
    "</div>\n",
    "\n"
   ]
  },
  {
   "cell_type": "code",
   "metadata": {
    "id": "yG9KoimR45dK",
    "ExecuteTime": {
     "end_time": "2023-09-05T06:59:18.028910400Z",
     "start_time": "2023-09-05T06:59:17.974037500Z"
    }
   },
   "source": [
    "print('A')"
   ],
   "execution_count": 2,
   "outputs": [
    {
     "name": "stdout",
     "output_type": "stream",
     "text": [
      "A\n"
     ]
    }
   ]
  },
  {
   "cell_type": "code",
   "metadata": {
    "id": "JPCF9aOd45dK",
    "ExecuteTime": {
     "end_time": "2023-09-05T06:59:24.668882500Z",
     "start_time": "2023-09-05T06:59:24.579878100Z"
    }
   },
   "source": [
    "print(\"Hello World\")"
   ],
   "execution_count": 3,
   "outputs": [
    {
     "name": "stdout",
     "output_type": "stream",
     "text": [
      "Hello World\n"
     ]
    }
   ]
  },
  {
   "cell_type": "code",
   "metadata": {
    "id": "ltpG5eD-45dL",
    "ExecuteTime": {
     "end_time": "2023-09-05T06:59:49.693295900Z",
     "start_time": "2023-09-05T06:59:49.634605900Z"
    }
   },
   "source": [
    "print (\"\"\"My name is <La Rata Javi> and\n",
    "\n",
    "I love Python.\"\"\")"
   ],
   "execution_count": 5,
   "outputs": [
    {
     "name": "stdout",
     "output_type": "stream",
     "text": [
      "My name is <La Rata Javi> and\n",
      "\n",
      "I love Python.\n"
     ]
    }
   ]
  },
  {
   "cell_type": "markdown",
   "metadata": {
    "id": "e047uSG145dM"
   },
   "source": [
    "Las cadenas se pueden asignar a una variable, por ejemplo, _string1_ y _string2_, las cuales se pueden llamar cuando se usa la función de impresión."
   ]
  },
  {
   "cell_type": "code",
   "metadata": {
    "scrolled": true,
    "id": "vihFnQz945dM",
    "ExecuteTime": {
     "end_time": "2023-09-05T07:04:07.508019200Z",
     "start_time": "2023-09-05T07:04:07.449039300Z"
    }
   },
   "source": [
    "string1 = 'World'\n",
    "print('Hello', string1)\n",
    "\n",
    "string2 = '!'\n",
    "print('Hello', string1, string2)"
   ],
   "execution_count": 6,
   "outputs": [
    {
     "name": "stdout",
     "output_type": "stream",
     "text": [
      "Hello World\n",
      "Hello World !\n"
     ]
    }
   ]
  },
  {
   "cell_type": "markdown",
   "metadata": {
    "id": "4Jvw7PGO45dN"
   },
   "source": [
    "La concatenación de cadenas es la \"suma\" de dos cadenas. Observe que durante la concatenación no habrá espacio entre las dos cadenas o strings."
   ]
  },
  {
   "cell_type": "code",
   "metadata": {
    "id": "FtmHxu-A45dN",
    "ExecuteTime": {
     "end_time": "2023-09-05T07:04:37.853893500Z",
     "start_time": "2023-09-05T07:04:37.744919400Z"
    }
   },
   "source": [
    "print('Hello' + string1 + string2)"
   ],
   "execution_count": 7,
   "outputs": [
    {
     "name": "stdout",
     "output_type": "stream",
     "text": [
      "HelloWorld!\n"
     ]
    }
   ]
  },
  {
   "cell_type": "markdown",
   "metadata": {
    "id": "AArQn7sJ45dO"
   },
   "source": [
    "## <font color='blue'>**String formating (formateo)**</font>\n",
    "\n",
    "Hay varias opciones para formatear las salidas de la funcion `print()` en Python. Dos de ellas ya están obsoletas (`%-formating` y `str.format()`), y la tercera es la que actualmente se usa (`f-Strings`).\n",
    "\n",
    "Encontrarás mucho código con las formas antiguas, así es que debes aprenderlas también."
   ]
  },
  {
   "cell_type": "markdown",
   "metadata": {
    "id": "L3D2jpmr45dP"
   },
   "source": [
    "## <font color='blue'>**Opción 1: `%-formatting` - La vieja escuela**</font>"
   ]
  },
  {
   "cell_type": "code",
   "metadata": {
    "id": "5xEADPNL45dP",
    "ExecuteTime": {
     "end_time": "2023-09-05T07:04:59.283017300Z",
     "start_time": "2023-09-05T07:04:59.182837800Z"
    }
   },
   "source": [
    "nombre = \"Juan\"\n",
    "\"Hola, %s.\" % nombre"
   ],
   "execution_count": 8,
   "outputs": [
    {
     "data": {
      "text/plain": "'Hola, Juan.'"
     },
     "execution_count": 8,
     "metadata": {},
     "output_type": "execute_result"
    }
   ]
  },
  {
   "cell_type": "code",
   "metadata": {
    "id": "dAl5XMMT45dP",
    "ExecuteTime": {
     "end_time": "2023-09-05T07:05:16.660741300Z",
     "start_time": "2023-09-05T07:05:16.580635400Z"
    }
   },
   "source": [
    "nombre = \"Juan\"\n",
    "edad = 34\n",
    "\n",
    "\"Hola, %s. Tú tienes %s años.\" % (nombre, edad)"
   ],
   "execution_count": 9,
   "outputs": [
    {
     "data": {
      "text/plain": "'Hola, Juan. Tú tienes 34 años.'"
     },
     "execution_count": 9,
     "metadata": {},
     "output_type": "execute_result"
    }
   ]
  },
  {
   "cell_type": "code",
   "metadata": {
    "id": "9F0C7T7g45dQ",
    "ExecuteTime": {
     "end_time": "2023-09-05T07:05:45.125762900Z",
     "start_time": "2023-09-05T07:05:45.092771200Z"
    }
   },
   "source": [
    "# Si las líneas a imprimir son más de una necesitaremos usa la función print()\n",
    "nombre2 = \"Andrea\"\n",
    "edad2 = 38\n",
    "\"Hola, %s. Tú tienes %s años.\" % (nombre, edad)\n",
    "\"Hola, %s. Tú tienes %s años.\" % (nombre2, edad2)"
   ],
   "execution_count": 12,
   "outputs": [
    {
     "data": {
      "text/plain": "'Hola, Andrea. Tú tienes 38 años.'"
     },
     "execution_count": 12,
     "metadata": {},
     "output_type": "execute_result"
    }
   ]
  },
  {
   "cell_type": "code",
   "metadata": {
    "id": "I0tA0UiA45dQ",
    "ExecuteTime": {
     "end_time": "2023-09-05T07:06:02.239568200Z",
     "start_time": "2023-09-05T07:06:02.163599200Z"
    }
   },
   "source": [
    "# Ahora si la salida estándar (la partalla) mostrará las dos sentencias\n",
    "print(\"Hola, %s. Tú tienes %s años.\" % (nombre, edad))\n",
    "print(\"Hola, %s. Tú tienes %s años.\" % (nombre2, edad2))"
   ],
   "execution_count": 13,
   "outputs": [
    {
     "name": "stdout",
     "output_type": "stream",
     "text": [
      "Hola, Juan. Tú tienes 34 años.\n",
      "Hola, Andrea. Tú tienes 38 años.\n"
     ]
    }
   ]
  },
  {
   "cell_type": "markdown",
   "metadata": {
    "id": "lRYQwC0n45dQ"
   },
   "source": [
    "Esta lógica de formateo resultó ser muy verborreica (verbose) y propensa a errores"
   ]
  },
  {
   "cell_type": "code",
   "metadata": {
    "id": "sCo4GBKi45dR",
    "ExecuteTime": {
     "end_time": "2023-09-05T07:06:26.628178Z",
     "start_time": "2023-09-05T07:06:26.589623100Z"
    }
   },
   "source": [
    "nombre = \"Juan\"\n",
    "apellido = \"Perez\"\n",
    "edad = 74\n",
    "profesion = \"comediante\"\n",
    "afiliacion = \"Monty Python\"\n",
    "\"Hola, %s %s. Tú tienes %s años. Eres un %s. Eres miembro de %s.\" % (nombre, apellido, edad, profesion, afiliacion)"
   ],
   "execution_count": 14,
   "outputs": [
    {
     "data": {
      "text/plain": "'Hola, Juan Perez. Tú tienes 74 años. Eres un comediante. Eres miembro de Monty Python.'"
     },
     "execution_count": 14,
     "metadata": {},
     "output_type": "execute_result"
    }
   ]
  },
  {
   "cell_type": "markdown",
   "metadata": {
    "id": "yF6DlCXb45dR"
   },
   "source": [
    "## <font color='blue'>**Opción 2: `str.format()` - Vieja escuela también**</font>\n",
    "En esta opción, se reemplazarán los campos marcados con corchetes { }"
   ]
  },
  {
   "cell_type": "code",
   "metadata": {
    "id": "luEj-0de45dR",
    "ExecuteTime": {
     "end_time": "2023-09-05T07:06:45.995133500Z",
     "start_time": "2023-09-05T07:06:45.896343600Z"
    }
   },
   "source": [
    "\"Hello {}\".format(string1)"
   ],
   "execution_count": 15,
   "outputs": [
    {
     "data": {
      "text/plain": "'Hello World'"
     },
     "execution_count": 15,
     "metadata": {},
     "output_type": "execute_result"
    }
   ]
  },
  {
   "cell_type": "code",
   "metadata": {
    "id": "6TdzcSmz45dR",
    "ExecuteTime": {
     "end_time": "2023-09-05T07:07:16.678926400Z",
     "start_time": "2023-09-05T07:07:16.544822800Z"
    }
   },
   "source": [
    "print(\"Hello {}\".format(string1))"
   ],
   "execution_count": 16,
   "outputs": [
    {
     "name": "stdout",
     "output_type": "stream",
     "text": [
      "Hello World\n"
     ]
    }
   ]
  },
  {
   "cell_type": "code",
   "metadata": {
    "id": "15VpXNn145dS",
    "ExecuteTime": {
     "end_time": "2023-09-05T07:07:19.027700200Z",
     "start_time": "2023-09-05T07:07:18.920913300Z"
    }
   },
   "source": [
    "# Podemos manejar la posición de las variables en el string de salida\n",
    "\"Hola, {}. Tu tienes {}.\".format(nombre, edad)"
   ],
   "execution_count": 17,
   "outputs": [
    {
     "data": {
      "text/plain": "'Hola, Juan. Tu tienes 74.'"
     },
     "execution_count": 17,
     "metadata": {},
     "output_type": "execute_result"
    }
   ]
  },
  {
   "cell_type": "code",
   "metadata": {
    "id": "glQhCJYb45dS",
    "ExecuteTime": {
     "end_time": "2023-09-05T07:07:22.716688600Z",
     "start_time": "2023-09-05T07:07:22.696683500Z"
    }
   },
   "source": [
    "\"Hola, {1}. Tu tienes {0}.\".format(edad, nombre)"
   ],
   "execution_count": 18,
   "outputs": [
    {
     "data": {
      "text/plain": "'Hola, Juan. Tu tienes 74.'"
     },
     "execution_count": 18,
     "metadata": {},
     "output_type": "execute_result"
    }
   ]
  },
  {
   "cell_type": "markdown",
   "metadata": {
    "id": "deOGmZTA45dS"
   },
   "source": [
    "Podemos utilizar otras notaciones numéricas durante el formateo\n",
    "\n",
    "    - %s -> string\n",
    "    - %d -> Integer\n",
    "    - %f -> Float\n",
    "    - %o -> Octal\n",
    "    - %x -> Hexadecimal\n",
    "    - %e -> exponential\n",
    "    \n",
    "Pueden ser utilizados dentro de la función `print()` para convertir los tipos de datos."
   ]
  },
  {
   "cell_type": "code",
   "metadata": {
    "id": "dFV7piGs45dT",
    "ExecuteTime": {
     "end_time": "2023-09-05T07:07:26.779474400Z",
     "start_time": "2023-09-05T07:07:26.699899700Z"
    }
   },
   "source": [
    "# Utilizando la Opción 1\n",
    "\n",
    "print (\"Actual Number = %d\" %18)\n",
    "print (\"Float of the number = %f\" %18)\n",
    "print (\"Octal equivalent of the number = %o\" %18)\n",
    "print (\"Hexadecimal equivalent of the number = %x\" %18)\n",
    "print (\"Exponential equivalent of the number = %e\" %18)"
   ],
   "execution_count": 19,
   "outputs": [
    {
     "name": "stdout",
     "output_type": "stream",
     "text": [
      "Actual Number = 18\n",
      "Float of the number = 18.000000\n",
      "Octal equivalent of the number = 22\n",
      "Hexadecimal equivalent of the number = 12\n",
      "Exponential equivalent of the number = 1.800000e+01\n"
     ]
    }
   ]
  },
  {
   "cell_type": "code",
   "metadata": {
    "id": "P5kAaN3w45dT",
    "ExecuteTime": {
     "end_time": "2023-09-05T07:07:29.795374300Z",
     "start_time": "2023-09-05T07:07:29.771997800Z"
    }
   },
   "source": [
    "# Utilizando la opción 2\n",
    "\n",
    "print (\"Actual Number = {:d}\".format(18))\n",
    "print (\"Float of the number = {:f}\".format(18))\n",
    "print (\"Octal equivalent of the number = {:o}\".format(18))\n",
    "print (\"Hexadecimal equivalent of the number = {:x}\".format(18))\n",
    "print (\"Exponential equivalent of the number = {:e}\".format(18))"
   ],
   "execution_count": 20,
   "outputs": [
    {
     "name": "stdout",
     "output_type": "stream",
     "text": [
      "Actual Number = 18\n",
      "Float of the number = 18.000000\n",
      "Octal equivalent of the number = 22\n",
      "Hexadecimal equivalent of the number = 12\n",
      "Exponential equivalent of the number = 1.800000e+01\n"
     ]
    }
   ]
  },
  {
   "cell_type": "markdown",
   "metadata": {
    "id": "MmRYYFzW45dT"
   },
   "source": [
    "\n",
    "Veamos distintas formas de integrar `print()`con `format()`.<br>\n",
    "Analiza y y comenta las diferentes salidas."
   ]
  },
  {
   "cell_type": "code",
   "metadata": {
    "id": "ghkdb3mP45dT",
    "ExecuteTime": {
     "end_time": "2023-09-05T07:07:34.386820200Z",
     "start_time": "2023-09-05T07:07:34.270234Z"
    }
   },
   "source": [
    "print('1.  {1} {0}'.format('one', 'two'))\n",
    "# Alineación a la derecha\n",
    "print('2.  {:>10}'.format('test'))\n",
    "# Alineación izquierda (por defecto)\n",
    "print('3.  {:10}'.format('test'))\n",
    "# numeros\n",
    "print('4.  {:d}'.format(42))\n",
    "# Cantidad de decimales por defecto\n",
    "print('5.  {:f}'.format(3.141592653589793))\n",
    "# padding\n",
    "print('6.  {:4d}'.format(42))\n",
    "# Completa con ceros a la izquierda un float,\n",
    "# 6 caracteres y dos decimales,\n",
    "# el punto se considera caracter\n",
    "print('7.  {:06.2f}'.format(3.141592653589793))\n",
    "# completa con ceros a la izquierda un entero\n",
    "print('8.  {:04d}'.format(42))\n",
    "print('9.  {: d}'.format((- 23)))\n",
    "# Asigna nombres a los elementos a imprimir\n",
    "# esto permite imprimir variables de forma directa\n",
    "print('10. {first} {last}'.format(first='Hello', last='world!'))\n",
    "print(\"11. Hello {:s} {:s}\".format(string1, string2))"
   ],
   "execution_count": 21,
   "outputs": [
    {
     "name": "stdout",
     "output_type": "stream",
     "text": [
      "1.  two one\n",
      "2.        test\n",
      "3.  test      \n",
      "4.  42\n",
      "5.  3.141593\n",
      "6.    42\n",
      "7.  003.14\n",
      "8.  0042\n",
      "9.  -23\n",
      "10. Hello world!\n",
      "11. Hello World !\n"
     ]
    }
   ]
  },
  {
   "cell_type": "markdown",
   "metadata": {
    "id": "qKfxMdz645dU"
   },
   "source": [
    "### Otros ejemplos"
   ]
  },
  {
   "cell_type": "markdown",
   "metadata": {
    "id": "8tiUa9F345dU"
   },
   "source": [
    "Las siguientes son otras formas diferentes de utilizar la declaración de impresión."
   ]
  },
  {
   "cell_type": "code",
   "metadata": {
    "id": "AfsWhCYM45dU",
    "ExecuteTime": {
     "end_time": "2023-09-05T07:07:42.192885200Z",
     "start_time": "2023-09-05T07:07:42.125606100Z"
    }
   },
   "source": [
    "print (\"I want to be printed {:s}\".format('here'))"
   ],
   "execution_count": 22,
   "outputs": [
    {
     "name": "stdout",
     "output_type": "stream",
     "text": [
      "I want to be printed here\n"
     ]
    }
   ]
  },
  {
   "cell_type": "code",
   "metadata": {
    "id": "sjKPBLnJ45dU",
    "ExecuteTime": {
     "end_time": "2023-09-05T07:07:44.365800200Z",
     "start_time": "2023-09-05T07:07:44.256123700Z"
    }
   },
   "source": [
    "print('_A'*10)"
   ],
   "execution_count": 23,
   "outputs": [
    {
     "name": "stdout",
     "output_type": "stream",
     "text": [
      "_A_A_A_A_A_A_A_A_A_A\n"
     ]
    }
   ]
  },
  {
   "cell_type": "code",
   "metadata": {
    "id": "_otIYuEJ45dV",
    "ExecuteTime": {
     "end_time": "2023-09-05T07:07:47.785079800Z",
     "start_time": "2023-09-05T07:07:47.739944800Z"
    }
   },
   "source": [
    "# Con el caracter de control \\n saltamos una línea\n",
    "print(\"Jan\\nFeb\\nMar\\nApr\\nMay\\nJun\\nJul\\nAug\")"
   ],
   "execution_count": 24,
   "outputs": [
    {
     "name": "stdout",
     "output_type": "stream",
     "text": [
      "Jan\n",
      "Feb\n",
      "Mar\n",
      "Apr\n",
      "May\n",
      "Jun\n",
      "Jul\n",
      "Aug\n"
     ]
    }
   ]
  },
  {
   "cell_type": "code",
   "metadata": {
    "id": "ZMcReAnP45dV",
    "ExecuteTime": {
     "end_time": "2023-09-05T07:07:52.635833300Z",
     "start_time": "2023-09-05T07:07:52.497813500Z"
    }
   },
   "source": [
    "# Si queremos imprimir el caracter \\n sin saltar línea duplicamos el backslash\n",
    "print(\"I want \\\\n to be printed.\")"
   ],
   "execution_count": 25,
   "outputs": [
    {
     "name": "stdout",
     "output_type": "stream",
     "text": [
      "I want \\n to be printed.\n"
     ]
    }
   ]
  },
  {
   "cell_type": "code",
   "metadata": {
    "id": "nZDKHWkV45dV",
    "ExecuteTime": {
     "end_time": "2023-09-05T07:08:01.173594500Z",
     "start_time": "2023-09-05T07:08:01.117998700Z"
    }
   },
   "source": [
    "# Con \\t generamos una tabulación\n",
    "print(\"Look\\twhat\\thappens.\")"
   ],
   "execution_count": 26,
   "outputs": [
    {
     "name": "stdout",
     "output_type": "stream",
     "text": [
      "Look\twhat\thappens.\n"
     ]
    }
   ]
  },
  {
   "cell_type": "code",
   "metadata": {
    "id": "QzrtJxJn45dV",
    "ExecuteTime": {
     "end_time": "2023-09-05T07:08:06.425791900Z",
     "start_time": "2023-09-05T07:08:06.302341800Z"
    }
   },
   "source": [
    "print(\"\"\"\n",
    "Routine:\n",
    "\\t- Eat\n",
    "\\t- Sleep\\n\\t- Repeat\n",
    "\"\"\")"
   ],
   "execution_count": 27,
   "outputs": [
    {
     "name": "stdout",
     "output_type": "stream",
     "text": [
      "\n",
      "Routine:\n",
      "\t- Eat\n",
      "\t- Sleep\n",
      "\t- Repeat\n",
      "\n"
     ]
    }
   ]
  },
  {
   "cell_type": "markdown",
   "metadata": {
    "id": "H8wbB6al45dW"
   },
   "source": [
    "### Manejando la precisión y la cantidad de números a mostrar"
   ]
  },
  {
   "cell_type": "markdown",
   "metadata": {
    "id": "A0RfHiOr45dW"
   },
   "source": [
    "El ancho del campo es el ancho del número completo y la precisión es el ancho hacia la derecha desde el punto decimal. Se pueden modificar estos anchos según los requisitos.\n",
    "\n",
    "El ancho de precisión predeterminado se establece en 6."
   ]
  },
  {
   "cell_type": "code",
   "metadata": {
    "id": "eOU4ps6R45dW",
    "ExecuteTime": {
     "end_time": "2023-09-05T07:08:24.544760300Z",
     "start_time": "2023-09-05T07:08:24.427962Z"
    }
   },
   "source": [
    "# predeterminado = 6\n",
    "\"%f\" % 3.121312312312"
   ],
   "execution_count": 28,
   "outputs": [
    {
     "data": {
      "text/plain": "'3.121312'"
     },
     "execution_count": 28,
     "metadata": {},
     "output_type": "execute_result"
    }
   ]
  },
  {
   "cell_type": "markdown",
   "metadata": {
    "id": "ChP1QMM_45dW"
   },
   "source": [
    "Observa que se devuelven hasta 6 decimales. Para especificar el número de decimales, se utiliza\n",
    "\n",
    "`\"%(fieldwidth).(precisionwidth)f\"`"
   ]
  },
  {
   "cell_type": "code",
   "metadata": {
    "id": "6DSruVUL45dW",
    "ExecuteTime": {
     "end_time": "2023-09-05T07:09:05.191536100Z",
     "start_time": "2023-09-05T07:09:05.062316500Z"
    }
   },
   "source": [
    "\"%.5f\" % 3.121312312312"
   ],
   "execution_count": 29,
   "outputs": [
    {
     "data": {
      "text/plain": "'3.12131'"
     },
     "execution_count": 29,
     "metadata": {},
     "output_type": "execute_result"
    }
   ]
  },
  {
   "cell_type": "markdown",
   "metadata": {
    "id": "cwmh6wbu45dW"
   },
   "source": [
    "### Lo mismo pero usando la opción 2 con str.format()\n",
    "Cuál es la diferencia?\n",
    "\n",
    "TIP: busca en los pequeños detalles"
   ]
  },
  {
   "cell_type": "code",
   "metadata": {
    "id": "Ts_y2LQ_45dW",
    "ExecuteTime": {
     "end_time": "2023-09-05T07:09:24.792662300Z",
     "start_time": "2023-09-05T07:09:24.683953600Z"
    }
   },
   "source": [
    "print(\"{:.5f}\".format(3.121312312312))"
   ],
   "execution_count": 30,
   "outputs": [
    {
     "name": "stdout",
     "output_type": "stream",
     "text": [
      "3.12131\n"
     ]
    }
   ]
  },
  {
   "cell_type": "code",
   "metadata": {
    "id": "vylv688g45dX",
    "ExecuteTime": {
     "end_time": "2023-09-05T07:09:28.681636Z",
     "start_time": "2023-09-05T07:09:28.617783500Z"
    }
   },
   "source": [
    "type(\"%.5f\" % 3.121312312312)"
   ],
   "execution_count": 31,
   "outputs": [
    {
     "data": {
      "text/plain": "str"
     },
     "execution_count": 31,
     "metadata": {},
     "output_type": "execute_result"
    }
   ]
  },
  {
   "cell_type": "code",
   "metadata": {
    "id": "HfpEhviH45dX",
    "ExecuteTime": {
     "end_time": "2023-09-05T07:09:35.334834400Z",
     "start_time": "2023-09-05T07:09:35.212802500Z"
    }
   },
   "source": [
    "type(print(\"{:.5f}\".format(3.121312312312)))"
   ],
   "execution_count": 32,
   "outputs": [
    {
     "name": "stdout",
     "output_type": "stream",
     "text": [
      "3.12131\n"
     ]
    },
    {
     "data": {
      "text/plain": "NoneType"
     },
     "execution_count": 32,
     "metadata": {},
     "output_type": "execute_result"
    }
   ]
  },
  {
   "cell_type": "markdown",
   "metadata": {
    "id": "Y_WrASVB45dX"
   },
   "source": [
    "Si el ancho del campo se establece más de lo necesario, los datos a la derecha se alinean para ajustarse a los valores especificados."
   ]
  },
  {
   "cell_type": "code",
   "metadata": {
    "id": "7BC2DMLA45dX",
    "ExecuteTime": {
     "end_time": "2023-09-05T07:09:38.078198500Z",
     "start_time": "2023-09-05T07:09:37.963106200Z"
    }
   },
   "source": [
    "\"%9.5f\" % 3.121312312312"
   ],
   "execution_count": 33,
   "outputs": [
    {
     "data": {
      "text/plain": "'  3.12131'"
     },
     "execution_count": 33,
     "metadata": {},
     "output_type": "execute_result"
    }
   ]
  },
  {
   "cell_type": "markdown",
   "metadata": {
    "id": "42TMoWfU45dY"
   },
   "source": [
    "Para una alineación adecuada, se puede dejar un espacio en blanco en el ancho del campo para que cuando se use un número negativo, se mantenga la alineación adecuada."
   ]
  },
  {
   "cell_type": "code",
   "metadata": {
    "id": "rz_OGeb_45dY",
    "ExecuteTime": {
     "end_time": "2023-09-05T07:09:49.863764200Z",
     "start_time": "2023-09-05T07:09:49.825805200Z"
    }
   },
   "source": [
    "print(\"{:10f}\".format(3.121312312312)) # Recuerda que por defecto imprimirá 6 decimales\n",
    "print(\"{:10f}\".format(-3.121312312312))\n",
    "print(\"{: 9f}\".format(-3.121312312312))"
   ],
   "execution_count": 34,
   "outputs": [
    {
     "name": "stdout",
     "output_type": "stream",
     "text": [
      "  3.121312\n",
      " -3.121312\n",
      "-3.121312\n"
     ]
    }
   ]
  },
  {
   "cell_type": "markdown",
   "metadata": {
    "id": "RaPrgRuy45dY"
   },
   "source": [
    "Como se mencionó anteriormente, los datos a la derecha se alinean cuando el ancho del campo mencionado es mayor que el ancho del campo real. Pero la alineación a la izquierda se puede hacer especificando un símbolo negativo en el ancho del campo."
   ]
  },
  {
   "cell_type": "markdown",
   "metadata": {
    "id": "fSmtBxN845dZ"
   },
   "source": [
    "## <font color='blue'>**Opción 3: `f-strings` - La nueva escuela**</font>"
   ]
  },
  {
   "cell_type": "markdown",
   "metadata": {
    "id": "89yCyAlw45dZ"
   },
   "source": [
    "La sintaxis es similar a la que usó con `str.format()` pero menos detallada (verbose). Mira lo fácil de leer que es:"
   ]
  },
  {
   "cell_type": "code",
   "metadata": {
    "id": "SjMfGAH345dZ",
    "ExecuteTime": {
     "end_time": "2023-09-05T07:09:58.044948400Z",
     "start_time": "2023-09-05T07:09:57.930583600Z"
    }
   },
   "source": [
    "nombre = \"Pedro\"\n",
    "edad = 42\n",
    "f\"Hola, {nombre}. Tu tienes {edad} años.\""
   ],
   "execution_count": 35,
   "outputs": [
    {
     "data": {
      "text/plain": "'Hola, Pedro. Tu tienes 42 años.'"
     },
     "execution_count": 35,
     "metadata": {},
     "output_type": "execute_result"
    }
   ]
  },
  {
   "cell_type": "code",
   "metadata": {
    "id": "w1jx-nLC45da",
    "ExecuteTime": {
     "end_time": "2023-09-05T07:09:59.385722Z",
     "start_time": "2023-09-05T07:09:59.319070300Z"
    }
   },
   "source": [
    "# la f puede ser mayúscula tambien\n",
    "F\"Hola, {nombre}. Tu tienes {edad} años.\""
   ],
   "execution_count": 36,
   "outputs": [
    {
     "data": {
      "text/plain": "'Hola, Pedro. Tu tienes 42 años.'"
     },
     "execution_count": 36,
     "metadata": {},
     "output_type": "execute_result"
    }
   ]
  },
  {
   "cell_type": "markdown",
   "metadata": {
    "id": "IQkBGWG045da"
   },
   "source": [
    "Los f-strings pueden evaluar operaciones en su interior"
   ]
  },
  {
   "cell_type": "code",
   "metadata": {
    "id": "XdYJ7FZk45da",
    "ExecuteTime": {
     "end_time": "2023-09-05T07:10:02.279530400Z",
     "start_time": "2023-09-05T07:10:02.170773700Z"
    }
   },
   "source": [
    "f'{2 * 8}'"
   ],
   "execution_count": 37,
   "outputs": [
    {
     "data": {
      "text/plain": "'16'"
     },
     "execution_count": 37,
     "metadata": {},
     "output_type": "execute_result"
    }
   ]
  },
  {
   "cell_type": "code",
   "metadata": {
    "id": "QlUyUA2N45da",
    "ExecuteTime": {
     "end_time": "2023-09-05T07:10:05.133683200Z",
     "start_time": "2023-09-05T07:10:04.978674Z"
    }
   },
   "source": [
    "f'{2} x {8} = {2 * 8}'"
   ],
   "execution_count": 38,
   "outputs": [
    {
     "data": {
      "text/plain": "'2 x 8 = 16'"
     },
     "execution_count": 38,
     "metadata": {},
     "output_type": "execute_result"
    }
   ]
  },
  {
   "cell_type": "code",
   "metadata": {
    "id": "LRTMK6jP45da",
    "ExecuteTime": {
     "end_time": "2023-09-05T07:10:07.709679400Z",
     "start_time": "2023-09-05T07:10:07.634149600Z"
    }
   },
   "source": [
    "# Igual que antes, si queremos imprimir más de una sentencia, deberemos usar la función print()\n",
    "F\"Hola, {nombre}. Tu tienes {edad} años.\"\n",
    "F\"Hola, {nombre2}. Tu tienes {edad2} años.\""
   ],
   "execution_count": 39,
   "outputs": [
    {
     "data": {
      "text/plain": "'Hola, Andrea. Tu tienes 38 años.'"
     },
     "execution_count": 39,
     "metadata": {},
     "output_type": "execute_result"
    }
   ]
  },
  {
   "cell_type": "code",
   "metadata": {
    "id": "BeZLJnht45da",
    "ExecuteTime": {
     "end_time": "2023-09-05T07:10:10.031582400Z",
     "start_time": "2023-09-05T07:10:09.989337600Z"
    }
   },
   "source": [
    "print(F\"Hola, {nombre}. Tu tienes {edad} años.\")\n",
    "print(F\"Hola, {nombre2}. Tu tienes {edad2} años.\")"
   ],
   "execution_count": 40,
   "outputs": [
    {
     "name": "stdout",
     "output_type": "stream",
     "text": [
      "Hola, Pedro. Tu tienes 42 años.\n",
      "Hola, Andrea. Tu tienes 38 años.\n"
     ]
    }
   ]
  },
  {
   "cell_type": "code",
   "metadata": {
    "id": "H1q42gza45db",
    "ExecuteTime": {
     "end_time": "2023-09-05T07:10:12.105592900Z",
     "start_time": "2023-09-05T07:10:11.994073100Z"
    }
   },
   "source": [
    "mensaje = (\n",
    "    F\"Hola, {nombre}. Tu tienes {edad} años. \\n\"\n",
    "    F\"Hola, {nombre2}. Tu tienes {edad2} años.\"\n",
    ")\n",
    "print(mensaje)"
   ],
   "execution_count": 41,
   "outputs": [
    {
     "name": "stdout",
     "output_type": "stream",
     "text": [
      "Hola, Pedro. Tu tienes 42 años. \n",
      "Hola, Andrea. Tu tienes 38 años.\n"
     ]
    }
   ]
  },
  {
   "cell_type": "code",
   "metadata": {
    "id": "KChdbV2A45db",
    "ExecuteTime": {
     "end_time": "2023-09-05T07:10:16.113110400Z",
     "start_time": "2023-09-05T07:10:16.037938600Z"
    }
   },
   "source": [
    "# Otras notaciones numéricas utilizando la Opción 3\n",
    "val = 18\n",
    "print (f\"Actual Number = {val: d}\")\n",
    "print (f\"Float of the number = {val: f}\")\n",
    "print (f\"Octal equivalent of the number = {val :o}\")\n",
    "print (f\"Hexadecimal equivalent of the number = {val :x}\")\n",
    "print (f\"Exponential equivalent of the number = {val :e}\")"
   ],
   "execution_count": 42,
   "outputs": [
    {
     "name": "stdout",
     "output_type": "stream",
     "text": [
      "Actual Number =  18\n",
      "Float of the number =  18.000000\n",
      "Octal equivalent of the number = 22\n",
      "Hexadecimal equivalent of the number = 12\n",
      "Exponential equivalent of the number = 1.800000e+01\n"
     ]
    }
   ]
  },
  {
   "cell_type": "markdown",
   "metadata": {
    "id": "24o2fHbE45db"
   },
   "source": [
    "### Manejando la precisión y la cantidad de números a mostrar"
   ]
  },
  {
   "cell_type": "code",
   "metadata": {
    "id": "4rs5fxEV45db",
    "ExecuteTime": {
     "end_time": "2023-09-05T07:10:20.941534700Z",
     "start_time": "2023-09-05T07:10:20.825573600Z"
    }
   },
   "source": [
    "val2 = 3.121312312312\n",
    "print(f\"{val2:.2f}\")\n",
    "print(f\"{val2:.5f}\")\n",
    "print(f\"{val2:9.5f}\")\n",
    "print(f\"{val2:09.5f}\")"
   ],
   "execution_count": 43,
   "outputs": [
    {
     "name": "stdout",
     "output_type": "stream",
     "text": [
      "3.12\n",
      "3.12131\n",
      "  3.12131\n",
      "003.12131\n"
     ]
    }
   ]
  },
  {
   "cell_type": "markdown",
   "metadata": {
    "id": "pkUfuLRl45db"
   },
   "source": [
    "### Justificando y manejo de ancho con f-strings"
   ]
  },
  {
   "cell_type": "code",
   "metadata": {
    "id": "Sd6wTu3O45db",
    "ExecuteTime": {
     "end_time": "2023-09-05T07:10:24.486963500Z",
     "start_time": "2023-09-05T07:10:24.445195300Z"
    }
   },
   "source": [
    "s1 = 'a'\n",
    "s2 = 'ab'\n",
    "s3 = 'abc'\n",
    "s4 = 'abcd'\n",
    "\n",
    "print(f'{s1:>10}')\n",
    "print(f'{s2:>10}')\n",
    "print(f'{s3:>10}')\n",
    "print(f'{s4:>10}')"
   ],
   "execution_count": 44,
   "outputs": [
    {
     "name": "stdout",
     "output_type": "stream",
     "text": [
      "         a\n",
      "        ab\n",
      "       abc\n",
      "      abcd\n"
     ]
    }
   ]
  },
  {
   "cell_type": "markdown",
   "metadata": {
    "id": "Dz5nWGxW45dc"
   },
   "source": [
    "## <font color='blue'>**Ingresando datos desde el teclado**</font>"
   ]
  },
  {
   "cell_type": "code",
   "metadata": {
    "id": "hilk0WYU45dc",
    "ExecuteTime": {
     "end_time": "2023-09-05T07:10:36.687773300Z",
     "start_time": "2023-09-05T07:10:30.161282200Z"
    }
   },
   "source": [
    "input(\"Mi nombre es: \")"
   ],
   "execution_count": 45,
   "outputs": [
    {
     "data": {
      "text/plain": "'javi'"
     },
     "execution_count": 45,
     "metadata": {},
     "output_type": "execute_result"
    }
   ]
  },
  {
   "cell_type": "markdown",
   "source": [
    "## <font color='blue'>__Ejercicios__</font>"
   ],
   "metadata": {
    "id": "PxCiEN__wlv0"
   }
  },
  {
   "cell_type": "markdown",
   "metadata": {
    "id": "5AkVX3Et45dX"
   },
   "source": [
    "### <font color='green'>Actividad 1:</font>\n",
    "### Escribe sentencias con `str.format()`\n",
    "Escribe las sentencias utilizando la opción 2 con `str.format()`.\n",
    "\n",
    "1. Imprime la siguiente salida utilizando el valor de pi dado:\n",
    "\n",
    "```python\n",
    "El valor de Π es   3.14159\n",
    "```\n",
    "\n",
    "Tip: Con *chr(298))* obtendrás el caracter unicode de PI.\n",
    "\n",
    "2. Genera la siguiente impresión en base a *valor1* y *valor2*\n",
    "\n",
    "```python\n",
    "01234.123\n",
    "00001.123\n",
    "```\n",
    "\n",
    "Tip: El relleno de ceros (zero padding) se realiza agregando un 0 al comienzo del ancho de campo."
   ]
  },
  {
   "cell_type": "code",
   "metadata": {
    "id": "RWJjVHWo45dX",
    "ExecuteTime": {
     "end_time": "2023-09-05T07:27:53.719477Z",
     "start_time": "2023-09-05T07:27:53.597832600Z"
    }
   },
   "source": [
    "import math\n",
    "pi = math.pi\n",
    "# Tu código aquí...\n",
    "print(\"El valor de Π es {:.5f}\".format(pi))\n",
    "# 1.\n"
   ],
   "execution_count": 65,
   "outputs": [
    {
     "name": "stdout",
     "output_type": "stream",
     "text": [
      "El valor de Π es 3.14159\n"
     ]
    }
   ]
  },
  {
   "cell_type": "code",
   "metadata": {
    "id": "qQPetRRu45dY",
    "ExecuteTime": {
     "end_time": "2023-09-05T07:27:56.442711Z",
     "start_time": "2023-09-05T07:27:56.384090500Z"
    }
   },
   "source": [
    "# 2.\n",
    "valor1 = 1234.123456789\n",
    "valor2 = 1.1234\n",
    "# Tu código aquí...\n",
    "print('{:09.3f}'.format(valor1))\n",
    "print('{:09.3f}'.format(valor2))"
   ],
   "execution_count": 66,
   "outputs": [
    {
     "name": "stdout",
     "output_type": "stream",
     "text": [
      "01234.123\n",
      "00001.123\n"
     ]
    }
   ]
  },
  {
   "cell_type": "markdown",
   "metadata": {
    "id": "ALV7jnGY45dY"
   },
   "source": [
    "<font color='green'>Fin actividad 1</font>"
   ]
  },
  {
   "cell_type": "markdown",
   "metadata": {
    "id": "-uVsgppx45dZ"
   },
   "source": [
    "### <font color='green'>Actividad 2:</font>\n",
    "### Cuál es la diferencia?\n",
    "Abre una nueva celda debajo de la siguiente y escribe un texto Markdown que explique cuál es la diferencia entre las dos siguientes declaraciones de impresión."
   ]
  },
  {
   "cell_type": "code",
   "metadata": {
    "id": "OvxF8-vM45dZ",
    "ExecuteTime": {
     "end_time": "2023-09-05T07:18:19.399694800Z",
     "start_time": "2023-09-05T07:18:19.284812500Z"
    }
   },
   "source": [
    "print(\"{:9.3f}\".format(3.121312312312))\n",
    "print(\"{:.3f}\".format(3.121312312312))"
   ],
   "execution_count": 50,
   "outputs": [
    {
     "name": "stdout",
     "output_type": "stream",
     "text": [
      "    3.121\n",
      "3.121\n"
     ]
    }
   ]
  },
  {
   "cell_type": "markdown",
   "metadata": {
    "id": "pyndqGPn45dZ"
   },
   "source": [
    "Tu explicación aquí ...\n",
    "## explicación\n",
    "La diferencia es que en el primer print le damos un formato de 9 caracteres y 3 decimales y en el segundo solo corresponde a 3 decimales.\n",
    "En el primero se le añaden 4 ceros antes del 3, los 4 ceros más el 3 y el punto suman 6 caracteres, sumado a los 3 decimales nos da 9 caracteres.\n",
    "En cambio en el segundo no se le añade ningún cero, dado que solo el formato está considerando 3 decimales\n",
    "\n"
   ]
  },
  {
   "cell_type": "markdown",
   "metadata": {
    "id": "5gpyMpvs45dZ"
   },
   "source": [
    "<font color='green'>Fin actividad 2</font>"
   ]
  },
  {
   "cell_type": "markdown",
   "metadata": {
    "id": "mUCl1Ej245db"
   },
   "source": [
    "### <font color='green'>Actividad 3:</font>\n",
    "### Manejo de ancho con f-strings\n",
    "Ejecuta el siguiente ejemplo y luego desarrolla el desafío"
   ]
  },
  {
   "cell_type": "code",
   "metadata": {
    "id": "1Unzkfu-45dc",
    "ExecuteTime": {
     "end_time": "2023-09-05T07:18:35.267932300Z",
     "start_time": "2023-09-05T07:18:35.228933200Z"
    }
   },
   "source": [
    "# El siguiente ejemplo imprime tres columnas del mismo ancho\n",
    "\n",
    "for x in range(1, 11):\n",
    "    print(f'{x:5} {x:5} {x:5}')"
   ],
   "execution_count": 51,
   "outputs": [
    {
     "name": "stdout",
     "output_type": "stream",
     "text": [
      "    1     1     1\n",
      "    2     2     2\n",
      "    3     3     3\n",
      "    4     4     4\n",
      "    5     5     5\n",
      "    6     6     6\n",
      "    7     7     7\n",
      "    8     8     8\n",
      "    9     9     9\n",
      "   10    10    10\n"
     ]
    }
   ]
  },
  {
   "cell_type": "code",
   "metadata": {
    "id": "ZlHN2T9645dc",
    "ExecuteTime": {
     "end_time": "2023-09-05T07:21:56.188186800Z",
     "start_time": "2023-09-05T07:21:56.106057200Z"
    }
   },
   "source": [
    "# Crea tres columnas similares a las anteriores en cuyas filas se escriba el número, su potencia de\n",
    "# dos y su potencia de tres\n",
    "# El ancho de las columnas debe ser 2 para la primera, 3 para la segunda y 4 para la tercera\n",
    "# Tu código aquí\n",
    "for x in range(1, 11):\n",
    "    print(f'{x:2} {x**2:3} {x**3:4}')\n"
   ],
   "execution_count": 56,
   "outputs": [
    {
     "name": "stdout",
     "output_type": "stream",
     "text": [
      " 1   1    1\n",
      " 2   4    8\n",
      " 3   9   27\n",
      " 4  16   64\n",
      " 5  25  125\n",
      " 6  36  216\n",
      " 7  49  343\n",
      " 8  64  512\n",
      " 9  81  729\n",
      "10 100 1000\n"
     ]
    }
   ]
  },
  {
   "cell_type": "markdown",
   "metadata": {
    "id": "J-hRFyE945dc"
   },
   "source": [
    "<font color='green'>Fin actividad 3</font>"
   ]
  },
  {
   "cell_type": "markdown",
   "metadata": {
    "id": "5wnFNkbc45dc"
   },
   "source": [
    "### <font color='green'>Actividad 4:</font>\n",
    "### Almacena el dato ingresado en una variable\n",
    "Almacena su nombre en una variable\n",
    "\n",
    "TIP: utilice la función input()\n"
   ]
  },
  {
   "cell_type": "code",
   "metadata": {
    "id": "6YO-7g3b45dc",
    "ExecuteTime": {
     "end_time": "2023-09-05T07:22:49.496848Z",
     "start_time": "2023-09-05T07:22:45.615181100Z"
    }
   },
   "source": [
    "mi_nombre = input(\"Mi nombre es: \")\n",
    "mi_nombre"
   ],
   "execution_count": 57,
   "outputs": [
    {
     "data": {
      "text/plain": "'javi'"
     },
     "execution_count": 57,
     "metadata": {},
     "output_type": "execute_result"
    }
   ]
  },
  {
   "cell_type": "markdown",
   "source": [
    "### Escribe \"Hello world\" con tu nombre\n",
    "Escribe \"Hello world, \\<nombre\\>!!\" utilizando los tres métodos de formateo enseñados en la clase <br>\n",
    "\n",
    "TIP: utiliza la variable que contiene tu nombre<br>\n",
    "OUTPUT: \"Hello world, Andrés!!\""
   ],
   "metadata": {
    "id": "wlib77m5m92o"
   }
  },
  {
   "cell_type": "code",
   "source": [
    "# Tu código aquí ...\n",
    "print(\"Hello world, %s!!\" % mi_nombre)\n",
    "print(\"Hello world, {}!!\".format(mi_nombre))\n",
    "print(f\"Hello world, {mi_nombre}!!\")"
   ],
   "metadata": {
    "id": "DqR5kYjinD7m",
    "ExecuteTime": {
     "end_time": "2023-09-05T07:23:45.150858200Z",
     "start_time": "2023-09-05T07:23:45.060644Z"
    }
   },
   "execution_count": 58,
   "outputs": [
    {
     "name": "stdout",
     "output_type": "stream",
     "text": [
      "Hello world, javi!!\n",
      "Hello world, javi!!\n",
      "Hello world, javi!!\n"
     ]
    }
   ]
  },
  {
   "cell_type": "markdown",
   "metadata": {
    "id": "p_QdbBR_45dd"
   },
   "source": [
    "<font color='green'>Fin actividad 4</font>"
   ]
  },
  {
   "cell_type": "markdown",
   "metadata": {
    "id": "2BZMFmFS45dd"
   },
   "source": [
    "### <font color='green'>Actividad 5:</font>\n",
    "### Imprime datos de la tienda en línea\n",
    "\n",
    "Imagina que estás desarrollando un programa para una tienda en línea y necesitas mostrar la información de un producto, incluyendo su nombre, precio, descuento y precio final. Utilizando f-strings con opciones de formateo avanzado, crea una cadena formateada que muestre estos datos de manera adecuada y estilizada. Asegúrate de alinear correctamente el texto y los números, así como de mostrar los decimales y el símbolo de porcentaje según las especificaciones indicadas. Imprime la cadena formateada para visualizar los resultados.\n",
    "\n",
    "La salida debe verse de la siguiente forma:\n",
    "```Python\n",
    "Producto: Computadora portátil\n",
    "Precio:       $   1299.99\n",
    "Descuento:          15.00%\n",
    "Precio final: $   1104.99\n",
    "```"
   ]
  },
  {
   "cell_type": "code",
   "metadata": {
    "id": "SgqOnfuO45dd",
    "ExecuteTime": {
     "end_time": "2023-09-05T07:25:30.380106600Z",
     "start_time": "2023-09-05T07:25:30.217790500Z"
    }
   },
   "source": [
    "# Datos de una tienda en línea\n",
    "producto = \"Computadora portátil\"\n",
    "precio = 1299.99\n",
    "descuento = 0.15\n",
    "\n",
    "# Tu código aquí ...\n",
    "\n",
    "Boleta = (\n",
    "    f\"Producto:     {producto}\\n\"\n",
    "    f\"Precio:       ${precio:9.2f}\\n\"\n",
    "    f\"Descuento:    {descuento:10.2%}\\n\"\n",
    "    f\"Precio final: ${precio - precio * descuento:9.2f}\"\n",
    ")\n",
    "\n",
    "print(Boleta)"
   ],
   "execution_count": 60,
   "outputs": [
    {
     "name": "stdout",
     "output_type": "stream",
     "text": [
      "Producto:     Computadora portátil\n",
      "Precio:       $  1299.99\n",
      "Descuento:        15.00%\n",
      "Precio final: $  1104.99\n"
     ]
    }
   ]
  },
  {
   "cell_type": "markdown",
   "metadata": {
    "id": "iPWbx9FS45dd"
   },
   "source": [
    "<font color='green'>Fin actividad 5</font>"
   ]
  },
  {
   "cell_type": "markdown",
   "source": [
    "<img src=\"https://drive.google.com/uc?export=view&id=1DNuGbS1i-9it4Nyr3ZMncQz9cRhs2eJr\" width=\"100\" align=\"left\" title=\"Runa-perth\">\n",
    "<br clear=\"left\">\n",
    "\n",
    "## <font color='blue'>**Resumen**</font>\n",
    "\n",
    "A continuación un resumen de las formas de formatear números, texto y otros elementos en un `print` utilizando f-strings:\n",
    "\n",
    "### Formateo de Números:\n",
    "\n",
    "__Enteros__: Para formatear un número entero, puedes utilizar los siguientes especificadores de formato:\n",
    "```Python\n",
    "{n:d}    # Muestra el número entero n sin ningún formato adicional.\n",
    "{n:05d}  # Rellena con ceros a la izquierda hasta alcanzar\n",
    "         # una longitud total de 5 dígitos.\n",
    "{n:,}    # Agrega comas como separadores de miles para mejorar\n",
    "         # la legibilidad.\n",
    "```\n",
    "\n",
    "__Flotantes__: Para formatear un número de punto flotante, puedes utilizar los siguientes especificadores de formato:\n",
    "```Python\n",
    "{x:f}     # Muestra el número flotante x en su forma básica.\n",
    "{x:.2f}   # Muestra el número flotante x con 2 decimales.\n",
    "{x:,.2f}  # Muestra el número flotante x con 2 decimales\n",
    "          # y comas como separadores de miles.\n",
    "```\n",
    "\n",
    "### Formateo de Texto:\n",
    "\n",
    "__Cadenas de caracteres__: Puedes formatear una cadena de caracteres utilizando los siguientes especificadores de formato:\n",
    "```Python\n",
    "{s}      # Muestra la cadena de caracteres s sin ningún formato adicional.\n",
    "{s:10}   # Alinea la cadena de caracteres s a la derecha en un ancho de 10 caracteres.\n",
    "{s:<10}  # Alinea la cadena de caracteres s a la izquierda\n",
    "         # en un ancho de 10 caracteres.\n",
    "```\n",
    "\n",
    "### Formateo Avanzado:\n",
    "\n",
    "__Variables__: Puedes utilizar variables en tus f-strings para formatear múltiples valores en una sola línea. Por ejemplo:\n",
    "\n",
    "``` Python\n",
    "f\"El resultado es {x} y el número de intentos es {count}\"\n",
    "```\n",
    "__Expresiones__: Puedes realizar operaciones o utilizar expresiones dentro de un f-string. Por ejemplo:\n",
    "```Pyython\n",
    "f\"El resultado es {x * y}\"\n",
    "```\n",
    "\n",
    "__Formato Numérico Avanzado__: Puedes utilizar especificadores de formato avanzados para controlar la precisión, el relleno, la alineación y otros aspectos. Por ejemplo:\n",
    "\n",
    "```Python\n",
    "{x:0>8.2f}\n",
    "```\n",
    "\n",
    "__Formato de Fechas y Horas__: Puedes formatear fechas y horas utilizando el módulo `datetime` de Python. Por ejemplo:\n",
    "```Python\n",
    "{date:%Y-%m-%d}   #Muestra la fecha en formato AAAA-MM-DD.\n",
    "{time:%H:%M:%S}   #Muestra la hora en formato HH:MM:SS.\n",
    "```\n",
    "\n",
    "__Formateo de Números con Precisión Variable__: Puedes utilizar la expresión `{x:.nf}` para especificar la precisión decimal `n` de un número flotante x. Por ejemplo:\n",
    "```Python\n",
    "{x:.3f}  # Muestra el número flotante x con 3 decimales.\n",
    "{x:.2f}  # Muestra el número flotante x con 2 decimales\n",
    "```\n",
    "\n",
    "__Formateo de Números en Notación Científica__: Puedes utilizar el especificador de formato e para mostrar números en notación científica. Por ejemplo:\n",
    "```Python\n",
    "{x:e}: Muestra el número x en notación científica.\n",
    "```\n",
    "\n",
    "__Uso de Condiciones Ternarias__: Puedes utilizar una condición ternaria dentro de un f-string para mostrar diferentes valores según una condición. Por ejemplo:\n",
    "```Python\n",
    "{x if condition else y}   # Muestra el valor de x si la condición es verdadera;\n",
    "                          # de lo contrario, muestra el valor de y.\n",
    "```\n",
    "\n",
    "__Uso de Expresiones y Funciones__: Puedes realizar operaciones más complejas y utilizar funciones dentro de un f-string. Por ejemplo:\n",
    "```Python\n",
    "{(x + y) * z}   # Realiza la operación (x + y) * z dentro del f-string.\n",
    "{len(string)}   # Muestra la longitud de una cadena de caracteres string.\n",
    "```"
   ],
   "metadata": {
    "id": "D9c0kiOveMcY"
   }
  },
  {
   "cell_type": "code",
   "metadata": {
    "id": "LlGyOaSQ45dd",
    "ExecuteTime": {
     "end_time": "2023-09-05T07:28:57.102878900Z",
     "start_time": "2023-09-05T07:28:56.998749500Z"
    }
   },
   "source": [
    "n = 10000\n",
    "f'{n:,.2f} is {n:.2e}'"
   ],
   "execution_count": 67,
   "outputs": [
    {
     "data": {
      "text/plain": "'10,000.00 is 1.00e+04'"
     },
     "execution_count": 67,
     "metadata": {},
     "output_type": "execute_result"
    }
   ]
  },
  {
   "cell_type": "code",
   "source": [
    "from datetime import datetime\n",
    "now = datetime.now()\n",
    "print(f\"Fecha y hora actual: {now:%Y-%m-%d %H:%M:%S}\")\n"
   ],
   "metadata": {
    "id": "1Hb1CYHPivpY",
    "ExecuteTime": {
     "end_time": "2023-09-05T07:29:09.891865500Z",
     "start_time": "2023-09-05T07:29:09.781714800Z"
    }
   },
   "execution_count": 69,
   "outputs": [
    {
     "name": "stdout",
     "output_type": "stream",
     "text": [
      "Fecha y hora actual: 2023-09-05 04:29:09\n"
     ]
    }
   ]
  },
  {
   "cell_type": "code",
   "source": [
    "x = 1\n",
    "y = 0\n",
    "cond = False\n",
    "f'{x if cond else y}'"
   ],
   "metadata": {
    "id": "ZFERiqAXkvCW",
    "ExecuteTime": {
     "end_time": "2023-09-05T07:29:02.869736700Z",
     "start_time": "2023-09-05T07:29:02.790728100Z"
    }
   },
   "execution_count": 68,
   "outputs": [
    {
     "data": {
      "text/plain": "'0'"
     },
     "execution_count": 68,
     "metadata": {},
     "output_type": "execute_result"
    }
   ]
  },
  {
   "cell_type": "markdown",
   "source": [
    "<img src=\"https://drive.google.com/uc?export=view&id=1DNuGbS1i-9it4Nyr3ZMncQz9cRhs2eJr\" width=\"50\" align=\"left\" title=\"Runa-perth\">\n",
    "<br clear=\"left\">"
   ],
   "metadata": {
    "id": "Lbk74moSTmN-"
   }
  }
 ]
}
