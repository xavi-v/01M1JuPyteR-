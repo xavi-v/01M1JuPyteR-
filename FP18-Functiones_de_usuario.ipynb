{
 "nbformat": 4,
 "nbformat_minor": 0,
 "metadata": {
  "kernelspec": {
   "display_name": "Python 3 (ipykernel)",
   "language": "python",
   "name": "python3"
  },
  "language_info": {
   "codemirror_mode": {
    "name": "ipython",
    "version": 3
   },
   "file_extension": ".py",
   "mimetype": "text/x-python",
   "name": "python",
   "nbconvert_exporter": "python",
   "pygments_lexer": "ipython3",
   "version": "3.8.11"
  },
  "colab": {
   "provenance": [],
   "toc_visible": true
  }
 },
 "cells": [
  {
   "cell_type": "markdown",
   "metadata": {
    "id": "8IGPgEQ4DgwZ"
   },
   "source": [
    "# **Introducción a Python**\n",
    "# FP18. Funciones de usuario (User Functions)\n"
   ]
  },
  {
   "cell_type": "markdown",
   "metadata": {
    "id": "RD4KHqacDgwd"
   },
   "source": [
    "Hola, Hackers. Es hora de aprender un nuevo elemento importante en Python: Las Funciones !!!\n",
    "\n",
    "Una función es un bloque de código organizado y reutilizable que se utiliza para realizar una única acción relacionada. Las funciones proporcionan una mejor modularidad para tu aplicación y un alto grado de reutilización de código.\n",
    "\n",
    "Las funciones son la base para un código reproducible en proyectos.\n",
    "\n",
    "Las funciones nos permiten no tener que escribir repetidamente el mismo código una y otra vez.\n",
    "\n",
    "Hay funciones integradas, es decir, funciones nativas en Python (como `len()`, `randint()` o `print()`) y funciones definidas por el usuario.\n",
    "\n",
    "Una buena función definida por el usuario tiene los siguientes atributos:\n",
    "* Tiene __alta cohesion__, i.e., sus responsabilidades y tareas están estrechamente relacionadas. En otras palabras, una función cohesiva se encarga de una tarea o responsabilidad claramente definida. Alta cohesión es generalmente deseable porque hace que el módulo o la clase sean más fáciles de entender, mantener y reutilizar.\n",
    "* Tiene __bajo acoplamiento__, i.e.,  tiene un grado de dependencia bajo en relación a otros módulos o funciones. Si un módulo está fuertemente acoplado a otros módulos, significa que cualquier cambio en uno puede afectar a los otros. Idealmente, queremos un acoplamiento bajo para que los módulos sean independientes entre sí, lo que facilita el mantenimiento y la reutilización del código."
   ]
  },
  {
   "cell_type": "markdown",
   "metadata": {
    "id": "jvS16FpWDgwe"
   },
   "source": [
    "## <font color='blue'>**La cláusula `def`**</font>\n",
    "\n",
    "Para crear una función usamos la palabra clave `def`. Esta es la forma general de una función:\n",
    "\n",
    "```python\n",
    "def nombre_funcion_minusculas(argumento1, argumento2, argumento3='valor por defecto'):\n",
    "    '''\n",
    "    Este es el DocString de la función. Aquí es donde se debe describir la función,\n",
    "    su objetivo, qué argumentos utiliza (datos de entrada),\n",
    "    datos de salida y la forma de usarla.\n",
    "    '''\n",
    "    # El código de tu función aquí\n",
    "    \n",
    "```"
   ]
  },
  {
   "cell_type": "markdown",
   "metadata": {
    "id": "hnXv6yboDgwe"
   },
   "source": [
    "Comenzamos con `def` y luego un espacio seguido del nombre de la función. Intenta que los nombres sean relevantes, por ejemplo, _d_verificador()_ es un buen nombre para una función que calcule el digito verificador de un RUT. También ten cuidado con los nombres, no querrás llamar a tu función con el mismo nombre que una función incorporada en Python (como por ejemplo _len()_).\n",
    "\n",
    "Luego vienen un par de paréntesis, dentro de los cuales podría haber argumentos separados por una coma. Estos argumentos son las entradas para su función. Podrás utilizar estas entradas en tu función y hacer referencia a ellas. Finalmente, pones dos puntos.\n",
    "\n",
    "<font color='red'>Importante!!</font> Todo el código de la función deberá estar **indentado** 4 espacios para diferenciarlo del resto del código. Recuerda que no es de *pythonistas* el usar \\<tabs\\> para indentar."
   ]
  },
  {
   "cell_type": "markdown",
   "metadata": {
    "id": "vYIPsdl0Dgwf"
   },
   "source": [
    "## <font color='blue'>**Ejemplos de funciones**</font>"
   ]
  },
  {
   "cell_type": "markdown",
   "metadata": {
    "id": "_pnNa5yEDgwg"
   },
   "source": [
    "### Ejemplo 1: Función simple sin argumentos"
   ]
  },
  {
   "cell_type": "code",
   "metadata": {
    "id": "apbp5VDQDgwh",
    "ExecuteTime": {
     "end_time": "2023-08-31T00:59:04.734270200Z",
     "start_time": "2023-08-31T00:59:04.697473700Z"
    }
   },
   "source": [
    "def hacker():\n",
    "    \"\"\"\n",
    "    Esta es mi primera función\n",
    "    Imprime \"Hola mundo\"\n",
    "    \"\"\"\n",
    "    print('Hola mundo')"
   ],
   "execution_count": 2,
   "outputs": []
  },
  {
   "cell_type": "code",
   "metadata": {
    "id": "CEV-b1C_Dgwi",
    "ExecuteTime": {
     "end_time": "2023-08-31T00:59:59.946780700Z",
     "start_time": "2023-08-31T00:59:59.905779800Z"
    }
   },
   "source": [
    "type(hacker)"
   ],
   "execution_count": 4,
   "outputs": [
    {
     "data": {
      "text/plain": "function"
     },
     "execution_count": 4,
     "metadata": {},
     "output_type": "execute_result"
    }
   ]
  },
  {
   "cell_type": "markdown",
   "metadata": {
    "id": "KMqYutb3Dgwk"
   },
   "source": [
    "Si llamas a la función sin paréntesis, no se ejecutará, en su lugar, solo informará cuál es el objeto:"
   ]
  },
  {
   "cell_type": "code",
   "metadata": {
    "id": "68kO1ARoDgwk",
    "ExecuteTime": {
     "end_time": "2023-08-31T01:00:02.497901800Z",
     "start_time": "2023-08-31T01:00:02.448903500Z"
    }
   },
   "source": [
    "hacker"
   ],
   "execution_count": 5,
   "outputs": [
    {
     "data": {
      "text/plain": "<function __main__.hacker()>"
     },
     "execution_count": 5,
     "metadata": {},
     "output_type": "execute_result"
    }
   ]
  },
  {
   "cell_type": "markdown",
   "metadata": {
    "id": "5QttGkF7Dgwl"
   },
   "source": [
    "Usa paréntesis para ejecutar la función:"
   ]
  },
  {
   "cell_type": "code",
   "metadata": {
    "id": "9SSxI1NKDgwl",
    "ExecuteTime": {
     "end_time": "2023-08-31T01:00:15.657932300Z",
     "start_time": "2023-08-31T01:00:15.636932Z"
    }
   },
   "source": [
    "hacker()"
   ],
   "execution_count": 6,
   "outputs": [
    {
     "name": "stdout",
     "output_type": "stream",
     "text": [
      "Hola mundo\n"
     ]
    }
   ]
  },
  {
   "cell_type": "markdown",
   "metadata": {
    "id": "TcFlZl0QDgwm"
   },
   "source": [
    "### Ejemplo 2: Función con argumentos"
   ]
  },
  {
   "cell_type": "code",
   "metadata": {
    "id": "pShJ0QpdDgwn",
    "ExecuteTime": {
     "end_time": "2023-08-31T01:00:21.929804500Z",
     "start_time": "2023-08-31T01:00:21.910803700Z"
    }
   },
   "source": [
    "def edad(mi_edad):\n",
    "    print(f\"Tengo {mi_edad} años\")"
   ],
   "execution_count": 7,
   "outputs": []
  },
  {
   "cell_type": "code",
   "metadata": {
    "id": "077USzDwDgwn",
    "ExecuteTime": {
     "end_time": "2023-08-31T01:00:26.055182400Z",
     "start_time": "2023-08-31T01:00:25.326609300Z"
    }
   },
   "source": [
    "# Nota el error\n",
    "# Esta instrucción dara un error porque la función 'edad' necesita un argumento y no se lo incluimos\n",
    "edad()"
   ],
   "execution_count": 8,
   "outputs": [
    {
     "ename": "TypeError",
     "evalue": "edad() missing 1 required positional argument: 'mi_edad'",
     "output_type": "error",
     "traceback": [
      "\u001B[1;31m---------------------------------------------------------------------------\u001B[0m",
      "\u001B[1;31mTypeError\u001B[0m                                 Traceback (most recent call last)",
      "Cell \u001B[1;32mIn[8], line 3\u001B[0m\n\u001B[0;32m      1\u001B[0m \u001B[38;5;66;03m# Nota el error\u001B[39;00m\n\u001B[0;32m      2\u001B[0m \u001B[38;5;66;03m# Esta instrucción dara un error porque la función 'edad' necesita un argumento y no se lo incluimos\u001B[39;00m\n\u001B[1;32m----> 3\u001B[0m \u001B[43medad\u001B[49m\u001B[43m(\u001B[49m\u001B[43m)\u001B[49m\n",
      "\u001B[1;31mTypeError\u001B[0m: edad() missing 1 required positional argument: 'mi_edad'"
     ]
    }
   ]
  },
  {
   "cell_type": "code",
   "metadata": {
    "id": "AxfVOG3KDgwo",
    "ExecuteTime": {
     "end_time": "2023-08-31T01:00:45.449245200Z",
     "start_time": "2023-08-31T01:00:45.378778700Z"
    }
   },
   "source": [
    "edad(12)"
   ],
   "execution_count": 9,
   "outputs": [
    {
     "name": "stdout",
     "output_type": "stream",
     "text": [
      "Tengo 12 años\n"
     ]
    }
   ]
  },
  {
   "cell_type": "code",
   "metadata": {
    "id": "PH-PhVjzDgwp",
    "ExecuteTime": {
     "end_time": "2023-08-31T01:02:51.871003800Z",
     "start_time": "2023-08-31T01:02:51.822003800Z"
    }
   },
   "source": [
    "# Ten en cuenta que puedes usar el mismo nombre para la función y su argumento\n",
    "# Eso es porque son dos objetos diferentes: uno es una función y el otro es una variable\n",
    "\n",
    "def peso(peso):\n",
    "    \"\"\"\n",
    "    Convierte un peso en kilogramos a libras\n",
    "\n",
    "    Parámetros:\n",
    "    peso (int): Peso en kilogramos\n",
    "\n",
    "    Salida:\n",
    "    'Mi peso en libras es = {peso:.1f}' (str): string con el peso en libras\n",
    "\n",
    "    \"\"\"\n",
    "    peso = peso * 2.20462\n",
    "    print(f'Mi peso en libras es = {peso:.1f}')"
   ],
   "execution_count": 10,
   "outputs": []
  },
  {
   "cell_type": "code",
   "metadata": {
    "id": "pshYSitUDgwp",
    "ExecuteTime": {
     "end_time": "2023-08-31T01:02:57.677420600Z",
     "start_time": "2023-08-31T01:02:57.652423Z"
    }
   },
   "source": [
    "help(peso)"
   ],
   "execution_count": 11,
   "outputs": [
    {
     "name": "stdout",
     "output_type": "stream",
     "text": [
      "Help on function peso in module __main__:\n",
      "\n",
      "peso(peso)\n",
      "    Convierte un peso en kilogramos a libras\n",
      "    \n",
      "    Parámetros:\n",
      "    peso (int): Peso en kilogramos\n",
      "    \n",
      "    Salida:\n",
      "    'Mi peso en libras es = {peso:.1f}' (str): string con el peso en libras\n",
      "\n"
     ]
    }
   ]
  },
  {
   "cell_type": "code",
   "metadata": {
    "id": "_filpM6cDgwq",
    "ExecuteTime": {
     "end_time": "2023-08-31T01:03:04.636375900Z",
     "start_time": "2023-08-31T01:03:04.562373700Z"
    }
   },
   "source": [
    "peso(45)"
   ],
   "execution_count": 12,
   "outputs": [
    {
     "name": "stdout",
     "output_type": "stream",
     "text": [
      "Mi peso en libras es = 99.2\n"
     ]
    }
   ]
  },
  {
   "cell_type": "markdown",
   "metadata": {
    "id": "OKULFH06Dgwq"
   },
   "source": [
    "### Ejemplo 3: Podemos utilizar argumentos con valores por defecto"
   ]
  },
  {
   "cell_type": "code",
   "metadata": {
    "id": "qKWoCqDbDgwq",
    "ExecuteTime": {
     "end_time": "2023-08-31T01:04:00.672042600Z",
     "start_time": "2023-08-31T01:04:00.656045200Z"
    }
   },
   "source": [
    "def reporte(name='Juan'):\n",
    "    print(f'Reportando {name}')"
   ],
   "execution_count": 13,
   "outputs": []
  },
  {
   "cell_type": "code",
   "metadata": {
    "id": "RscfBN5WDgwq",
    "ExecuteTime": {
     "end_time": "2023-08-31T01:04:08.106080800Z",
     "start_time": "2023-08-31T01:04:08.036077200Z"
    }
   },
   "source": [
    "reporte()"
   ],
   "execution_count": 14,
   "outputs": [
    {
     "name": "stdout",
     "output_type": "stream",
     "text": [
      "Reportando Juan\n"
     ]
    }
   ]
  },
  {
   "cell_type": "code",
   "metadata": {
    "id": "HKLJi3DDDgwr",
    "ExecuteTime": {
     "end_time": "2023-08-31T01:04:17.137300700Z",
     "start_time": "2023-08-31T01:04:17.069286700Z"
    }
   },
   "source": [
    "# aún así , siempre pordrás incuir un nuevo argumento\n",
    "reporte('Francisca')"
   ],
   "execution_count": 15,
   "outputs": [
    {
     "name": "stdout",
     "output_type": "stream",
     "text": [
      "Reportando Francisca\n"
     ]
    }
   ]
  },
  {
   "cell_type": "markdown",
   "metadata": {
    "id": "icOGruZUDgwr"
   },
   "source": [
    "## <font color='blue'>**La palabra clave de `return`**</font>\n",
    "Hasta ahora, todas nuestras funciones solo han estado imprimiendo resultados, pero ¿y si quisiéramos guardar los resultados que genera  una función en otra variable? ¿Cómo podemos hacer esto? Primero veamos qué sucede con solo imprimir."
   ]
  },
  {
   "cell_type": "code",
   "metadata": {
    "id": "pKDNPXJRDgws",
    "ExecuteTime": {
     "end_time": "2023-08-31T01:06:00.663972400Z",
     "start_time": "2023-08-31T01:06:00.647970700Z"
    }
   },
   "source": [
    "def add(num1, num2):\n",
    "    print(num1 + num2)"
   ],
   "execution_count": 22,
   "outputs": []
  },
  {
   "cell_type": "code",
   "metadata": {
    "id": "ifTWH5oEDgws",
    "ExecuteTime": {
     "end_time": "2023-08-31T01:06:12.170044800Z",
     "start_time": "2023-08-31T01:06:12.148042300Z"
    }
   },
   "source": [
    "add(2, 3)"
   ],
   "execution_count": 23,
   "outputs": [
    {
     "name": "stdout",
     "output_type": "stream",
     "text": [
      "5\n"
     ]
    }
   ]
  },
  {
   "cell_type": "code",
   "metadata": {
    "id": "smlcv97UDgws",
    "ExecuteTime": {
     "end_time": "2023-08-31T01:06:18.241063500Z",
     "start_time": "2023-08-31T01:06:18.185056700Z"
    }
   },
   "source": [
    "result = add(2, 3)"
   ],
   "execution_count": 24,
   "outputs": [
    {
     "name": "stdout",
     "output_type": "stream",
     "text": [
      "5\n"
     ]
    }
   ]
  },
  {
   "cell_type": "code",
   "metadata": {
    "id": "WjNa4G1BDgwt",
    "ExecuteTime": {
     "end_time": "2023-08-31T01:06:49.758412100Z",
     "start_time": "2023-08-31T01:06:49.741414500Z"
    }
   },
   "source": [
    "# Veamos el resultado\n",
    "result"
   ],
   "execution_count": 25,
   "outputs": []
  },
  {
   "cell_type": "code",
   "metadata": {
    "id": "OH0KdZZRDgwt",
    "ExecuteTime": {
     "end_time": "2023-08-31T01:06:54.702318300Z",
     "start_time": "2023-08-31T01:06:54.644151300Z"
    }
   },
   "source": [
    "type(result)"
   ],
   "execution_count": 26,
   "outputs": [
    {
     "data": {
      "text/plain": "NoneType"
     },
     "execution_count": 26,
     "metadata": {},
     "output_type": "execute_result"
    }
   ]
  },
  {
   "cell_type": "markdown",
   "metadata": {
    "id": "dmjQ7JUUDgwu"
   },
   "source": [
    "Observa que no es posible guardar el resultado de la función ***add()*** ya que no devuelve (_return_) nada.<br>\n",
    "Usemos ahora la palabra clave `return`."
   ]
  },
  {
   "cell_type": "code",
   "metadata": {
    "id": "CW1tscdlDgwu",
    "ExecuteTime": {
     "end_time": "2023-08-31T01:07:30.454284400Z",
     "start_time": "2023-08-31T01:07:30.432284500Z"
    }
   },
   "source": [
    "def add(num1, num2):\n",
    "    return num1 + num2"
   ],
   "execution_count": 27,
   "outputs": []
  },
  {
   "cell_type": "code",
   "metadata": {
    "id": "5yGy3U29Dgwv",
    "ExecuteTime": {
     "end_time": "2023-08-31T01:07:32.385240900Z",
     "start_time": "2023-08-31T01:07:32.310238Z"
    }
   },
   "source": [
    "add(2, 3)"
   ],
   "execution_count": 28,
   "outputs": [
    {
     "data": {
      "text/plain": "5"
     },
     "execution_count": 28,
     "metadata": {},
     "output_type": "execute_result"
    }
   ]
  },
  {
   "cell_type": "markdown",
   "metadata": {
    "id": "aT7dGXXODgww"
   },
   "source": [
    "Fíjate cómo Jupyter informa una salida de la celda ($[n]$), la vez anterior, no lo hizo. De hecho, podemos asignar este resultado a una variable."
   ]
  },
  {
   "cell_type": "code",
   "metadata": {
    "id": "Jax0s4k_Dgwx"
   },
   "source": [
    "result = add(2, 3)"
   ],
   "execution_count": null,
   "outputs": []
  },
  {
   "cell_type": "code",
   "metadata": {
    "id": "VEcFnscaDgwy"
   },
   "source": [
    "result"
   ],
   "execution_count": null,
   "outputs": []
  },
  {
   "cell_type": "code",
   "metadata": {
    "id": "thuhRNvTDgwz"
   },
   "source": [
    "type(result)"
   ],
   "execution_count": null,
   "outputs": []
  },
  {
   "cell_type": "code",
   "metadata": {
    "id": "EyyvnaUqDgw0"
   },
   "source": [
    "result * 2"
   ],
   "execution_count": null,
   "outputs": []
  },
  {
   "cell_type": "markdown",
   "source": [
    "## <font color='blue'>**Type hints**</font>\n",
    "A partir de la versión 3.5 de Python se introdujo una característica llamada __type hints__ que te permite indicar el tipo esperado de los argumentos y el valor de retorno de una función. A continuación un ejemplo:\n",
    "\n",
    "```python\n",
    "def divide(numerador: float, denominador: float) -> float:\n",
    "    \"\"\"\n",
    "    Divide dos números proporcionados como argumentos.\n",
    "\n",
    "    Parámetros:\n",
    "    numerador (float): El numerador en la operación de división.\n",
    "    denominador (float): El denominador en la operación de división.\n",
    "\n",
    "    Devuelve:\n",
    "    float: El resultado de la división del numerador entre el denominador.\n",
    "\n",
    "    Lanza:\n",
    "    ValueError: Si el denominador es cero.\n",
    "    \"\"\"\n",
    "\n",
    "    if denominador == 0:\n",
    "        raise ValueError(\"El denominador no puede ser cero.\")\n",
    "\n",
    "    return numerador / denominador\n",
    "```\n",
    "\n",
    "En este código,\n",
    "```python\n",
    "numerador: float, denominador: float\n",
    "```\n",
    "\n",
    "son __type hints__ que indican que se espera que ambos argumentos sean de tipo float.\n",
    "```python\n",
    "-> float\n",
    "```\n",
    "después de la lista de argumentos indica que la función devuelve un valor de tipo float. Ten en cuenta que los type hints son opcionales y Python no los utiliza para hacer cumplir los tipos de datos. Son principalmente para el beneficio de los desarrolladores y las herramientas de análisis de código."
   ],
   "metadata": {
    "id": "QIbOwFlocYZr"
   }
  },
  {
   "cell_type": "markdown",
   "metadata": {
    "id": "pOwJOXu6Dgw1"
   },
   "source": [
    "## <font color='blue'>**Resolviendo problemas con funciones**</font>\n",
    "\n",
    "Las funciones son un componente básico para los scripts y la programación. Vamos a mostrar cómo se puede resolver un problema con una función."
   ]
  },
  {
   "cell_type": "markdown",
   "metadata": {
    "id": "jgMGRe5xDgw1"
   },
   "source": [
    "Escribamos una función que devuelva un booleano (`True` / `False`) si es que la palabra 'secreto' está o no en una cadena."
   ]
  },
  {
   "cell_type": "code",
   "metadata": {
    "id": "IFkCtSaUDgw1",
    "ExecuteTime": {
     "end_time": "2023-08-31T01:08:29.556503100Z",
     "start_time": "2023-08-31T01:08:29.532504500Z"
    }
   },
   "source": [
    "def verifica_secreto(mystring):\n",
    "    return 'secreto' in mystring"
   ],
   "execution_count": 30,
   "outputs": []
  },
  {
   "cell_type": "code",
   "metadata": {
    "id": "Zn51pJvrDgw2",
    "ExecuteTime": {
     "end_time": "2023-08-31T01:08:30.937725400Z",
     "start_time": "2023-08-31T01:08:30.870728Z"
    }
   },
   "source": [
    "verifica_secreto('Esta es una información que contiene secretos importantes.')"
   ],
   "execution_count": 31,
   "outputs": [
    {
     "data": {
      "text/plain": "True"
     },
     "execution_count": 31,
     "metadata": {},
     "output_type": "execute_result"
    }
   ]
  },
  {
   "cell_type": "code",
   "metadata": {
    "id": "JBYAC5YzDgw2",
    "ExecuteTime": {
     "end_time": "2023-08-31T01:08:41.122306400Z",
     "start_time": "2023-08-31T01:08:41.057307200Z"
    }
   },
   "source": [
    "verifica_secreto('ESTA ES UNA INFORMACIÓN QUE CONTIENE SECRETOS IMPORTANTES.')"
   ],
   "execution_count": 32,
   "outputs": [
    {
     "data": {
      "text/plain": "False"
     },
     "execution_count": 32,
     "metadata": {},
     "output_type": "execute_result"
    }
   ]
  },
  {
   "cell_type": "markdown",
   "metadata": {
    "id": "33yC8JNCDgw3"
   },
   "source": [
    "Mejoremos la función con `.lower()`\n"
   ]
  },
  {
   "cell_type": "code",
   "metadata": {
    "id": "CkdtEcwcDgw4",
    "ExecuteTime": {
     "end_time": "2023-08-31T01:08:48.354175900Z",
     "start_time": "2023-08-31T01:08:48.333188Z"
    }
   },
   "source": [
    "def verifica_secreto(mystring):\n",
    "    return 'secreto' in mystring.lower()"
   ],
   "execution_count": 33,
   "outputs": []
  },
  {
   "cell_type": "code",
   "metadata": {
    "id": "c-VTjYLYDgw4"
   },
   "source": [
    "verifica_secreto('ESTA ES UNA INFORMACIÓN QUE CONTIENE SECRETOS IMPORTANTES.')"
   ],
   "execution_count": null,
   "outputs": []
  },
  {
   "cell_type": "markdown",
   "source": [
    "## <font color='blue'>__Ejercicios__</font>"
   ],
   "metadata": {
    "id": "8Q6raVl3NXmA"
   }
  },
  {
   "cell_type": "markdown",
   "metadata": {
    "id": "rUtabudoDgw5"
   },
   "source": [
    "### <font color='green'>Actividad 1:</font>\n",
    "### Crea una función\n",
    "\n",
    "Crea una función que tome dos números enteros (como parámetros) y devuelva:<br>\n",
    "    **`True`** si su suma es 10, <br>\n",
    "    **`False`** si su suma es otra cosa. <br>\n",
    "\n",
    "Nombra tu función como  **check_ten**"
   ]
  },
  {
   "cell_type": "code",
   "metadata": {
    "id": "dL_oA0biDgw5"
   },
   "source": [
    "# Tu código aquí ...\n",
    "\n"
   ],
   "execution_count": null,
   "outputs": []
  },
  {
   "cell_type": "code",
   "metadata": {
    "id": "zGtMprVtDgw5"
   },
   "source": [
    "check_ten(10, 0)"
   ],
   "execution_count": null,
   "outputs": []
  },
  {
   "cell_type": "code",
   "metadata": {
    "id": "HKhxMb2sDgw6"
   },
   "source": [
    "check_ten(2, 7)"
   ],
   "execution_count": null,
   "outputs": []
  },
  {
   "cell_type": "markdown",
   "metadata": {
    "id": "tE3QdBNZDgw6"
   },
   "source": [
    "<font color='green'>Fin actividad 1</font>"
   ]
  },
  {
   "cell_type": "markdown",
   "metadata": {
    "id": "OxFeG3AlDgw7"
   },
   "source": [
    "### <font color='green'>Actividad 2:</font>\n",
    "### Crea una función\n",
    "\n",
    "Crea una función que tome dos números enteros y devuelva:<br>\n",
    "**`True`** si su suma es 10<br>\n",
    "de lo contrario, devuelva el valor de la suma real. <br>\n",
    "\n",
    "Nombre su función como **check_ten_sum**"
   ]
  },
  {
   "cell_type": "code",
   "metadata": {
    "id": "Cd8or1bbDgw7"
   },
   "source": [
    "# Tu código aquí ...\n"
   ],
   "execution_count": null,
   "outputs": []
  },
  {
   "cell_type": "code",
   "metadata": {
    "id": "T5pc5EqxDgw7"
   },
   "source": [
    "check_ten_sum(10,0)"
   ],
   "execution_count": null,
   "outputs": []
  },
  {
   "cell_type": "code",
   "metadata": {
    "id": "NxoaPhfSDgw8"
   },
   "source": [
    "check_ten_sum(2,7)"
   ],
   "execution_count": null,
   "outputs": []
  },
  {
   "cell_type": "markdown",
   "metadata": {
    "id": "OXKrIT_GDgw8"
   },
   "source": [
    "<font color='green'>Fin actividad 2</font>"
   ]
  },
  {
   "cell_type": "markdown",
   "metadata": {
    "id": "C7c4RGXPDgw9"
   },
   "source": [
    "### <font color='green'>Actividad 3:</font>\n",
    "### Crea una función\n",
    "\n",
    "Cree una función que tome una cadena y devuelva el primer carácter de esa cadena en mayúsculas."
   ]
  },
  {
   "cell_type": "code",
   "metadata": {
    "id": "vslKRxR7Dgw9"
   },
   "source": [
    "# Tu código aquí ...\n",
    "\n"
   ],
   "execution_count": null,
   "outputs": []
  },
  {
   "cell_type": "code",
   "metadata": {
    "id": "AVajwzckDgw9"
   },
   "source": [
    "first_upper('hello')"
   ],
   "execution_count": null,
   "outputs": []
  },
  {
   "cell_type": "code",
   "metadata": {
    "scrolled": true,
    "id": "czw-xfs-Dgw9"
   },
   "source": [
    "first_upper('agent')"
   ],
   "execution_count": null,
   "outputs": []
  },
  {
   "cell_type": "markdown",
   "metadata": {
    "id": "w-mzdhjrDgw-"
   },
   "source": [
    "<font color='green'>Fin actividad 3</font>"
   ]
  },
  {
   "cell_type": "markdown",
   "source": [
    "### <font color='green'>Actividad 4: Challenging</font>\n",
    "### Crea una función\n",
    "\n",
    "Cree una función que tome una temperatura en grados Celsius y la convierta a grados Fahrenheit.<br>\n",
    "Implementa tu función con docstring, type hints y return.\n",
    "\n",
    "Tip:\n",
    "La fórmula de conversión es la siguiente\n",
    "\n",
    "$\\color{blue}{ºF = ºC * 1.8 + 32}$\n"
   ],
   "metadata": {
    "collapsed": false
   }
  },
  {
   "cell_type": "code",
   "metadata": {
    "id": "XFlBWKpsDgw-"
   },
   "source": [
    "# Tu código aquí ...\n",
    "'''\n",
    "La fórmula de conversión es la siguiente\n",
    "ºF = ºC * 1.8 + 32\n",
    "'''\n",
    "\n",
    "def celsius2fahrenheit:\n",
    "\n"
   ],
   "execution_count": null,
   "outputs": []
  },
  {
   "cell_type": "code",
   "metadata": {
    "id": "-W13psp3Dgw-"
   },
   "source": [
    "help(celsius2fahrenheit)"
   ],
   "execution_count": null,
   "outputs": []
  },
  {
   "cell_type": "code",
   "metadata": {
    "id": "Q7h9qc1YDgw-"
   },
   "source": [
    "celsius2fahrenheit(32.5)"
   ],
   "execution_count": null,
   "outputs": []
  },
  {
   "cell_type": "markdown",
   "metadata": {
    "id": "yplXUAdNDgw-"
   },
   "source": [
    "<font color='green'>Fin actividad 4</font>"
   ]
  },
  {
   "cell_type": "markdown",
   "metadata": {
    "id": "ysHb-aqJDgw-"
   },
   "source": [
    "### <font color='green'>Actividad 5: Challenging</font>\n",
    "### Crea una función para el algoritmo del año bisiesto del notebook FP12\n",
    "\n",
    "Cree una función que determine si un año es bisiesto o no. La función debe retornar:<br>\n",
    "**`True`** si el año ingresado es bisiesto<br>\n",
    "**`False`** si el año no es bisiesto\n",
    "\n",
    "Incluya el respectivo docstring de la función."
   ]
  },
  {
   "cell_type": "code",
   "metadata": {
    "id": "g38g7nCpDgw_"
   },
   "source": [
    "# Tu código aquí ...\n",
    "\n"
   ],
   "execution_count": null,
   "outputs": []
  },
  {
   "cell_type": "code",
   "metadata": {
    "id": "6Uy1d_fFDgw_"
   },
   "source": [
    "help(isBisiesto)"
   ],
   "execution_count": null,
   "outputs": []
  },
  {
   "cell_type": "code",
   "metadata": {
    "id": "a8MXT7zWDgw_"
   },
   "source": [
    "isBisiesto(2021)"
   ],
   "execution_count": null,
   "outputs": []
  },
  {
   "cell_type": "code",
   "metadata": {
    "id": "jsJl0kACDgxA"
   },
   "source": [
    "isBisiesto(2020)"
   ],
   "execution_count": null,
   "outputs": []
  },
  {
   "cell_type": "markdown",
   "metadata": {
    "id": "tgtysN94DgxA"
   },
   "source": [
    "<font color='green'>Fin actividad 5</font>"
   ]
  },
  {
   "cell_type": "code",
   "metadata": {
    "id": "HoMeH04WDgxA"
   },
   "source": [],
   "execution_count": null,
   "outputs": []
  },
  {
   "cell_type": "markdown",
   "source": [
    "<img src=\"https://drive.google.com/uc?export=view&id=1Igtn9UXg6NGeRWsqh4hefQUjV0hmzlBv\" width=\"100\" align=\"left\" title=\"Runa-perth\">\n",
    "<br clear=\"left\">\n",
    "Contenido opcional\n",
    "\n",
    "##<font color='blue'>__Ejercicios avanzados__</font>\n",
    "\n",
    "Si quieres aprender más de funciones, anímate a desarrollar los siguientes ejercicios utilizando todo lo aprendido hasta el momento. Al desarollarlos,\n",
    "practicarás la escritura de funciones avanzadas en Python que involucran ciclos, diferentes tipos de datos y estructuras. Cada función que escribas debe incluir type hints y una cadena de documentación (docstring) que describa su propósito, parámetros y valor de retorno.\n",
    "\n",
    "Las funciones que escribirás en esta actividad abarcarán una variedad de problemas, desde el procesamiento de texto hasta el cálculo con números y la manipulación de estructuras de datos complejas. Cada problema ha sido diseñado para ser un desafío, ¡así que prepárate para pensar y codificar!"
   ],
   "metadata": {
    "collapsed": false
   }
  },
  {
   "cell_type": "markdown",
   "source": [
    "### <font color='green'>Actividad 6: Challenging</font>\n",
    "### Crea una función para sumar pares\n",
    "\n",
    "Escribe una función `suma_pares(n: int) -> int` que tome un número entero n y devuelva la suma de todos los números pares desde 0 hasta n (incluido)."
   ],
   "metadata": {
    "id": "DY2wHDirOYp5"
   }
  },
  {
   "cell_type": "code",
   "source": [
    "# Tu código aquí ...\n",
    "def suma_pares(n: int):\n",
    "\n",
    "\n",
    "\n"
   ],
   "metadata": {
    "id": "m1QxbQ_-OoTW"
   },
   "execution_count": null,
   "outputs": []
  },
  {
   "cell_type": "code",
   "source": [
    "suma_pares(23)\n",
    "# Resultado: 123"
   ],
   "metadata": {
    "id": "d2WrYhLzPl2Y"
   },
   "execution_count": null,
   "outputs": []
  },
  {
   "cell_type": "markdown",
   "source": [
    "### <font color='green'>Actividad 7: Super Challenging</font>\n",
    "### Función para eliminar caracteres de puntuación\n",
    "\n",
    "Cuando realizamos actividades de Procesamiento del Lenguaje Natural (NLP por sus siglas en inglés), necesitamos eliminar los caractares de puntuación de nuestros textxos.\n",
    "\n",
    "Crea una función llamada `eliminar_puntuacion(texto: str): -> list[str]`, la cual elimine todos los caracteres de puntuación de un texto y devuelva una lista de cadenas (strings) sin catacteres de puntuación y en minúsculas (lower case).\n",
    "\n",
    "Tip:\n",
    "\n",
    "Considera usar la variable `puntuacion` (ver siguiente celda), en la cual se incluyen los signos de puntuación típicos del castellano. Analiza su contenido!!"
   ],
   "metadata": {
    "id": "NqM4o5xoOcD7"
   }
  },
  {
   "cell_type": "code",
   "source": [
    "puntuacion = '¡!\\\"\"#$%&\\'()*+,-./:;<=>¿?@[\\\\]^_`{|}~'\n",
    "puntuacion\n"
   ],
   "metadata": {
    "id": "ieKwzsWqUZDQ"
   },
   "execution_count": null,
   "outputs": []
  },
  {
   "cell_type": "code",
   "source": [
    "# Tu código aquí ...\n",
    "\n"
   ],
   "metadata": {
    "id": "wCMyWWmrUAwS"
   },
   "execution_count": null,
   "outputs": []
  },
  {
   "cell_type": "code",
   "source": [
    "# Probemos tu función con el siguiente texto\n",
    "noticia = \"\"\"El Planeta. Los astrónomos han descubierto un fenómeno sorprendente en nuestro sistema solar. Un planeta, previamente no identificado, parece haber entrado en nuestro sistema solar desde el espacio interestelar.\n",
    "Este planeta, provisionalmente denominado \"Eris II!\", ha causado un gran revuelo en la comunidad astronómica. Según los primeros informes, el planeta es aproximadamente del tamaño de Marte y parece tener una composición similar a la de los planetas gigantes gaseosos como Júpiter y Saturno.\n",
    "El planeta fue descubierto por un equipo de astrónomos de la Universidad de California, que estaban utilizando el telescopio espacial Kepler para estudiar las estrellas en la constelación de Cygnus. El equipo se dio cuenta de que una estrella parecía oscurecerse periódicamente, un signo clásico de un planeta en tránsito.\n",
    "\"Estábamos buscando planetas alrededor de otras estrellas, así que fue una gran sorpresa cuando nos dimos cuenta de que este planeta estaba mucho más cerca de casa\", dijo la Dra. Jane Foster, líder del equipo de investigación.\n",
    "El descubrimiento de este nuevo planeta plantea muchas preguntas. ¿Cómo logró este planeta entrar en nuestro sistema solar sin ser detectado antes? ¿Podría haber otros planetas desconocidos en nuestro sistema solar? ¿Y qué efectos podría tener este planeta en los otros planetas de nuestro sistema solar?\n",
    "\"Este es un momento emocionante para la ciencia planetaria\", dijo el Dr. Foster. \"Cada nuevo planeta que descubrimos nos enseña algo nuevo sobre nuestro sistema solar y sobre cómo se forman y evolucionan los planetas\".\n",
    "La búsqueda de respuestas a estas preguntas está en marcha. Los astrónomos de todo el mundo están apuntando sus telescopios hacia este nuevo planeta, y las misiones espaciales futuras podrían ser redirigidas para estudiar este intrigante nuevo miembro de nuestro sistema solar.\n",
    "Mientras tanto, el planeta Eris II sigue su camino a través de nuestro sistema solar, un recordatorio de cuánto queda por descubrir en nuestra propia esquina del universo.\n",
    "\"\"\""
   ],
   "metadata": {
    "id": "7tBJRwU8QVwt"
   },
   "execution_count": null,
   "outputs": []
  },
  {
   "cell_type": "code",
   "source": [
    "# Nos debiera entregar 311 palabras\n",
    "if len(eliminar_puntuacion(noticia)) == 311:\n",
    "    print(True)\n",
    "else:\n",
    "    print(False)\n"
   ],
   "metadata": {
    "id": "ehtHXKlhk4e7"
   },
   "execution_count": null,
   "outputs": []
  },
  {
   "cell_type": "markdown",
   "source": [
    "### <font color='green'>Actividad 8: Super Challenging</font>\n",
    "### Busca palabras\n",
    "\n",
    "Escribe una función `busca_palabras(texto: str, palabras: list[str]) -> dict[str, int]` que tome un texto y una lista de palabras, y devuelva un diccionario con la frecuencia de cada palabra de la lista en el texto."
   ],
   "metadata": {
    "id": "7GcNXKazOZkr"
   }
  },
  {
   "cell_type": "code",
   "source": [
    "# Tu código aquí ...\n",
    "\n"
   ],
   "metadata": {
    "id": "IFd1AUjdQQ6j"
   },
   "execution_count": null,
   "outputs": []
  },
  {
   "cell_type": "code",
   "source": [
    "# Probemos con la salida de la Actividad 7 aplicada a nuestro texto 'noticia'\n",
    "texto_noticia = eliminar_puntuacion(noticia)\n",
    "palabras = ['planeta', 'estrella']\n",
    "busca_palabras(texto_noticia, palabras) # -> {'planeta': 13, 'estrella': 1}"
   ],
   "metadata": {
    "id": "eZ0NQUUJjOFq"
   },
   "execution_count": null,
   "outputs": []
  },
  {
   "cell_type": "markdown",
   "source": [
    "### <font color='green'>Actividad 9: Challenging</font>\n",
    "### Número primo\n",
    "\n",
    "Escribe una función `es_primo(n: int) -> bool` que tome un número entero n y devuelva `True` si el número es primo y `False` en caso contrario."
   ],
   "metadata": {
    "id": "jutf3oFcOcLs"
   }
  },
  {
   "cell_type": "code",
   "source": [
    "# Tu código aquí ...\n",
    "\n",
    "\n"
   ],
   "metadata": {
    "id": "qNxnYN-jq1V1"
   },
   "execution_count": null,
   "outputs": []
  },
  {
   "cell_type": "code",
   "source": [
    "es_primo(11) # -> True"
   ],
   "metadata": {
    "id": "U46ox5YDq73n"
   },
   "execution_count": null,
   "outputs": []
  },
  {
   "cell_type": "code",
   "source": [
    "es_primo(12) # -> False"
   ],
   "metadata": {
    "id": "P75sMSVgrEmr"
   },
   "execution_count": null,
   "outputs": []
  },
  {
   "cell_type": "markdown",
   "source": [
    "### <font color='green'>Actividad 10</font>\n",
    "### Elementos únicos y ordenados\n",
    "\n",
    "Escribe una función `elementos_unicos(lista: list[int]) -> list[int]` que tome una lista de números enteros y devuelva una nueva lista ordenada de forma descendente con solo los elementos únicos de la lista original."
   ],
   "metadata": {
    "id": "0VklX8SGOcRR"
   }
  },
  {
   "cell_type": "code",
   "source": [
    "# Tu código aquí ...\n",
    "\n"
   ],
   "metadata": {
    "id": "m20BppwRrjFQ"
   },
   "execution_count": null,
   "outputs": []
  },
  {
   "cell_type": "code",
   "source": [
    "mi_lista = [3, 7, 2, 5, 9, 2, 1, 4, 6, 5, 8, 7, 3, 10, 4]\n",
    "\n",
    "elementos_unicos(mi_lista)   # -> [10, 9, 8, 7, 6, 5, 4, 3, 2, 1]"
   ],
   "metadata": {
    "id": "h3xoMQwRri6k"
   },
   "execution_count": null,
   "outputs": []
  },
  {
   "cell_type": "markdown",
   "source": [
    "<img src=\"https://drive.google.com/uc?export=view&id=1Igtn9UXg6NGeRWsqh4hefQUjV0hmzlBv\" width=\"50\" align=\"left\" title=\"Runa-perth\">"
   ],
   "metadata": {
    "id": "35rvnjkZNiF_"
   }
  }
 ]
}
