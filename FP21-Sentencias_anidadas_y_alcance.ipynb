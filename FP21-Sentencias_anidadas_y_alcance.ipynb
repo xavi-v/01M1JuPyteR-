{
 "nbformat": 4,
 "nbformat_minor": 0,
 "metadata": {
  "kernelspec": {
   "display_name": "Python 3 (ipykernel)",
   "language": "python",
   "name": "python3"
  },
  "language_info": {
   "codemirror_mode": {
    "name": "ipython",
    "version": 3
   },
   "file_extension": ".py",
   "mimetype": "text/x-python",
   "name": "python",
   "nbconvert_exporter": "python",
   "pygments_lexer": "ipython3",
   "version": "3.8.11"
  },
  "colab": {
   "provenance": [],
   "toc_visible": true
  }
 },
 "cells": [
  {
   "cell_type": "markdown",
   "metadata": {
    "id": "0GhuFQBmuqhx"
   },
   "source": [
    "# **Introducción a Python**\n",
    "# FP21. Sentencias anidadas y alcance (nested - scope)"
   ]
  },
  {
   "cell_type": "markdown",
   "metadata": {
    "id": "xw7_CCHvuqh1"
   },
   "source": [
    "Bienvenidos de nuevo espías. Después de haber visto funciones, deberían sentirse mucho más cómodos escribiéndolas. Más adelante veremos cómo las funciones pueden interactuar entre sí como parte de scripts más grandes y complejos. Para poder continuar, necesitamos aprender sobre las declaraciones anidadas y alcance. Es importante comprender cómo Python maneja los nombres de función y variable que tú creas cuando codificas. Cuando creas un nombre de variable en Python, el nombre se almacena en un espacio de nombres. Los nombres de variable también tienen un alcance, el alcance determina la visibilidad de ese nombre de variable en otras partes de su código. Veamos.\n",
    "\n",
    "\n",
    "## <font color='blue'>**namespace**</font>\n",
    "\n",
    "El ***namespace*** (espacio de nombres) es una estructura utilizada para organizar los nombres simbólicos asignados a los objetos en un programa Python. En el **namespace** se lleva un registro de todos los nombres simbólicos definidos actualmente junto con información sobre el objeto al que hace referencia cada nombre. Puedes pensar en un **namespace** como un diccionario en el que las claves son los nombres de los objetos y los valores son los propios objetos. Cada par clave-valor asigna un nombre a su objeto correspondiente.\n",
    "\n",
    "Una declaración de asignación crea un nombre simbólico que puede usar para hacer referencia a un objeto. La declaración\n",
    "```python\n",
    "x = 'foo'\n",
    "```\n",
    "crea un nombre simbólico $x$ en el ***namespace***, el cual se refiere al objeto de cadena _'foo'_.\n"
   ]
  },
  {
   "cell_type": "markdown",
   "source": [
    "## <font color='blue'>**Tipos de namespace en Python**</font>\n",
    "\n",
    "Hay cuatro tipos:\n",
    "1. Built-In\n",
    "2. Global\n",
    "3. Enclosing\n",
    "4. Local"
   ],
   "metadata": {
    "id": "oy_znIUkRhlb"
   }
  },
  {
   "cell_type": "markdown",
   "metadata": {
    "id": "5Bza1Dv7uqh3"
   },
   "source": [
    "### __1. Espacio de nombres Integrado (_Built-in namespace_)__\n",
    "El **Built-In namespace** (espacio de nombres Integrado) contiene los nombres de todos los objetos integrados de Python y se crea cuando ejecutas el interprete de Python o ejecutas tu primera celda en un notebook. Están disponibles en todo momento cuando se ejecuta Python. Puede enumerar los objetos en el espacio de nombres integrado con el método `dir`\n",
    "```python\n",
    "dir(objeto)\n",
    "```\n",
    "El método `dir` intenta obtener todos los atributos de un objeto."
   ]
  },
  {
   "cell_type": "code",
   "metadata": {
    "scrolled": true,
    "tags": [],
    "id": "2qwUryLquqh4",
    "ExecuteTime": {
     "end_time": "2023-09-06T22:16:19.426893Z",
     "start_time": "2023-09-06T22:16:19.407892700Z"
    }
   },
   "source": [
    "dir(__builtins__)"
   ],
   "execution_count": 1,
   "outputs": [
    {
     "data": {
      "text/plain": "['ArithmeticError',\n 'AssertionError',\n 'AttributeError',\n 'BaseException',\n 'BlockingIOError',\n 'BrokenPipeError',\n 'BufferError',\n 'BytesWarning',\n 'ChildProcessError',\n 'ConnectionAbortedError',\n 'ConnectionError',\n 'ConnectionRefusedError',\n 'ConnectionResetError',\n 'DeprecationWarning',\n 'EOFError',\n 'Ellipsis',\n 'EnvironmentError',\n 'Exception',\n 'False',\n 'FileExistsError',\n 'FileNotFoundError',\n 'FloatingPointError',\n 'FutureWarning',\n 'GeneratorExit',\n 'IOError',\n 'ImportError',\n 'ImportWarning',\n 'IndentationError',\n 'IndexError',\n 'InterruptedError',\n 'IsADirectoryError',\n 'KeyError',\n 'KeyboardInterrupt',\n 'LookupError',\n 'MemoryError',\n 'ModuleNotFoundError',\n 'NameError',\n 'None',\n 'NotADirectoryError',\n 'NotImplemented',\n 'NotImplementedError',\n 'OSError',\n 'OverflowError',\n 'PendingDeprecationWarning',\n 'PermissionError',\n 'ProcessLookupError',\n 'RecursionError',\n 'ReferenceError',\n 'ResourceWarning',\n 'RuntimeError',\n 'RuntimeWarning',\n 'StopAsyncIteration',\n 'StopIteration',\n 'SyntaxError',\n 'SyntaxWarning',\n 'SystemError',\n 'SystemExit',\n 'TabError',\n 'TimeoutError',\n 'True',\n 'TypeError',\n 'UnboundLocalError',\n 'UnicodeDecodeError',\n 'UnicodeEncodeError',\n 'UnicodeError',\n 'UnicodeTranslateError',\n 'UnicodeWarning',\n 'UserWarning',\n 'ValueError',\n 'Warning',\n 'WindowsError',\n 'ZeroDivisionError',\n '__IPYTHON__',\n '__build_class__',\n '__debug__',\n '__doc__',\n '__import__',\n '__loader__',\n '__name__',\n '__package__',\n '__spec__',\n 'abs',\n 'all',\n 'any',\n 'ascii',\n 'bin',\n 'bool',\n 'breakpoint',\n 'bytearray',\n 'bytes',\n 'callable',\n 'chr',\n 'classmethod',\n 'compile',\n 'complex',\n 'copyright',\n 'credits',\n 'delattr',\n 'dict',\n 'dir',\n 'display',\n 'divmod',\n 'enumerate',\n 'eval',\n 'exec',\n 'execfile',\n 'filter',\n 'float',\n 'format',\n 'frozenset',\n 'get_ipython',\n 'getattr',\n 'globals',\n 'hasattr',\n 'hash',\n 'help',\n 'hex',\n 'id',\n 'input',\n 'int',\n 'isinstance',\n 'issubclass',\n 'iter',\n 'len',\n 'license',\n 'list',\n 'locals',\n 'map',\n 'max',\n 'memoryview',\n 'min',\n 'next',\n 'object',\n 'oct',\n 'open',\n 'ord',\n 'pow',\n 'print',\n 'property',\n 'range',\n 'repr',\n 'reversed',\n 'round',\n 'runfile',\n 'set',\n 'setattr',\n 'slice',\n 'sorted',\n 'staticmethod',\n 'str',\n 'sum',\n 'super',\n 'tuple',\n 'type',\n 'vars',\n 'zip']"
     },
     "execution_count": 1,
     "metadata": {},
     "output_type": "execute_result"
    }
   ]
  },
  {
   "cell_type": "markdown",
   "metadata": {
    "id": "7XwEwfSiuqh5"
   },
   "source": [
    "### <font color='green'> Actividad 1:</font>\n",
    "### Reconoce objetos en el built-in namespace\n",
    "Recorre la salida de la celda anterior e identifica 10 objetos propios de Python que ya hayas utilizado hasta ahora (incluido el presente notebook).\n",
    "\n",
    "Trabajo individual."
   ]
  },
  {
   "cell_type": "markdown",
   "metadata": {
    "id": "wRFGdznJuqh6"
   },
   "source": [
    "Tu respuesta aquí...\n",
    "<br><br>\n",
    "## ejemplo objetos ya utilizados\n",
    "-"
   ]
  },
  {
   "cell_type": "markdown",
   "source": [
    "## ejemplo objetos ya utilizados\n",
    "- e.e"
   ],
   "metadata": {
    "collapsed": false
   }
  },
  {
   "cell_type": "markdown",
   "metadata": {
    "id": "skrlVD10uqh6"
   },
   "source": [
    "<font color='green'> Fin actividad 1</font>"
   ]
  },
  {
   "cell_type": "markdown",
   "metadata": {
    "id": "bbWJHbA4uqh7"
   },
   "source": [
    "### __2. Espacio de nombres Global (_Global namespace_)__\n",
    "\n",
    "El **Global namespace** (espacio de nombres Global) contiene cualquier nombre definido en el nivel del programa principal. Python crea el espacio de nombres global cuando se inicia el cuerpo del programa principal, y permanece hasta que termina la ejecución del intérprete de Python o terminas el kernel.\n",
    "\n",
    "Estrictamente hablando, este puede no ser el único espacio de nombres global que existe. El intérprete también crea un espacio de nombres global para cualquier módulo que tu programa cargue con la declaración de `import` (veremos esto en los siguientes notebooks)."
   ]
  },
  {
   "cell_type": "markdown",
   "metadata": {
    "id": "_0udxIH0uqh7"
   },
   "source": [
    "La función `globals()` nos devuelve un diccionario con el espacio de nombres global actual de nuestro programa. El contenido dependerá de la versión de Python y el sistema operativo que estés utilizando."
   ]
  },
  {
   "cell_type": "code",
   "metadata": {
    "scrolled": true,
    "tags": [],
    "id": "v5_A6Cpwuqh8",
    "ExecuteTime": {
     "end_time": "2023-09-06T22:20:09.598003300Z",
     "start_time": "2023-09-06T22:20:09.499997100Z"
    }
   },
   "source": [
    "globals().values()"
   ],
   "execution_count": 2,
   "outputs": [
    {
     "data": {
      "text/plain": "dict_values(['__main__', 'Automatically created module for IPython interactive environment', None, None, None, <module 'builtins' (built-in)>, <module 'builtins' (built-in)>, ['', 'dir(__builtins__)', 'globals().values()'], {1: ['ArithmeticError', 'AssertionError', 'AttributeError', 'BaseException', 'BlockingIOError', 'BrokenPipeError', 'BufferError', 'BytesWarning', 'ChildProcessError', 'ConnectionAbortedError', 'ConnectionError', 'ConnectionRefusedError', 'ConnectionResetError', 'DeprecationWarning', 'EOFError', 'Ellipsis', 'EnvironmentError', 'Exception', 'False', 'FileExistsError', 'FileNotFoundError', 'FloatingPointError', 'FutureWarning', 'GeneratorExit', 'IOError', 'ImportError', 'ImportWarning', 'IndentationError', 'IndexError', 'InterruptedError', 'IsADirectoryError', 'KeyError', 'KeyboardInterrupt', 'LookupError', 'MemoryError', 'ModuleNotFoundError', 'NameError', 'None', 'NotADirectoryError', 'NotImplemented', 'NotImplementedError', 'OSError', 'OverflowError', 'PendingDeprecationWarning', 'PermissionError', 'ProcessLookupError', 'RecursionError', 'ReferenceError', 'ResourceWarning', 'RuntimeError', 'RuntimeWarning', 'StopAsyncIteration', 'StopIteration', 'SyntaxError', 'SyntaxWarning', 'SystemError', 'SystemExit', 'TabError', 'TimeoutError', 'True', 'TypeError', 'UnboundLocalError', 'UnicodeDecodeError', 'UnicodeEncodeError', 'UnicodeError', 'UnicodeTranslateError', 'UnicodeWarning', 'UserWarning', 'ValueError', 'Warning', 'WindowsError', 'ZeroDivisionError', '__IPYTHON__', '__build_class__', '__debug__', '__doc__', '__import__', '__loader__', '__name__', '__package__', '__spec__', 'abs', 'all', 'any', 'ascii', 'bin', 'bool', 'breakpoint', 'bytearray', 'bytes', 'callable', 'chr', 'classmethod', 'compile', 'complex', 'copyright', 'credits', 'delattr', 'dict', 'dir', 'display', 'divmod', 'enumerate', 'eval', 'exec', 'execfile', 'filter', 'float', 'format', 'frozenset', 'get_ipython', 'getattr', 'globals', 'hasattr', 'hash', 'help', 'hex', 'id', 'input', 'int', 'isinstance', 'issubclass', 'iter', 'len', 'license', 'list', 'locals', 'map', 'max', 'memoryview', 'min', 'next', 'object', 'oct', 'open', 'ord', 'pow', 'print', 'property', 'range', 'repr', 'reversed', 'round', 'runfile', 'set', 'setattr', 'slice', 'sorted', 'staticmethod', 'str', 'sum', 'super', 'tuple', 'type', 'vars', 'zip']}, [WindowsPath('D:/Cursos/Data Analyst Diplomado UDD/Modulo1Python/rootdir')], ['', 'dir(__builtins__)', 'globals().values()'], {1: ['ArithmeticError', 'AssertionError', 'AttributeError', 'BaseException', 'BlockingIOError', 'BrokenPipeError', 'BufferError', 'BytesWarning', 'ChildProcessError', 'ConnectionAbortedError', 'ConnectionError', 'ConnectionRefusedError', 'ConnectionResetError', 'DeprecationWarning', 'EOFError', 'Ellipsis', 'EnvironmentError', 'Exception', 'False', 'FileExistsError', 'FileNotFoundError', 'FloatingPointError', 'FutureWarning', 'GeneratorExit', 'IOError', 'ImportError', 'ImportWarning', 'IndentationError', 'IndexError', 'InterruptedError', 'IsADirectoryError', 'KeyError', 'KeyboardInterrupt', 'LookupError', 'MemoryError', 'ModuleNotFoundError', 'NameError', 'None', 'NotADirectoryError', 'NotImplemented', 'NotImplementedError', 'OSError', 'OverflowError', 'PendingDeprecationWarning', 'PermissionError', 'ProcessLookupError', 'RecursionError', 'ReferenceError', 'ResourceWarning', 'RuntimeError', 'RuntimeWarning', 'StopAsyncIteration', 'StopIteration', 'SyntaxError', 'SyntaxWarning', 'SystemError', 'SystemExit', 'TabError', 'TimeoutError', 'True', 'TypeError', 'UnboundLocalError', 'UnicodeDecodeError', 'UnicodeEncodeError', 'UnicodeError', 'UnicodeTranslateError', 'UnicodeWarning', 'UserWarning', 'ValueError', 'Warning', 'WindowsError', 'ZeroDivisionError', '__IPYTHON__', '__build_class__', '__debug__', '__doc__', '__import__', '__loader__', '__name__', '__package__', '__spec__', 'abs', 'all', 'any', 'ascii', 'bin', 'bool', 'breakpoint', 'bytearray', 'bytes', 'callable', 'chr', 'classmethod', 'compile', 'complex', 'copyright', 'credits', 'delattr', 'dict', 'dir', 'display', 'divmod', 'enumerate', 'eval', 'exec', 'execfile', 'filter', 'float', 'format', 'frozenset', 'get_ipython', 'getattr', 'globals', 'hasattr', 'hash', 'help', 'hex', 'id', 'input', 'int', 'isinstance', 'issubclass', 'iter', 'len', 'license', 'list', 'locals', 'map', 'max', 'memoryview', 'min', 'next', 'object', 'oct', 'open', 'ord', 'pow', 'print', 'property', 'range', 'repr', 'reversed', 'round', 'runfile', 'set', 'setattr', 'slice', 'sorted', 'staticmethod', 'str', 'sum', 'super', 'tuple', 'type', 'vars', 'zip']}, <bound method InteractiveShell.get_ipython of <ipykernel.zmqshell.ZMQInteractiveShell object at 0x000002280DF32310>>, <IPython.core.autocall.ZMQExitAutocall object at 0x000002280DF32EE0>, <IPython.core.autocall.ZMQExitAutocall object at 0x000002280DF32EE0>, <function open at 0x000002280C6279D0>, ['ArithmeticError', 'AssertionError', 'AttributeError', 'BaseException', 'BlockingIOError', 'BrokenPipeError', 'BufferError', 'BytesWarning', 'ChildProcessError', 'ConnectionAbortedError', 'ConnectionError', 'ConnectionRefusedError', 'ConnectionResetError', 'DeprecationWarning', 'EOFError', 'Ellipsis', 'EnvironmentError', 'Exception', 'False', 'FileExistsError', 'FileNotFoundError', 'FloatingPointError', 'FutureWarning', 'GeneratorExit', 'IOError', 'ImportError', 'ImportWarning', 'IndentationError', 'IndexError', 'InterruptedError', 'IsADirectoryError', 'KeyError', 'KeyboardInterrupt', 'LookupError', 'MemoryError', 'ModuleNotFoundError', 'NameError', 'None', 'NotADirectoryError', 'NotImplemented', 'NotImplementedError', 'OSError', 'OverflowError', 'PendingDeprecationWarning', 'PermissionError', 'ProcessLookupError', 'RecursionError', 'ReferenceError', 'ResourceWarning', 'RuntimeError', 'RuntimeWarning', 'StopAsyncIteration', 'StopIteration', 'SyntaxError', 'SyntaxWarning', 'SystemError', 'SystemExit', 'TabError', 'TimeoutError', 'True', 'TypeError', 'UnboundLocalError', 'UnicodeDecodeError', 'UnicodeEncodeError', 'UnicodeError', 'UnicodeTranslateError', 'UnicodeWarning', 'UserWarning', 'ValueError', 'Warning', 'WindowsError', 'ZeroDivisionError', '__IPYTHON__', '__build_class__', '__debug__', '__doc__', '__import__', '__loader__', '__name__', '__package__', '__spec__', 'abs', 'all', 'any', 'ascii', 'bin', 'bool', 'breakpoint', 'bytearray', 'bytes', 'callable', 'chr', 'classmethod', 'compile', 'complex', 'copyright', 'credits', 'delattr', 'dict', 'dir', 'display', 'divmod', 'enumerate', 'eval', 'exec', 'execfile', 'filter', 'float', 'format', 'frozenset', 'get_ipython', 'getattr', 'globals', 'hasattr', 'hash', 'help', 'hex', 'id', 'input', 'int', 'isinstance', 'issubclass', 'iter', 'len', 'license', 'list', 'locals', 'map', 'max', 'memoryview', 'min', 'next', 'object', 'oct', 'open', 'ord', 'pow', 'print', 'property', 'range', 'repr', 'reversed', 'round', 'runfile', 'set', 'setattr', 'slice', 'sorted', 'staticmethod', 'str', 'sum', 'super', 'tuple', 'type', 'vars', 'zip'], '', '', 'FP21-Sentencias_anidadas_y_alcance.ipynb', 'dir(__builtins__)', '', '', 'dir(__builtins__)', ['ArithmeticError', 'AssertionError', 'AttributeError', 'BaseException', 'BlockingIOError', 'BrokenPipeError', 'BufferError', 'BytesWarning', 'ChildProcessError', 'ConnectionAbortedError', 'ConnectionError', 'ConnectionRefusedError', 'ConnectionResetError', 'DeprecationWarning', 'EOFError', 'Ellipsis', 'EnvironmentError', 'Exception', 'False', 'FileExistsError', 'FileNotFoundError', 'FloatingPointError', 'FutureWarning', 'GeneratorExit', 'IOError', 'ImportError', 'ImportWarning', 'IndentationError', 'IndexError', 'InterruptedError', 'IsADirectoryError', 'KeyError', 'KeyboardInterrupt', 'LookupError', 'MemoryError', 'ModuleNotFoundError', 'NameError', 'None', 'NotADirectoryError', 'NotImplemented', 'NotImplementedError', 'OSError', 'OverflowError', 'PendingDeprecationWarning', 'PermissionError', 'ProcessLookupError', 'RecursionError', 'ReferenceError', 'ResourceWarning', 'RuntimeError', 'RuntimeWarning', 'StopAsyncIteration', 'StopIteration', 'SyntaxError', 'SyntaxWarning', 'SystemError', 'SystemExit', 'TabError', 'TimeoutError', 'True', 'TypeError', 'UnboundLocalError', 'UnicodeDecodeError', 'UnicodeEncodeError', 'UnicodeError', 'UnicodeTranslateError', 'UnicodeWarning', 'UserWarning', 'ValueError', 'Warning', 'WindowsError', 'ZeroDivisionError', '__IPYTHON__', '__build_class__', '__debug__', '__doc__', '__import__', '__loader__', '__name__', '__package__', '__spec__', 'abs', 'all', 'any', 'ascii', 'bin', 'bool', 'breakpoint', 'bytearray', 'bytes', 'callable', 'chr', 'classmethod', 'compile', 'complex', 'copyright', 'credits', 'delattr', 'dict', 'dir', 'display', 'divmod', 'enumerate', 'eval', 'exec', 'execfile', 'filter', 'float', 'format', 'frozenset', 'get_ipython', 'getattr', 'globals', 'hasattr', 'hash', 'help', 'hex', 'id', 'input', 'int', 'isinstance', 'issubclass', 'iter', 'len', 'license', 'list', 'locals', 'map', 'max', 'memoryview', 'min', 'next', 'object', 'oct', 'open', 'ord', 'pow', 'print', 'property', 'range', 'repr', 'reversed', 'round', 'runfile', 'set', 'setattr', 'slice', 'sorted', 'staticmethod', 'str', 'sum', 'super', 'tuple', 'type', 'vars', 'zip'], <module 'sys' (built-in)>, <function remove_imported_pydev_package at 0x000002280DF7DDC0>, <module '_pydevd_bundle' from 'C:\\\\Program Files\\\\JetBrains\\\\PyCharm 2022.1.1\\\\plugins\\\\python\\\\helpers\\\\pydev\\\\_pydevd_bundle\\\\__init__.py'>, <module 'pydev_jupyter_vars' from 'C:\\\\Program Files\\\\JetBrains\\\\PyCharm 2022.1.1\\\\plugins\\\\python\\\\helpers-pro\\\\jupyter_debug\\\\pydev_jupyter_vars.py'>, 'globals().values()'])"
     },
     "execution_count": 2,
     "metadata": {},
     "output_type": "execute_result"
    }
   ]
  },
  {
   "cell_type": "markdown",
   "metadata": {
    "id": "kidB1f4Fuqh8"
   },
   "source": [
    "Veamos que pasa cuando definimos un objeto llamado 'saludo' en este espacio de nombres."
   ]
  },
  {
   "cell_type": "code",
   "metadata": {
    "id": "KTLGsz8ouqh8",
    "ExecuteTime": {
     "end_time": "2023-09-06T22:20:29.005681500Z",
     "start_time": "2023-09-06T22:20:28.987680600Z"
    }
   },
   "source": [
    "'saludo' in globals().keys()"
   ],
   "execution_count": 3,
   "outputs": [
    {
     "data": {
      "text/plain": "False"
     },
     "execution_count": 3,
     "metadata": {},
     "output_type": "execute_result"
    }
   ]
  },
  {
   "cell_type": "code",
   "metadata": {
    "id": "Cf5uzZjkuqh9",
    "ExecuteTime": {
     "end_time": "2023-09-06T22:20:32.502660900Z",
     "start_time": "2023-09-06T22:20:32.484663100Z"
    }
   },
   "source": [
    "saludo = 'Hola mundo'"
   ],
   "execution_count": 4,
   "outputs": []
  },
  {
   "cell_type": "code",
   "metadata": {
    "id": "mp07Thh7uqh9",
    "ExecuteTime": {
     "end_time": "2023-09-06T22:20:35.797358500Z",
     "start_time": "2023-09-06T22:20:35.723355200Z"
    }
   },
   "source": [
    "'Hola mundo' in globals().values()"
   ],
   "execution_count": 5,
   "outputs": [
    {
     "data": {
      "text/plain": "True"
     },
     "execution_count": 5,
     "metadata": {},
     "output_type": "execute_result"
    }
   ]
  },
  {
   "cell_type": "code",
   "metadata": {
    "id": "WGDRAgv7uqh9",
    "ExecuteTime": {
     "end_time": "2023-09-06T22:21:12.056540400Z",
     "start_time": "2023-09-06T22:21:12.010068700Z"
    }
   },
   "source": [
    "'saludo' in globals().keys()"
   ],
   "execution_count": 6,
   "outputs": [
    {
     "data": {
      "text/plain": "True"
     },
     "execution_count": 6,
     "metadata": {},
     "output_type": "execute_result"
    }
   ]
  },
  {
   "cell_type": "markdown",
   "metadata": {
    "id": "Ek2TEGxOuqh9"
   },
   "source": [
    "###  __3 y 4. Espacios de nombres adjuntos y locales (_enclosing y local namespaces_)__\n",
    "Los **Enclosing** y **Local namespaces** (espacios de nombres adjuntos y locales)\n",
    "son creados por el intérprete de Python cada vez que se ejecuta una nueva función. Ese espacio de nombres es local a la función (y sólo a ella) y permanece hasta que la función termina.\n",
    "\n",
    "Las funciones no existen independientemente unas de otras, solo en el nivel del programa principal. También puede definir una función dentro de otra.\n",
    "\n",
    "Python nos ofrece la función (Built-In) `locals()`, la cual nos devuelve el contenido de un espacio de nombres local para un objeto definido:"
   ]
  },
  {
   "cell_type": "code",
   "metadata": {
    "id": "2G0dZ_qouqh-",
    "ExecuteTime": {
     "end_time": "2023-09-06T22:21:16.220442100Z",
     "start_time": "2023-09-06T22:21:16.160934400Z"
    }
   },
   "source": [
    "locals().keys()"
   ],
   "execution_count": 7,
   "outputs": [
    {
     "data": {
      "text/plain": "dict_keys(['__name__', '__doc__', '__package__', '__loader__', '__spec__', '__builtin__', '__builtins__', '_ih', '_oh', '_dh', 'In', 'Out', 'get_ipython', 'exit', 'quit', 'open', '_', '__', '___', '__session__', '_i', '_ii', '_iii', '_i1', '_1', 'sys', 'remove_imported_pydev_package', '_pydevd_bundle', 'pydev_jupyter_vars', '_i2', '_2', '_i3', '_3', '_i4', 'saludo', '_i5', '_5', '_i6', '_6', '_i7'])"
     },
     "execution_count": 7,
     "metadata": {},
     "output_type": "execute_result"
    }
   ]
  },
  {
   "cell_type": "code",
   "metadata": {
    "id": "H7xF_Lepuqh-",
    "ExecuteTime": {
     "end_time": "2023-09-06T22:24:20.965883900Z",
     "start_time": "2023-09-06T22:24:20.892882Z"
    }
   },
   "source": [
    "def f():                         # 1\n",
    "    print('Se ejecutó f()')      # 2\n",
    "                                 # 3\n",
    "    def g():                     # 4\n",
    "        print('Se ejecutó g()')  # 5\n",
    "        print('Termina g()')     # 6\n",
    "        return                   # 7\n",
    "                                 # 8\n",
    "    g()                          # 9\n",
    "    print('Termina f()')         # 10\n",
    "    return                       # 11\n",
    "                                 # 12\n",
    "                                 # 13\n",
    "f()                              # 14"
   ],
   "execution_count": 8,
   "outputs": [
    {
     "name": "stdout",
     "output_type": "stream",
     "text": [
      "Se ejecutó f()\n",
      "Se ejecutó g()\n",
      "Termina g()\n",
      "Termina f()\n"
     ]
    }
   ]
  },
  {
   "cell_type": "markdown",
   "metadata": {
    "id": "sCoMnegSuqh_"
   },
   "source": [
    "En este ejemplo, la función $g()$ se define dentro del cuerpo de $f()$. <br>\n",
    "Esto es lo que sucede en este código:\n",
    "\n",
    "Las líneas 1 a 11 definen $f()$, la función envolvente (**enclosing**).<br>\n",
    "Las líneas 4 a 7 definen $g()$, la función incluida o adjunta (**enclosed**).<br>\n",
    "En la línea 14, el programa principal llama a $f()$.<br>\n",
    "En la línea 9, la función $f()$ llama a la función $g()$.<br>\n",
    "\n",
    "Cuando el programa principal llama a $f()$, Python crea un nuevo espacio de nombres para $f()$. De manera similar, cuando $f()$ llama a $g()$, $g()$ obtiene su propio espacio de nombres separado. El espacio de nombres creado para g() es el **local namespace** (espacio de nombres local) y el espacio de nombres creado para $f()$ es el **enclosing namespace** (espacio de nombres adjunto).\n",
    "\n",
    "Cada uno de estos espacios de nombres sigue existiendo hasta que finaliza su función respectiva. Es posible que Python no reclame inmediatamente la memoria asignada para esos espacios de nombres cuando sus funciones terminen, pero todas las referencias a los objetos que contienen dejan de ser válidas."
   ]
  },
  {
   "cell_type": "code",
   "metadata": {
    "id": "nPR7Q4o4uqh_",
    "ExecuteTime": {
     "end_time": "2023-09-06T22:35:40.500214100Z",
     "start_time": "2023-09-06T22:35:40.471214200Z"
    }
   },
   "source": [
    "def noHayLocales():\n",
    "    pass\n",
    "    return locals()\n",
    "\n",
    "def siHayLocales():\n",
    "    present = True\n",
    "    a = 1\n",
    "    return locals()\n",
    "\n",
    "def siHayLocales2(argumento):\n",
    "    present = True\n",
    "    a = argumento\n",
    "    return locals()\n",
    "\n",
    "print('Función sin nombres locales:', noHayLocales(), '\\n')\n",
    "print('Función con nombres locales::', siHayLocales(), '\\n')\n",
    "print('Función con nombres locales::', siHayLocales2('hola'))"
   ],
   "execution_count": 12,
   "outputs": [
    {
     "name": "stdout",
     "output_type": "stream",
     "text": [
      "Función sin nombres locales: {} \n",
      "\n",
      "Función con nombres locales:: {'present': True, 'a': 1} \n",
      "\n",
      "Función con nombres locales:: {'argumento': 'hola', 'present': True, 'a': 'hola'}\n"
     ]
    }
   ]
  },
  {
   "cell_type": "markdown",
   "metadata": {
    "id": "yBxqom19uqh_"
   },
   "source": [
    "## <font color='blue'>**Alcance de las variable (_Variable scope_)**</font>\n",
    "La existencia de múltiples espacios de nombres distintos significa que pueden existir varias instancias diferentes de un nombre en particular simultáneamente mientras se ejecuta un programa de Python. Siempre que cada instancia esté en un espacio de nombres diferente, todas se mantienen por separado y no interferirán entre sí.\n",
    "\n",
    "Pero eso plantea una pregunta: supón que te refiere al nombre $x$ en tu código, y $x$ existe en varios espacios de nombres. ¿Cómo sabe Python a cuál te refieres?\n",
    "\n",
    "La respuesta está en el concepto de alcance (**scope**). El alcance de un nombre es la región de un programa en la que ese nombre tiene significado. El intérprete determina esto en tiempo de ejecución en función de dónde se produce la definición del nombre y en qué parte del código se hace referencia al nombre."
   ]
  },
  {
   "cell_type": "markdown",
   "metadata": {
    "id": "oAAIyYMluqh_"
   },
   "source": [
    "### Ejemplo simple\n",
    "Comencemos con un experimento mental rápido, imagina el siguiente código:"
   ]
  },
  {
   "cell_type": "code",
   "metadata": {
    "id": "SSP5KAzfuqh_",
    "ExecuteTime": {
     "end_time": "2023-09-06T22:35:57.501637700Z",
     "start_time": "2023-09-06T22:35:57.485635100Z"
    }
   },
   "source": [
    "x = 'fuera'\n",
    "\n",
    "def report():\n",
    "    x = 'dentro'\n",
    "    return x"
   ],
   "execution_count": 14,
   "outputs": []
  },
  {
   "cell_type": "markdown",
   "metadata": {
    "id": "XPNyUqFpuqiA"
   },
   "source": [
    "Cuál esperas que sea la salida si llamamos a *report( )*?"
   ]
  },
  {
   "cell_type": "code",
   "metadata": {
    "id": "7gkfq6y1uqiA",
    "ExecuteTime": {
     "end_time": "2023-09-06T22:36:03.542004500Z",
     "start_time": "2023-09-06T22:36:03.525000200Z"
    }
   },
   "source": [
    "report()"
   ],
   "execution_count": 15,
   "outputs": [
    {
     "data": {
      "text/plain": "'dentro'"
     },
     "execution_count": 15,
     "metadata": {},
     "output_type": "execute_result"
    }
   ]
  },
  {
   "cell_type": "markdown",
   "metadata": {
    "id": "nh6OAc_4uqiA"
   },
   "source": [
    "Bien, eso tiene sentido, ya que vemos que $x$ fue reasignada dentro de la función *report( )*. ¿Qué crees que sucede si llamamos a `print(x)` fuera de esta función?"
   ]
  },
  {
   "cell_type": "code",
   "metadata": {
    "id": "RnhJwXU6uqiA",
    "ExecuteTime": {
     "end_time": "2023-09-06T22:37:00.500674600Z",
     "start_time": "2023-09-06T22:37:00.425671500Z"
    }
   },
   "source": [
    "print(x)"
   ],
   "execution_count": 16,
   "outputs": [
    {
     "name": "stdout",
     "output_type": "stream",
     "text": [
      "fuera\n"
     ]
    }
   ]
  },
  {
   "cell_type": "markdown",
   "metadata": {
    "id": "sNdIAzx7uqiB"
   },
   "source": [
    "Si te fijas, $x$ está definido en más de un **namespace**; uno de ellos es global y el otro local. Claro que si buscas $x$ en `locals()`, ya no la vas a encontrar porque a esta altura del código la función *report()*, que la creó, dejó de ejecutarse."
   ]
  },
  {
   "cell_type": "code",
   "metadata": {
    "id": "mK2zgpXSuqiB",
    "ExecuteTime": {
     "end_time": "2023-09-06T22:38:25.532382400Z",
     "start_time": "2023-09-06T22:38:25.522383500Z"
    }
   },
   "source": [
    "x in locals()"
   ],
   "execution_count": 18,
   "outputs": [
    {
     "data": {
      "text/plain": "False"
     },
     "execution_count": 18,
     "metadata": {},
     "output_type": "execute_result"
    }
   ]
  },
  {
   "cell_type": "markdown",
   "metadata": {
    "id": "2igNe1uZuqiB"
   },
   "source": [
    "## Cómo busca Python las variables?\n",
    "\n",
    "Si tu código se refiere al nombre $x$, Python busca $x$ en los siguientes espacios de nombres siguiendo el orden que a continuación se muestra:\n",
    "\n",
    "1. **Local**: si hace referencia a $x$ dentro de una función (`def` o `lambda`), el intérprete primero la busca en el ámbito más interno que es local para esa función.\n",
    "\n",
    "2. **Enclosing** (adjunto): si $x$ no está en el ámbito local pero aparece en una función que reside dentro de otra función, el intérprete busca en el ámbito de la función envolvente.\n",
    "\n",
    "3. **Global**: si ninguna de las búsquedas anteriores es fructífera, el intérprete busca a continuación en el ámbito global.\n",
    "\n",
    "4. **Built-in** (integrado): si no puede encontrar $x$ en ningún otro lugar, el intérprete prueba en el espacio de nombres incorporado.\n",
    "\n",
    "Como ves, el intérprete busca un nombre desde adentro hacia afuera, buscando en el ámbito local, adjunto, global y finalmente en el integrado. La regla para memorizar esta búsqueda es **LEGB**."
   ]
  },
  {
   "cell_type": "markdown",
   "metadata": {
    "id": "C2D0ag16uqiB"
   },
   "source": [
    "### Ejemplo de Local"
   ]
  },
  {
   "cell_type": "code",
   "metadata": {
    "id": "XmzM879DuqiB",
    "ExecuteTime": {
     "end_time": "2023-09-06T22:39:17.616156600Z",
     "start_time": "2023-09-06T22:39:17.600153600Z"
    }
   },
   "source": [
    "def report():\n",
    "\n",
    "    # Esta es una asignación local dento de la función\n",
    "    x = 'local'\n",
    "    print(x)"
   ],
   "execution_count": 19,
   "outputs": []
  },
  {
   "cell_type": "code",
   "metadata": {
    "id": "H42wPGx4uqiB",
    "ExecuteTime": {
     "end_time": "2023-09-06T22:39:28.093203400Z",
     "start_time": "2023-09-06T22:39:28.059203Z"
    }
   },
   "source": [
    "report()"
   ],
   "execution_count": 20,
   "outputs": [
    {
     "name": "stdout",
     "output_type": "stream",
     "text": [
      "local\n"
     ]
    }
   ]
  },
  {
   "cell_type": "markdown",
   "metadata": {
    "id": "6Yl8HKB_uqiB"
   },
   "source": [
    "### Ejemplo de Enclosing Function\n",
    "\n",
    "Recuerda que esto ocurre cuando una función está dentro de otra función (veremos más ejemplos de esto más adelante, se llaman funciones anidadas, no las usarás tan a menudo cuando comiences a programar)."
   ]
  },
  {
   "cell_type": "code",
   "metadata": {
    "id": "4N3yW4jUuqiC",
    "ExecuteTime": {
     "end_time": "2023-09-06T22:39:30.882301800Z",
     "start_time": "2023-09-06T22:39:30.869298100Z"
    }
   },
   "source": [
    "x = 'Este es el nivel global'  # x definido a nivel global\n",
    "\n",
    "def enclosing():\n",
    "    # x también se define a nivel enclosing\n",
    "    x = 'Nivel dentro de la función (enclosing)'\n",
    "\n",
    "    def inside():\n",
    "        # Esta función está encerranda en la interior\n",
    "        # Observe la indentación\n",
    "        print(x)\n",
    "\n",
    "    # Ahora llamemos a inside()\n",
    "    # Nota la indentación\n",
    "    inside()"
   ],
   "execution_count": 21,
   "outputs": []
  },
  {
   "cell_type": "markdown",
   "metadata": {
    "id": "3HJU953JuqiC"
   },
   "source": [
    "Entonces, ¿qué pasará cuando llamemos a *enclosing( )*? Que veremos?"
   ]
  },
  {
   "cell_type": "code",
   "metadata": {
    "id": "ENbD8Br_uqiC",
    "ExecuteTime": {
     "end_time": "2023-09-06T22:41:13.106499800Z",
     "start_time": "2023-09-06T22:41:13.036498Z"
    }
   },
   "source": [
    "enclosing()"
   ],
   "execution_count": 22,
   "outputs": [
    {
     "name": "stdout",
     "output_type": "stream",
     "text": [
      "Nivel dentro de la función (enclosing)\n"
     ]
    }
   ]
  },
  {
   "cell_type": "markdown",
   "metadata": {
    "id": "hpm-_udhuqiC"
   },
   "source": [
    "Siguiendo la regla **LEGB**, la función *inside( )* primero busca la variable $x$ localmente. Como no está definido allí, mira el nivel adjunto (enclosing), lo encuentra definido allí, por lo que puede imprimirlo.\n",
    "\n",
    "### Ejemplo de Global\n",
    "Veamos qué sucede si no se hubiese definido en la función adjunta (lo que significa que era global)."
   ]
  },
  {
   "cell_type": "code",
   "metadata": {
    "id": "51amJUXUuqiC",
    "ExecuteTime": {
     "end_time": "2023-09-06T22:42:04.224613800Z",
     "start_time": "2023-09-06T22:42:04.207615200Z"
    }
   },
   "source": [
    "x = 'Este es el nivel global'\n",
    "\n",
    "def enclosing():\n",
    "    # x ya NO se define a nivel enclosing\n",
    "    # x = 'Nivel dentro de la función (enclosing)'\n",
    "\n",
    "    def inside():\n",
    "        global x\n",
    "        # Esta función está encerranda en la interior\n",
    "        # Observe la indentación\n",
    "        print(x)\n",
    "\n",
    "    # Ahora llamemos a inside()\n",
    "    # Nota la indentación\n",
    "    inside()"
   ],
   "execution_count": 23,
   "outputs": []
  },
  {
   "cell_type": "code",
   "metadata": {
    "id": "E8xXTQBduqiC",
    "ExecuteTime": {
     "end_time": "2023-09-06T22:43:25.398347700Z",
     "start_time": "2023-09-06T22:43:25.375347300Z"
    }
   },
   "source": [
    "enclosing()"
   ],
   "execution_count": 28,
   "outputs": [
    {
     "name": "stdout",
     "output_type": "stream",
     "text": [
      "Este es el nivel global\n"
     ]
    }
   ]
  },
  {
   "cell_type": "markdown",
   "metadata": {
    "id": "9WrJ2D8luqiC"
   },
   "source": [
    "### <font color='green'> Actividad 2:</font>\n",
    "### Genera una definición Local\n",
    "Modifica el código anterior para que la variable $x$ sea local."
   ]
  },
  {
   "cell_type": "code",
   "metadata": {
    "id": "EwEtsEgLuqiD"
   },
   "source": [
    "x = 'Este es el nivel global'\n",
    "\n",
    "def enclosing():\n",
    "    # Tu código aquí ...\n"
   ],
   "execution_count": null,
   "outputs": []
  },
  {
   "cell_type": "code",
   "metadata": {
    "id": "oVCiUVBCuqiD"
   },
   "source": [
    "enclosing()"
   ],
   "execution_count": null,
   "outputs": []
  },
  {
   "cell_type": "markdown",
   "metadata": {
    "id": "TLF96xVGuqiD"
   },
   "source": [
    "<font color ='green'>Fin actividad 2</font>"
   ]
  },
  {
   "cell_type": "markdown",
   "metadata": {
    "id": "6J9oeMKpuqiD"
   },
   "source": [
    "### Ejemplo de Built-in\n",
    "\n",
    "Estas son funciones y palabras clave integradas (built-in), ¡ten cuidado de no sobrescribirlas! Si el nombre de la variable ya está especialmente resaltado con otro color cuando lo escribes, probablemente sea una función pre-definida de Python o de alguna de sus librerías."
   ]
  },
  {
   "cell_type": "code",
   "metadata": {
    "id": "nrHxJ24LuqiD",
    "ExecuteTime": {
     "end_time": "2023-09-06T22:45:16.289164700Z",
     "start_time": "2023-09-06T22:45:16.277165300Z"
    }
   },
   "source": [
    "len"
   ],
   "execution_count": 29,
   "outputs": [
    {
     "data": {
      "text/plain": "<function len(obj, /)>"
     },
     "execution_count": 29,
     "metadata": {},
     "output_type": "execute_result"
    }
   ]
  },
  {
   "cell_type": "code",
   "metadata": {
    "id": "OEnVgaRxuqiD",
    "ExecuteTime": {
     "end_time": "2023-09-06T22:45:20.972923500Z",
     "start_time": "2023-09-06T22:45:20.899920200Z"
    }
   },
   "source": [
    "sum"
   ],
   "execution_count": 30,
   "outputs": [
    {
     "data": {
      "text/plain": "<function sum(iterable, /, start=0)>"
     },
     "execution_count": 30,
     "metadata": {},
     "output_type": "execute_result"
    }
   ]
  },
  {
   "cell_type": "code",
   "metadata": {
    "id": "4e3WTUaEuqiD",
    "ExecuteTime": {
     "end_time": "2023-09-06T22:45:29.982566Z",
     "start_time": "2023-09-06T22:45:29.965566600Z"
    }
   },
   "source": [
    "type(sum)"
   ],
   "execution_count": 31,
   "outputs": [
    {
     "data": {
      "text/plain": "builtin_function_or_method"
     },
     "execution_count": 31,
     "metadata": {},
     "output_type": "execute_result"
    }
   ]
  },
  {
   "cell_type": "code",
   "metadata": {
    "id": "d7Bhz-uCuqiD",
    "ExecuteTime": {
     "end_time": "2023-09-06T22:45:35.172119100Z",
     "start_time": "2023-09-06T22:45:35.156123200Z"
    }
   },
   "source": [
    "# Cuidado con sobre escribir funciones integradas\n",
    "sum = 3"
   ],
   "execution_count": 32,
   "outputs": []
  },
  {
   "cell_type": "markdown",
   "metadata": {
    "id": "2GCayC93uqiE"
   },
   "source": [
    "Acabas de convertir la función **sum()** en la **variable tipo int sum**.<br>\n",
    "Qué opinas; esto es una fortaleza o una debilidad de Python?"
   ]
  },
  {
   "cell_type": "code",
   "metadata": {
    "id": "OpUd-MGnuqiE",
    "ExecuteTime": {
     "end_time": "2023-09-06T22:45:56.347309300Z",
     "start_time": "2023-09-06T22:45:56.330314300Z"
    }
   },
   "source": [
    "sum"
   ],
   "execution_count": 33,
   "outputs": [
    {
     "data": {
      "text/plain": "3"
     },
     "execution_count": 33,
     "metadata": {},
     "output_type": "execute_result"
    }
   ]
  },
  {
   "cell_type": "code",
   "metadata": {
    "id": "n2XMUtdeuqiE",
    "ExecuteTime": {
     "end_time": "2023-09-06T22:46:01.323636800Z",
     "start_time": "2023-09-06T22:46:01.311636400Z"
    }
   },
   "source": [
    "type(sum)"
   ],
   "execution_count": 34,
   "outputs": [
    {
     "data": {
      "text/plain": "int"
     },
     "execution_count": 34,
     "metadata": {},
     "output_type": "execute_result"
    }
   ]
  },
  {
   "cell_type": "code",
   "execution_count": 49,
   "outputs": [
    {
     "ename": "IndentationError",
     "evalue": "expected an indented block (2116049453.py, line 5)",
     "output_type": "error",
     "traceback": [
      "\u001B[1;36m  Cell \u001B[1;32mIn[49], line 5\u001B[1;36m\u001B[0m\n\u001B[1;33m    \u001B[0m\n\u001B[1;37m    ^\u001B[0m\n\u001B[1;31mIndentationError\u001B[0m\u001B[1;31m:\u001B[0m expected an indented block\n"
     ]
    }
   ],
   "source": [
    "from typing import overload\n",
    "@overload\n",
    "def sum(__iterable, __start):\n",
    "\n"
   ],
   "metadata": {
    "collapsed": false,
    "ExecuteTime": {
     "end_time": "2023-09-06T22:56:16.446644500Z",
     "start_time": "2023-09-06T22:56:16.364642400Z"
    }
   }
  },
  {
   "cell_type": "code",
   "execution_count": 44,
   "outputs": [
    {
     "data": {
      "text/plain": "function"
     },
     "execution_count": 44,
     "metadata": {},
     "output_type": "execute_result"
    }
   ],
   "source": [
    "type(sum)"
   ],
   "metadata": {
    "collapsed": false,
    "ExecuteTime": {
     "end_time": "2023-09-06T22:52:49.206194200Z",
     "start_time": "2023-09-06T22:52:49.152190900Z"
    }
   }
  },
  {
   "cell_type": "code",
   "execution_count": 46,
   "outputs": [
    {
     "ename": "NotImplementedError",
     "evalue": "You should not call an overloaded function. A series of @overload-decorated functions outside a stub module should always be followed by an implementation that is not @overload-ed.",
     "output_type": "error",
     "traceback": [
      "\u001B[1;31m---------------------------------------------------------------------------\u001B[0m",
      "\u001B[1;31mNotImplementedError\u001B[0m                       Traceback (most recent call last)",
      "Cell \u001B[1;32mIn[46], line 1\u001B[0m\n\u001B[1;32m----> 1\u001B[0m \u001B[38;5;28;43msum\u001B[39;49m\u001B[43m(\u001B[49m\u001B[38;5;241;43m2\u001B[39;49m\u001B[43m,\u001B[49m\u001B[38;5;241;43m3\u001B[39;49m\u001B[43m)\u001B[49m\n",
      "File \u001B[1;32m~\\AppData\\Local\\Programs\\Python\\Python39\\lib\\typing.py:1609\u001B[0m, in \u001B[0;36m_overload_dummy\u001B[1;34m(*args, **kwds)\u001B[0m\n\u001B[0;32m   1607\u001B[0m \u001B[38;5;28;01mdef\u001B[39;00m \u001B[38;5;21m_overload_dummy\u001B[39m(\u001B[38;5;241m*\u001B[39margs, \u001B[38;5;241m*\u001B[39m\u001B[38;5;241m*\u001B[39mkwds):\n\u001B[0;32m   1608\u001B[0m \u001B[38;5;250m    \u001B[39m\u001B[38;5;124;03m\"\"\"Helper for @overload to raise when called.\"\"\"\u001B[39;00m\n\u001B[1;32m-> 1609\u001B[0m     \u001B[38;5;28;01mraise\u001B[39;00m \u001B[38;5;167;01mNotImplementedError\u001B[39;00m(\n\u001B[0;32m   1610\u001B[0m         \u001B[38;5;124m\"\u001B[39m\u001B[38;5;124mYou should not call an overloaded function. \u001B[39m\u001B[38;5;124m\"\u001B[39m\n\u001B[0;32m   1611\u001B[0m         \u001B[38;5;124m\"\u001B[39m\u001B[38;5;124mA series of @overload-decorated functions \u001B[39m\u001B[38;5;124m\"\u001B[39m\n\u001B[0;32m   1612\u001B[0m         \u001B[38;5;124m\"\u001B[39m\u001B[38;5;124moutside a stub module should always be followed \u001B[39m\u001B[38;5;124m\"\u001B[39m\n\u001B[0;32m   1613\u001B[0m         \u001B[38;5;124m\"\u001B[39m\u001B[38;5;124mby an implementation that is not @overload-ed.\u001B[39m\u001B[38;5;124m\"\u001B[39m)\n",
      "\u001B[1;31mNotImplementedError\u001B[0m: You should not call an overloaded function. A series of @overload-decorated functions outside a stub module should always be followed by an implementation that is not @overload-ed."
     ]
    }
   ],
   "source": [
    "sum(2,3)"
   ],
   "metadata": {
    "collapsed": false,
    "ExecuteTime": {
     "end_time": "2023-09-06T22:55:41.503096800Z",
     "start_time": "2023-09-06T22:55:40.527686200Z"
    }
   }
  },
  {
   "cell_type": "markdown",
   "metadata": {
    "id": "gJOkATN9uqiE"
   },
   "source": [
    "### Variables Locales vs Globales\n",
    "\n",
    "Ahora que hemos visto los niveles, asegurémonos de entenderlos con otro ejemplo:"
   ]
  },
  {
   "cell_type": "code",
   "metadata": {
    "id": "IQvSKlz5uqiE",
    "ExecuteTime": {
     "end_time": "2023-09-06T22:57:52.366679Z",
     "start_time": "2023-09-06T22:57:52.350677400Z"
    }
   },
   "source": [
    "x = 'global afuera'\n",
    "\n",
    "def myfunc(x):\n",
    "\n",
    "    print(f'X es {x}')\n",
    "\n",
    "    x = 'redefinida dentro de myfunc()'\n",
    "\n",
    "    print(f'X es {x}')"
   ],
   "execution_count": 50,
   "outputs": []
  },
  {
   "cell_type": "code",
   "metadata": {
    "id": "rjEIlSdYuqiE",
    "ExecuteTime": {
     "end_time": "2023-09-06T22:57:56.892734900Z",
     "start_time": "2023-09-06T22:57:56.870734300Z"
    }
   },
   "source": [
    "myfunc(x)"
   ],
   "execution_count": 51,
   "outputs": [
    {
     "name": "stdout",
     "output_type": "stream",
     "text": [
      "X es global afuera\n",
      "X es redefinida dentro de myfunc()\n"
     ]
    }
   ]
  },
  {
   "cell_type": "code",
   "metadata": {
    "id": "2ogpZC3DuqiE",
    "ExecuteTime": {
     "end_time": "2023-09-06T22:57:58.488850400Z",
     "start_time": "2023-09-06T22:57:58.456849100Z"
    }
   },
   "source": [
    "print(x)"
   ],
   "execution_count": 52,
   "outputs": [
    {
     "name": "stdout",
     "output_type": "stream",
     "text": [
      "global afuera\n"
     ]
    }
   ]
  },
  {
   "cell_type": "markdown",
   "metadata": {
    "id": "n4Ahu8Z9uqiF"
   },
   "source": [
    "## <font color='blue'>**La palabra reservada `global`**</font>\n",
    "\n",
    "Ahora puede haber una ocasión en la que específicamente desees sobrescribir la variable global dentro de una función. Cómo puedes hacer eso? Puedes utilizar la palabra reservada `global` antes de la variable para indicar que desea \"tomar\" la variable __global__ y no crear una nueva de forma **local**.\n",
    "\n",
    "Ten en cuenta que esto generalmente no se recomienda, y debe hacer todo lo posible para evitarlo hasta que tengas más experiencia programando. ¿Por qué? Porque se vuelve muy fácil crear errores accidentalmente de esta manera al sobrescribir variables en una parte de su script que afectan el script en un parte completamente diferente.\n",
    "\n",
    "Veamos un ejemplo de la palabra clave `global`."
   ]
  },
  {
   "cell_type": "code",
   "metadata": {
    "id": "S-Yvbgz3uqiF",
    "ExecuteTime": {
     "end_time": "2023-09-06T22:58:01.696092Z",
     "start_time": "2023-09-06T22:58:01.679095100Z"
    }
   },
   "source": [
    "x = 'global afuera'\n",
    "\n",
    "def myfunc():\n",
    "    # Debes declarar la variable coom global dento de la función\n",
    "    # HAcerlo al comienzo, antes de usarla\n",
    "    global x\n",
    "\n",
    "    print(f'X es {x}')\n",
    "\n",
    "    x = 'redefinida dentro de myfunc() con la palabra reservada \"global\".'\n",
    "\n",
    "    print(f'X es {x}')"
   ],
   "execution_count": 53,
   "outputs": []
  },
  {
   "cell_type": "code",
   "metadata": {
    "id": "UL4Njmy_uqiF",
    "ExecuteTime": {
     "end_time": "2023-09-06T22:58:06.773440400Z",
     "start_time": "2023-09-06T22:58:06.757440900Z"
    }
   },
   "source": [
    "myfunc()"
   ],
   "execution_count": 54,
   "outputs": [
    {
     "name": "stdout",
     "output_type": "stream",
     "text": [
      "X es global afuera\n",
      "X es redefinida dentro de myfunc() con la palabra reservada \"global\".\n"
     ]
    }
   ]
  },
  {
   "cell_type": "code",
   "metadata": {
    "id": "-Oza-xfnuqiF",
    "ExecuteTime": {
     "end_time": "2023-09-06T22:58:08.230549100Z",
     "start_time": "2023-09-06T22:58:08.210550400Z"
    }
   },
   "source": [
    "# Aquí está la diferencia respecto del ejemplo anterior\n",
    "# La función modificó el valor de 'x'\n",
    "\n",
    "print(x)"
   ],
   "execution_count": 55,
   "outputs": [
    {
     "name": "stdout",
     "output_type": "stream",
     "text": [
      "redefinida dentro de myfunc() con la palabra reservada \"global\".\n"
     ]
    }
   ]
  },
  {
   "cell_type": "markdown",
   "source": [
    "<img src=\"https://drive.google.com/uc?export=view&id=1DNuGbS1i-9it4Nyr3ZMncQz9cRhs2eJr\" width=\"100\" align=\"left\" title=\"Runa-perth\">\n",
    "<br clear=\"left\">\n",
    "\n",
    "## <font color='blue'>**Resumen**</font>\n",
    "\n",
    "__Namespaces__: En Python, un namespace es un espacio que mantiene un conjunto de nombres. Podemos pensar en ello como un diccionario donde los nombres son las claves y los objetos son los valores. Cada nombre en Python pertenece a un espacio de nombres específico. Los namespaces ayudan a evitar conflictos de nombres. Por ejemplo, puedes tener una función llamada max en tu programa y aún así utilizar la función max incorporada de Python, porque están en diferentes namespaces.\n",
    "\n",
    "Hay varios tipos de namespaces en Python, incluyendo el namespace global (donde se guardan las variables globales), el namespace local (donde se guardan las variables locales), y el namespace incorporado (donde se guardan las funciones y clases incorporadas de Python).\n",
    "\n",
    "__Enclosing (Cierre)__: En Python, el término \"enclosing\" se refiere a una situación en la que una función está anidada dentro de otra función. En este caso, la función interna tiene acceso a las variables y nombres en la función externa. Este es un concepto clave en las closures y decoradores de Python.\n",
    "\n",
    "Aquí tienes un ejemplo:\n",
    "\n",
    "```python\n",
    "def funcion_externa():\n",
    "    x = 10\n",
    "    def funcion_interna():\n",
    "        print(x)  # x es una variable en el enclosing scope de funcion_interna\n",
    "    funcion_interna()\n",
    "\n",
    "funcion_externa()  # Imprime: 10\n",
    "```\n",
    "En este ejemplo, \"funcion_interna\" es una función que está anidada dentro de \"funcion_externa\". \"funcion_interna\" tiene acceso a la variable \"x\" en \"funcion_externa\", porque \"funcion_externa\" es el enclosing scope de \"funcion_interna\".\n",
    "\n",
    "\n",
    "<img src=\"https://drive.google.com/uc?export=view&id=1DNuGbS1i-9it4Nyr3ZMncQz9cRhs2eJr\" width=\"50\" align=\"left\" title=\"Runa-perth\">\n",
    "<br clear=\"left\">\n",
    "\n",
    "\n"
   ],
   "metadata": {
    "id": "_OLNzXmJSlzS"
   }
  },
  {
   "cell_type": "markdown",
   "metadata": {
    "id": "Yf5aw0x9uqiG"
   },
   "source": [
    "Excelente trabajo reclutas de agentes! Ahora, esto debería ayudarlos a desarrollar a crear scripts con múltiples funciones y variables!"
   ]
  }
 ]
}
