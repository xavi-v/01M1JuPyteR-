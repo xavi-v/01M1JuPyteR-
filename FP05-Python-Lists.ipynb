{
 "cells": [
  {
   "cell_type": "markdown",
   "metadata": {
    "id": "wfu6qV3OOqLM"
   },
   "source": [
    "# **Introducción a Python**\n",
    "# FP05. Listas en Python (Python list)"
   ]
  },
  {
   "cell_type": "markdown",
   "metadata": {
    "id": "0r-6QIlDOqLP"
   },
   "source": [
    "## <font color='blue'>**Listas**</font>"
   ]
  },
  {
   "cell_type": "markdown",
   "metadata": {
    "id": "1SmdMUV0OqLQ"
   },
   "source": [
    "Hemos aprendido que las cadenas son secuencias ordenadas e inmutables de caracteres. De manera similar, las listas son secuencias __ordenadas__ y __mutables__ de objetos __mixtos__, i.e., pueden contener una variedad de tipos distintos de datos en orden. Siguen las mismas reglas de secuencia y corchetes de indexación que las cadenas.\n",
    "\n",
    "Exploremos algunos ejemplos útiles:"
   ]
  },
  {
   "cell_type": "code",
   "execution_count": 82,
   "metadata": {
    "id": "dGqPPbHSOqLQ",
    "ExecuteTime": {
     "end_time": "2023-08-23T23:24:02.702152800Z",
     "start_time": "2023-08-23T23:24:02.687156400Z"
    }
   },
   "outputs": [],
   "source": [
    "# una lista vacía\n",
    "\n",
    "l = []"
   ]
  },
  {
   "cell_type": "code",
   "execution_count": 83,
   "metadata": {
    "id": "Fg6hCG7oOqLR",
    "ExecuteTime": {
     "end_time": "2023-08-23T23:24:03.570217700Z",
     "start_time": "2023-08-23T23:24:03.524216900Z"
    }
   },
   "outputs": [
    {
     "data": {
      "text/plain": "list"
     },
     "execution_count": 83,
     "metadata": {},
     "output_type": "execute_result"
    }
   ],
   "source": [
    "type(l)"
   ]
  },
  {
   "cell_type": "code",
   "execution_count": 97,
   "metadata": {
    "id": "kcNcFCq_OqLS",
    "ExecuteTime": {
     "end_time": "2023-08-23T23:26:10.869772100Z",
     "start_time": "2023-08-23T23:26:10.853772100Z"
    }
   },
   "outputs": [],
   "source": [
    "# Es pythonista el separar los elementos con un espacio después de la coma\n",
    "\n",
    "my_list = [1, 2, 3]"
   ]
  },
  {
   "cell_type": "code",
   "execution_count": 85,
   "metadata": {
    "id": "zeDaHOWiOqLS",
    "ExecuteTime": {
     "end_time": "2023-08-23T23:24:06.498014Z",
     "start_time": "2023-08-23T23:24:06.441013500Z"
    }
   },
   "outputs": [
    {
     "data": {
      "text/plain": "[1, 2, 3]"
     },
     "execution_count": 85,
     "metadata": {},
     "output_type": "execute_result"
    }
   ],
   "source": [
    "my_list"
   ]
  },
  {
   "cell_type": "code",
   "execution_count": 100,
   "metadata": {
    "id": "diM_-zWEOqLT",
    "ExecuteTime": {
     "end_time": "2023-08-23T23:26:15.661842800Z",
     "start_time": "2023-08-23T23:26:15.607838600Z"
    }
   },
   "outputs": [],
   "source": [
    "my_list2 = ['a', 'b', 'c']"
   ]
  },
  {
   "cell_type": "code",
   "execution_count": 99,
   "metadata": {
    "id": "mh7rR7qmOqLT",
    "ExecuteTime": {
     "end_time": "2023-08-23T23:26:14.889634200Z",
     "start_time": "2023-08-23T23:26:14.811635700Z"
    }
   },
   "outputs": [
    {
     "data": {
      "text/plain": "['a', 'b', 'c']"
     },
     "execution_count": 99,
     "metadata": {},
     "output_type": "execute_result"
    }
   ],
   "source": [
    "my_list2"
   ]
  },
  {
   "cell_type": "code",
   "execution_count": 101,
   "metadata": {
    "id": "K42dcTLyOqLU",
    "ExecuteTime": {
     "end_time": "2023-08-23T23:26:16.870654Z",
     "start_time": "2023-08-23T23:26:16.848658800Z"
    }
   },
   "outputs": [],
   "source": [
    "a = 100\n",
    "b = 200\n",
    "c = 300\n",
    "my_list3 = [a, b, c]"
   ]
  },
  {
   "cell_type": "code",
   "execution_count": 102,
   "metadata": {
    "id": "pqL76r9BOqLV",
    "ExecuteTime": {
     "end_time": "2023-08-23T23:26:17.982700500Z",
     "start_time": "2023-08-23T23:26:17.930694800Z"
    }
   },
   "outputs": [
    {
     "data": {
      "text/plain": "[1, 2, 3]"
     },
     "execution_count": 102,
     "metadata": {},
     "output_type": "execute_result"
    }
   ],
   "source": [
    "my_list"
   ]
  },
  {
   "cell_type": "markdown",
   "metadata": {
    "id": "H_AgpZ2IOqLW"
   },
   "source": [
    "## <font color='blue'>**Indexing y Slicing**</font>\n",
    "\n",
    "Esto funciona igual que con los string!"
   ]
  },
  {
   "cell_type": "code",
   "execution_count": 103,
   "metadata": {
    "id": "flbwYUgbOqLX",
    "ExecuteTime": {
     "end_time": "2023-08-23T23:26:21.055029500Z",
     "start_time": "2023-08-23T23:26:21.004027400Z"
    }
   },
   "outputs": [],
   "source": [
    "mylist = ['a', 'b', 'c', 'd']"
   ]
  },
  {
   "cell_type": "code",
   "execution_count": 81,
   "metadata": {
    "id": "FWjsyQ-XOqLX",
    "ExecuteTime": {
     "end_time": "2023-08-23T23:23:56.970996700Z",
     "start_time": "2023-08-23T23:23:56.922999100Z"
    }
   },
   "outputs": [
    {
     "data": {
      "text/plain": "'a'"
     },
     "execution_count": 81,
     "metadata": {},
     "output_type": "execute_result"
    }
   ],
   "source": [
    "# el idexing parte de 0\n",
    "\n",
    "mylist[0]"
   ]
  },
  {
   "cell_type": "code",
   "execution_count": 78,
   "metadata": {
    "id": "oK2Pz9_5OqLX",
    "ExecuteTime": {
     "end_time": "2023-08-23T23:23:51.192038400Z",
     "start_time": "2023-08-23T23:23:51.175038800Z"
    }
   },
   "outputs": [
    {
     "data": {
      "text/plain": "[4, 4, 4]"
     },
     "execution_count": 78,
     "metadata": {},
     "output_type": "execute_result"
    }
   ],
   "source": [
    "# y el slicing no considera el último número\n",
    "\n",
    "mylist[0:3]"
   ]
  },
  {
   "cell_type": "code",
   "execution_count": 20,
   "metadata": {
    "id": "WSowEiauOqLX",
    "ExecuteTime": {
     "end_time": "2023-08-23T23:10:43.935047Z",
     "start_time": "2023-08-23T23:10:43.857046200Z"
    }
   },
   "outputs": [
    {
     "data": {
      "text/plain": "'d'"
     },
     "execution_count": 20,
     "metadata": {},
     "output_type": "execute_result"
    }
   ],
   "source": [
    "# podemos usar idexing inverso\n",
    "\n",
    "mylist[-1]"
   ]
  },
  {
   "cell_type": "code",
   "execution_count": 77,
   "metadata": {
    "id": "Xb30nI6nOqLX",
    "ExecuteTime": {
     "end_time": "2023-08-23T23:23:48.987011100Z",
     "start_time": "2023-08-23T23:23:48.970028Z"
    }
   },
   "outputs": [
    {
     "data": {
      "text/plain": "[4, 4]"
     },
     "execution_count": 77,
     "metadata": {},
     "output_type": "execute_result"
    }
   ],
   "source": [
    "# ... con paso\n",
    "mylist[0::2]"
   ]
  },
  {
   "cell_type": "code",
   "execution_count": 76,
   "metadata": {
    "id": "I8lWVT3AOqLY",
    "ExecuteTime": {
     "end_time": "2023-08-23T23:23:46.908706500Z",
     "start_time": "2023-08-23T23:23:46.845701600Z"
    }
   },
   "outputs": [
    {
     "data": {
      "text/plain": "[4, 4, 4]"
     },
     "execution_count": 76,
     "metadata": {},
     "output_type": "execute_result"
    }
   ],
   "source": [
    "# ... con paso inverso\n",
    "mylist[-1::-1]"
   ]
  },
  {
   "cell_type": "markdown",
   "metadata": {
    "id": "W12EDdCROqLY"
   },
   "source": [
    "### La función `len()`\n",
    "\n",
    "Python tiene funciones integradas a las que puede llamar. Lentamente presentaremos más de ellos a medida que las necesitemos. Una función incorporada útil es la función `len()`, la cual devuelve la longitud de un objeto. Observe el color de la letra en su sintaxis, ese color indica que es una función incorporada. Si ve que este resaltado automático ocurre al elegir su propio nombre de variable, entonces debe elegir un nombre de variable diferente, para no sobrescribir accidentalmente la función."
   ]
  },
  {
   "cell_type": "code",
   "execution_count": 29,
   "metadata": {
    "id": "MnngoakPOqLY",
    "ExecuteTime": {
     "end_time": "2023-08-23T23:14:47.411713800Z",
     "start_time": "2023-08-23T23:14:47.346710700Z"
    }
   },
   "outputs": [
    {
     "data": {
      "text/plain": "6"
     },
     "execution_count": 29,
     "metadata": {},
     "output_type": "execute_result"
    }
   ],
   "source": [
    "len('string')"
   ]
  },
  {
   "cell_type": "code",
   "execution_count": 26,
   "metadata": {
    "id": "BLgdaBINOqLY",
    "ExecuteTime": {
     "end_time": "2023-08-23T23:14:34.258815700Z",
     "start_time": "2023-08-23T23:14:34.241816500Z"
    }
   },
   "outputs": [
    {
     "data": {
      "text/plain": "3"
     },
     "execution_count": 26,
     "metadata": {},
     "output_type": "execute_result"
    }
   ],
   "source": [
    "len(my_list)"
   ]
  },
  {
   "cell_type": "markdown",
   "metadata": {
    "id": "DM879TufOqLZ"
   },
   "source": [
    "## <font color='blue'>**Métodos útiles para listas**</font>\n",
    "\n",
    "Los métodos son funciones que pertenecen a un objeto. En este caso el objeto es la lista. Su formato típico es:\n",
    "```python\n",
    "     mylist = [1, 2, 3]\n",
    "     mylist.some_method()\n",
    "```    \n",
    "¡Atención con los paréntesis!\n",
    "\n",
    "Repasemos algunos métodos útiles relacionados con las listas."
   ]
  },
  {
   "cell_type": "code",
   "execution_count": 30,
   "metadata": {
    "id": "aI2ITkXqOqLZ",
    "ExecuteTime": {
     "end_time": "2023-08-23T23:16:35.096470Z",
     "start_time": "2023-08-23T23:16:35.023527Z"
    }
   },
   "outputs": [],
   "source": [
    "\n",
    "mylist = [1, 2, 3]"
   ]
  },
  {
   "cell_type": "code",
   "execution_count": 33,
   "metadata": {
    "id": "JizDG7pQOqLZ",
    "ExecuteTime": {
     "end_time": "2023-08-23T23:16:49.677511500Z",
     "start_time": "2023-08-23T23:16:49.644996700Z"
    }
   },
   "outputs": [],
   "source": [
    "# Descubre qué hace el método append()\n",
    "mylist.append(4)"
   ]
  },
  {
   "cell_type": "code",
   "execution_count": 35,
   "metadata": {
    "id": "vu0OxoI_OqLa",
    "ExecuteTime": {
     "end_time": "2023-08-23T23:17:19.567309500Z",
     "start_time": "2023-08-23T23:17:19.484348400Z"
    }
   },
   "outputs": [
    {
     "data": {
      "text/plain": "[1, 2, 3, 4, 4, 4]"
     },
     "execution_count": 35,
     "metadata": {},
     "output_type": "execute_result"
    }
   ],
   "source": [
    "mylist"
   ]
  },
  {
   "cell_type": "code",
   "execution_count": 43,
   "metadata": {
    "id": "ZuX5EwiVOqLa",
    "ExecuteTime": {
     "end_time": "2023-08-23T23:18:16.329252400Z",
     "start_time": "2023-08-23T23:18:16.281250100Z"
    }
   },
   "outputs": [
    {
     "data": {
      "text/plain": "1"
     },
     "execution_count": 43,
     "metadata": {},
     "output_type": "execute_result"
    }
   ],
   "source": [
    "# Descubre qué hace el método pop()\n",
    "mylist.pop()"
   ]
  },
  {
   "cell_type": "code",
   "execution_count": 49,
   "metadata": {
    "id": "Uav9FjAPOqLa",
    "ExecuteTime": {
     "end_time": "2023-08-23T23:19:10.564318200Z",
     "start_time": "2023-08-23T23:19:10.502316500Z"
    }
   },
   "outputs": [
    {
     "data": {
      "text/plain": "[]"
     },
     "execution_count": 49,
     "metadata": {},
     "output_type": "execute_result"
    }
   ],
   "source": [
    "mylist"
   ]
  },
  {
   "cell_type": "code",
   "execution_count": 75,
   "metadata": {
    "id": "VH82E1x2OqLa",
    "ExecuteTime": {
     "end_time": "2023-08-23T23:23:41.119015500Z",
     "start_time": "2023-08-23T23:23:41.065667900Z"
    }
   },
   "outputs": [
    {
     "data": {
      "text/plain": "<function list.append(object, /)>"
     },
     "execution_count": 75,
     "metadata": {},
     "output_type": "execute_result"
    }
   ],
   "source": [
    "# Si no pones los paréntesis te devuelve el tipo de objeto; en este caso una función\n",
    "mylist.append"
   ]
  },
  {
   "cell_type": "code",
   "execution_count": 64,
   "metadata": {
    "id": "uh1uiTdhOqLa",
    "ExecuteTime": {
     "end_time": "2023-08-23T23:22:24.936405500Z",
     "start_time": "2023-08-23T23:22:24.906406Z"
    }
   },
   "outputs": [],
   "source": [
    "mylist.append(4)"
   ]
  },
  {
   "cell_type": "code",
   "execution_count": 91,
   "metadata": {
    "id": "A3JY0Cg4OqLa",
    "ExecuteTime": {
     "end_time": "2023-08-23T23:24:50.622393800Z",
     "start_time": "2023-08-23T23:24:50.563109Z"
    }
   },
   "outputs": [
    {
     "data": {
      "text/plain": "['a', 'b', 'c', 'd']"
     },
     "execution_count": 91,
     "metadata": {},
     "output_type": "execute_result"
    }
   ],
   "source": [
    "mylist"
   ]
  },
  {
   "cell_type": "code",
   "execution_count": 70,
   "metadata": {
    "id": "wnEWtuUBOqLa",
    "ExecuteTime": {
     "end_time": "2023-08-23T23:23:04.299070300Z",
     "start_time": "2023-08-23T23:23:04.233067200Z"
    }
   },
   "outputs": [],
   "source": [
    "item = mylist.pop()"
   ]
  },
  {
   "cell_type": "code",
   "execution_count": 92,
   "metadata": {
    "id": "U9kEst9uOqLa",
    "ExecuteTime": {
     "end_time": "2023-08-23T23:25:33.340318Z",
     "start_time": "2023-08-23T23:25:33.298598100Z"
    }
   },
   "outputs": [
    {
     "data": {
      "text/plain": "4"
     },
     "execution_count": 92,
     "metadata": {},
     "output_type": "execute_result"
    }
   ],
   "source": [
    "item"
   ]
  },
  {
   "cell_type": "code",
   "execution_count": 93,
   "metadata": {
    "id": "l6q-DVCsOqLa",
    "ExecuteTime": {
     "end_time": "2023-08-23T23:25:36.504355200Z",
     "start_time": "2023-08-23T23:25:36.438444500Z"
    }
   },
   "outputs": [
    {
     "data": {
      "text/plain": "['a', 'b', 'c', 'd']"
     },
     "execution_count": 93,
     "metadata": {},
     "output_type": "execute_result"
    }
   ],
   "source": [
    "mylist"
   ]
  },
  {
   "cell_type": "code",
   "execution_count": 96,
   "metadata": {
    "id": "R-3IWCHOOqLa",
    "ExecuteTime": {
     "end_time": "2023-08-23T23:25:45.358706700Z",
     "start_time": "2023-08-23T23:25:45.334708100Z"
    }
   },
   "outputs": [],
   "source": [
    "first_item = mylist.pop(0)"
   ]
  },
  {
   "cell_type": "code",
   "execution_count": null,
   "metadata": {
    "id": "Jgm94TKoOqLa"
   },
   "outputs": [],
   "source": [
    "first_item"
   ]
  },
  {
   "cell_type": "code",
   "execution_count": 104,
   "metadata": {
    "id": "7BHyqp3EOqLa",
    "ExecuteTime": {
     "end_time": "2023-08-23T23:27:22.592559900Z",
     "start_time": "2023-08-23T23:27:22.517633Z"
    }
   },
   "outputs": [
    {
     "data": {
      "text/plain": "['a', 'b', 'c', 'd']"
     },
     "execution_count": 104,
     "metadata": {},
     "output_type": "execute_result"
    }
   ],
   "source": [
    "mylist"
   ]
  },
  {
   "cell_type": "code",
   "execution_count": 105,
   "metadata": {
    "id": "dM_oNgKdOqLb",
    "ExecuteTime": {
     "end_time": "2023-08-23T23:27:24.432172Z",
     "start_time": "2023-08-23T23:27:24.378654900Z"
    }
   },
   "outputs": [],
   "source": [
    "mylist = [1, 2, 3]"
   ]
  },
  {
   "cell_type": "code",
   "execution_count": 107,
   "metadata": {
    "id": "QGVRRvfcOqLb",
    "ExecuteTime": {
     "end_time": "2023-08-23T23:27:35.684658600Z",
     "start_time": "2023-08-23T23:27:35.659660400Z"
    }
   },
   "outputs": [],
   "source": [
    "# Este método no devuelve nada.\n",
    "# En su lugar, realiza la acción \"in situ\", o en la misma lista sin devolver nada.\n",
    "# Descubre qué hace...\n",
    "\n",
    "mylist.reverse()"
   ]
  },
  {
   "cell_type": "code",
   "execution_count": 108,
   "metadata": {
    "id": "7GKtKCUxOqLb",
    "ExecuteTime": {
     "end_time": "2023-08-23T23:27:37.545239200Z",
     "start_time": "2023-08-23T23:27:37.435231100Z"
    }
   },
   "outputs": [
    {
     "data": {
      "text/plain": "[1, 2, 3]"
     },
     "execution_count": 108,
     "metadata": {},
     "output_type": "execute_result"
    }
   ],
   "source": [
    "mylist"
   ]
  },
  {
   "cell_type": "code",
   "execution_count": 109,
   "metadata": {
    "id": "M5cnjnvnOqLb",
    "ExecuteTime": {
     "end_time": "2023-08-23T23:27:45.053630300Z",
     "start_time": "2023-08-23T23:27:44.986631300Z"
    }
   },
   "outputs": [
    {
     "data": {
      "text/plain": "[3, 2, 1, 6, 5, 4]"
     },
     "execution_count": 109,
     "metadata": {},
     "output_type": "execute_result"
    }
   ],
   "source": [
    "mylist = [3, 2, 1, 6, 5, 4]\n",
    "mylist"
   ]
  },
  {
   "cell_type": "code",
   "execution_count": 110,
   "metadata": {
    "id": "H_7cosNkOqLb",
    "ExecuteTime": {
     "end_time": "2023-08-23T23:32:05.060873300Z",
     "start_time": "2023-08-23T23:32:05.003038500Z"
    }
   },
   "outputs": [],
   "source": [
    "# Este método ordena la lista pero sin devolver nada. A esto se le denomina \"in place\"\n",
    "\n",
    "mylist.sort()"
   ]
  },
  {
   "cell_type": "code",
   "execution_count": 112,
   "metadata": {
    "id": "dmb3CfNsOqLb",
    "ExecuteTime": {
     "end_time": "2023-08-23T23:32:27.380512100Z",
     "start_time": "2023-08-23T23:32:27.311004400Z"
    }
   },
   "outputs": [
    {
     "data": {
      "text/plain": "[1, 2, 3, 4, 5, 6]"
     },
     "execution_count": 112,
     "metadata": {},
     "output_type": "execute_result"
    }
   ],
   "source": [
    "mylist"
   ]
  },
  {
   "cell_type": "code",
   "execution_count": 113,
   "metadata": {
    "id": "Tc1ML1OFOqLb",
    "ExecuteTime": {
     "end_time": "2023-08-23T23:32:29.588444500Z",
     "start_time": "2023-08-23T23:32:29.572444600Z"
    }
   },
   "outputs": [
    {
     "name": "stdout",
     "output_type": "stream",
     "text": [
      "<class 'list'>\n"
     ]
    }
   ],
   "source": [
    "# Creemos otra lista\n",
    "\n",
    "names = []\n",
    "\n",
    "# verifiquemos su tipo con type()\n",
    "print(type(names))"
   ]
  },
  {
   "cell_type": "code",
   "execution_count": 114,
   "metadata": {
    "id": "J9whVhcvOqLb",
    "ExecuteTime": {
     "end_time": "2023-08-23T23:32:31.621439100Z",
     "start_time": "2023-08-23T23:32:31.539436700Z"
    }
   },
   "outputs": [
    {
     "data": {
      "text/plain": "['Matías']"
     },
     "execution_count": 114,
     "metadata": {},
     "output_type": "execute_result"
    }
   ],
   "source": [
    "# Agreguemos un nombre a 'name'\n",
    "\n",
    "names.append('Matías')\n",
    "names"
   ]
  },
  {
   "cell_type": "code",
   "execution_count": 116,
   "metadata": {
    "id": "ibs44kmgOqLb",
    "ExecuteTime": {
     "end_time": "2023-08-23T23:33:03.321927900Z",
     "start_time": "2023-08-23T23:33:03.245813400Z"
    }
   },
   "outputs": [
    {
     "data": {
      "text/plain": "['Matías', 'Isidora', 'Flo', 'Isidora', 'Flo']"
     },
     "execution_count": 116,
     "metadata": {},
     "output_type": "execute_result"
    }
   ],
   "source": [
    "# Más nombres ...\n",
    "\n",
    "names.append('Isidora')\n",
    "names.append('Flo')\n",
    "names"
   ]
  },
  {
   "cell_type": "markdown",
   "metadata": {
    "id": "tFbrDumuOqLd"
   },
   "source": [
    "## <font color='blue'>**Listas anidadas (_Nested Lists_)**</font>\n",
    "\n",
    "¡Las listas pueden contener otras listas! Esto se llama lista anidada. Veamos algunos ejemplos."
   ]
  },
  {
   "cell_type": "code",
   "execution_count": 120,
   "metadata": {
    "id": "xOpP0Ap5OqLd",
    "ExecuteTime": {
     "end_time": "2023-08-23T23:33:18.283323Z",
     "start_time": "2023-08-23T23:33:18.215318300Z"
    }
   },
   "outputs": [],
   "source": [
    "new_list = [1, 2, 3, ['a', 'b', 'c']]"
   ]
  },
  {
   "cell_type": "code",
   "execution_count": 119,
   "metadata": {
    "id": "gJOaH8UgOqLd",
    "ExecuteTime": {
     "end_time": "2023-08-23T23:33:15.000813Z",
     "start_time": "2023-08-23T23:33:14.929807200Z"
    }
   },
   "outputs": [
    {
     "data": {
      "text/plain": "list"
     },
     "execution_count": 119,
     "metadata": {},
     "output_type": "execute_result"
    }
   ],
   "source": [
    "type(new_list)"
   ]
  },
  {
   "cell_type": "code",
   "execution_count": 121,
   "metadata": {
    "id": "qREc7V7EOqLd",
    "ExecuteTime": {
     "end_time": "2023-08-23T23:33:20.782933100Z",
     "start_time": "2023-08-23T23:33:20.705929800Z"
    }
   },
   "outputs": [
    {
     "data": {
      "text/plain": "['a', 'b', 'c']"
     },
     "execution_count": 121,
     "metadata": {},
     "output_type": "execute_result"
    }
   ],
   "source": [
    "new_list[3]"
   ]
  },
  {
   "cell_type": "code",
   "execution_count": 122,
   "metadata": {
    "id": "yh76pQ4JOqLd",
    "ExecuteTime": {
     "end_time": "2023-08-23T23:33:25.785890300Z",
     "start_time": "2023-08-23T23:33:25.754534400Z"
    }
   },
   "outputs": [
    {
     "data": {
      "text/plain": "'a'"
     },
     "execution_count": 122,
     "metadata": {},
     "output_type": "execute_result"
    }
   ],
   "source": [
    "# Observa el slicing con dos valores\n",
    "\n",
    "new_list[3][0]"
   ]
  },
  {
   "cell_type": "markdown",
   "metadata": {
    "id": "xxxc66y1OqLj"
   },
   "source": [
    "## <font color='blue'>**Copiando listas**</font>"
   ]
  },
  {
   "cell_type": "markdown",
   "metadata": {
    "id": "mh26_zviOqLj"
   },
   "source": [
    "Ten en cuenta que cuando copias una lista no haces una copia *profunda*."
   ]
  },
  {
   "cell_type": "code",
   "execution_count": 140,
   "metadata": {
    "id": "AcKH7z3tOqLj",
    "ExecuteTime": {
     "end_time": "2023-08-23T23:38:12.784025300Z",
     "start_time": "2023-08-23T23:38:12.742025900Z"
    }
   },
   "outputs": [
    {
     "name": "stdout",
     "output_type": "stream",
     "text": [
      "[1, 2, 3]\n"
     ]
    }
   ],
   "source": [
    "l = [1, 2, 3]\n",
    "n = l\n",
    "print(n)"
   ]
  },
  {
   "cell_type": "code",
   "execution_count": 142,
   "metadata": {
    "id": "k6QRqtL3OqLj",
    "ExecuteTime": {
     "end_time": "2023-08-23T23:38:27.208923900Z",
     "start_time": "2023-08-23T23:38:27.134738800Z"
    }
   },
   "outputs": [
    {
     "name": "stdout",
     "output_type": "stream",
     "text": [
      "[1, 2, 3, 5, 4]\n"
     ]
    }
   ],
   "source": [
    "# Modificamos la lista l\n",
    "\n",
    "l.append(4)\n",
    "print(l)"
   ]
  },
  {
   "cell_type": "code",
   "execution_count": 143,
   "metadata": {
    "id": "MDpfFcm3OqLk",
    "ExecuteTime": {
     "end_time": "2023-08-23T23:38:32.948245800Z",
     "start_time": "2023-08-23T23:38:32.915232300Z"
    }
   },
   "outputs": [
    {
     "name": "stdout",
     "output_type": "stream",
     "text": [
      "[1, 2, 3, 5, 4]\n"
     ]
    }
   ],
   "source": [
    "# Miren lo que ocurre con la lista n\n",
    "\n",
    "print(n)"
   ]
  },
  {
   "cell_type": "markdown",
   "metadata": {
    "id": "EIgpJqb0OqLk"
   },
   "source": [
    "En el fondo, los nombres de listas ***l*** y ***n*** apuntan al mismo objeto en memoria.<br>\n",
    "Comprobemos esto con la función `id()`."
   ]
  },
  {
   "cell_type": "code",
   "execution_count": 144,
   "metadata": {
    "id": "0KjnvmBmOqLk",
    "ExecuteTime": {
     "end_time": "2023-08-23T23:38:40.270119500Z",
     "start_time": "2023-08-23T23:38:40.253116700Z"
    }
   },
   "outputs": [
    {
     "data": {
      "text/plain": "True"
     },
     "execution_count": 144,
     "metadata": {},
     "output_type": "execute_result"
    }
   ],
   "source": [
    "id(l) == id(n)"
   ]
  },
  {
   "cell_type": "code",
   "execution_count": null,
   "metadata": {
    "id": "TjH3q9bHOqLk"
   },
   "outputs": [],
   "source": [
    "# La solución es copiar con la función deepcopy()\n",
    "# Para ello debemos cargar una librería llamada 'copy' la cual tiene la función 'deepcopy()'\n",
    "\n",
    "import copy\n",
    "m = copy.deepcopy(l)"
   ]
  },
  {
   "cell_type": "code",
   "execution_count": null,
   "metadata": {
    "id": "gdi8B9DCOqLk"
   },
   "outputs": [],
   "source": [
    "l == n == m"
   ]
  },
  {
   "cell_type": "code",
   "execution_count": null,
   "metadata": {
    "id": "-coqI7yoOqLk"
   },
   "outputs": [],
   "source": [
    "id(l) == id(n)"
   ]
  },
  {
   "cell_type": "code",
   "execution_count": null,
   "metadata": {
    "id": "IC9U0GhNOqLk"
   },
   "outputs": [],
   "source": [
    "id(l) == id(m)"
   ]
  },
  {
   "cell_type": "code",
   "execution_count": null,
   "metadata": {
    "id": "RVddMgmVOqLk"
   },
   "outputs": [],
   "source": [
    "l.append(5)\n",
    "print(f'{l == n}')\n",
    "print(f'{l == m}')"
   ]
  },
  {
   "cell_type": "code",
   "execution_count": null,
   "metadata": {
    "id": "0-dRm4eUOqLc"
   },
   "outputs": [],
   "source": [
    "# Esto NO VA A FUNCIONAR!\n",
    "# Pero no te vas a dar cuenta\n",
    "\n",
    "result = mylist.reverse()"
   ]
  },
  {
   "cell_type": "code",
   "execution_count": null,
   "metadata": {
    "id": "G32CZn5lOqLc"
   },
   "outputs": [],
   "source": [
    "# Recuerda que reverse() no retorna nada\n",
    "\n",
    "result"
   ]
  },
  {
   "cell_type": "code",
   "execution_count": null,
   "metadata": {
    "id": "EjFuSPQGOqLc"
   },
   "outputs": [],
   "source": [
    "print(result)"
   ]
  },
  {
   "cell_type": "markdown",
   "metadata": {
    "id": "wWcB1PQpOqLc"
   },
   "source": [
    "Otro método interesante: `insert()`"
   ]
  },
  {
   "cell_type": "code",
   "execution_count": null,
   "metadata": {
    "id": "_Zv_5N8POqLc"
   },
   "outputs": [],
   "source": [
    "mylist = [1, 2, 3]\n",
    "mylist.insert(2, 'NEW')"
   ]
  },
  {
   "cell_type": "code",
   "execution_count": null,
   "metadata": {
    "id": "q693JbpIOqLc"
   },
   "outputs": [],
   "source": [
    "mylist"
   ]
  },
  {
   "cell_type": "markdown",
   "source": [
    "## <font color='blue'>__Ejercicios__</font>"
   ],
   "metadata": {
    "id": "883uJcaC4Jnr"
   }
  },
  {
   "cell_type": "markdown",
   "metadata": {
    "id": "_8VeH72pOqLV"
   },
   "source": [
    "### <font color='green'>Actividad 1:</font>\n",
    "### Crea tu propia lista con 5 elementos del mismo tipo\n",
    "Puede ser cualquier tipo de dato de los ya aprendidos"
   ]
  },
  {
   "cell_type": "code",
   "execution_count": null,
   "metadata": {
    "id": "70uIdFr6OqLV"
   },
   "outputs": [],
   "source": [
    "# Tu código aquí ...\n"
   ]
  },
  {
   "cell_type": "markdown",
   "metadata": {
    "id": "tUK_W2ciOqLW"
   },
   "source": [
    "<font color='green'>Fin actividad 1</font>"
   ]
  },
  {
   "cell_type": "markdown",
   "metadata": {
    "id": "pS24skSKOqLW"
   },
   "source": [
    "### <font color='green'>Actividad 2:</font>\n",
    "### Crea tu propia lista con 5 elementos de distinto tipo"
   ]
  },
  {
   "cell_type": "code",
   "execution_count": null,
   "metadata": {
    "id": "U8f4yPvLOqLW"
   },
   "outputs": [],
   "source": [
    "# Tu código aquí ...\n"
   ]
  },
  {
   "cell_type": "markdown",
   "metadata": {
    "id": "wII3Yo-8OqLW"
   },
   "source": [
    "<font color='green'>Fin actividad 2</font>"
   ]
  },
  {
   "cell_type": "markdown",
   "metadata": {
    "id": "4U_dUUSeOqLY"
   },
   "source": [
    "### <font color='green'>Actividad 3:</font>\n",
    "### Seleciona el 2do y 3er elemento de *mylist* usando *slicing*"
   ]
  },
  {
   "cell_type": "code",
   "execution_count": null,
   "metadata": {
    "id": "P4DfE-w8OqLY"
   },
   "outputs": [],
   "source": [
    "# Tu código aquí ...\n"
   ]
  },
  {
   "cell_type": "markdown",
   "metadata": {
    "id": "kUr8GfkXOqLY"
   },
   "source": [
    "<font color='green'>Fin actividad 3</font>"
   ]
  },
  {
   "cell_type": "markdown",
   "metadata": {
    "id": "YbhUQfV6OqLZ"
   },
   "source": [
    "### <font color='green'>Actividad 4:</font>\n",
    "### Crea tu propia lista\n",
    "Crea tu propia lista con 4 elementos del mismo tipo y cuenta el largo de la lista con `len()`"
   ]
  },
  {
   "cell_type": "code",
   "execution_count": null,
   "metadata": {
    "id": "e3kOb1f0OqLZ"
   },
   "outputs": [],
   "source": [
    "# Tu código aquí ...\n"
   ]
  },
  {
   "cell_type": "markdown",
   "metadata": {
    "id": "hHmzjBcHOqLZ"
   },
   "source": [
    "<font color='green'>Fin actividad 4</font>"
   ]
  },
  {
   "cell_type": "markdown",
   "metadata": {
    "id": "e7gfz5THOqLb"
   },
   "source": [
    "### <font color='green'>Actividad 5:</font>\n",
    "### Crea tu propia lista con los nombres de los compañeros de tu grupo de trabajo o curso.\n",
    "Usa el metodo `append()`.<br>\n",
    "Añade 5 nombres<br>\n",
    "Te aprendiste ya los nombres de tus compañeros de curso?"
   ]
  },
  {
   "cell_type": "code",
   "execution_count": null,
   "metadata": {
    "id": "PyqqVWQLOqLc"
   },
   "outputs": [],
   "source": [
    "# Tu código a quí ...\n"
   ]
  },
  {
   "cell_type": "markdown",
   "metadata": {
    "id": "rMGfUQmNOqLc"
   },
   "source": [
    "<font color='green'>Fin actividad 5</font>"
   ]
  },
  {
   "cell_type": "markdown",
   "metadata": {
    "id": "fUQpjUIhOqLc"
   },
   "source": [
    "### <font color='green'>Actividad 6:</font>\n",
    "### Ordena la lista creada en la actividad anterior e imprímela usando f-strings\n",
    "\n",
    "Tip: Investiga cómo desempaquetar (unpack) listas\n",
    "\n",
    "Intenta que quede de esta forma:\n",
    "\n",
    "```python\n",
    "Ana, Andrea, Karla, Pedro, Ronny\n",
    "```\n",
    "y No de esta otra\n",
    "\n",
    "```python\n",
    "['Ana', 'Andrea', 'Karla', 'Pedro', 'Ronny']\n",
    "```"
   ]
  },
  {
   "cell_type": "code",
   "execution_count": null,
   "metadata": {
    "id": "7jVKJvnPOqLc"
   },
   "outputs": [],
   "source": [
    "# Tu código aquí ...\n"
   ]
  },
  {
   "cell_type": "markdown",
   "metadata": {
    "id": "C2FCV0HzOqLc"
   },
   "source": [
    "<font color='green'>Fin actividad 6</font>"
   ]
  },
  {
   "cell_type": "markdown",
   "metadata": {
    "id": "2ciCVCACOqLc"
   },
   "source": [
    "### <font color='green'>Actividad 7:</font>\n",
    "### Inserta el número 10 al inicio de *mylist*\n",
    "TIP: usa el método `insert()`\n"
   ]
  },
  {
   "cell_type": "code",
   "execution_count": null,
   "metadata": {
    "id": "AySjAx-yOqLc"
   },
   "outputs": [],
   "source": [
    "# Tu código aquí ...\n"
   ]
  },
  {
   "cell_type": "markdown",
   "metadata": {
    "id": "_28uMpcZOqLd"
   },
   "source": [
    "<font color='green'>Fin actividad 7</font>"
   ]
  },
  {
   "cell_type": "markdown",
   "metadata": {
    "id": "O5yQRDrsOqLd"
   },
   "source": [
    "### <font color='green'>Actividad 8:</font>\n",
    "### Selecciona el 2do elemento de la lista anidada que hay en *new_list*"
   ]
  },
  {
   "cell_type": "code",
   "execution_count": null,
   "metadata": {
    "id": "lFq_xBszOqLd"
   },
   "outputs": [],
   "source": [
    "# Tu código aquí ...\n"
   ]
  },
  {
   "cell_type": "markdown",
   "metadata": {
    "id": "kmXn-1tiOqLd"
   },
   "source": [
    "<font color='green'>Fin actividad 8</font>"
   ]
  },
  {
   "cell_type": "markdown",
   "metadata": {
    "id": "g6p7P9g9OqLd"
   },
   "source": [
    "### <font color='green'>Actividad 9:</font>\n",
    "### Elimina el último elemento de la lista anidada en *new_list*"
   ]
  },
  {
   "cell_type": "code",
   "execution_count": null,
   "metadata": {
    "id": "UxjaLz0eOqLd"
   },
   "outputs": [],
   "source": [
    "# Tu código aquí ...\n"
   ]
  },
  {
   "cell_type": "markdown",
   "metadata": {
    "id": "Gbo9XeDmOqLd"
   },
   "source": [
    "<font color='green'>Fin actividad 9</font>"
   ]
  },
  {
   "cell_type": "markdown",
   "metadata": {
    "id": "w6iFn-iNOqLk"
   },
   "source": [
    "Eso es todo por ahora hackers, ¡usaremos muchas listas a lo largo de tu entrenamiento!"
   ]
  }
 ],
 "metadata": {
  "kernelspec": {
   "display_name": "Python 3 (ipykernel)",
   "language": "python",
   "name": "python3"
  },
  "language_info": {
   "codemirror_mode": {
    "name": "ipython",
    "version": 3
   },
   "file_extension": ".py",
   "mimetype": "text/x-python",
   "name": "python",
   "nbconvert_exporter": "python",
   "pygments_lexer": "ipython3",
   "version": "3.8.11"
  },
  "colab": {
   "provenance": [],
   "toc_visible": true
  }
 },
 "nbformat": 4,
 "nbformat_minor": 0
}
