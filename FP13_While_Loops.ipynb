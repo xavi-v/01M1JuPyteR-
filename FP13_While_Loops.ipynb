{
 "cells": [
  {
   "cell_type": "markdown",
   "metadata": {
    "id": "BINiVO9Cfckt"
   },
   "source": [
    "# **Introducción a Python**\n",
    "# FP13. Ciclos while (while loop)"
   ]
  },
  {
   "cell_type": "markdown",
   "metadata": {
    "id": "D9Cq-RUIfckx"
   },
   "source": [
    "Ahora que entendemos el flujo de control con las declaraciones `if`, `elif` y `else`, aprendamos sobre los bucles. El primer ciclo que aprenderemos es el `while`.\n",
    "\n",
    "## <font color='blue'>**Ciclo `while`**</font>\n",
    "\n",
    "Un ciclo `while` ejecutará repetidamente una sola declaración o grupo de declaraciones siempre que la condición que se comprueba sea verdadera. La razón por la que se llama un 'bucle' es porque las declaraciones de código se repiten una y otra vez hasta que la condición ya no se cumple.\n",
    "\n",
    "La **indentación** del código se vuelve muy importante a medida que comenzamos a trabajar con bucles y control de flujo. Veamos algunos ejemplos."
   ]
  },
  {
   "cell_type": "code",
   "execution_count": 6,
   "metadata": {
    "id": "ExN8guvVfckx",
    "ExecuteTime": {
     "end_time": "2023-08-26T00:14:52.599548Z",
     "start_time": "2023-08-26T00:14:52.567547500Z"
    }
   },
   "outputs": [
    {
     "name": "stdout",
     "output_type": "stream",
     "text": [
      "x actualmente es = 0\n",
      "\n",
      "Añadimos 1 a x\n",
      "x actualmente es = 1\n",
      "\n",
      "Añadimos 1 a x\n",
      "x actualmente es = 2\n",
      "\n",
      "Añadimos 1 a x\n"
     ]
    }
   ],
   "source": [
    "# Inicialicemos la variable x en 0\n",
    "\n",
    "x = 0\n",
    "\n",
    "while x < 3:\n",
    "    print(f'x actualmente es = {x}\\n')\n",
    "    print(f\"Añadimos 1 a x\")\n",
    "    x = x + 1 # otra forma de escribir esta sentencia sería  x += 1"
   ]
  },
  {
   "cell_type": "markdown",
   "metadata": {
    "id": "LbgIdoMJfckz"
   },
   "source": [
    "### Nota:\n",
    "\n",
    "```Python\n",
    "    x = x + 1\n",
    "```\n",
    "Puede se escrito como ...\n",
    "```Python\n",
    "    x += 1\n",
    "```\n",
    "Esta forma es más pythonista !!!"
   ]
  },
  {
   "cell_type": "markdown",
   "metadata": {
    "id": "5d3tAmRefckz"
   },
   "source": [
    "____\n",
    "### <font color='red'>Atención!!</font>\n",
    "¡Ten cuidado con los bucles `while`! Existe la posibilidad de escribir una condición que siempre permanece Verdadera, lo que significa que tendrás un ciclo `while` infinito en ejecución.\n",
    "\n",
    "Si esto te sucede, deberás interrumpir la ejecución del kernel de Python que estas usando. Para ello presiona haz lo siguiente:\n",
    "\n",
    "Si estás en Google Colab, haz click en el ícono que está en la esquina izquierda superior de tu celda (un pequeño cuadrado dentro de un circulo).\n",
    "\n",
    "Si estás trabajando en Jupyter o JupyterLab (en modo local) presiona el ícono de interrupción del kernel (cuadrado pequeño) en la barra superior.\n",
    "____\n",
    "\n",
    "Sigamos con algunos ejemplos más. Primero, le mostraremos cómo aceptar una entrada de un usuario:"
   ]
  },
  {
   "cell_type": "code",
   "execution_count": 9,
   "metadata": {
    "id": "Q_bGUlW9fck0",
    "ExecuteTime": {
     "end_time": "2023-08-26T00:21:41.399925500Z",
     "start_time": "2023-08-26T00:21:38.841979900Z"
    }
   },
   "outputs": [],
   "source": [
    "# Ejecuta esta celda solo una vez\n",
    "# Si lo vuelves a ejecutar sin proporcionar una\n",
    "# entrada, la celda se bloqueará con In [*]\n",
    "# Para solucionar este problema, reinicia el kernel.\n",
    "\n",
    "# Bien, ahora el código\n",
    "\n",
    "saved_input = input(\"Ingresa un número: \")"
   ]
  },
  {
   "cell_type": "code",
   "execution_count": 7,
   "metadata": {
    "id": "h4qhmrZyfck0",
    "ExecuteTime": {
     "end_time": "2023-08-26T00:21:24.412292700Z",
     "start_time": "2023-08-26T00:21:23.566231300Z"
    }
   },
   "outputs": [
    {
     "ename": "NameError",
     "evalue": "name 'saved_input' is not defined",
     "output_type": "error",
     "traceback": [
      "\u001B[1;31m---------------------------------------------------------------------------\u001B[0m",
      "\u001B[1;31mNameError\u001B[0m                                 Traceback (most recent call last)",
      "Cell \u001B[1;32mIn[7], line 1\u001B[0m\n\u001B[1;32m----> 1\u001B[0m \u001B[43msaved_input\u001B[49m\n",
      "\u001B[1;31mNameError\u001B[0m: name 'saved_input' is not defined"
     ]
    }
   ],
   "source": [
    "saved_input"
   ]
  },
  {
   "cell_type": "markdown",
   "metadata": {
    "id": "EUOTAuxofck1"
   },
   "source": [
    "### <font color = 'red'>Atención</font>\n",
    "\n",
    "Qué tipo de dato devolvió `input()`?<br>\n",
    "Fíjate, es un string!<br>\n",
    "Siempre que necesites ingresar un valor numérico podrás encapsular la función `input()` con `int()` o `float()`.<br>\n",
    "Considera eso si que siempr deberas validar los datos que se ingresan desde el teclado.\n",
    "\n",
    "Veamos cómo podríamos usar esto:"
   ]
  },
  {
   "cell_type": "code",
   "execution_count": null,
   "metadata": {
    "id": "yKhpDaZzfck2"
   },
   "outputs": [],
   "source": [
    "print(\"Bienvenido hacker\")\n",
    "\n",
    "# comienza con alguna contraseña predeterminada (debe definirse antes de que comience el ciclo)\n",
    "\n",
    "password = 0\n",
    "\n",
    "while password != 123:\n",
    "    password = int(input(\"Ingresa tu password: \"))\n",
    "\n",
    "# Esto no se ejecutará hasta que el ciclo while sea\n",
    "# hecho debido a la indentación\n",
    "print(\"Password correcta!\")"
   ]
  },
  {
   "cell_type": "code",
   "execution_count": 11,
   "metadata": {
    "id": "BBefA2Dpfck2",
    "ExecuteTime": {
     "end_time": "2023-08-26T00:54:25.944075500Z",
     "start_time": "2023-08-26T00:54:23.526975700Z"
    }
   },
   "outputs": [
    {
     "name": "stdout",
     "output_type": "stream",
     "text": [
      "Bienvenido hacker\n"
     ]
    },
    {
     "ename": "ValueError",
     "evalue": "invalid literal for int() with base 10: ''",
     "output_type": "error",
     "traceback": [
      "\u001B[1;31m---------------------------------------------------------------------------\u001B[0m",
      "\u001B[1;31mValueError\u001B[0m                                Traceback (most recent call last)",
      "Cell \u001B[1;32mIn[11], line 8\u001B[0m\n\u001B[0;32m      5\u001B[0m password \u001B[38;5;241m=\u001B[39m \u001B[38;5;241m0\u001B[39m\n\u001B[0;32m      7\u001B[0m \u001B[38;5;28;01mwhile\u001B[39;00m password \u001B[38;5;241m!=\u001B[39m \u001B[38;5;241m123\u001B[39m:\n\u001B[1;32m----> 8\u001B[0m     password \u001B[38;5;241m=\u001B[39m \u001B[38;5;28;43mint\u001B[39;49m\u001B[43m(\u001B[49m\u001B[38;5;28;43minput\u001B[39;49m\u001B[43m(\u001B[49m\u001B[38;5;124;43m\"\u001B[39;49m\u001B[38;5;124;43mIngresa tu password: \u001B[39;49m\u001B[38;5;124;43m\"\u001B[39;49m\u001B[43m)\u001B[49m\u001B[43m)\u001B[49m\n\u001B[0;32m     10\u001B[0m     \u001B[38;5;66;03m# Lógica de flujo de control anidado\u001B[39;00m\n\u001B[0;32m     11\u001B[0m     \u001B[38;5;28;01mif\u001B[39;00m password \u001B[38;5;241m!=\u001B[39m \u001B[38;5;241m123\u001B[39m:\n",
      "\u001B[1;31mValueError\u001B[0m: invalid literal for int() with base 10: ''"
     ]
    }
   ],
   "source": [
    "print(\"Bienvenido hacker\")\n",
    "\n",
    "# comienza con alguna contraseña predeterminada (debe definirse antes de que comience el ciclo)\n",
    "\n",
    "password = 0\n",
    "\n",
    "while password != 123:\n",
    "    password = int(input(\"Ingresa tu password: \"))\n",
    "\n",
    "    # Lógica de flujo de control anidado\n",
    "    if password != 123:\n",
    "        print(\"Password errónea\")\n",
    "        print(\"Intenta nuevamente ...\\n\")\n",
    "\n",
    "# Esto no se ejecutará hasta que el ciclo while sea\n",
    "# hecho debido a la indentación\n",
    "print(\"Password correcta!\")"
   ]
  },
  {
   "cell_type": "markdown",
   "metadata": {
    "id": "D7N3dRuPfck3"
   },
   "source": [
    "## <font color='blue'>**Rompiendo el flujo con `break`**</font>"
   ]
  },
  {
   "cell_type": "markdown",
   "metadata": {
    "id": "8qI_Jrw4fck3"
   },
   "source": [
    "La palabra clave `break` le permite \"salir\" del bucle. Por ejemplo:"
   ]
  },
  {
   "cell_type": "code",
   "execution_count": null,
   "metadata": {
    "id": "0unSsTyDfck3"
   },
   "outputs": [],
   "source": [
    "x = 0\n",
    "\n",
    "while x < 10:\n",
    "    print(x)\n",
    "    print('Suma 1 a x')\n",
    "    x += 1\n",
    "\n",
    "    if x == 3:   # Si x = 3 (Verdadero), esto causará la salida (break out) del bucle\n",
    "        break"
   ]
  },
  {
   "cell_type": "markdown",
   "source": [
    "## <font color='blue'>__Ejercicios__</font>"
   ],
   "metadata": {
    "id": "hxUVD4doj7Yf"
   }
  },
  {
   "cell_type": "markdown",
   "metadata": {
    "id": "UaP83pW6fck3"
   },
   "source": [
    "### <font color='green'>Actividad 1:</font>\n",
    "### Contando números\n",
    "\n",
    "Crea un programa que cuente de 1 a 10 utilizando `while`.\n",
    "Imprime cada número en una línea separada.\n",
    "\n",
    "Pasos:\n",
    "1. Crea e inicializa una variable para contar\n",
    "2. Crea el bucle `while`\n",
    "3. Imprime la variable\n",
    "4. Incrementa la variable usando += 1"
   ]
  },
  {
   "cell_type": "code",
   "execution_count": null,
   "metadata": {
    "id": "n2U39LOMfck4"
   },
   "outputs": [],
   "source": [
    "# Tu código aquí ...\n",
    "\n"
   ]
  },
  {
   "cell_type": "markdown",
   "metadata": {
    "id": "RC2HXpVifck4"
   },
   "source": [
    "<font color='green'>Fin actividad 1</font>"
   ]
  },
  {
   "cell_type": "markdown",
   "metadata": {
    "id": "8beD4yINfck4"
   },
   "source": [
    "### <font color='green'>Actividad 2: Challenging</font>\n",
    "### Contar números, pero detenerse cuando la suma de los números contados sea > 50\n",
    "\n",
    "Crea un programa que cuente de 1 a 100 usando bucles `while`. <br>\n",
    "Imprime cada número en una línea separada. <br>\n",
    "Suma el número contado en otra variable y deja de contar cuando la suma sea mayor o igual a 50.\n",
    "    \n",
    "Pseudo código:\n",
    "1. Crea e inicializa una variable para contar\n",
    "2. Cree e inicialice una variable para sumar\n",
    "3. Crea el bucle while\n",
    "4. Imprime la variable de recuento\n",
    "5. Añade la variable de recuento a la variable de suma\n",
    "6. Compara si la variable suma es mayor o igual a 50. Si es así, imprime la variable suma y rompe el ciclo\n",
    "7. Incrementar la variable usando += 1"
   ]
  },
  {
   "cell_type": "code",
   "execution_count": null,
   "metadata": {
    "id": "gr5uoqJtfck4"
   },
   "outputs": [],
   "source": [
    "# Tu código aquí ...\n",
    "\n"
   ]
  },
  {
   "cell_type": "markdown",
   "metadata": {
    "id": "bjT6Gmt5fck5"
   },
   "source": [
    "<font color='green'>Fin actividad 2</font>"
   ]
  },
  {
   "cell_type": "markdown",
   "metadata": {
    "id": "-HIoEzd7fck5"
   },
   "source": [
    "Excelente trabajo !!"
   ]
  },
  {
   "cell_type": "markdown",
   "source": [
    "### <font color='green'>Actividad 3: Challenging</font>\n",
    "### Determinar si un número entero positivo es primo.\n"
   ],
   "metadata": {
    "id": "kIAXciFzrTIw"
   }
  },
  {
   "cell_type": "code",
   "execution_count": null,
   "outputs": [],
   "source": [
    "import sympy\n",
    "from sympy import *\n",
    "\n",
    "\n",
    "\n"
   ],
   "metadata": {
    "collapsed": false,
    "is_executing": true
   }
  }
 ],
 "metadata": {
  "kernelspec": {
   "display_name": "Python 3 (ipykernel)",
   "language": "python",
   "name": "python3"
  },
  "language_info": {
   "codemirror_mode": {
    "name": "ipython",
    "version": 3
   },
   "file_extension": ".py",
   "mimetype": "text/x-python",
   "name": "python",
   "nbconvert_exporter": "python",
   "pygments_lexer": "ipython3",
   "version": "3.8.11"
  },
  "colab": {
   "provenance": [],
   "toc_visible": true
  }
 },
 "nbformat": 4,
 "nbformat_minor": 0
}
