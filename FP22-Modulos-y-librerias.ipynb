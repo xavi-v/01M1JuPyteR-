{
 "cells": [
  {
   "cell_type": "markdown",
   "metadata": {
    "id": "azCIPd19YT7h"
   },
   "source": [
    "# **Introducción a Python**\n",
    "# FP22. Modulos y librerías"
   ]
  },
  {
   "cell_type": "markdown",
   "metadata": {
    "id": "7zdJe7O6YT7k"
   },
   "source": [
    "A medida que tu programa se alarga, es posible que desees dividirlo en varios archivos para facilitar el mantenimiento futuro del código. También es posible que desees utilizar una función útil que hayas escrito anteriorrmente en varios programas sin tener que copiar su definición en cada programa.\n",
    "\n",
    "Para implementar esto, Python tiene una forma de poner código en un archivo separado e invocarlo o llamarlo desde otro programa. Dicho archivo se denomina **módulo**. Todas las definiciones que hacemos dentro de un módulo se pueden importar a otros módulos o al módulo principal.\n",
    "\n",
    "Un módulo es un archivo que contiene definiciones y declaraciones de Python. El nombre que le pongas al archivo será el nombre que tendrá el módulo. Es decir\n",
    "```python\n",
    "mymodule.py. # este es el archivo que contiene el módul`\n",
    "             # con el sufijo .py\n",
    "```\n",
    "entonces tu módulo se llamara\n",
    "```python\n",
    "mymodule\n",
    "```"
   ]
  },
  {
   "cell_type": "markdown",
   "metadata": {
    "id": "j5pSCnDiYT7l"
   },
   "source": [
    "## <font color='blue'>**Creando un módulo**</font>\n",
    "Creamos una función Fibonacci, la cual encapsularemos en un módulo al que llamaremos **fibo**.\n",
    "Crea un archivo con tu editor de texto favorito, ponle en nombre de **fibo.py** e inclúyele el siguiente script:\n",
    "```python\n",
    "def fib(n):\n",
    "    \"\"\"\n",
    "    Serie de Fibonacci hasta n\n",
    "    \"\"\"\n",
    "    a, b = 0, 1\n",
    "    while a < n:\n",
    "        print(a, end=' ')\n",
    "        a, b = b, a + b\n",
    "    print()\n",
    "\n",
    "def fib2(n):   \n",
    "    \"\"\"\n",
    "    Serie de Fibonacci hasta n\n",
    "    \"\"\"\n",
    "    result = []\n",
    "    a, b = 0, 1\n",
    "    while a < n:\n",
    "        result.append(a)\n",
    "        a, b = b, a + b\n",
    "    return result\n",
    "```\n",
    "<font color='red'>ATENCIÓN: asegúrate de conectar tu drive correctamente si estás en Colab</font>"
   ]
  },
  {
   "cell_type": "markdown",
   "metadata": {
    "id": "DGbvP0M5YT7m"
   },
   "source": [
    "Una vez que tengas listo **fibo.py** ponlo en la misma carpeta en la cual estés ejecutando el presente notebook. Con ello nos asegurarems que podamos encontrarlo.\n",
    "\n",
    "Luego utiliza la instrucción `import nombre_archivo` para cargar las definiciones que tenga el archivo en el espacio denombres (scope) de nuestro programa. Fíjate que no utilizamos la extensión **.py**.\n",
    "\n",
    "De esta forma:"
   ]
  },
  {
   "cell_type": "code",
   "execution_count": 1,
   "metadata": {
    "id": "atDvg7ApYT7m",
    "ExecuteTime": {
     "end_time": "2023-09-06T22:59:12.182259800Z",
     "start_time": "2023-09-06T22:59:12.166256100Z"
    }
   },
   "outputs": [],
   "source": [
    "import fibo"
   ]
  },
  {
   "cell_type": "markdown",
   "metadata": {
    "id": "8ABTOddNYT7n"
   },
   "source": [
    "Ahora podemos usar los contenidos de *fibo*"
   ]
  },
  {
   "cell_type": "code",
   "execution_count": 2,
   "metadata": {
    "id": "KW4wFWyuYT7o",
    "ExecuteTime": {
     "end_time": "2023-09-06T22:59:22.759692700Z",
     "start_time": "2023-09-06T22:59:22.745690700Z"
    }
   },
   "outputs": [
    {
     "name": "stdout",
     "output_type": "stream",
     "text": [
      "0 1 1 2 3 5 8 13 21 34 55 89 144 233 377 610 987 \n"
     ]
    }
   ],
   "source": [
    "# Invocamos sus funciones\n",
    "# Para diferenciar la función 'fib' de alguna que pueda existir en nuestro espacio de nombres,\n",
    "# anteponemos el nombre del módulo correspondiente\n",
    "\n",
    "fibo.fib(1000)"
   ]
  },
  {
   "cell_type": "code",
   "execution_count": 4,
   "metadata": {
    "id": "updh9YjTYT7p",
    "ExecuteTime": {
     "end_time": "2023-09-06T23:08:09.823608Z",
     "start_time": "2023-09-06T23:08:09.797610600Z"
    }
   },
   "outputs": [
    {
     "data": {
      "text/plain": "[0, 1, 1, 2, 3, 5, 8, 13, 21, 34, 55, 89, 144, 233, 377, 610, 987]"
     },
     "execution_count": 4,
     "metadata": {},
     "output_type": "execute_result"
    }
   ],
   "source": [
    "fibo.fib2(1000)"
   ]
  },
  {
   "cell_type": "markdown",
   "metadata": {
    "id": "TgCHLUK0YT7p"
   },
   "source": [
    "Pero ni **fib** ni **fibo.fib** existen en nuestro espacio de nombres."
   ]
  },
  {
   "cell_type": "code",
   "execution_count": 5,
   "metadata": {
    "id": "dQHSMGvlYT7q",
    "ExecuteTime": {
     "end_time": "2023-09-06T23:09:06.644386300Z",
     "start_time": "2023-09-06T23:09:06.623387200Z"
    }
   },
   "outputs": [
    {
     "data": {
      "text/plain": "False"
     },
     "execution_count": 5,
     "metadata": {},
     "output_type": "execute_result"
    }
   ],
   "source": [
    "'fibo.fib' in globals()"
   ]
  },
  {
   "cell_type": "code",
   "execution_count": 6,
   "metadata": {
    "id": "I2SMJBXuYT7q",
    "ExecuteTime": {
     "end_time": "2023-09-06T23:09:08.547349700Z",
     "start_time": "2023-09-06T23:09:08.511349400Z"
    }
   },
   "outputs": [
    {
     "data": {
      "text/plain": "False"
     },
     "execution_count": 6,
     "metadata": {},
     "output_type": "execute_result"
    }
   ],
   "source": [
    "'fib' in globals()"
   ]
  },
  {
   "cell_type": "markdown",
   "metadata": {
    "id": "kQy7fnMSYT7q"
   },
   "source": [
    "Un módulo puede contener declaraciones ejecutables y definiciones de funciones. Estas declaraciones están destinadas a inicializar el módulo. Se ejecutan solo la primera vez que se encuentra el nombre del módulo en una declaración de `import`.\n",
    "\n",
    "Cada módulo tiene su propia tabla de símbolos privada, las cuales son utilizadas por todas las funciones definidas en el módulo como tabla de símbolos global. Por lo tanto, puedes usar variables globales en el módulo sin preocuparse por choques accidentales con las variables globales de otro programa que use dicho módulo."
   ]
  },
  {
   "cell_type": "markdown",
   "metadata": {
    "id": "iufrRQNTYT7r"
   },
   "source": [
    "### Variante\n",
    "\n",
    "Existe una variante de la declaración `import`, la cual importa nombres de un módulo directamente a la tabla de símbolos del programa que está haciendo la llamada (importación).\n",
    "\n",
    "Por ejemplo:"
   ]
  },
  {
   "cell_type": "code",
   "execution_count": 7,
   "metadata": {
    "id": "OZBxTWqdYT7r",
    "ExecuteTime": {
     "end_time": "2023-09-06T23:09:11.724156900Z",
     "start_time": "2023-09-06T23:09:11.709159200Z"
    }
   },
   "outputs": [],
   "source": [
    "from fibo import fib, fib2"
   ]
  },
  {
   "cell_type": "markdown",
   "metadata": {
    "id": "8Pob_dFmYT7r"
   },
   "source": [
    "Nuestro módulo **fibo** tiene sólo dos funciones, pero podría tener centenas. Esta forma de importar es muy eficiente ya que solamente nos traemos sólo aquello que necesitamos.\n",
    "\n",
    "Ahora **fib** y **fib2** están incluidos en el espacio de nombres del presente notebook."
   ]
  },
  {
   "cell_type": "code",
   "execution_count": 8,
   "metadata": {
    "id": "p3de4oeeYT7s",
    "ExecuteTime": {
     "end_time": "2023-09-06T23:09:16.812892200Z",
     "start_time": "2023-09-06T23:09:16.761893900Z"
    }
   },
   "outputs": [
    {
     "data": {
      "text/plain": "True"
     },
     "execution_count": 8,
     "metadata": {},
     "output_type": "execute_result"
    }
   ],
   "source": [
    "'fib' in globals()"
   ]
  },
  {
   "cell_type": "markdown",
   "metadata": {
    "id": "4RY4RaY1YT7s"
   },
   "source": [
    "... con lo cual podemos invocarlas sin el prefijo ***fibo.***\n",
    "\n",
    "\n"
   ]
  },
  {
   "cell_type": "code",
   "execution_count": 9,
   "metadata": {
    "id": "EcgPEHSlYT7s",
    "ExecuteTime": {
     "end_time": "2023-09-06T23:10:03.139349200Z",
     "start_time": "2023-09-06T23:10:03.123346500Z"
    }
   },
   "outputs": [
    {
     "name": "stdout",
     "output_type": "stream",
     "text": [
      "0 1 1 2 3 5 8 13 21 34 55 89 144 233 377 \n"
     ]
    }
   ],
   "source": [
    "fib(500)"
   ]
  },
  {
   "cell_type": "markdown",
   "metadata": {
    "id": "oL_Q2jGTYT7s"
   },
   "source": [
    "En muchas oportunidades cuando importas un módulo, necesitarás importar muchos componentes del módulo en cuestión. En dicho caso podras utilizar:"
   ]
  },
  {
   "cell_type": "code",
   "execution_count": 12,
   "metadata": {
    "id": "GtxVaw9cYT7s",
    "ExecuteTime": {
     "end_time": "2023-09-06T23:10:26.142907100Z",
     "start_time": "2023-09-06T23:10:26.128905500Z"
    }
   },
   "outputs": [],
   "source": [
    "from fibo import *"
   ]
  },
  {
   "cell_type": "code",
   "execution_count": 13,
   "metadata": {
    "id": "FTKOIlaeYT7t",
    "ExecuteTime": {
     "end_time": "2023-09-06T23:10:27.055051900Z",
     "start_time": "2023-09-06T23:10:27.014051300Z"
    }
   },
   "outputs": [
    {
     "data": {
      "text/plain": "[0, 1, 1, 2, 3, 5, 8, 13, 21, 34, 55, 89, 144, 233, 377, 610, 987]"
     },
     "execution_count": 13,
     "metadata": {},
     "output_type": "execute_result"
    }
   ],
   "source": [
    "fib2(1000)"
   ]
  },
  {
   "cell_type": "markdown",
   "metadata": {
    "id": "FreamybOYT7t"
   },
   "source": [
    "La forma anterior no es muy *pythonista* ya que pierdes el control de qué cosas estás introduciendo en el espacio de nombres de tu programa. En dicho caso es mejor utilizar directamente:\n",
    "```python\n",
    "import nombre_modulo\n",
    "```\n",
    "ya que esta opción no contaminará tu espacio de nombres."
   ]
  },
  {
   "cell_type": "markdown",
   "metadata": {
    "id": "JFJvKZIuYT7t"
   },
   "source": [
    "## <font color='blue'>**Usando aliases**</font>\n",
    "Si el nombre del módulo va seguido de `as`, entonces el nombre que sigue a `as` estará vinculado directamente al módulo importado. Veamos un ejemplo:\n",
    "```python\n",
    "import fibo as f\n",
    "```\n",
    "Esto es efectivamente importar el módulo de la misma manera que lo haría `import fibo`, con la única diferencia de que estará disponible, por comodidad, como *f*.\n",
    "\n",
    "Observa:"
   ]
  },
  {
   "cell_type": "code",
   "execution_count": 16,
   "metadata": {
    "id": "ojRQgFf_YT7t",
    "ExecuteTime": {
     "end_time": "2023-09-06T23:12:24.166614400Z",
     "start_time": "2023-09-06T23:12:24.132619400Z"
    }
   },
   "outputs": [],
   "source": [
    "import fibo as f"
   ]
  },
  {
   "cell_type": "code",
   "execution_count": 17,
   "metadata": {
    "id": "Gvs_Jq5qYT7t",
    "ExecuteTime": {
     "end_time": "2023-09-06T23:12:26.614355300Z",
     "start_time": "2023-09-06T23:12:26.598358100Z"
    }
   },
   "outputs": [
    {
     "name": "stdout",
     "output_type": "stream",
     "text": [
      "0 1 1 2 3 5 8 \n"
     ]
    }
   ],
   "source": [
    "f.fib(10)"
   ]
  },
  {
   "cell_type": "markdown",
   "metadata": {
    "id": "qSRGoYmjYT7t"
   },
   "source": [
    "**Nota:**<br>\n",
    "Por razones de eficiencia, cada módulo sólo se importa una vez por sesión de intérprete. Por lo tanto, si realizas cambios en tus módulos, estos no se verás reflejados en la sesión. Para ello, deberás reiniciar el intérprete o el kernel del Jupyter.\n",
    "\n",
    "Ahora bien, si es solo un módulo que deseas probar de forma interactiva, utiliza la función `importlib.reload()`, del módulo `importlib`\n",
    "```python\n",
    "import importlib; importlib.reload(nombre_de_tu_modulo)\n",
    "```"
   ]
  },
  {
   "cell_type": "markdown",
   "metadata": {
    "id": "H5Sa1RpeYT7t"
   },
   "source": [
    "**Nota:**\n",
    "Python se ha hecho poderoso, famoso y ampliamente utilizado en muchas disciplinas, gracias a la enorme cantidad y variedad de librerías (módulos) que se han creado en torno a él. Estas librerías respetan su condición de software libre y de código abierto, lo cual nos da acceso a ellas según conveniencia.\n",
    "\n",
    "Dentro de las librerías famosas para Python están: Pandas, Numpy, Matplotlib, Plotly, Networkx, Sklearn, Keras y un largo etcétera.\n",
    "\n",
    "Durante el resto del curso utilizarás muchisimas.\n"
   ]
  },
  {
   "cell_type": "markdown",
   "source": [
    "## <font color='blue'>__Ejercicios__</font>"
   ],
   "metadata": {
    "id": "AbkOP3wTUBzk"
   }
  },
  {
   "cell_type": "markdown",
   "metadata": {
    "id": "EYlh4kjxYT7u"
   },
   "source": [
    "### <font color='green'>Actividad 1: </font>\n",
    "### Crea tu propia libreria\n",
    "Crea tu propia librería y llámala **my_lib.py**\n",
    "\n",
    "1. Crea una función y **déjala documentada en markdown en la celda siguiente**.\n",
    "2. Crea un archivo de texto plano y guarda la función para crear un módulo con ella\n",
    "3. Importa la librería desde el presente notebook\n",
    "4. Utiliza la función"
   ]
  },
  {
   "cell_type": "markdown",
   "metadata": {
    "id": "vE6dckrvYT7u"
   },
   "source": [
    "Mi librería (introduce el código de tu función aquí en formato markdown)\n",
    "\n",
    "```python\n",
    "def nombre_función():\n",
    "    # El código en markdown aquí ...\n",
    "```"
   ]
  },
  {
   "cell_type": "code",
   "execution_count": null,
   "metadata": {
    "id": "PUJdDFOFYT7u"
   },
   "outputs": [],
   "source": [
    "# Importa tu librería aquí ...\n",
    "import my_lib as ml\n",
    "\n",
    "# Utiliza una función de tu librería aquí ...\n"
   ]
  },
  {
   "cell_type": "markdown",
   "metadata": {
    "id": "9n5pnN0-YT7u"
   },
   "source": [
    "<font color='green'>Fin actividad 1</font>"
   ]
  },
  {
   "cell_type": "markdown",
   "metadata": {
    "id": "ki19smTKYT7u"
   },
   "source": [
    "### <font color='green'>Actividad 2: </font>\n",
    "### Modifica tu librería\n",
    "Modifica **my_lib.py**. Por ejemplo, añádele otra función y actualízala utilizando **importlib**.\n",
    "\n",
    "1. Modifica tu módulo **my_lib**, añadiéndole otra función.\n",
    "2. Intenta usar la segunda función creada para comprobar que el módulo no se ha actualizado en la presente sesión.\n",
    "2. Carga el módulo **importlib** y actualiza tu módulo:\n",
    "\n",
    "```python\n",
    "import importlib; importlib.reload(nombre_de_tu_modulo)\n",
    "```\n",
    "4. Vuelve a realizar la prueba del paso 2.\n",
    "\n",
    "Tips:\n",
    "\n",
    "* Puedes añadirle la función de año bisiesto que creaste en FP18.\n",
    "* Si usaste un alias debes hacer el *reload* con dicho nombre."
   ]
  },
  {
   "cell_type": "code",
   "execution_count": null,
   "metadata": {
    "id": "lrE6gA5xYT7u"
   },
   "outputs": [],
   "source": [
    "# Tu código aquí ...\n",
    "\n"
   ]
  },
  {
   "cell_type": "markdown",
   "metadata": {
    "id": "yxY5aYwdYT7u"
   },
   "source": [
    "<font color='green'>Fin actividad 2</font>"
   ]
  }
 ],
 "metadata": {
  "kernelspec": {
   "display_name": "Python 3 (ipykernel)",
   "language": "python",
   "name": "python3"
  },
  "language_info": {
   "codemirror_mode": {
    "name": "ipython",
    "version": 3
   },
   "file_extension": ".py",
   "mimetype": "text/x-python",
   "name": "python",
   "nbconvert_exporter": "python",
   "pygments_lexer": "ipython3",
   "version": "3.8.11"
  },
  "colab": {
   "provenance": [],
   "toc_visible": true
  }
 },
 "nbformat": 4,
 "nbformat_minor": 0
}
