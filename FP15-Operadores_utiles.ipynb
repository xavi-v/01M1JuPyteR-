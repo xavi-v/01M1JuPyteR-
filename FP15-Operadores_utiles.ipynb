{
 "cells": [
  {
   "cell_type": "markdown",
   "metadata": {
    "id": "DhKT9tKvi-QV"
   },
   "source": [
    "# **Introducción a Python**\n",
    "# FP15. Operadores útiles (operators)\n"
   ]
  },
  {
   "cell_type": "markdown",
   "metadata": {
    "id": "TLU54VrBi-QX"
   },
   "source": [
    "Hay algunas funciones pre-hechas y operadores incorporados en Python que no encajan bien en ninguna categoría, así que los repasaremos en esta lección, ¡comencemos!"
   ]
  },
  {
   "cell_type": "markdown",
   "metadata": {
    "id": "wH65GDwdi-QX"
   },
   "source": [
    "## <font color='blue'>**Operadores básicos**</font>"
   ]
  },
  {
   "cell_type": "markdown",
   "metadata": {
    "id": "MMe2T38pi-QX"
   },
   "source": [
    "### __La función `range()`__\n",
    "\n",
    "La función `range( )` te permite generar rápidamente una lista de números enteros, esto es muy útil. Toma nota de cómo usarlo!\n",
    "\n",
    "Hay 3 parámetros que se le pueden pasar a la función:\n",
    "\n",
    "* un inicio\n",
    "* una parada\n",
    "* un tamaño de paso\n",
    "\n",
    "Veamos algunos ejemplos:"
   ]
  },
  {
   "cell_type": "code",
   "execution_count": 33,
   "metadata": {
    "id": "KZH9lcZai-QY",
    "ExecuteTime": {
     "end_time": "2023-08-31T00:16:11.123419500Z",
     "start_time": "2023-08-31T00:16:11.064421800Z"
    }
   },
   "outputs": [
    {
     "data": {
      "text/plain": "range(0, 11)"
     },
     "execution_count": 33,
     "metadata": {},
     "output_type": "execute_result"
    }
   ],
   "source": [
    "range(0, 11)"
   ]
  },
  {
   "cell_type": "code",
   "execution_count": 34,
   "metadata": {
    "id": "zaVxBYfXi-QZ",
    "ExecuteTime": {
     "end_time": "2023-08-31T00:16:15.521448900Z",
     "start_time": "2023-08-31T00:16:15.494451Z"
    }
   },
   "outputs": [
    {
     "data": {
      "text/plain": "range"
     },
     "execution_count": 34,
     "metadata": {},
     "output_type": "execute_result"
    }
   ],
   "source": [
    "type(range(0, 11))"
   ]
  },
  {
   "cell_type": "code",
   "execution_count": 35,
   "metadata": {
    "id": "qZ5-tOsMi-QZ",
    "ExecuteTime": {
     "end_time": "2023-08-31T00:16:18.284451100Z",
     "start_time": "2023-08-31T00:16:18.268450500Z"
    }
   },
   "outputs": [
    {
     "name": "stdout",
     "output_type": "stream",
     "text": [
      "range(0, 11)\n"
     ]
    }
   ],
   "source": [
    "a = range(0, 11)\n",
    "print(a)"
   ]
  },
  {
   "cell_type": "markdown",
   "metadata": {
    "id": "9qQTQcBbi-QZ"
   },
   "source": [
    "Ten en cuenta que esta es una función generadora (**generator**), por lo que para obtener una lista, necesitamos convertirla en una lista con `list()`.\n",
    "\n",
    "¿Qué es un generador? Es un tipo especial de función que generará un resultado a la vez, conforme se le solicita; esto permite un uso muy eficiente de la memoria de tu computador. Un generador es una función que devuelve un objeto (del tipo iterador) sobre el que podemos iterar (un valor a la vez). Aún no hemos hablado de funciones o generadores, así que mantén esto en tus notas por ahora, ¡lo discutiremos con mucho más detalle más adelante en tu capacitación!"
   ]
  },
  {
   "cell_type": "code",
   "execution_count": null,
   "metadata": {
    "id": "A1weYuTYi-QZ"
   },
   "outputs": [],
   "source": [
    "# Fíjate como el 11 no se incluye en el resultado. Es hasta 11 pero sin el 11.\n",
    "# Tal como cuando hacemos slicing\n",
    "\n",
    "list(range(0, 11))"
   ]
  },
  {
   "cell_type": "code",
   "execution_count": 36,
   "metadata": {
    "id": "27PjU8M3i-Qa",
    "ExecuteTime": {
     "end_time": "2023-08-31T00:16:27.840209100Z",
     "start_time": "2023-08-31T00:16:27.774686700Z"
    }
   },
   "outputs": [
    {
     "data": {
      "text/plain": "[0, 1, 2, 3, 4, 5, 6, 7, 8, 9, 10, 11]"
     },
     "execution_count": 36,
     "metadata": {},
     "output_type": "execute_result"
    }
   ],
   "source": [
    "list(range(0, 12))"
   ]
  },
  {
   "cell_type": "code",
   "execution_count": null,
   "metadata": {
    "id": "YVaNllNri-Qa"
   },
   "outputs": [],
   "source": [
    "# El tercer parámetro es el tamaño del paso!\n",
    "# el tamaño del paso solo significa qué tan grande es un salto o paso\n",
    "# toma del número inicial para pasar al siguiente número.\n",
    "\n",
    "list(range(0, 11, 2))"
   ]
  },
  {
   "cell_type": "code",
   "execution_count": null,
   "metadata": {
    "id": "s_vZnjvTi-Qa"
   },
   "outputs": [],
   "source": [
    "list(range(0, 101, 10))"
   ]
  },
  {
   "cell_type": "markdown",
   "metadata": {
    "id": "vQvico21i-Qb"
   },
   "source": [
    "### __La función `enumerate()`__\n",
    "\n",
    "`enumerate()` es una función muy útil para usar con `for` loops.\n",
    "Imagina la siguiente situación:"
   ]
  },
  {
   "cell_type": "code",
   "execution_count": null,
   "metadata": {
    "id": "0b1t4gAyi-Qb"
   },
   "outputs": [],
   "source": [
    "index_count = 0\n",
    "\n",
    "for letter in 'abcde':\n",
    "    print(f\"En el índice {index_count} la letra es {letter}\")\n",
    "    index_count += 1"
   ]
  },
  {
   "cell_type": "markdown",
   "metadata": {
    "id": "Mc7ss360i-Qb"
   },
   "source": [
    "Hacer un seguimiento de cuántos ciclos o bucles se han generado es tan común, que se creó la `enumerate()` para no tener que preocuparse por crear y actualizar esta variable *index_coun*t o *loop_count*."
   ]
  },
  {
   "cell_type": "code",
   "execution_count": 2,
   "metadata": {
    "id": "YBB6-kNJi-Qb",
    "ExecuteTime": {
     "end_time": "2023-08-30T23:08:31.297821300Z",
     "start_time": "2023-08-30T23:08:31.242364500Z"
    }
   },
   "outputs": [
    {
     "name": "stdout",
     "output_type": "stream",
     "text": [
      "En el índice 0 la letra es a\n",
      "En el índice 1 la letra es b\n",
      "En el índice 2 la letra es c\n",
      "En el índice 3 la letra es d\n",
      "En el índice 4 la letra es e\n",
      "En el índice 0 la letra es a\n",
      "En el índice 1 la letra es b\n",
      "En el índice 2 la letra es c\n",
      "En el índice 3 la letra es d\n",
      "En el índice 4 la letra es e\n"
     ]
    }
   ],
   "source": [
    "# enumarate() crea tuplas con las letras del string y su indice.\n",
    "# Fíjate en el desempaquetado de la tupla (tuple unpacking) en la cláusula for!\n",
    "\n",
    "for i,letter in enumerate('abcde'):\n",
    "    print(f\"En el índice {i} la letra es {letter}\")"
   ]
  },
  {
   "cell_type": "code",
   "execution_count": 3,
   "metadata": {
    "id": "8J_LZmbKi-Qc",
    "ExecuteTime": {
     "end_time": "2023-08-30T23:08:37.506562400Z",
     "start_time": "2023-08-30T23:08:37.413557900Z"
    }
   },
   "outputs": [
    {
     "data": {
      "text/plain": "enumerate"
     },
     "execution_count": 3,
     "metadata": {},
     "output_type": "execute_result"
    }
   ],
   "source": [
    "type(enumerate('abcde'))"
   ]
  },
  {
   "cell_type": "markdown",
   "metadata": {
    "id": "ITZrETGhi-Qc"
   },
   "source": [
    "### __La función `zip()`__\n",
    "\n",
    "Observa lo que `enumerate` realmente devuelve, echemos un vistazo transformándolo en una lista."
   ]
  },
  {
   "cell_type": "code",
   "execution_count": 4,
   "metadata": {
    "id": "3JWpus_ui-Qc",
    "ExecuteTime": {
     "end_time": "2023-08-30T23:08:57.538440100Z",
     "start_time": "2023-08-30T23:08:57.458437Z"
    }
   },
   "outputs": [
    {
     "data": {
      "text/plain": "[(0, 'a'), (1, 'b'), (2, 'c'), (3, 'd'), (4, 'e')]"
     },
     "execution_count": 4,
     "metadata": {},
     "output_type": "execute_result"
    }
   ],
   "source": [
    "list(enumerate('abcde'))"
   ]
  },
  {
   "cell_type": "markdown",
   "metadata": {
    "id": "GHSV09WAi-Qc"
   },
   "source": [
    "Era una lista de tuplas, lo que significa que podríamos usar el desempaquetado de tuplas durante nuestro ciclo for. Esta estructura de datos es muy común en Python, especialmente cuando se trabaja con bibliotecas externas. Puede utilizar la función `zip()` para crear rápidamente una lista de tuplas \"comprimiendo\" dos listas juntas."
   ]
  },
  {
   "cell_type": "code",
   "execution_count": 9,
   "metadata": {
    "id": "rfjXYBgBi-Qc",
    "ExecuteTime": {
     "end_time": "2023-08-30T23:10:53.404796800Z",
     "start_time": "2023-08-30T23:10:53.387797200Z"
    }
   },
   "outputs": [],
   "source": [
    "# Creamos dos listas\n",
    "\n",
    "mylist1 = [1, 2, 3, 4, 5]\n",
    "mylist2 = ['a', 'b', 'c', 'd', 'e']"
   ]
  },
  {
   "cell_type": "code",
   "execution_count": 11,
   "metadata": {
    "id": "Qwld5c3Li-Qc",
    "ExecuteTime": {
     "end_time": "2023-08-30T23:12:53.385302800Z",
     "start_time": "2023-08-30T23:12:53.365300800Z"
    }
   },
   "outputs": [
    {
     "data": {
      "text/plain": "<zip at 0x1b298564ec0>"
     },
     "execution_count": 11,
     "metadata": {},
     "output_type": "execute_result"
    }
   ],
   "source": [
    "# ¡Este también es un generador! Explicaremos esto más adelante, pero por ahora transformémoslo\n",
    "# en una lista.\n",
    "#si no hay la misma cantidad de elementos, el que no tenga pareja no se considera para la tupla\n",
    "# Al ejecutarlo no entregará nada útil. Debemos recorrerlo e iterar sobre él\n",
    "\n",
    "zip(mylist1, mylist2)"
   ]
  },
  {
   "cell_type": "code",
   "execution_count": 10,
   "metadata": {
    "id": "WcQU5-OPi-Qc",
    "ExecuteTime": {
     "end_time": "2023-08-30T23:10:59.563891600Z",
     "start_time": "2023-08-30T23:10:59.513886300Z"
    }
   },
   "outputs": [
    {
     "data": {
      "text/plain": "[(1, 'a'), (2, 'b'), (3, 'c'), (4, 'd'), (5, 'e')]"
     },
     "execution_count": 10,
     "metadata": {},
     "output_type": "execute_result"
    }
   ],
   "source": [
    "list(zip(mylist1, mylist2))"
   ]
  },
  {
   "cell_type": "markdown",
   "metadata": {
    "id": "1Nbe_yTki-Qd"
   },
   "source": [
    "Para usar el generador, podríamos usar un ciclo `for`"
   ]
  },
  {
   "cell_type": "code",
   "execution_count": 13,
   "metadata": {
    "id": "LiT9yt0Ei-Qd",
    "ExecuteTime": {
     "end_time": "2023-08-30T23:17:26.249060700Z",
     "start_time": "2023-08-30T23:17:26.207057600Z"
    }
   },
   "outputs": [
    {
     "name": "stdout",
     "output_type": "stream",
     "text": [
      "En esta tupla, el primer elemento es 1, y el segundo elemento es a\n",
      "En esta tupla, el primer elemento es 2, y el segundo elemento es b\n",
      "En esta tupla, el primer elemento es 3, y el segundo elemento es c\n",
      "En esta tupla, el primer elemento es 4, y el segundo elemento es d\n",
      "En esta tupla, el primer elemento es 5, y el segundo elemento es e\n"
     ]
    }
   ],
   "source": [
    "for item1, item2 in zip(mylist1, mylist2):\n",
    "    print(f'En esta tupla, el primer elemento es {item1}, y el segundo elemento es {item2}')"
   ]
  },
  {
   "cell_type": "markdown",
   "metadata": {
    "id": "fE4Nxothi-Qd"
   },
   "source": [
    "### __El operador `in`__\n",
    "Ya hemos visto la palabra clave `in` durante el ciclo `for`, pero también podemos usarla para verificar rápidamente si un objeto está en una lista."
   ]
  },
  {
   "cell_type": "code",
   "execution_count": 14,
   "metadata": {
    "id": "DDSnlBuqi-Qd",
    "ExecuteTime": {
     "end_time": "2023-08-30T23:17:29.085758500Z",
     "start_time": "2023-08-30T23:17:29.029187Z"
    }
   },
   "outputs": [
    {
     "data": {
      "text/plain": "True"
     },
     "execution_count": 14,
     "metadata": {},
     "output_type": "execute_result"
    }
   ],
   "source": [
    "'x' in ['x','y','z']"
   ]
  },
  {
   "cell_type": "code",
   "execution_count": 15,
   "metadata": {
    "id": "nslm9OJDi-Qd",
    "ExecuteTime": {
     "end_time": "2023-08-30T23:17:42.360089500Z",
     "start_time": "2023-08-30T23:17:42.309086700Z"
    }
   },
   "outputs": [
    {
     "data": {
      "text/plain": "False"
     },
     "execution_count": 15,
     "metadata": {},
     "output_type": "execute_result"
    }
   ],
   "source": [
    "'x' in [1, 2, 3]"
   ]
  },
  {
   "cell_type": "code",
   "execution_count": 16,
   "metadata": {
    "id": "lQb4Nmqgi-Qd",
    "ExecuteTime": {
     "end_time": "2023-08-30T23:17:55.011002600Z",
     "start_time": "2023-08-30T23:17:54.975001100Z"
    }
   },
   "outputs": [
    {
     "data": {
      "text/plain": "False"
     },
     "execution_count": 16,
     "metadata": {},
     "output_type": "execute_result"
    }
   ],
   "source": [
    "# Cuidado con las mayúsculas y minúsculas\n",
    "'homer' in ['Marge', 'Bart', 'Homer', 'Lisa']"
   ]
  },
  {
   "cell_type": "code",
   "execution_count": 18,
   "metadata": {
    "id": "PnkQ4OARi-Qd",
    "ExecuteTime": {
     "end_time": "2023-08-30T23:31:35.880367600Z",
     "start_time": "2023-08-30T23:31:34.794302300Z"
    }
   },
   "outputs": [
    {
     "ename": "AttributeError",
     "evalue": "'list' object has no attribute 'lower'",
     "output_type": "error",
     "traceback": [
      "\u001B[1;31m---------------------------------------------------------------------------\u001B[0m",
      "\u001B[1;31mAttributeError\u001B[0m                            Traceback (most recent call last)",
      "Cell \u001B[1;32mIn[18], line 2\u001B[0m\n\u001B[0;32m      1\u001B[0m simpson \u001B[38;5;241m=\u001B[39m [\u001B[38;5;124m'\u001B[39m\u001B[38;5;124mMarge\u001B[39m\u001B[38;5;124m'\u001B[39m, \u001B[38;5;124m'\u001B[39m\u001B[38;5;124mBart\u001B[39m\u001B[38;5;124m'\u001B[39m, \u001B[38;5;124m'\u001B[39m\u001B[38;5;124mHomeR\u001B[39m\u001B[38;5;124m'\u001B[39m, \u001B[38;5;124m'\u001B[39m\u001B[38;5;124mLisa\u001B[39m\u001B[38;5;124m'\u001B[39m]\n\u001B[1;32m----> 2\u001B[0m \u001B[38;5;124m'\u001B[39m\u001B[38;5;124mHomer\u001B[39m\u001B[38;5;124m'\u001B[39m \u001B[38;5;129;01min\u001B[39;00m \u001B[43msimpson\u001B[49m\u001B[38;5;241;43m.\u001B[39;49m\u001B[43mlower\u001B[49m()\n",
      "\u001B[1;31mAttributeError\u001B[0m: 'list' object has no attribute 'lower'"
     ]
    }
   ],
   "source": [
    "simpson = ['Marge', 'Bart', 'HomeR', 'Lisa']\n",
    "'Homer' in simpson"
   ]
  },
  {
   "cell_type": "markdown",
   "metadata": {
    "id": "eoxX8pLKi-Qd"
   },
   "source": [
    "No sólo con listas; intenta usar `in` con conjuntos (_sets_), diccionarios, strings, etc."
   ]
  },
  {
   "cell_type": "code",
   "execution_count": 19,
   "metadata": {
    "id": "iVhm-YrDi-Qd",
    "ExecuteTime": {
     "end_time": "2023-08-30T23:33:48.061193800Z",
     "start_time": "2023-08-30T23:33:48.003195300Z"
    }
   },
   "outputs": [
    {
     "data": {
      "text/plain": "True"
     },
     "execution_count": 19,
     "metadata": {},
     "output_type": "execute_result"
    }
   ],
   "source": [
    "s = {1, 2, 3, 4, 5}\n",
    "3 in s"
   ]
  },
  {
   "cell_type": "code",
   "execution_count": null,
   "metadata": {
    "id": "VFYZH26Mi-Qd"
   },
   "outputs": [],
   "source": [
    "d = {'a': 1, 'b': 2, 'c': 3}\n",
    "'a' in d"
   ]
  },
  {
   "cell_type": "code",
   "execution_count": null,
   "metadata": {
    "id": "z23ElEhNi-Qe"
   },
   "outputs": [],
   "source": [
    "1 in d.values()"
   ]
  },
  {
   "cell_type": "code",
   "execution_count": null,
   "metadata": {
    "id": "H_qv4eami-Qe"
   },
   "outputs": [],
   "source": [
    "'hola' in 'hola mundo'"
   ]
  },
  {
   "cell_type": "markdown",
   "metadata": {
    "id": "Wg1axrSTi-Qe"
   },
   "source": [
    "### __Las funciones `min()` y `max()`__\n",
    "Comprueba el mínimo o el máximo de una lista con estas funciones."
   ]
  },
  {
   "cell_type": "code",
   "execution_count": 20,
   "metadata": {
    "id": "hhMHVbU1i-Qe",
    "ExecuteTime": {
     "end_time": "2023-08-30T23:33:51.477988700Z",
     "start_time": "2023-08-30T23:33:51.451987500Z"
    }
   },
   "outputs": [],
   "source": [
    "mylist = [10, 20, 30, 40, 100]"
   ]
  },
  {
   "cell_type": "code",
   "execution_count": 21,
   "metadata": {
    "id": "MmI5Lq5li-Qe",
    "ExecuteTime": {
     "end_time": "2023-08-30T23:33:54.935186100Z",
     "start_time": "2023-08-30T23:33:54.901186100Z"
    }
   },
   "outputs": [
    {
     "data": {
      "text/plain": "10"
     },
     "execution_count": 21,
     "metadata": {},
     "output_type": "execute_result"
    }
   ],
   "source": [
    "min(mylist)"
   ]
  },
  {
   "cell_type": "code",
   "execution_count": 22,
   "metadata": {
    "id": "Yupxi6oKi-Qe",
    "ExecuteTime": {
     "end_time": "2023-08-30T23:33:58.370721400Z",
     "start_time": "2023-08-30T23:33:58.312213900Z"
    }
   },
   "outputs": [
    {
     "data": {
      "text/plain": "100"
     },
     "execution_count": 22,
     "metadata": {},
     "output_type": "execute_result"
    }
   ],
   "source": [
    "max(mylist)"
   ]
  },
  {
   "cell_type": "code",
   "execution_count": 23,
   "metadata": {
    "id": "QfaRovaii-Qe",
    "ExecuteTime": {
     "end_time": "2023-08-30T23:34:04.742025300Z",
     "start_time": "2023-08-30T23:34:04.683043900Z"
    }
   },
   "outputs": [
    {
     "data": {
      "text/plain": "'Bart'"
     },
     "execution_count": 23,
     "metadata": {},
     "output_type": "execute_result"
    }
   ],
   "source": [
    "min(simpson)"
   ]
  },
  {
   "cell_type": "markdown",
   "metadata": {
    "id": "lX6yAgwTi-Qe"
   },
   "source": [
    "### __La función `random()`__\n",
    "\n",
    "Python viene con una biblioteca para generar números aleatorios incorporada. Hay muchas funciones incluidas en esta biblioteca, por lo que solo te mostraremos dos funciones útiles por ahora."
   ]
  },
  {
   "cell_type": "code",
   "execution_count": 24,
   "metadata": {
    "id": "WNa0RSAei-Qe",
    "ExecuteTime": {
     "end_time": "2023-08-30T23:34:33.995026100Z",
     "start_time": "2023-08-30T23:34:33.951026600Z"
    }
   },
   "outputs": [],
   "source": [
    "from random import shuffle"
   ]
  },
  {
   "cell_type": "code",
   "execution_count": null,
   "metadata": {
    "id": "EYwvMY76i-Qe"
   },
   "outputs": [],
   "source": [
    "# Esto baraja o cambia de posición los elementos de la lista \"en el lugar\", lo que significa que no volverá\n",
    "# cualquier cosa, en su lugar, afectará el orden de la lista pasada como argumento de la función\n",
    "\n",
    "shuffle(mylist)"
   ]
  },
  {
   "cell_type": "code",
   "execution_count": null,
   "metadata": {
    "id": "ngOqwM2Ai-Qe"
   },
   "outputs": [],
   "source": [
    "mylist"
   ]
  },
  {
   "cell_type": "code",
   "execution_count": null,
   "metadata": {
    "id": "ezJ3dHjai-Qf"
   },
   "outputs": [],
   "source": [
    "from random import randint"
   ]
  },
  {
   "cell_type": "code",
   "execution_count": null,
   "metadata": {
    "id": "6CKORlL7i-Qf"
   },
   "outputs": [],
   "source": [
    "# Devuelve un número entero aleatorio en el rango [a, b], incluidos ambos puntos finales.\n",
    "\n",
    "randint(0, 100)"
   ]
  },
  {
   "cell_type": "code",
   "execution_count": null,
   "metadata": {
    "id": "58cx47KUi-Qf"
   },
   "outputs": [],
   "source": [
    "# Otra vez para chequear ...\n",
    "\n",
    "randint(0,100)"
   ]
  },
  {
   "cell_type": "markdown",
   "metadata": {
    "tags": [],
    "id": "OKErwIUvi-Qf"
   },
   "source": [
    "### __La función `input()`__\n",
    "Esta función ya la hemos usado. Recuerda que devuelve un string."
   ]
  },
  {
   "cell_type": "code",
   "execution_count": 25,
   "metadata": {
    "id": "MCJrgqbdi-Qf",
    "ExecuteTime": {
     "end_time": "2023-08-30T23:34:46.339966400Z",
     "start_time": "2023-08-30T23:34:42.017065700Z"
    }
   },
   "outputs": [
    {
     "data": {
      "text/plain": "str"
     },
     "execution_count": 25,
     "metadata": {},
     "output_type": "execute_result"
    }
   ],
   "source": [
    "num= input('Ingresa un número: ')\n",
    "type(num)"
   ]
  },
  {
   "cell_type": "code",
   "execution_count": null,
   "metadata": {
    "id": "Gdi23eAii-Qf"
   },
   "outputs": [],
   "source": [
    "name = input('Ingresa tu nombre: ')\n",
    "print(f'Mi nombre es {name}')"
   ]
  },
  {
   "cell_type": "markdown",
   "metadata": {
    "id": "1juzVYxFi-Qf"
   },
   "source": [
    "## <font color='blue'>**Operadores de comparación**</font>\n",
    "Hemos visto operadores de comparación anteriormente, pero repasemos rápidamente todos ellos:"
   ]
  },
  {
   "cell_type": "code",
   "execution_count": null,
   "metadata": {
    "id": "-DrFXNAFi-Qf"
   },
   "outputs": [],
   "source": [
    "# Less Than (menor que)\n",
    "1 < 2"
   ]
  },
  {
   "cell_type": "code",
   "execution_count": null,
   "metadata": {
    "id": "ohFFQCbKi-Qf"
   },
   "outputs": [],
   "source": [
    "# Great Than (mayor que)\n",
    "1 > 2"
   ]
  },
  {
   "cell_type": "code",
   "execution_count": null,
   "metadata": {
    "id": "NJNjNf58i-Qf"
   },
   "outputs": [],
   "source": [
    "# Check for equality (igualdad)\n",
    "1 == 1"
   ]
  },
  {
   "cell_type": "code",
   "execution_count": null,
   "metadata": {
    "id": "Z1oZ0qWdi-Qg"
   },
   "outputs": [],
   "source": [
    "# Check for inequality (desigualdad)\n",
    "1 != 1"
   ]
  },
  {
   "cell_type": "code",
   "execution_count": null,
   "metadata": {
    "id": "SA4BbgLFi-Qg"
   },
   "outputs": [],
   "source": [
    "# Less than or equal to (menor o igua que)\n",
    "1 <= 3"
   ]
  },
  {
   "cell_type": "code",
   "execution_count": null,
   "metadata": {
    "id": "2Li-BJpFi-Qg"
   },
   "outputs": [],
   "source": [
    "# Greater than of equal to (mayor o igual que)\n",
    "1 >= 1"
   ]
  },
  {
   "cell_type": "markdown",
   "metadata": {
    "id": "XHD6WXK-i-Qg"
   },
   "source": [
    "## <font color='blue'>**Operadores lógicos (_Logical Operators_)**</font>\n",
    "\n",
    "Ahora que conocemos los operadores de comparación, podemos usar operadores lógicos para combinar múltiples comparaciones (en general, múltiples declaraciones booleanas)"
   ]
  },
  {
   "cell_type": "markdown",
   "metadata": {
    "id": "M5OANatoi-Qg"
   },
   "source": [
    "### __El operador `and`__\n",
    "Úsalo cuando quieras comprobar que ambas declaraciones son verdaderas (`True`)"
   ]
  },
  {
   "cell_type": "code",
   "execution_count": 26,
   "metadata": {
    "id": "tAE0yWVKi-Qg",
    "ExecuteTime": {
     "end_time": "2023-08-30T23:35:42.634908600Z",
     "start_time": "2023-08-30T23:35:42.570522600Z"
    }
   },
   "outputs": [
    {
     "data": {
      "text/plain": "True"
     },
     "execution_count": 26,
     "metadata": {},
     "output_type": "execute_result"
    }
   ],
   "source": [
    "# Verdadero y Verdadero es Verdadero\n",
    "\n",
    "1 == 1 and 2 == 2"
   ]
  },
  {
   "cell_type": "code",
   "execution_count": 27,
   "metadata": {
    "id": "yO42QhZii-Qg",
    "ExecuteTime": {
     "end_time": "2023-08-30T23:35:47.369241600Z",
     "start_time": "2023-08-30T23:35:47.314241300Z"
    }
   },
   "outputs": [
    {
     "data": {
      "text/plain": "False"
     },
     "execution_count": 27,
     "metadata": {},
     "output_type": "execute_result"
    }
   ],
   "source": [
    "# Verdadero y Falso es Falso\n",
    "1 == 1 and 2 == 1"
   ]
  },
  {
   "cell_type": "code",
   "execution_count": 28,
   "metadata": {
    "id": "ycYdXMGbi-Qg",
    "ExecuteTime": {
     "end_time": "2023-08-30T23:36:11.999508300Z",
     "start_time": "2023-08-30T23:36:11.979509700Z"
    }
   },
   "outputs": [
    {
     "data": {
      "text/plain": "False"
     },
     "execution_count": 28,
     "metadata": {},
     "output_type": "execute_result"
    }
   ],
   "source": [
    "# Falso y Falso es Falso\n",
    "1 == 2 and 2 == 1"
   ]
  },
  {
   "cell_type": "markdown",
   "metadata": {
    "id": "Y6fJnwPhi-Qg"
   },
   "source": [
    "### __El operador `or`__\n",
    "Úsalo cuando solo una declaración debe ser verdadera (`True`)"
   ]
  },
  {
   "cell_type": "code",
   "execution_count": 29,
   "metadata": {
    "id": "bu_VXEk_i-Qg",
    "ExecuteTime": {
     "end_time": "2023-08-30T23:36:33.823115400Z",
     "start_time": "2023-08-30T23:36:33.754112Z"
    }
   },
   "outputs": [
    {
     "data": {
      "text/plain": "True"
     },
     "execution_count": 29,
     "metadata": {},
     "output_type": "execute_result"
    }
   ],
   "source": [
    "# Verdadero o Verdadero es Verdadero\n",
    "\n",
    "1 == 1 or 2 == 2"
   ]
  },
  {
   "cell_type": "code",
   "execution_count": 30,
   "metadata": {
    "id": "hx7L_BA_i-Qh",
    "ExecuteTime": {
     "end_time": "2023-08-30T23:36:36.672342200Z",
     "start_time": "2023-08-30T23:36:36.642341900Z"
    }
   },
   "outputs": [
    {
     "data": {
      "text/plain": "True"
     },
     "execution_count": 30,
     "metadata": {},
     "output_type": "execute_result"
    }
   ],
   "source": [
    "# Verdadero o Falso es Verdadero\n",
    "\n",
    "1 == 1 or 2 == 10"
   ]
  },
  {
   "cell_type": "code",
   "execution_count": null,
   "metadata": {
    "id": "mZy0kIfTi-Qh"
   },
   "outputs": [],
   "source": [
    "# Falso o Falso es Falso\n",
    "\n",
    "1 == 2 or 2 == 10"
   ]
  },
  {
   "cell_type": "markdown",
   "metadata": {
    "id": "u97GZVV6i-Qh"
   },
   "source": [
    "### __El operador `not`__\n",
    "El operador `not`  invierte el valor booleano"
   ]
  },
  {
   "cell_type": "code",
   "execution_count": 31,
   "metadata": {
    "id": "Eg-LFIiCi-Qo",
    "ExecuteTime": {
     "end_time": "2023-08-30T23:36:46.249349300Z",
     "start_time": "2023-08-30T23:36:46.232352700Z"
    }
   },
   "outputs": [
    {
     "data": {
      "text/plain": "False"
     },
     "execution_count": 31,
     "metadata": {},
     "output_type": "execute_result"
    }
   ],
   "source": [
    "not 1 == 1"
   ]
  },
  {
   "cell_type": "code",
   "execution_count": 32,
   "metadata": {
    "id": "a82Sn_Yzi-Qo",
    "ExecuteTime": {
     "end_time": "2023-08-30T23:36:59.156018600Z",
     "start_time": "2023-08-30T23:36:59.109501700Z"
    }
   },
   "outputs": [
    {
     "data": {
      "text/plain": "True"
     },
     "execution_count": 32,
     "metadata": {},
     "output_type": "execute_result"
    }
   ],
   "source": [
    "# No es muy común ver algo como esto, pero funciona\n",
    "\n",
    "1 == 1 and not 2 == 3"
   ]
  },
  {
   "cell_type": "code",
   "execution_count": null,
   "metadata": {
    "id": "tLpw4LN_i-Qo"
   },
   "outputs": [],
   "source": [
    "# Un ejemplo más realista\n",
    "\n",
    "respuesta = 'no'\n",
    "if 1 == 1 and not respuesta == 'yes':\n",
    "    print(\"Exito!\")"
   ]
  },
  {
   "cell_type": "code",
   "execution_count": null,
   "metadata": {
    "id": "4UTxu6HYi-Qo"
   },
   "outputs": [],
   "source": [
    "# Lo mismo\n",
    "\n",
    "respuesta = 'no'\n",
    "if 1 ==1 and respuesta != 'yes':\n",
    "    print(\"Exito!\")"
   ]
  },
  {
   "cell_type": "markdown",
   "source": [
    "## <font color='blue'>__Ejercicios__</font>"
   ],
   "metadata": {
    "id": "qHL2SIMODKGz"
   }
  },
  {
   "cell_type": "markdown",
   "metadata": {
    "id": "e0AfElkEi-Qa"
   },
   "source": [
    "### <font color='green'>Actividad 1</font>\n",
    "### Crea una lista con enteros, partiendo desde 0, hasta 102, con paso 3\n"
   ]
  },
  {
   "cell_type": "code",
   "execution_count": 38,
   "metadata": {
    "id": "EwamL41bi-Qa",
    "ExecuteTime": {
     "end_time": "2023-08-31T00:18:03.122191600Z",
     "start_time": "2023-08-31T00:18:03.105190700Z"
    }
   },
   "outputs": [
    {
     "data": {
      "text/plain": "[0,\n 3,\n 6,\n 9,\n 12,\n 15,\n 18,\n 21,\n 24,\n 27,\n 30,\n 33,\n 36,\n 39,\n 42,\n 45,\n 48,\n 51,\n 54,\n 57,\n 60,\n 63,\n 66,\n 69,\n 72,\n 75,\n 78,\n 81,\n 84,\n 87,\n 90,\n 93,\n 96,\n 99,\n 102]"
     },
     "execution_count": 38,
     "metadata": {},
     "output_type": "execute_result"
    }
   ],
   "source": [
    "# Tu código aquí ...\n",
    "list(range(0, 103, 3))\n"
   ]
  },
  {
   "cell_type": "markdown",
   "metadata": {
    "id": "IeKtYD12i-Qb"
   },
   "source": [
    "<font color='green'>Fin actividad 1</font>"
   ]
  },
  {
   "cell_type": "markdown",
   "metadata": {
    "id": "ss2-CMHXi-Qo"
   },
   "source": [
    "### <font color='green'>Actividad 2: </font>\n",
    "### Trabajando con Operadores Lógicos\n",
    "¿Cuál es el resultado (`True` o `False`) de una expresión como esta?\n",
    "```Python\n",
    "    True and False or True and False\n",
    "```"
   ]
  },
  {
   "cell_type": "code",
   "execution_count": 40,
   "metadata": {
    "id": "FMB_mAgNi-Qo",
    "ExecuteTime": {
     "end_time": "2023-08-31T00:22:33.537402500Z",
     "start_time": "2023-08-31T00:22:33.515404300Z"
    }
   },
   "outputs": [
    {
     "data": {
      "text/plain": "True"
     },
     "execution_count": 40,
     "metadata": {},
     "output_type": "execute_result"
    }
   ],
   "source": [
    "# Tu código aquí ...\n",
    "1==1 and 1!=1 or 2==2 and 1!=2\n"
   ]
  },
  {
   "cell_type": "code",
   "execution_count": 40,
   "outputs": [],
   "source": [],
   "metadata": {
    "collapsed": false,
    "ExecuteTime": {
     "end_time": "2023-08-31T00:27:24.575509500Z",
     "start_time": "2023-08-31T00:27:24.251485800Z"
    }
   }
  },
  {
   "cell_type": "markdown",
   "metadata": {
    "id": "cBa_LAqTi-Qo"
   },
   "source": [
    "<font color='green'>Fin actividad 2</font>"
   ]
  },
  {
   "cell_type": "markdown",
   "metadata": {
    "id": "JOa6s2qji-Qo"
   },
   "source": [
    "### <font color='green'>Actividad 3: </font>\n",
    "### Trabajando con Operadores Lógicos\n",
    "\n",
    "¿Cuál es el resultado (`True` o `False`) de una expresión como esta?\n",
    "```Python\n",
    "    True or False and True or False\n",
    "```"
   ]
  },
  {
   "cell_type": "code",
   "execution_count": 42,
   "metadata": {
    "id": "YiYZUd0hi-Qo",
    "ExecuteTime": {
     "end_time": "2023-08-31T00:32:12.490677400Z",
     "start_time": "2023-08-31T00:32:12.476677400Z"
    }
   },
   "outputs": [
    {
     "data": {
      "text/plain": "True"
     },
     "execution_count": 42,
     "metadata": {},
     "output_type": "execute_result"
    }
   ],
   "source": [
    "# Tu código aquí ...\n",
    "\n",
    "2==2 or 3!=4 and 1>0 or 1==2\n"
   ]
  },
  {
   "cell_type": "markdown",
   "metadata": {
    "id": "PnYgZTfai-Qp"
   },
   "source": [
    "<font color='green'>Fin actividad 3</font>"
   ]
  },
  {
   "cell_type": "markdown",
   "metadata": {
    "id": "wQaVU3zAi-Qp"
   },
   "source": [
    "### <font color='green'>Actividad 4: </font>\n",
    "### Trabajando con Operadores Lógicos\n",
    "Escribe una expresión como la siguiente, pero usando números\n",
    "```Python\n",
    "    True or False and True or False\n",
    "```\n",
    "Tip:\n",
    "```Python\n",
    "    1 == 1\n",
    "    True\n",
    "```"
   ]
  },
  {
   "cell_type": "code",
   "execution_count": null,
   "metadata": {
    "id": "6Zh3OQZji-Qp"
   },
   "outputs": [],
   "source": [
    "# Tu código aquí ...\n"
   ]
  },
  {
   "cell_type": "markdown",
   "metadata": {
    "id": "q9Whm0tIi-Qp"
   },
   "source": [
    "<font color='green'>Fin actividad 4</font>"
   ]
  }
 ],
 "metadata": {
  "kernelspec": {
   "display_name": "Python 3 (ipykernel)",
   "language": "python",
   "name": "python3"
  },
  "language_info": {
   "codemirror_mode": {
    "name": "ipython",
    "version": 3
   },
   "file_extension": ".py",
   "mimetype": "text/x-python",
   "name": "python",
   "nbconvert_exporter": "python",
   "pygments_lexer": "ipython3",
   "version": "3.8.11"
  },
  "colab": {
   "provenance": [],
   "toc_visible": true
  }
 },
 "nbformat": 4,
 "nbformat_minor": 0
}
