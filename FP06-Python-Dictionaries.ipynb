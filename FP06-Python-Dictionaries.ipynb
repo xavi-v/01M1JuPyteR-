{
 "nbformat": 4,
 "nbformat_minor": 0,
 "metadata": {
  "kernelspec": {
   "display_name": "Python 3 (ipykernel)",
   "language": "python",
   "name": "python3"
  },
  "language_info": {
   "codemirror_mode": {
    "name": "ipython",
    "version": 3
   },
   "file_extension": ".py",
   "mimetype": "text/x-python",
   "name": "python",
   "nbconvert_exporter": "python",
   "pygments_lexer": "ipython3",
   "version": "3.8.11"
  },
  "colab": {
   "provenance": [],
   "toc_visible": true
  }
 },
 "cells": [
  {
   "cell_type": "markdown",
   "metadata": {
    "id": "ovdJmIT_2HW6"
   },
   "source": [
    "# **Introducción a Python**\n",
    "# FP06. Diccionarios en Python (Dictionaries)"
   ]
  },
  {
   "cell_type": "markdown",
   "metadata": {
    "id": "jsUkocZ22HW8"
   },
   "source": [
    "¡Hola, Hackers!\n",
    "\n",
    "Hasta ahora solo hemos visto cómo almacenar tipos de datos en secuencias tales como almacenar caracteres en una cadena (string) o elementos en una lista (list). Pero, ¿y si queremos almacenar información de otra manera? La mayoría de los lenguajes de programación tienen lo que se llama una *tabla hash*, que es una combinación de elementos clave-valor. Bajo el capó, este tipo de estructuras permite tiempos de búsqueda de objetos más rápidos cuando las estructuras tienen muchos elementos.\n",
    "\n",
    "Un diccionario en Python es una estructura de datos que permite almacenar y organizar pares de clave-valor. Es una colección __mutable__, __indexada__ y __no ordenada__ de elementos. En lugar de utilizar índices numéricos como en las listas, los diccionarios utilizan claves para acceder y almacenar valores asociados.\n",
    "\n",
    "Las características principales de los diccionarios en Python son:\n",
    "\n",
    "* Clave única: Cada clave en un diccionario es única y se utiliza para acceder al valor asociado.\n",
    "* Mutable: Los diccionarios pueden modificarse agregando, modificando o eliminando pares clave-valor.\n",
    "* No ordenado: A diferencia de las listas, los diccionarios no mantienen un orden específico de los elementos.\n",
    "* Colección de pares clave-valor: Cada elemento del diccionario está compuesto por una clave y su correspondiente valor.\n",
    "* Puede contener diferentes tipos de datos: Tanto las claves como los valores pueden ser de cualquier tipo de dato válido en Python, como enteros, cadenas, listas u otros diccionarios.\n",
    "\n",
    "¡Cubramos los conceptos básicos de los diccionarios!"
   ]
  },
  {
   "cell_type": "markdown",
   "metadata": {
    "id": "TnkwzsUD2HW8"
   },
   "source": [
    "## <font color='blue'>**Creando un  Diccionario (Dictionary)**</font>"
   ]
  },
  {
   "cell_type": "code",
   "metadata": {
    "id": "vrBvE8622HW9",
    "ExecuteTime": {
     "end_time": "2023-08-24T00:09:00.826573Z",
     "start_time": "2023-08-24T00:09:00.815571700Z"
    }
   },
   "source": [
    "# Para crearlos se utilizan llaves\n",
    "\n",
    "d = {}"
   ],
   "execution_count": 4,
   "outputs": []
  },
  {
   "cell_type": "code",
   "metadata": {
    "id": "BAosWqkO2HW9",
    "ExecuteTime": {
     "end_time": "2023-08-24T00:09:03.434053100Z",
     "start_time": "2023-08-24T00:09:03.382054800Z"
    }
   },
   "source": [
    "# Verifiquemos con type()\n",
    "\n",
    "type(d)"
   ],
   "execution_count": 5,
   "outputs": [
    {
     "data": {
      "text/plain": "dict"
     },
     "execution_count": 5,
     "metadata": {},
     "output_type": "execute_result"
    }
   ]
  },
  {
   "cell_type": "code",
   "metadata": {
    "id": "Cf8oDgGW2HW-",
    "ExecuteTime": {
     "end_time": "2023-08-24T00:09:25.280026400Z",
     "start_time": "2023-08-24T00:09:25.265027500Z"
    }
   },
   "source": [
    "# Construimos un diccionario con {} y utilizamos dos puntos \":\" para indicar una clave y un valor.\n",
    "\n",
    "d = {'clave1': 'valor1', 'clave2': 'valor2'}"
   ],
   "execution_count": 8,
   "outputs": []
  },
  {
   "cell_type": "code",
   "metadata": {
    "id": "qLu-tEwb2HW_",
    "ExecuteTime": {
     "end_time": "2023-08-24T00:09:12.005402100Z",
     "start_time": "2023-08-24T00:09:11.984405200Z"
    }
   },
   "source": [
    "# Veamos\n",
    "d"
   ],
   "execution_count": 7,
   "outputs": [
    {
     "data": {
      "text/plain": "{'clave1': 'valor1', 'clave2': 'valor2'}"
     },
     "execution_count": 7,
     "metadata": {},
     "output_type": "execute_result"
    }
   ]
  },
  {
   "cell_type": "code",
   "metadata": {
    "id": "RaKje8pV2HW_",
    "ExecuteTime": {
     "end_time": "2023-08-24T00:09:33.045288900Z",
     "start_time": "2023-08-24T00:09:32.984290500Z"
    }
   },
   "source": [
    "# Podemos extraer valores a través de su llave\n",
    "\n",
    "d['clave1']"
   ],
   "execution_count": 9,
   "outputs": [
    {
     "data": {
      "text/plain": "'valor1'"
     },
     "execution_count": 9,
     "metadata": {},
     "output_type": "execute_result"
    }
   ]
  },
  {
   "cell_type": "code",
   "metadata": {
    "id": "_Ee9ZEbb2HXA",
    "ExecuteTime": {
     "end_time": "2023-08-24T00:09:38.304127500Z",
     "start_time": "2023-08-24T00:09:38.238125200Z"
    }
   },
   "source": [
    "# Fíjate en la sintaxis y en el uso de las comillas simples y dobles\n",
    "\n",
    "f\"{d['clave1']}\""
   ],
   "execution_count": 10,
   "outputs": [
    {
     "data": {
      "text/plain": "'valor1'"
     },
     "execution_count": 10,
     "metadata": {},
     "output_type": "execute_result"
    }
   ]
  },
  {
   "cell_type": "code",
   "metadata": {
    "id": "2fwRqviB2HW_",
    "ExecuteTime": {
     "end_time": "2023-08-24T00:09:41.941401600Z",
     "start_time": "2023-08-24T00:09:41.893406800Z"
    }
   },
   "source": [
    "d['clave2']"
   ],
   "execution_count": 11,
   "outputs": [
    {
     "data": {
      "text/plain": "'valor2'"
     },
     "execution_count": 11,
     "metadata": {},
     "output_type": "execute_result"
    }
   ]
  },
  {
   "cell_type": "code",
   "metadata": {
    "id": "6CebphMB2HW_",
    "ExecuteTime": {
     "end_time": "2023-08-24T00:09:44.861128800Z",
     "start_time": "2023-08-24T00:09:44.847131900Z"
    }
   },
   "source": [
    "# Otro diccionario, como los de la vida real !!\n",
    "# Fíjate como vamos usando el espacio y escribimos los pares de llave-valor hacia abajo.\n",
    "# Esto es opcional pero es muy elegante y legible.\n",
    "\n",
    "animals = {'elefante': 'loxodonta africana',\n",
    "           'lobo': 'canis lupus',\n",
    "           'tigre': 'panthera tigris',\n",
    "           'ratón': 'mus musculus'\n",
    "          }"
   ],
   "execution_count": 12,
   "outputs": []
  },
  {
   "cell_type": "markdown",
   "metadata": {
    "id": "_BARWuO42HXB"
   },
   "source": [
    "## <font color='blue'>__Añadiendo nuevos pares de *Key-Value*__</font>"
   ]
  },
  {
   "cell_type": "code",
   "metadata": {
    "id": "R1gYcC3R2HXB",
    "ExecuteTime": {
     "end_time": "2023-08-24T00:12:26.910601700Z",
     "start_time": "2023-08-24T00:12:26.894599700Z"
    }
   },
   "source": [
    "d['new_key'] = 'new item'"
   ],
   "execution_count": 16,
   "outputs": []
  },
  {
   "cell_type": "code",
   "metadata": {
    "id": "PVqWKjhI2HXB",
    "ExecuteTime": {
     "end_time": "2023-08-24T00:13:25.101809300Z",
     "start_time": "2023-08-24T00:13:25.054287100Z"
    }
   },
   "source": [
    "d"
   ],
   "execution_count": 20,
   "outputs": [
    {
     "data": {
      "text/plain": "{'clave1': 'valor1', 'clave2': 'valor2', 'new_key': 'new item'}"
     },
     "execution_count": 20,
     "metadata": {},
     "output_type": "execute_result"
    }
   ]
  },
  {
   "cell_type": "markdown",
   "metadata": {
    "id": "FrHTyV_g2HXC"
   },
   "source": [
    "<div class=\"alert alert-block alert-warning\">\n",
    "<b>TIP:</b> Los diccionarios no son estructuras ordenadas por defecto. Preservan el orden en el cual se ingresaron los elementos (a partir de la versión 3.7 de Python), pero no tienen un orden lógico cómo podríamos esperar (e.g.; por abecedario, menor a mayor, etc.). Esto puede no estar claro al principio con diccionarios más pequeños, pero a medida que los diccionarios se hacen más grandes, no mantendrán el orden, lo que significa que no podemos asumir que estarán ordenados de forma lógica.\n",
    "</div>"
   ]
  },
  {
   "cell_type": "code",
   "metadata": {
    "id": "VA1XGMVw2HXC",
    "ExecuteTime": {
     "end_time": "2023-08-24T00:13:27.336777500Z",
     "start_time": "2023-08-24T00:13:27.291773300Z"
    }
   },
   "source": [
    "f\"{animals}\""
   ],
   "execution_count": 21,
   "outputs": [
    {
     "data": {
      "text/plain": "\"{'elefante': 'loxodonta africana', 'lobo': 'canis lupus', 'tigre': 'panthera tigris', 'ratón': 'mus musculus'}\""
     },
     "execution_count": 21,
     "metadata": {},
     "output_type": "execute_result"
    }
   ]
  },
  {
   "cell_type": "code",
   "metadata": {
    "scrolled": true,
    "tags": [],
    "id": "VFxUaXA42HXC",
    "ExecuteTime": {
     "end_time": "2023-08-24T00:13:29.003044200Z",
     "start_time": "2023-08-24T00:13:28.936040600Z"
    }
   },
   "source": [
    "# Dale un vistazo a los métodos propios de los diccionarios\n",
    "\n",
    "help(animals)"
   ],
   "execution_count": 22,
   "outputs": [
    {
     "name": "stdout",
     "output_type": "stream",
     "text": [
      "Help on dict object:\n",
      "\n",
      "class dict(object)\n",
      " |  dict() -> new empty dictionary\n",
      " |  dict(mapping) -> new dictionary initialized from a mapping object's\n",
      " |      (key, value) pairs\n",
      " |  dict(iterable) -> new dictionary initialized as if via:\n",
      " |      d = {}\n",
      " |      for k, v in iterable:\n",
      " |          d[k] = v\n",
      " |  dict(**kwargs) -> new dictionary initialized with the name=value pairs\n",
      " |      in the keyword argument list.  For example:  dict(one=1, two=2)\n",
      " |  \n",
      " |  Built-in subclasses:\n",
      " |      StgDict\n",
      " |  \n",
      " |  Methods defined here:\n",
      " |  \n",
      " |  __contains__(self, key, /)\n",
      " |      True if the dictionary has the specified key, else False.\n",
      " |  \n",
      " |  __delitem__(self, key, /)\n",
      " |      Delete self[key].\n",
      " |  \n",
      " |  __eq__(self, value, /)\n",
      " |      Return self==value.\n",
      " |  \n",
      " |  __ge__(self, value, /)\n",
      " |      Return self>=value.\n",
      " |  \n",
      " |  __getattribute__(self, name, /)\n",
      " |      Return getattr(self, name).\n",
      " |  \n",
      " |  __getitem__(...)\n",
      " |      x.__getitem__(y) <==> x[y]\n",
      " |  \n",
      " |  __gt__(self, value, /)\n",
      " |      Return self>value.\n",
      " |  \n",
      " |  __init__(self, /, *args, **kwargs)\n",
      " |      Initialize self.  See help(type(self)) for accurate signature.\n",
      " |  \n",
      " |  __ior__(self, value, /)\n",
      " |      Return self|=value.\n",
      " |  \n",
      " |  __iter__(self, /)\n",
      " |      Implement iter(self).\n",
      " |  \n",
      " |  __le__(self, value, /)\n",
      " |      Return self<=value.\n",
      " |  \n",
      " |  __len__(self, /)\n",
      " |      Return len(self).\n",
      " |  \n",
      " |  __lt__(self, value, /)\n",
      " |      Return self<value.\n",
      " |  \n",
      " |  __ne__(self, value, /)\n",
      " |      Return self!=value.\n",
      " |  \n",
      " |  __or__(self, value, /)\n",
      " |      Return self|value.\n",
      " |  \n",
      " |  __repr__(self, /)\n",
      " |      Return repr(self).\n",
      " |  \n",
      " |  __reversed__(self, /)\n",
      " |      Return a reverse iterator over the dict keys.\n",
      " |  \n",
      " |  __ror__(self, value, /)\n",
      " |      Return value|self.\n",
      " |  \n",
      " |  __setitem__(self, key, value, /)\n",
      " |      Set self[key] to value.\n",
      " |  \n",
      " |  __sizeof__(...)\n",
      " |      D.__sizeof__() -> size of D in memory, in bytes\n",
      " |  \n",
      " |  clear(...)\n",
      " |      D.clear() -> None.  Remove all items from D.\n",
      " |  \n",
      " |  copy(...)\n",
      " |      D.copy() -> a shallow copy of D\n",
      " |  \n",
      " |  get(self, key, default=None, /)\n",
      " |      Return the value for key if key is in the dictionary, else default.\n",
      " |  \n",
      " |  items(...)\n",
      " |      D.items() -> a set-like object providing a view on D's items\n",
      " |  \n",
      " |  keys(...)\n",
      " |      D.keys() -> a set-like object providing a view on D's keys\n",
      " |  \n",
      " |  pop(...)\n",
      " |      D.pop(k[,d]) -> v, remove specified key and return the corresponding value.\n",
      " |      \n",
      " |      If key is not found, default is returned if given, otherwise KeyError is raised\n",
      " |  \n",
      " |  popitem(self, /)\n",
      " |      Remove and return a (key, value) pair as a 2-tuple.\n",
      " |      \n",
      " |      Pairs are returned in LIFO (last-in, first-out) order.\n",
      " |      Raises KeyError if the dict is empty.\n",
      " |  \n",
      " |  setdefault(self, key, default=None, /)\n",
      " |      Insert key with a value of default if key is not in the dictionary.\n",
      " |      \n",
      " |      Return the value for key if key is in the dictionary, else default.\n",
      " |  \n",
      " |  update(...)\n",
      " |      D.update([E, ]**F) -> None.  Update D from dict/iterable E and F.\n",
      " |      If E is present and has a .keys() method, then does:  for k in E: D[k] = E[k]\n",
      " |      If E is present and lacks a .keys() method, then does:  for k, v in E: D[k] = v\n",
      " |      In either case, this is followed by: for k in F:  D[k] = F[k]\n",
      " |  \n",
      " |  values(...)\n",
      " |      D.values() -> an object providing a view on D's values\n",
      " |  \n",
      " |  ----------------------------------------------------------------------\n",
      " |  Class methods defined here:\n",
      " |  \n",
      " |  __class_getitem__(...) from builtins.type\n",
      " |      See PEP 585\n",
      " |  \n",
      " |  fromkeys(iterable, value=None, /) from builtins.type\n",
      " |      Create a new dictionary with keys from iterable and values set to value.\n",
      " |  \n",
      " |  ----------------------------------------------------------------------\n",
      " |  Static methods defined here:\n",
      " |  \n",
      " |  __new__(*args, **kwargs) from builtins.type\n",
      " |      Create and return a new object.  See help(type) for accurate signature.\n",
      " |  \n",
      " |  ----------------------------------------------------------------------\n",
      " |  Data and other attributes defined here:\n",
      " |  \n",
      " |  __hash__ = None\n",
      "\n"
     ]
    }
   ]
  },
  {
   "cell_type": "markdown",
   "metadata": {
    "id": "NHXakrBp2HXD"
   },
   "source": [
    "## <font color='blue'>**Estructuras anidadas dentro de los diccionarios**</font>\n",
    "\n",
    "Los diccionarios son muy flexibles en los tipos de datos que pueden contener. Ellos pueden contener números, strings, listas e, incluso, diccionarios, entre otros."
   ]
  },
  {
   "cell_type": "code",
   "metadata": {
    "id": "nyiVZKUz2HXD",
    "ExecuteTime": {
     "end_time": "2023-08-24T00:13:39.089326600Z",
     "start_time": "2023-08-24T00:13:39.070330200Z"
    }
   },
   "source": [
    "d = {'k1': 10, 'k2': 'string', 'k3': [1, 2, 3], 'k4': {'inside_key': 100}}"
   ],
   "execution_count": 23,
   "outputs": []
  },
  {
   "cell_type": "code",
   "metadata": {
    "id": "99pnfGDA2HXD",
    "ExecuteTime": {
     "end_time": "2023-08-24T00:14:02.526903800Z",
     "start_time": "2023-08-24T00:14:02.481905Z"
    }
   },
   "source": [
    "d"
   ],
   "execution_count": 24,
   "outputs": [
    {
     "data": {
      "text/plain": "{'k1': 10, 'k2': 'string', 'k3': [1, 2, 3], 'k4': {'inside_key': 100}}"
     },
     "execution_count": 24,
     "metadata": {},
     "output_type": "execute_result"
    }
   ]
  },
  {
   "cell_type": "code",
   "metadata": {
    "id": "6gboe00J2HXD",
    "ExecuteTime": {
     "end_time": "2023-08-24T00:14:05.637467200Z",
     "start_time": "2023-08-24T00:14:05.578473600Z"
    }
   },
   "source": [
    "d['k1']"
   ],
   "execution_count": 25,
   "outputs": [
    {
     "data": {
      "text/plain": "10"
     },
     "execution_count": 25,
     "metadata": {},
     "output_type": "execute_result"
    }
   ]
  },
  {
   "cell_type": "code",
   "metadata": {
    "id": "sSOj0g7T2HXD"
   },
   "source": [
    "d['k2']"
   ],
   "execution_count": null,
   "outputs": []
  },
  {
   "cell_type": "code",
   "metadata": {
    "id": "3Yb8BaMP2HXE"
   },
   "source": [
    "d['k3']"
   ],
   "execution_count": null,
   "outputs": []
  },
  {
   "cell_type": "code",
   "metadata": {
    "id": "BJBuDKwt2HXE"
   },
   "source": [
    "d['k3'][0]"
   ],
   "execution_count": null,
   "outputs": []
  },
  {
   "cell_type": "code",
   "metadata": {
    "id": "Vg9E8V-y2HXE"
   },
   "source": [
    "d['k4']"
   ],
   "execution_count": null,
   "outputs": []
  },
  {
   "cell_type": "code",
   "metadata": {
    "id": "h9loaccc2HXE"
   },
   "source": [
    "# Fíjate cómo obtenemos el valor de la llave del último elemento del diccionario d\n",
    "\n",
    "d['k4']['inside_key']"
   ],
   "execution_count": null,
   "outputs": []
  },
  {
   "cell_type": "markdown",
   "metadata": {
    "id": "IRMjmc8s2HXF"
   },
   "source": [
    "Si buscas una llave inexistente, te dará un error\n",
    "\n"
   ]
  },
  {
   "cell_type": "code",
   "metadata": {
    "id": "OqHrazbU2HXF"
   },
   "source": [
    "# Esta celda arrojará un error\n",
    "d['oops']"
   ],
   "execution_count": null,
   "outputs": []
  },
  {
   "cell_type": "markdown",
   "metadata": {
    "id": "E6Ab4kcP2HXH"
   },
   "source": [
    "## <font color='blue'>**Métodos de diccionarios**</font>"
   ]
  },
  {
   "cell_type": "markdown",
   "metadata": {
    "id": "dH5iyxSN2HXG"
   },
   "source": [
    "Utiliza los diccionarios para cuando necesites estructuras veloces pero no necesariamente ordenadas.\n",
    "\n",
    "Por ejemplo, la siguiente información es perfecta para almacenarla en un diccionario:\n",
    "\n",
    "[Nombres claves de familiares de presidentes](https://en.wikipedia.org/wiki/Secret_Service_code_name)"
   ]
  },
  {
   "cell_type": "code",
   "metadata": {
    "id": "uLPeAEru2HXG",
    "ExecuteTime": {
     "end_time": "2023-08-24T00:14:15.604654400Z",
     "start_time": "2023-08-24T00:14:15.571582400Z"
    }
   },
   "source": [
    "code_names = {\"Trump\":'Mogul',\n",
    "              \"Obama\":'Renegade',\n",
    "              \"Bush\":'Trailblazer',\n",
    "              \"Reagan\":\"Rawhide\",\n",
    "              \"Ford\":\"Passkey\"\n",
    "             }"
   ],
   "execution_count": 26,
   "outputs": []
  },
  {
   "cell_type": "code",
   "metadata": {
    "id": "KDY8GFBk2HXG",
    "ExecuteTime": {
     "end_time": "2023-08-24T00:14:18.309730700Z",
     "start_time": "2023-08-24T00:14:18.255812100Z"
    }
   },
   "source": [
    "code_names[\"Ford\"]"
   ],
   "execution_count": 27,
   "outputs": [
    {
     "data": {
      "text/plain": "'Passkey'"
     },
     "execution_count": 27,
     "metadata": {},
     "output_type": "execute_result"
    }
   ]
  },
  {
   "cell_type": "markdown",
   "metadata": {
    "id": "FAHj6Ky32HXH"
   },
   "source": [
    "Otro ejemplo:\n",
    "\n",
    "[Lista de países y su población](https://en.wikipedia.org/wiki/List_of_countries_by_population_(United_Nations)"
   ]
  },
  {
   "cell_type": "code",
   "metadata": {
    "id": "hrE7PIZG2HXH",
    "ExecuteTime": {
     "end_time": "2023-08-24T00:16:02.349854600Z",
     "start_time": "2023-08-24T00:16:02.307854600Z"
    }
   },
   "source": [
    "pop_in_mil = {\"Chile\":18,\n",
    "              \"USA\":323,\n",
    "              \"Germany\": 83,\n",
    "              \"India\": 1324\n",
    "             }"
   ],
   "execution_count": 38,
   "outputs": []
  },
  {
   "cell_type": "code",
   "metadata": {
    "id": "ijvduQbb2HXH",
    "ExecuteTime": {
     "end_time": "2023-08-24T00:16:51.419475300Z",
     "start_time": "2023-08-24T00:16:51.359473400Z"
    }
   },
   "source": [
    "pop_in_mil['Chile']"
   ],
   "execution_count": 40,
   "outputs": [
    {
     "data": {
      "text/plain": "18"
     },
     "execution_count": 40,
     "metadata": {},
     "output_type": "execute_result"
    }
   ]
  },
  {
   "cell_type": "code",
   "metadata": {
    "id": "8Nb8I6zv2HXI",
    "ExecuteTime": {
     "end_time": "2023-08-24T00:16:55.993344100Z",
     "start_time": "2023-08-24T00:16:55.946837200Z"
    }
   },
   "source": [
    "# Llaves\n",
    "code_names.keys()"
   ],
   "execution_count": 41,
   "outputs": [
    {
     "data": {
      "text/plain": "dict_keys(['Trump', 'Obama', 'Bush', 'Reagan', 'Ford'])"
     },
     "execution_count": 41,
     "metadata": {},
     "output_type": "execute_result"
    }
   ]
  },
  {
   "cell_type": "code",
   "metadata": {
    "id": "LaWmQCFW2HXI",
    "ExecuteTime": {
     "end_time": "2023-08-24T00:15:18.904851900Z",
     "start_time": "2023-08-24T00:15:18.848853700Z"
    }
   },
   "source": [
    "# Valores\n",
    "code_names.values()"
   ],
   "execution_count": 35,
   "outputs": [
    {
     "data": {
      "text/plain": "dict_values(['Mogul', 'Renegade', 'Trailblazer', 'Rawhide', 'Passkey'])"
     },
     "execution_count": 35,
     "metadata": {},
     "output_type": "execute_result"
    }
   ]
  },
  {
   "cell_type": "code",
   "metadata": {
    "id": "F3ZaBv4H2HXI",
    "ExecuteTime": {
     "end_time": "2023-08-24T00:14:35.870613500Z",
     "start_time": "2023-08-24T00:14:35.844613500Z"
    }
   },
   "source": [
    "# Pares de llaves y valores\n",
    "code_names.items()"
   ],
   "execution_count": 32,
   "outputs": [
    {
     "data": {
      "text/plain": "dict_items([('Trump', 'Mogul'), ('Obama', 'Renegade'), ('Bush', 'Trailblazer'), ('Reagan', 'Rawhide'), ('Ford', 'Passkey')])"
     },
     "execution_count": 32,
     "metadata": {},
     "output_type": "execute_result"
    }
   ]
  },
  {
   "cell_type": "markdown",
   "source": [
    "## <font color='blue'>__Ejercicios__</font>"
   ],
   "metadata": {
    "id": "UK1dCIAI9lk_"
   }
  },
  {
   "cell_type": "markdown",
   "metadata": {
    "id": "B8oKNxfG2HXA"
   },
   "source": [
    "### <font color='green'>Actividad 1:</font>\n",
    "### Imprime el contenido de la llave  *'lobo'* desde el diccionario _'animals'_.\n",
    "Tip:\n",
    "1. Obtén el valor de \"lobo\" usando el indexador \\['lobo' \\]\n",
    "2. Utiliza las funciones de impresión print() y f-Strign para imprimir el la frase\n",
    "\n",
    "```python\n",
    "\"El nombre científico del lobo es ...\"\n",
    "```"
   ]
  },
  {
   "cell_type": "code",
   "metadata": {
    "id": "izMLcEDj2HXA"
   },
   "source": [
    "# Tu código aquí ...\n"
   ],
   "execution_count": null,
   "outputs": []
  },
  {
   "cell_type": "markdown",
   "metadata": {
    "id": "raxkCmT52HXB"
   },
   "source": [
    "<font color='green'>Fin actividad 1</font>"
   ]
  },
  {
   "cell_type": "markdown",
   "metadata": {
    "id": "uRaeCN4k2HXB"
   },
   "source": [
    "### <font color='green'>Actividad 2:</font>\n",
    "### Añade dos pares de animales-nombre científico al diccionario *'animals'*"
   ]
  },
  {
   "cell_type": "code",
   "metadata": {
    "id": "zWlxLSj92HXC"
   },
   "source": [
    "# Tu código aquí ...\n",
    "\n"
   ],
   "execution_count": null,
   "outputs": []
  },
  {
   "cell_type": "markdown",
   "metadata": {
    "id": "l_vFvH8m2HXC"
   },
   "source": [
    "<font color='green'>Fin actividad 2</font>"
   ]
  },
  {
   "cell_type": "markdown",
   "metadata": {
    "id": "1xJ0Axmr2HXE"
   },
   "source": [
    "### <font color='green'>Actividad 3:</font>\n",
    "### Crea un diccionario llamado *'serpientes'* como el mostrado a continuación. Investiga otras formas idiomáticas para crearlo:\n",
    "```pyhton\n",
    "serpientes = {'víbora': 'vipera latastei', 'anaconda': 'eunectes marinus'}\n",
    "```"
   ]
  },
  {
   "cell_type": "code",
   "metadata": {
    "id": "OgaWH-ni2HXE"
   },
   "source": [
    "# Tu código aquí ...\n",
    "\n"
   ],
   "execution_count": null,
   "outputs": []
  },
  {
   "cell_type": "markdown",
   "metadata": {
    "id": "S_rZrXWj2HXF"
   },
   "source": [
    "<font color='green'>Fin actividad 3</font>"
   ]
  },
  {
   "cell_type": "markdown",
   "metadata": {
    "id": "iXdIv2BR2HXF"
   },
   "source": [
    "### <font color='green'>Actividad 4:</font>\n",
    "### Inserta el diccionario *'serpientes'* en el diccionario *'animals'*"
   ]
  },
  {
   "cell_type": "code",
   "metadata": {
    "id": "u5NG17tT2HXF"
   },
   "source": [
    "# Tu código aquí ...\n",
    "\n"
   ],
   "execution_count": null,
   "outputs": []
  },
  {
   "cell_type": "markdown",
   "metadata": {
    "id": "-Y7bc5562HXF"
   },
   "source": [
    "<font color='green'>Fin actividad 4</font>"
   ]
  },
  {
   "cell_type": "markdown",
   "metadata": {
    "id": "wQWgCnYj2HXG"
   },
   "source": [
    "### <font color='green'>Actividad 5:</font>\n",
    "### Busca una llave inexistente en el diccionario *'animals'*"
   ]
  },
  {
   "cell_type": "code",
   "metadata": {
    "id": "WHQVbQm92HXG"
   },
   "source": [
    "# Tu código aquí ...\n",
    "\n"
   ],
   "execution_count": null,
   "outputs": []
  },
  {
   "cell_type": "markdown",
   "metadata": {
    "tags": [],
    "id": "8wGWFrXL2HXG"
   },
   "source": [
    "<font color='green'>Fin actividad 5</font>"
   ]
  },
  {
   "cell_type": "markdown",
   "metadata": {
    "id": "d1C9MYy62HXI"
   },
   "source": [
    "### <font color='green'>Actividad 6:</font>\n",
    "### Aplica los métodos vistos al diccionario *'animals'*\n"
   ]
  },
  {
   "cell_type": "code",
   "metadata": {
    "id": "r0Zi_96Y2HXI"
   },
   "source": [
    "# Tu código aquí ...\n",
    "\n"
   ],
   "execution_count": null,
   "outputs": []
  },
  {
   "cell_type": "markdown",
   "metadata": {
    "id": "nEr14vBN2HXJ"
   },
   "source": [
    "<font color='green'>Fin actividad 6</font>"
   ]
  },
  {
   "cell_type": "markdown",
   "metadata": {
    "id": "1qDbzzYk2HXJ"
   },
   "source": [
    "Gran trabajo Hackers, recuerden que los diccionarios (y las listas) son una de las estructuras de datos más útiles en cualquier lenguaje de programación y también en Python."
   ]
  }
 ]
}
