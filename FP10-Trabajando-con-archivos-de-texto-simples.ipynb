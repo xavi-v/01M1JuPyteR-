{
 "cells": [
  {
   "cell_type": "markdown",
   "metadata": {
    "id": "LowY6_HPVAGA"
   },
   "source": [
    "# **Introducción a Python**\n",
    "# FP10. Trabajando con archivos de texto simples"
   ]
  },
  {
   "cell_type": "markdown",
   "metadata": {
    "id": "M1QxEFYrVAGD"
   },
   "source": [
    "¡Hola espías!\n",
    "\n",
    "En esta oportunidad vamos a trabajar con archivos. Al final de esta lección, podrá abrir archivos y trabajar con ellos usando código.\n",
    "\n",
    "Python puede manejar fácilmente el trabajo con archivos .txt (más adelante aprenderás a trabajar con otros formatos de archivo, como .csv). Repasemos las mejores prácticas para trabajar con archivos de texto simples en Python."
   ]
  },
  {
   "cell_type": "markdown",
   "metadata": {
    "id": "y2KBBR6yVAGE",
    "tags": []
   },
   "source": [
    "## <font color='blue'>__Abrir un archivo__</font>\n",
    "\n",
    "Para usar un archivo y hacer algo con él, lo primero que debemos hacer es abrirlo. Sí, igual que como hacemos con un libro.<br>\n",
    "Usaremos la función `open( )`, de la siguiente forma:\n",
    "\n",
    "``` python\n",
    "my_file = open ('ruta_del_archivo/nombre_archivo.extensión')\n",
    "```\n",
    "\n",
    "* **ruta_del_archivo**, corresponde a la ruta (path) en el cual se encuentra el archivo; considera que puede hacer diferencias en el uso de los slash (/) o backslash (\\) dependiendo de si tu sistema operativo es MacOS, Linux o Windows.\n",
    "* **file_name.extension**, el nombre que elegimos del archivo y su respectiva extensión."
   ]
  },
  {
   "cell_type": "code",
   "execution_count": null,
   "metadata": {
    "id": "PeDxM9v3VAGE"
   },
   "outputs": [],
   "source": [
    "# Por ejemplo si escribimos mal el nombre o el archivo no existe en el directorio actual,\n",
    "# esta celda dará un error\n",
    "my_file = open('nombre_inexistente.txt')"
   ]
  },
  {
   "cell_type": "markdown",
   "metadata": {
    "id": "I1IJRoo3VAGF"
   },
   "source": [
    "Esto significa que ocurrieron dos cosas posibles, o el nombre del archivo es incorrecto o no se proporcionó la ruta del archivo correcta. Cuando trabajas en Colab la ruta hay que armarla desde tu Drive de Goole en la nube.\n",
    "\n",
    "### <font color='red'>Importante</font>\n",
    "\n",
    "Si estás trabajando en Colab, estás trabajando en la nube; por ello, antes de iniciar el trabajo con archivos, debes montar el Drive (de Google) en el cual estás trabajando.<br>\n",
    "Para hacer eso usaremos el siguiente snippet de cógigo:\n",
    "\n",
    "``` python\n",
    "from google.colab import drive\n",
    "drive.mount('/content/drive')\n",
    "```\n",
    "\n",
    "El montar el Drive te permitirá en el futuro acceder a datos almacenados en la nube.\n",
    "\n",
    "Veamos como hacer esto en el siguiente video."
   ]
  },
  {
   "cell_type": "code",
   "source": [
    "from google.colab import drive\n",
    "drive.mount('/content/drive')"
   ],
   "metadata": {
    "id": "mI45A-AAVi4W"
   },
   "execution_count": null,
   "outputs": []
  },
  {
   "cell_type": "markdown",
   "metadata": {
    "id": "nZgjTCULVAGG"
   },
   "source": [
    "### [Cómo montar mi Drive en Colab](https://youtu.be/hZFQ9tjXmVw)"
   ]
  },
  {
   "cell_type": "code",
   "execution_count": null,
   "metadata": {
    "id": "NUxYv3mSVAGG"
   },
   "outputs": [],
   "source": [
    "myfile = open('/content/drive/MyDrive/Python/archivo_1.txt')"
   ]
  },
  {
   "cell_type": "markdown",
   "metadata": {
    "id": "yrVgiN7MVAGH"
   },
   "source": [
    "Cuando abrimos un archivo, creamos un nuevo objeto al cual le asignamos un puntero. En este caso, el objeto se llama *myfile* <br>\n",
    "El puntero nos dirá en que parte del archivo estamos posicionados y al abrir el archivo quedará posicionado por defecto al inicio.<br>\n",
    "Veamos el tipo de objeto:"
   ]
  },
  {
   "cell_type": "code",
   "execution_count": null,
   "metadata": {
    "id": "KESwENytVAGH"
   },
   "outputs": [],
   "source": [
    "type(myfile)"
   ]
  },
  {
   "cell_type": "markdown",
   "source": [
    "\n",
    "__TextIOWrapper__ es una clase en Python que actúa como un \"envoltorio\" o \"wrapper\" alrededor de un objeto de tipo archivo (file). Proporciona una interfaz de alto nivel para trabajar con archivos de texto, permitiendo leer y escribir texto en diferentes codificaciones."
   ],
   "metadata": {
    "id": "VlR449cbWD8L"
   }
  },
  {
   "cell_type": "markdown",
   "metadata": {
    "id": "ORnbcHuUVAGH"
   },
   "source": [
    "## <font color='blue'>__Métodos asociados a nuestro nuevo objeto__</font>\n",
    "Ahora podemos llamar a varios métodos de lectura de este archivo de texto:\n",
    "\n",
    "### El método `read()`\n",
    "`read()` devuelve todo el contenido como una cadena:"
   ]
  },
  {
   "cell_type": "code",
   "execution_count": null,
   "metadata": {
    "id": "ywyq0XKBVAGI"
   },
   "outputs": [],
   "source": [
    "myfile.read()"
   ]
  },
  {
   "cell_type": "markdown",
   "metadata": {
    "id": "CO5seXUqVAGI"
   },
   "source": [
    "Si ejecutas la sentencia anterior nuevamente, obtendrás un string vacío (''):"
   ]
  },
  {
   "cell_type": "code",
   "execution_count": null,
   "metadata": {
    "id": "6rlMR_V5VAGI"
   },
   "outputs": [],
   "source": [
    "myfile.read()"
   ]
  },
  {
   "cell_type": "markdown",
   "metadata": {
    "id": "q__AlOxNVAGI"
   },
   "source": [
    "Eso es porque el \"cursor\" está al final del archivo. Puedes restablecer el cursor al inicio usando el método `seek()`:"
   ]
  },
  {
   "cell_type": "code",
   "execution_count": null,
   "metadata": {
    "id": "Xy-W3TxhVAGJ"
   },
   "outputs": [],
   "source": [
    "myfile.seek(0)"
   ]
  },
  {
   "cell_type": "code",
   "execution_count": null,
   "metadata": {
    "id": "b7n9AFIzVAGJ"
   },
   "outputs": [],
   "source": [
    "myfile.read()"
   ]
  },
  {
   "cell_type": "markdown",
   "metadata": {
    "id": "rKDswDNLVAGK"
   },
   "source": [
    "### <font color='green'>Actividad 1:</font>\n",
    "Qué pasa si usas `seek()` con el cursor en diferentes posiciones?<br>\n",
    "Pon el cursor en las siguientes posiciones 10, 45 y 88.<br>\n",
    "Analiza el resultado de cada una de ellas.\n",
    "* Todas devolvieron resultados?\n",
    "* Si alguna no lo hizo, por qué ocurrió eso?\n",
    "* `seek()` cuenta los caracteres de escape incluidos (\\n)?\n",
    "\n",
    "Tip:\n",
    "1. Usa el método `seek(numero_posicion)`\n",
    "2. Luego verifica con `myfile.read()`"
   ]
  },
  {
   "cell_type": "code",
   "execution_count": null,
   "metadata": {
    "id": "AHaj4QPEVAGK"
   },
   "outputs": [],
   "source": [
    "# Tu código aquí ...\n",
    "\n"
   ]
  },
  {
   "cell_type": "markdown",
   "metadata": {
    "id": "iFHRMLIyVAGK"
   },
   "source": [
    "<font color='green'>Fin actividad 1</font>"
   ]
  },
  {
   "cell_type": "markdown",
   "metadata": {
    "id": "LCws4NYwVAGK"
   },
   "source": [
    "### El método `readlines()`\n",
    "\n",
    "Debido a que muchos archivos tienen **saltos de línea (\\ n)**, a menudo la gente quiere usarlos como separadores y leer todo el archivo de texto como una lista, donde cada elemento de la lista es una cadena que representa una línea en el archivo de texto ."
   ]
  },
  {
   "cell_type": "code",
   "execution_count": null,
   "metadata": {
    "id": "UY3ZUd9IVAGL"
   },
   "outputs": [],
   "source": [
    "myfile.seek(0)"
   ]
  },
  {
   "cell_type": "code",
   "execution_count": null,
   "metadata": {
    "id": "8-xhM4haVAGL"
   },
   "outputs": [],
   "source": [
    "myfile.readlines()"
   ]
  },
  {
   "cell_type": "markdown",
   "metadata": {
    "id": "n75aELpJVAGL"
   },
   "source": [
    "### <font color='green'>Actividad 2:</font>\n",
    "¿Qué tipo de objeto devuelve el método `readlines()`?\n",
    "Determina el tipo de objeto que devuelve el método `readline()`\n",
    "\n",
    "Tip:\n",
    "1. Utiliza la función `type()` sobre `myfile.readlines()`"
   ]
  },
  {
   "cell_type": "code",
   "execution_count": null,
   "metadata": {
    "id": "K2DdoBe7VAGL"
   },
   "outputs": [],
   "source": [
    "# Tu código aquí ...\n",
    "\n"
   ]
  },
  {
   "cell_type": "markdown",
   "metadata": {
    "id": "F4G6qqVoVAGM"
   },
   "source": [
    "<font color='green'>Fin actividad 2</font>"
   ]
  },
  {
   "cell_type": "markdown",
   "metadata": {
    "id": "-5yKCBxfVAGM"
   },
   "source": [
    "## <font color='blue'>**Ubicaciones de archivos cuando trabajas en modo local**</font>\n",
    "\n",
    "Si estás trabajando con una versión de Python instalada en tu computador, puedes acceder a los archivos ubicados en tu disco duro. Si el archivo a abrir está en la misma carpeta del notebook, utiliza la siguiente instrucción:\n",
    "``` Python\n",
    "      my_file = open ('nombre_archivo.extensión')  # No se incluye la ruta de acceso\n",
    "```\n",
    "\n",
    "Por el contrario, si deseas abrir archivos en otra ubicación de su computadora, simplemente ingresa la ruta completa o absoluta del archivo.\n",
    "\n",
    "Para Windows, debe usar doble \\\\ (backslash) para que Python no trate el segundo \\ como un carácter de escape, una ruta de archivo tiene la forma:\n",
    "```Python\n",
    "     myfile = open (\"C:\\\\Users\\\\YourUserName\\\\Home\\\\Folder\\\\myfile.txt\")\n",
    "```    \n",
    "Para MacOS y Linux, usa barras en la dirección opuesta (slash):\n",
    "```python\n",
    "     myfile = open (\"/Usuarios/NombreDeUsuario/Carpeta/myfile.txt\")\n",
    "```    \n",
    "Este fue un ejemplo, intenta abrir y leer el archivo usando *tu propia ruta*"
   ]
  },
  {
   "cell_type": "markdown",
   "metadata": {
    "id": "IgJcUBS7VAGM"
   },
   "source": [
    "### <font color='green'>Actividad 3:</font>\n",
    "### <font color='red'>Atención: realiza esta activiidad sólo si estás trabajando en modo local</font>\n",
    "Abre el archivo text_file.txt usando tu propia ruta absoluta\n",
    "\n",
    "Tip:\n",
    "1. Busca tu ruta usando el Explorador de Windows o el Finder del Mac.\n",
    "2. Abre el archivo de esta manera:\n",
    "``` python\n",
    "      myfile = open (\"C:\\\\tu_ruta_va_aqui\\\\myfile.txt\")\n",
    "```\n",
    "3. Recuerda separar las carpetas en su ruta con barras invertidas dobles ( \\\\\\ ) en Windows o una barra simple ( / ) en Mac y Linux."
   ]
  },
  {
   "cell_type": "code",
   "execution_count": 5,
   "metadata": {
    "id": "ks97Lg35VAGM",
    "ExecuteTime": {
     "end_time": "2023-08-24T01:42:51.081070800Z",
     "start_time": "2023-08-24T01:42:51.027651100Z"
    }
   },
   "outputs": [],
   "source": [
    "myfile = open(\"D:\\\\Cursos\\\\Data Analyst Diplomado UDD\\\\Modulo1Python\\\\archivo_1.txt\")\n",
    "myfile.read()\n",
    "myfile.close()"
   ]
  },
  {
   "cell_type": "markdown",
   "metadata": {
    "id": "2Qn3DlkXVAGN"
   },
   "source": [
    "<font color='green'>Fin actividad 3</font>"
   ]
  },
  {
   "cell_type": "markdown",
   "metadata": {
    "id": "j9xK35LhVAGN"
   },
   "source": [
    "## <font color='blue'>**No te olvides de cerrar la puerta al salir**</font>\n",
    "\n",
    "Como con el libro, cuando terminas de usarlo (leerlo) ... lo cierras.\n",
    "\n",
    "En Python *siempre* cerramos los archivos que abrimos. Para hacer eso usamos el método `close()` de esta manera:\n",
    "\n",
    "```python\n",
    "    myfile.close()\n",
    "```"
   ]
  },
  {
   "cell_type": "markdown",
   "metadata": {
    "id": "CWcV_N1dVAGO"
   },
   "source": [
    "## <font color='green'>Actividad 4:</font>\n",
    "### Cierra el archivo\n",
    "\n",
    "Tip:\n",
    "1. Cierra el archivo abierto de esta forma:\n",
    "```python\n",
    "    myfile.close()\n",
    "```"
   ]
  },
  {
   "cell_type": "code",
   "execution_count": null,
   "metadata": {
    "id": "N7rellMXVAGP"
   },
   "outputs": [],
   "source": [
    "# Tu código aquí ...\n",
    "\n"
   ]
  },
  {
   "cell_type": "markdown",
   "metadata": {
    "id": "bf3xcOUkVAGP"
   },
   "source": [
    "<font color='green'>Fin actividad 4</font>"
   ]
  },
  {
   "cell_type": "markdown",
   "metadata": {
    "id": "kz-SgvsLVAGQ"
   },
   "source": [
    "## Veamos un ejemplo completo\n",
    "\n",
    "La secuencia completa sería la siguiente. Ajusta la ruta de acceso en la siguiente celda y ejecútala."
   ]
  },
  {
   "cell_type": "code",
   "execution_count": null,
   "metadata": {
    "id": "n18gUfR5VAGR"
   },
   "outputs": [],
   "source": [
    "# Completa el código con la ruta de acceso correcta\n",
    "myfile = open('/content/drive/MyDrive/Python/archivo_1.txt')\n",
    "lines = myfile.read()\n",
    "print(lines)\n",
    "myfile.close()"
   ]
  },
  {
   "cell_type": "markdown",
   "metadata": {
    "id": "FFzyLtqtVAGR",
    "tags": []
   },
   "source": [
    "## <font color='blue'>**Best Practice ... la forma Paythonista !!**</font>\n",
    "Es una buena práctica usar la declaración `with ...` para abrir archivos, esto te permite no preocuparte por tener que cerrar el archivo después de abrirlo. Aquí está la sintaxis:\n",
    "\n",
    "<font color='red'>Atención: Recuerda corregir la ruta</font>"
   ]
  },
  {
   "cell_type": "code",
   "execution_count": null,
   "metadata": {
    "id": "84clpDWjVAGR"
   },
   "outputs": [],
   "source": [
    "with open('/content/drive/MyDrive/Diplomado/01_Introduccion_a_Python/archivo_1.txt') as myfile:\n",
    "    # Fíjate en la indentación!\n",
    "    # Veremos este tema de la indentación en profundidad más adelante\n",
    "    lines = myfile.read()\n",
    "\n",
    "\n",
    "# El archivo se cierra automáticamente después de la cláusula with ...\n",
    "# el contenido quedo guardado en el string 'lines'"
   ]
  },
  {
   "cell_type": "code",
   "execution_count": null,
   "metadata": {
    "id": "kflPFxFM76Ar"
   },
   "outputs": [],
   "source": [
    "type(lines)"
   ]
  },
  {
   "cell_type": "code",
   "execution_count": null,
   "metadata": {
    "id": "qyLleWPGVAGS"
   },
   "outputs": [],
   "source": [
    "print(lines)"
   ]
  },
  {
   "cell_type": "markdown",
   "metadata": {
    "id": "IKIpikeDVAGS"
   },
   "source": [
    "## <font color='blue'>**Opciones de lectura y escritura**</font>\n",
    "La función `open()` tiene un segundo parámetro que le permite especificar si sólo desea poder leer el archivo, escribir en él o hacer ambas cosas.<br>\n",
    "A continuación, se muestra una tabla con algunas de las opciones más importantes:"
   ]
  },
  {
   "cell_type": "markdown",
   "metadata": {
    "id": "E2OqIKMnVAGS"
   },
   "source": [
    "| Modos | Descripción |\n",
    "|:----------------:|:--------|\n",
    "|  r            | Abre un archivo solo para lectura.<br>El puntero de archivo se coloca al principio del archivo. Este es el modo por defecto |\n",
    "| r+            | Abre un archivo para leer y escribir.<br>El puntero de archivo colocado al principio del archivo. |\n",
    "|  w            | Abre un archivo solo para escritura. <br>Sobrescribe el archivo si existe. Si el archivo no existe, crea un nuevo archivo para escribir. |\n",
    "|  w+          | Abre un archivo para escribir y leer.<br>Sobrescribe el archivo existente si el archivo existe. Si el archivo no existe, crea un nuevo archivo para leer y escribir. |\n",
    "|  a      | Abre un archivo para agregar. <br>El puntero de archivo está al final del archivo si el archivo existe, es decir, el archivo está en modo adjuntar. <br>Si el archivo no existe, crea un nuevo archivo para escribir. |\n",
    "|  ab       | Abre un archivo para agregar en formato binario.<br> El puntero de archivo está al final del archivo si el archivo existe, es decir, el archivo está en modo adjuntar. <br>Si el archivo no existe, crea un nuevo archivo para escribir |\n",
    "|  a+          | Abre un archivo para agregarlo y leerlo. <br>El puntero de archivo está al final del archivo si el archivo existe. <br>El archivo se abre en el modo anexar. <br>Si el archivo no existe, crea un nuevo archivo para lectura y escritura. |\n",
    "\n",
    "\n"
   ]
  },
  {
   "cell_type": "markdown",
   "metadata": {
    "id": "ofep8GrOEGX2"
   },
   "source": [
    "Siempre se muy consciente del directorio en el cual estás trabajando. Las siguientes líneas de código te dirán dónde estás actualmente.<br>\n",
    "Por ahora no te preocupes sobre qué es `import os`; eso ya lo veremos más adelante."
   ]
  },
  {
   "cell_type": "code",
   "execution_count": null,
   "metadata": {
    "id": "1jdjKtCzDNYz"
   },
   "outputs": [],
   "source": [
    "import os\n",
    "os.getcwd() # get current working directory\n"
   ]
  },
  {
   "cell_type": "code",
   "execution_count": null,
   "metadata": {
    "id": "vxxlpdlTVAGS"
   },
   "outputs": [],
   "source": [
    "# Probablemente second_file.txt no está en dicho directorio,\n",
    "# así es que recuerda corregir la ruta\n",
    "f = open('/content/drive/MyDrive/Diplomado/01_Introduccion_a_Python/archivo_2.txt')\n",
    "f.read()"
   ]
  },
  {
   "cell_type": "markdown",
   "metadata": {
    "id": "r4nvvzmMVAGT"
   },
   "source": [
    "## <font color='blue'>**Escribiendo archivos**</font>\n",
    "### Intentemos escribir en el archivo"
   ]
  },
  {
   "cell_type": "code",
   "execution_count": null,
   "metadata": {
    "id": "o_7PWPb9VAGT"
   },
   "outputs": [],
   "source": [
    "# Este código te dará error ....\n",
    "\n",
    "f = open('/content/drive/MyDrive/Diplomado/01_Introduccion_a_Python/archivo_2.txt')\n",
    "f.write(\"new line\")"
   ]
  },
  {
   "cell_type": "markdown",
   "metadata": {
    "id": "1SHWHbeVVAGU"
   },
   "source": [
    "Por defecto, la función `open()` abre los archivos en modo lectura solamente. Luego, necesitamos decirle que queremos escribir en el archivo. <br>\n",
    "\n",
    "Tal como vimos más arriba, utilizaremos el modo `w` para escribir en un archivo; sin ambargo, como éste no existe, primero lo creará y luego escribirá sobre él."
   ]
  },
  {
   "cell_type": "code",
   "execution_count": null,
   "metadata": {
    "id": "xzoPWUxTVAGU"
   },
   "outputs": [],
   "source": [
    "f = open('/content/drive/MyDrive/Diplomado/01_Introduccion_a_Python/archivo_3.txt','w')\n",
    "\n",
    "# La función 'write' además de escribir, retorna el número de caracteres escritos\n",
    "f.write('Creamos un nuevo archivo con una línea\\n')"
   ]
  },
  {
   "cell_type": "code",
   "execution_count": null,
   "metadata": {
    "id": "FIV0tpS_VAGU"
   },
   "outputs": [],
   "source": [
    "f.close()"
   ]
  },
  {
   "cell_type": "code",
   "execution_count": null,
   "metadata": {
    "id": "r6HH4ww5VAGU"
   },
   "outputs": [],
   "source": [
    "f = open('/content/drive/MyDrive/Diplomado/01_Introduccion_a_Python/archivo_3.txt')\n",
    "f.read()"
   ]
  },
  {
   "cell_type": "code",
   "execution_count": null,
   "metadata": {
    "id": "bhDo-lQWGMlF"
   },
   "outputs": [],
   "source": [
    "# Escribamos algo adicional\n",
    "# Abriremos el archivo en modo escritura y lectura (w+)\n",
    "f = open('/content/drive/MyDrive/Diplomado/01_Introduccion_a_Python/archivo_3.txt','w+')\n",
    "# y escribimos en él\n",
    "f.write('Esta es una línea adicional\\n')\n",
    "\n",
    "# Veamos que hay en el archivo hasta ahora\n",
    "f.seek(0)\n",
    "f.read()"
   ]
  },
  {
   "cell_type": "markdown",
   "metadata": {
    "id": "VcNPsRHPVAGU"
   },
   "source": [
    "Observa cómo se ha sobrescrito el contenido previo (*'Creamos un nuevo archivo con una linea\\n'*) !!<br>\n",
    "Si deseas agregar al archivo, debes usar el modo **`a+`** para escribir en él y luego poder leerlo."
   ]
  },
  {
   "cell_type": "code",
   "execution_count": null,
   "metadata": {
    "id": "y2IFt4wYVAGU"
   },
   "outputs": [],
   "source": [
    "f = open(\n",
    "    '/content/drive/MyDrive/Diplomado/01_Introduccion_a_Python/archivo_3.txt',\n",
    "    'a+'\n",
    "    )\n",
    "f.write(\"Esta es una segunda línea adicional\\n\")\n",
    "f.seek(0)\n",
    "print(f.read())\n",
    "f.close()"
   ]
  },
  {
   "cell_type": "markdown",
   "metadata": {
    "id": "ilw4HQBbVAGV"
   },
   "source": [
    "### <font color='green'>Actividad 5:</font>\n",
    "Añade dos nuevas líneas al archivo *archivo_3.txt* recién creado.<br>\n",
    "Verifica los contenidos.\n",
    "\n",
    "Tip:\n",
    "1. Necesitas abrir el archivo en modo `a+`\n",
    "```python\n",
    "     file_to_add = open('.../archivo_3.txt','a+')\n",
    "```\n",
    "2. Escribe dos líneas\n",
    "```python\n",
    "     file_to_add.write('New line')\n",
    "```\n",
    "3. Lee el archivo usando `read()`\n",
    "4. Cierra el archivo usando `close()`"
   ]
  },
  {
   "cell_type": "code",
   "execution_count": null,
   "metadata": {
    "id": "oFoiL4l9VAGV"
   },
   "outputs": [],
   "source": [
    "# Tu código aquí ...\n",
    "\n"
   ]
  },
  {
   "cell_type": "markdown",
   "metadata": {
    "id": "VYyITHoLVAGV"
   },
   "source": [
    "<font color='green'>Fin actividad 5</font>"
   ]
  },
  {
   "cell_type": "markdown",
   "metadata": {
    "id": "N14o0mPfVAGV"
   },
   "source": [
    "### <font color='green'>Actividad 6:</font>\n",
    "Haz lo mismo anterior pero utilizando la sentencia `with`. <br>\n",
    "Verifica los contenidos.\n",
    "\n",
    "Esta es la forma *pythonista* de abrir archivos!!\n",
    "\n",
    "Tip:\n",
    "1. Necesitarás usar la sentencia `with open ... `\n",
    "```python\n",
    "    with open('.../archivo_3.txt') as archivo:\n",
    "```\n",
    "2. Añade la siguiente línea\n",
    "```python\n",
    "    archivo.write('Esta vez abrimos el archivo como verdadero pythonista y agregamos una línea\\n')\n",
    "```\n",
    "3. Lee el archivo utilizando `read()`"
   ]
  },
  {
   "cell_type": "code",
   "execution_count": null,
   "metadata": {
    "id": "fsD-DMNGVAGV"
   },
   "outputs": [],
   "source": [
    "# Tu código aquí ...\n",
    "\n"
   ]
  },
  {
   "cell_type": "markdown",
   "metadata": {
    "id": "tCLzKJd1VAGV"
   },
   "source": [
    "<font color='green'>Fin actividad 6</font>"
   ]
  },
  {
   "cell_type": "markdown",
   "metadata": {
    "id": "dOKzuDGYPaWu"
   },
   "source": [
    "## <font color='blue'>__Borrando archivos__</font>\n",
    "También podemos borrar los archivos que generamos. Para ello utilizamos la función `remove()`. No te preocupes por ahora de las instrucciónes `from ... import ...`; las veremos más adelante."
   ]
  },
  {
   "cell_type": "code",
   "execution_count": null,
   "metadata": {
    "id": "8x3IR9QBPX5e"
   },
   "outputs": [],
   "source": [
    "from os import remove\n",
    "from os import path\n",
    "# Verificamos que la ruta y el archivo existan\n",
    "if path.exists(\"/content/drive/MyDrive/Diplomado/01_Introduccion_a_Python/archivo_3.txt\"):\n",
    "\n",
    "    remove('/content/drive/MyDrive/Diplomado/01_Introduccion_a_Python/archivo_3.txt')"
   ]
  },
  {
   "cell_type": "markdown",
   "metadata": {
    "id": "GcaAZqPRVAGV"
   },
   "source": [
    "<img src=\"https://drive.google.com/uc?export=view&id=1DNuGbS1i-9it4Nyr3ZMncQz9cRhs2eJr\" width=\"100\" align=\"left\" title=\"Runa-perth\">\n",
    "<br clear=\"left\">\n",
    "\n",
    "## <font color='blue'>**Resumen**</font>\n",
    "\n",
    "A continuación un resumen del trabájo básico con achivos en Python. La función `open()` devuelve un objeto de tipo file. Este objeto se utiliza para interactuar con archivos en el sistema de archivos de la computadora.\n",
    "\n",
    "El objeto file proporciona métodos y atributos que permiten leer, escribir y manipular archivos. Al abrir un archivo con `open()`, se puede especificar el modo en el que se desea interactuar con el archivo, como lectura (`'r'`), escritura (`'w'`), anexado (`'a'`), entre otros.\n",
    "\n",
    "Algunas utilidades del objeto file incluyen:\n",
    "\n",
    "* Leer contenido de archivos: Se puede utilizar el método `read()` para leer el contenido completo de un archivo o el método `readline()` para leer línea por línea.\n",
    "* Escribir en archivos: Se puede utilizar el método `write()` para escribir contenido en un archivo.\n",
    "Cerrar archivos: Es importante cerrar los archivos después de utilizarlos para liberar los recursos del sistema. Esto se puede hacer llamando al método `close()` del objeto file.\n",
    "* Además, el objeto file también se puede utilizar en un contexto de administración (`with ...`\n",
    ") para garantizar que el archivo se cierre correctamente incluso si ocurren excepciones durante su procesamiento.\n",
    "\n",
    "Buen trabajo espías!!"
   ]
  }
 ],
 "metadata": {
  "colab": {
   "provenance": []
  },
  "kernelspec": {
   "display_name": "Python 3 (ipykernel)",
   "language": "python",
   "name": "python3"
  },
  "language_info": {
   "codemirror_mode": {
    "name": "ipython",
    "version": 3
   },
   "file_extension": ".py",
   "mimetype": "text/x-python",
   "name": "python",
   "nbconvert_exporter": "python",
   "pygments_lexer": "ipython3",
   "version": "3.8.11"
  }
 },
 "nbformat": 4,
 "nbformat_minor": 0
}
