{
 "nbformat": 4,
 "nbformat_minor": 0,
 "metadata": {
  "kernelspec": {
   "display_name": "Python 3 (ipykernel)",
   "language": "python",
   "name": "python3"
  },
  "language_info": {
   "codemirror_mode": {
    "name": "ipython",
    "version": 3
   },
   "file_extension": ".py",
   "mimetype": "text/x-python",
   "name": "python",
   "nbconvert_exporter": "python",
   "pygments_lexer": "ipython3",
   "version": "3.8.11"
  },
  "colab": {
   "provenance": [],
   "toc_visible": true
  }
 },
 "cells": [
  {
   "cell_type": "markdown",
   "metadata": {
    "id": "KsvYsKEwiqTV"
   },
   "source": [
    "# **Introducción a Python**\n",
    "# FP08. Conjuntos en Python (set)"
   ]
  },
  {
   "cell_type": "markdown",
   "metadata": {
    "id": "bZxJDvG6iqTX"
   },
   "source": [
    "Un conjunto (__set__), es una colección __desordenada__ y __mutable__ de elementos __únicos__. Los conjuntos se utilizan para almacenar múltiples elementos sin un orden específico y sin permitir duplicados. En otras palabras, un conjunto solo puede contener elementos únicos.\n",
    "\n",
    "Características de los conjuntos en Python:\n",
    "\n",
    "* No mantienen un orden específico de los elementos.\n",
    "* No permiten elementos duplicados, es decir, cada elemento es único en el conjunto.\n",
    "* Los conjuntos son mutables, lo que significa que se pueden modificar agregando o eliminando elementos.\n",
    "Los elementos en un conjunto deben ser inmutables, como cadenas, números o tuplas. No se pueden utilizar listas, diccionarios u otras estructuras como elementos de un conjunto.\n",
    "* Los conjuntos admiten operaciones matemáticas de conjuntos como unión, intersección y diferencia.\n",
    "\n",
    "Un conjunto se puede crear utilizando llaves `{}` o utilizando la función `set()`."
   ]
  },
  {
   "cell_type": "markdown",
   "metadata": {
    "id": "BbTv3nediqTY"
   },
   "source": [
    "## <font color='blue'>**Creando Sets**</font>"
   ]
  },
  {
   "cell_type": "code",
   "metadata": {
    "id": "CLS9ZQ1ViqTY",
    "ExecuteTime": {
     "end_time": "2023-08-24T01:01:13.882764100Z",
     "start_time": "2023-08-24T01:01:13.868766800Z"
    }
   },
   "source": [
    "# Creamos un set llamado 'x'\n",
    "\n",
    "x = set()"
   ],
   "execution_count": 4,
   "outputs": []
  },
  {
   "cell_type": "code",
   "metadata": {
    "id": "DRmcSGmLiqTZ",
    "ExecuteTime": {
     "end_time": "2023-08-24T01:01:24.889712400Z",
     "start_time": "2023-08-24T01:01:24.845720500Z"
    }
   },
   "source": [
    "# Como siempre verificamos el tipo\n",
    "\n",
    "type(x)"
   ],
   "execution_count": 5,
   "outputs": [
    {
     "data": {
      "text/plain": "set"
     },
     "execution_count": 5,
     "metadata": {},
     "output_type": "execute_result"
    }
   ]
  },
  {
   "cell_type": "code",
   "metadata": {
    "id": "oavKo7bYiqTa",
    "ExecuteTime": {
     "end_time": "2023-08-24T01:01:28.469436100Z",
     "start_time": "2023-08-24T01:01:28.431415800Z"
    }
   },
   "source": [
    "# Agreguémosle un elemento\n",
    "# Son mutables, los podemos cambiar\n",
    "x.add(1)"
   ],
   "execution_count": 6,
   "outputs": []
  },
  {
   "cell_type": "code",
   "metadata": {
    "id": "K1o0Qw0DiqTb",
    "ExecuteTime": {
     "end_time": "2023-08-24T01:02:20.853024500Z",
     "start_time": "2023-08-24T01:02:20.804029500Z"
    }
   },
   "source": [
    "# Visualicemos nuestro set.\n",
    "# No te confundas con las llaves que se usan en los diccionarios\n",
    "x"
   ],
   "execution_count": 7,
   "outputs": [
    {
     "data": {
      "text/plain": "{1}"
     },
     "execution_count": 7,
     "metadata": {},
     "output_type": "execute_result"
    }
   ]
  },
  {
   "cell_type": "code",
   "metadata": {
    "id": "S4Bgx69-iqTb",
    "ExecuteTime": {
     "end_time": "2023-08-24T01:02:24.463748200Z",
     "start_time": "2023-08-24T01:02:24.402651700Z"
    }
   },
   "source": [
    "x.add(2)"
   ],
   "execution_count": 8,
   "outputs": []
  },
  {
   "cell_type": "code",
   "metadata": {
    "id": "2v3pTRTtiqTb",
    "ExecuteTime": {
     "end_time": "2023-08-24T01:02:26.621671600Z",
     "start_time": "2023-08-24T01:02:26.567660200Z"
    }
   },
   "source": [
    "x"
   ],
   "execution_count": 9,
   "outputs": [
    {
     "data": {
      "text/plain": "{1, 2}"
     },
     "execution_count": 9,
     "metadata": {},
     "output_type": "execute_result"
    }
   ]
  },
  {
   "cell_type": "markdown",
   "metadata": {
    "id": "Ubx6CxcWiqTb"
   },
   "source": [
    "Ten en cuenta las llaves. ¡Esto no indica un diccionario! Aunque se podría hacer la analogía a que un conjunto como un diccionario con solo llaves (keys).\n",
    "\n",
    "Sabemos que un conjunto sólo tiene entradas únicas. Entonces, ¿qué sucede cuando intentamos agregar algo que ya está en un conjunto?"
   ]
  },
  {
   "cell_type": "code",
   "metadata": {
    "id": "Bzs2Ace7iqTc",
    "ExecuteTime": {
     "end_time": "2023-08-24T01:03:33.279460400Z",
     "start_time": "2023-08-24T01:03:33.227542Z"
    }
   },
   "source": [
    "# Nota cómo la siguiente sentencia NO colocará otro 1 en el set 'x'\n",
    "# Eso es porque un conjunto solo se ocupa de elementos únicos!\n",
    "# Atención: fíjate que no arroja ningún error\n",
    "x.add(1)"
   ],
   "execution_count": 10,
   "outputs": []
  },
  {
   "cell_type": "code",
   "metadata": {
    "id": "szeUPq31iqTc",
    "ExecuteTime": {
     "end_time": "2023-08-24T01:03:37.860382600Z",
     "start_time": "2023-08-24T01:03:37.821376200Z"
    }
   },
   "source": [
    "x"
   ],
   "execution_count": 11,
   "outputs": [
    {
     "data": {
      "text/plain": "{1, 2}"
     },
     "execution_count": 11,
     "metadata": {},
     "output_type": "execute_result"
    }
   ]
  },
  {
   "cell_type": "code",
   "metadata": {
    "id": "bbcOi1iFiqTc",
    "ExecuteTime": {
     "end_time": "2023-08-24T01:03:40.270609600Z",
     "start_time": "2023-08-24T01:03:40.229615200Z"
    }
   },
   "source": [
    "# Podemos añadir un -1 porque es diferente de 1\n",
    "\n",
    "x.add(-1)"
   ],
   "execution_count": 12,
   "outputs": []
  },
  {
   "cell_type": "code",
   "metadata": {
    "id": "zZNsZO1giqTc"
   },
   "source": [
    "x"
   ],
   "execution_count": null,
   "outputs": []
  },
  {
   "cell_type": "code",
   "metadata": {
    "id": "SE529umziqTd",
    "ExecuteTime": {
     "end_time": "2023-08-24T01:04:12.700346300Z",
     "start_time": "2023-08-24T01:04:12.633826700Z"
    }
   },
   "source": [
    "# Podemos eliminar un elemento\n",
    "\n",
    "x.discard(2)"
   ],
   "execution_count": 16,
   "outputs": []
  },
  {
   "cell_type": "code",
   "metadata": {
    "id": "p9_RNFQAiqTd",
    "ExecuteTime": {
     "end_time": "2023-08-24T01:04:40.084597Z",
     "start_time": "2023-08-24T01:04:39.989587500Z"
    }
   },
   "source": [
    "x"
   ],
   "execution_count": 17,
   "outputs": [
    {
     "data": {
      "text/plain": "{-1, 1}"
     },
     "execution_count": 17,
     "metadata": {},
     "output_type": "execute_result"
    }
   ]
  },
  {
   "cell_type": "code",
   "metadata": {
    "id": "xNlNR-MEiqTd",
    "ExecuteTime": {
     "end_time": "2023-08-24T01:06:20.450341100Z",
     "start_time": "2023-08-24T01:06:20.389484Z"
    }
   },
   "source": [
    "# Podemos añadir varios elementos\n",
    "# Fíjate que si añadimos una lista la desempaqueta\n",
    "\n",
    "x.update([-1, 3, 4, 5])"
   ],
   "execution_count": 24,
   "outputs": []
  },
  {
   "cell_type": "code",
   "metadata": {
    "id": "K1OekABZiqTd",
    "ExecuteTime": {
     "end_time": "2023-08-24T01:06:22.827990800Z",
     "start_time": "2023-08-24T01:06:22.775989500Z"
    }
   },
   "source": [
    "x"
   ],
   "execution_count": 25,
   "outputs": [
    {
     "data": {
      "text/plain": "{-1, 3, 4, 5}"
     },
     "execution_count": 25,
     "metadata": {},
     "output_type": "execute_result"
    }
   ]
  },
  {
   "cell_type": "code",
   "metadata": {
    "id": "PkOmyrR-iqTd",
    "ExecuteTime": {
     "end_time": "2023-08-24T01:06:15.930346500Z",
     "start_time": "2023-08-24T01:06:15.866342100Z"
    }
   },
   "source": [
    "# Podemos sacar un elemento con pop()\n",
    "\n",
    "x.pop()"
   ],
   "execution_count": 23,
   "outputs": [
    {
     "data": {
      "text/plain": "3"
     },
     "execution_count": 23,
     "metadata": {},
     "output_type": "execute_result"
    }
   ]
  },
  {
   "cell_type": "code",
   "metadata": {
    "id": "Q4_6ubjliqTe",
    "ExecuteTime": {
     "end_time": "2023-08-24T01:05:23.381680900Z",
     "start_time": "2023-08-24T01:05:23.290679900Z"
    }
   },
   "source": [
    "# Qué elemento saca? El primero? El último? Uno aleatorio?\n",
    "\n",
    "x"
   ],
   "execution_count": 21,
   "outputs": [
    {
     "data": {
      "text/plain": "{-1, 3, 4, 5}"
     },
     "execution_count": 21,
     "metadata": {},
     "output_type": "execute_result"
    }
   ]
  },
  {
   "cell_type": "markdown",
   "metadata": {
    "id": "DlcjupPEiqTe"
   },
   "source": [
    "Podemos crear un set a partir de una lista con múltiples elementos repetidos para obtener los elementos únicos. Por ejemplo:"
   ]
  },
  {
   "cell_type": "code",
   "metadata": {
    "id": "h7L6aWtGiqTe",
    "ExecuteTime": {
     "end_time": "2023-08-24T01:05:30.599242700Z",
     "start_time": "2023-08-24T01:05:30.554713400Z"
    }
   },
   "source": [
    "# Creamos una lista 'mylist' con varios elementos repetidos\n",
    "\n",
    "mylist = [1, 1, 1, 1, 1, 2, 2, 2, 2, 2, 3, 3, 3, 3, 3]"
   ],
   "execution_count": 22,
   "outputs": []
  },
  {
   "cell_type": "code",
   "metadata": {
    "id": "UmrTlT9SiqTe"
   },
   "source": [
    "# Ahora creamos un set a partir de la lista 'mylist'\n",
    "\n",
    "set(mylist)"
   ],
   "execution_count": null,
   "outputs": []
  },
  {
   "cell_type": "markdown",
   "metadata": {
    "id": "yuJOu4AUiqTe"
   },
   "source": [
    "Podemos crear de forma rápida un conjunto solo con {}"
   ]
  },
  {
   "cell_type": "code",
   "metadata": {
    "id": "hONpgCLWiqTf"
   },
   "source": [
    "myset = {1, 2, 3}"
   ],
   "execution_count": null,
   "outputs": []
  },
  {
   "cell_type": "code",
   "metadata": {
    "id": "RiVcCHypiqTf"
   },
   "source": [
    "type(myset)"
   ],
   "execution_count": null,
   "outputs": []
  },
  {
   "cell_type": "code",
   "metadata": {
    "id": "H90QDcUDiqTf"
   },
   "source": [
    "# Pero atención, no puede estar vacío ya que si no, crearíamos una diccionario\n",
    "\n",
    "myset2 = {}\n",
    "type(myset2)"
   ],
   "execution_count": null,
   "outputs": []
  },
  {
   "cell_type": "code",
   "metadata": {
    "id": "711GYx0LiqTf"
   },
   "source": [
    "# Para crear un set vacío usa el constructor set()\n",
    "\n",
    "myset3 = set()\n",
    "type(myset3)"
   ],
   "execution_count": null,
   "outputs": []
  },
  {
   "cell_type": "code",
   "metadata": {
    "id": "mQQGst2-iqTf"
   },
   "source": [
    "# Borramos el contenido con el método clear()\n",
    "\n",
    "myset.clear()\n",
    "myset"
   ],
   "execution_count": null,
   "outputs": []
  },
  {
   "cell_type": "markdown",
   "metadata": {
    "id": "IHlttIjIiqTg"
   },
   "source": [
    "## <font color='blue'>**Tipos de datos variados**</font>"
   ]
  },
  {
   "cell_type": "code",
   "metadata": {
    "id": "X-fQMQ3NiqTg",
    "ExecuteTime": {
     "end_time": "2023-08-24T01:09:04.608959300Z",
     "start_time": "2023-08-24T01:09:04.593959900Z"
    }
   },
   "source": [
    "# set de enteros (int)\n",
    "\n",
    "my_set4 = {1, 2, 3}\n",
    "print(my_set4)\n",
    "\n",
    "# set de tipos variados\n",
    "\n",
    "my_set5 = {1.0, \"Hello\", (1, 2, 3)}   # float, string y tuple\n",
    "print(my_set5)"
   ],
   "execution_count": 26,
   "outputs": [
    {
     "name": "stdout",
     "output_type": "stream",
     "text": [
      "{1, 2, 3}\n",
      "{1.0, (1, 2, 3), 'Hello'}\n"
     ]
    }
   ]
  },
  {
   "cell_type": "markdown",
   "metadata": {
    "id": "D0sn4oIliqTg"
   },
   "source": [
    "No obstante, un conjunto no puede incluir objetos mutables como listas, diccionarios, e incluso otros conjuntos. Esto ocurre básicamente porque los elementos deben ser *hashables*"
   ]
  },
  {
   "cell_type": "code",
   "metadata": {
    "id": "Qn2RJxaRiqTh"
   },
   "source": [
    "# Esta celda dará un error al tratar de crear el set con un elemento no \"hasheable\"\n",
    "# Las listas no son hasheables\n",
    "c = {[1, 2]}"
   ],
   "execution_count": null,
   "outputs": []
  },
  {
   "cell_type": "markdown",
   "metadata": {
    "id": "ybWkBoPziqTh"
   },
   "source": [
    "<div class=\"alert alert-block alert-warning\">\n",
    "<b>TIP:</b> 'hashable' es una característica de los objetos Python que indica si el objeto tiene un valor hash o no. Si el objeto tiene un valor hash, se puede utilizar como clave para un diccionario o como elemento en un conjunto. Un objeto es hash si tiene un valor hash que no cambia durante toda su vida útil.\n",
    "\n",
    "Un valor hash es un identificador (normalmente alfanumérico) único del objeto; algo así como su RUT. Se utiliza para almacenarlo y buscarlo de forma eficiente y rápida.\n",
    "</div>"
   ]
  },
  {
   "cell_type": "code",
   "source": [
    "llave1 = 'papa'\n",
    "llave2 = 'Papa'\n",
    "hash_llave1 = hash(llave1)\n",
    "hash_llave2 = hash(llave2)\n",
    "print(hash_llave1, hash_llave2)"
   ],
   "metadata": {
    "id": "C6_qMZMiRnql"
   },
   "execution_count": null,
   "outputs": []
  },
  {
   "cell_type": "markdown",
   "metadata": {
    "id": "ElY3oaABiqTh"
   },
   "source": [
    "## <font color='blue'>**Operaciones matemáticas**</font>\n",
    "\n",
    "Los objetos `set` también admiten operaciones matemáticas como unión, intersección, diferencia y diferencia simétrica."
   ]
  },
  {
   "cell_type": "code",
   "metadata": {
    "id": "zZCHDZf3iqTh",
    "ExecuteTime": {
     "end_time": "2023-08-26T00:03:17.717497300Z",
     "start_time": "2023-08-26T00:03:17.694497900Z"
    }
   },
   "source": [
    "a = {1, 2, 3, 4, 5, 6}\n",
    "b = {4, 5, 6, 7, 8, 9, 10}"
   ],
   "execution_count": 14,
   "outputs": []
  },
  {
   "cell_type": "code",
   "metadata": {
    "id": "V8AYjQLliqTi",
    "ExecuteTime": {
     "end_time": "2023-08-24T01:09:23.569843400Z",
     "start_time": "2023-08-24T01:09:23.509842400Z"
    }
   },
   "source": [
    "# Unión: usa el operador | o el método union()\n",
    "\n",
    "a | b"
   ],
   "execution_count": 28,
   "outputs": [
    {
     "data": {
      "text/plain": "{1, 2, 3, 4, 5, 6, 7, 8, 9, 10}"
     },
     "execution_count": 28,
     "metadata": {},
     "output_type": "execute_result"
    }
   ]
  },
  {
   "cell_type": "code",
   "metadata": {
    "id": "oGzj3mBviqTi",
    "ExecuteTime": {
     "end_time": "2023-08-24T01:09:41.876087900Z",
     "start_time": "2023-08-24T01:09:41.810900Z"
    }
   },
   "source": [
    "a.union(b)"
   ],
   "execution_count": 29,
   "outputs": [
    {
     "data": {
      "text/plain": "{1, 2, 3, 4, 5, 6, 7, 8, 9, 10}"
     },
     "execution_count": 29,
     "metadata": {},
     "output_type": "execute_result"
    }
   ]
  },
  {
   "cell_type": "code",
   "metadata": {
    "id": "tmJhmCBWiqTi",
    "ExecuteTime": {
     "end_time": "2023-08-24T01:10:47.811188900Z",
     "start_time": "2023-08-24T01:10:47.719032600Z"
    }
   },
   "source": [
    "# Intersección: usa el operador & o el método intersection()\n",
    "\n",
    "a & b"
   ],
   "execution_count": 30,
   "outputs": [
    {
     "data": {
      "text/plain": "{4, 5, 6}"
     },
     "execution_count": 30,
     "metadata": {},
     "output_type": "execute_result"
    }
   ]
  },
  {
   "cell_type": "code",
   "metadata": {
    "id": "kjLED8cdiqTi",
    "ExecuteTime": {
     "end_time": "2023-08-24T01:11:02.799973700Z",
     "start_time": "2023-08-24T01:11:02.721975100Z"
    }
   },
   "source": [
    "a.intersection(b)"
   ],
   "execution_count": 31,
   "outputs": [
    {
     "data": {
      "text/plain": "{4, 5, 6}"
     },
     "execution_count": 31,
     "metadata": {},
     "output_type": "execute_result"
    }
   ]
  },
  {
   "cell_type": "code",
   "metadata": {
    "id": "zJDRPLf4iqTi",
    "ExecuteTime": {
     "end_time": "2023-08-24T01:11:09.472655Z",
     "start_time": "2023-08-24T01:11:09.397652200Z"
    }
   },
   "source": [
    "# Diferencia: usa el operador - o el método difference()\n",
    "\n",
    "a - b"
   ],
   "execution_count": 32,
   "outputs": [
    {
     "data": {
      "text/plain": "{1, 2, 3}"
     },
     "execution_count": 32,
     "metadata": {},
     "output_type": "execute_result"
    }
   ]
  },
  {
   "cell_type": "code",
   "metadata": {
    "id": "gaN5di-SiqTi",
    "ExecuteTime": {
     "end_time": "2023-08-24T01:11:21.766673400Z",
     "start_time": "2023-08-24T01:11:21.705672700Z"
    }
   },
   "source": [
    "a.difference(b)"
   ],
   "execution_count": 33,
   "outputs": [
    {
     "data": {
      "text/plain": "{1, 2, 3}"
     },
     "execution_count": 33,
     "metadata": {},
     "output_type": "execute_result"
    }
   ]
  },
  {
   "cell_type": "code",
   "metadata": {
    "id": "8_cgI8JkiqTi",
    "ExecuteTime": {
     "end_time": "2023-08-26T00:03:09.367232700Z",
     "start_time": "2023-08-26T00:03:09.319577300Z"
    }
   },
   "source": [
    "b - a"
   ],
   "execution_count": 9,
   "outputs": [
    {
     "ename": "NameError",
     "evalue": "name 'b' is not defined",
     "output_type": "error",
     "traceback": [
      "\u001B[1;31m---------------------------------------------------------------------------\u001B[0m",
      "\u001B[1;31mNameError\u001B[0m                                 Traceback (most recent call last)",
      "Cell \u001B[1;32mIn[9], line 1\u001B[0m\n\u001B[1;32m----> 1\u001B[0m \u001B[43mb\u001B[49m \u001B[38;5;241m-\u001B[39m a\n",
      "\u001B[1;31mNameError\u001B[0m: name 'b' is not defined"
     ]
    }
   ]
  },
  {
   "cell_type": "code",
   "metadata": {
    "id": "wM4ZcV1iiqTi",
    "ExecuteTime": {
     "end_time": "2023-08-26T00:03:07.808490100Z",
     "start_time": "2023-08-26T00:03:07.766967500Z"
    }
   },
   "source": [
    "b.difference(a)"
   ],
   "execution_count": 8,
   "outputs": [
    {
     "ename": "NameError",
     "evalue": "name 'b' is not defined",
     "output_type": "error",
     "traceback": [
      "\u001B[1;31m---------------------------------------------------------------------------\u001B[0m",
      "\u001B[1;31mNameError\u001B[0m                                 Traceback (most recent call last)",
      "Cell \u001B[1;32mIn[8], line 1\u001B[0m\n\u001B[1;32m----> 1\u001B[0m \u001B[43mb\u001B[49m\u001B[38;5;241m.\u001B[39mdifference(a)\n",
      "\u001B[1;31mNameError\u001B[0m: name 'b' is not defined"
     ]
    }
   ]
  },
  {
   "cell_type": "markdown",
   "source": [
    "\n",
    "La __diferencia simétrica__ en conjuntos (sets) de Python se refiere a los elementos que están presentes en uno de los conjuntos, pero no en ambos conjuntos al mismo tiempo. Es decir, es la combinación de los elementos exclusivos de dos conjuntos. Es útil para encontrar elementos únicos y comparar conjuntos."
   ],
   "metadata": {
    "id": "OfghCCWUSn0f"
   }
  },
  {
   "cell_type": "code",
   "metadata": {
    "id": "7wSOJY2piqTj",
    "ExecuteTime": {
     "end_time": "2023-08-24T01:11:39.301727800Z",
     "start_time": "2023-08-24T01:11:39.245724900Z"
    }
   },
   "source": [
    "# Diferencia simétrica: usa el operador ^ o el método symmetric_difference()\n",
    "a ^ b"
   ],
   "execution_count": 36,
   "outputs": [
    {
     "data": {
      "text/plain": "{1, 2, 3, 7, 8, 9, 10}"
     },
     "execution_count": 36,
     "metadata": {},
     "output_type": "execute_result"
    }
   ]
  },
  {
   "cell_type": "code",
   "metadata": {
    "id": "T3JIywbFiqTj",
    "ExecuteTime": {
     "end_time": "2023-08-26T00:03:05.162495400Z",
     "start_time": "2023-08-26T00:03:05.110508Z"
    }
   },
   "source": [
    "a.symmetric_difference(b)"
   ],
   "execution_count": 7,
   "outputs": [
    {
     "ename": "NameError",
     "evalue": "name 'a' is not defined",
     "output_type": "error",
     "traceback": [
      "\u001B[1;31m---------------------------------------------------------------------------\u001B[0m",
      "\u001B[1;31mNameError\u001B[0m                                 Traceback (most recent call last)",
      "Cell \u001B[1;32mIn[7], line 1\u001B[0m\n\u001B[1;32m----> 1\u001B[0m \u001B[43ma\u001B[49m\u001B[38;5;241m.\u001B[39msymmetric_difference(b)\n",
      "\u001B[1;31mNameError\u001B[0m: name 'a' is not defined"
     ]
    }
   ]
  },
  {
   "cell_type": "markdown",
   "metadata": {
    "id": "0KYggJiSiqTk"
   },
   "source": [
    "## <font color='blue'>**Membresía (Membership)**</font>"
   ]
  },
  {
   "cell_type": "code",
   "metadata": {
    "id": "LUaiaNcOiqTk",
    "ExecuteTime": {
     "end_time": "2023-08-26T00:03:01.171268600Z",
     "start_time": "2023-08-26T00:03:01.127266100Z"
    }
   },
   "source": [
    "a"
   ],
   "execution_count": 6,
   "outputs": [
    {
     "ename": "NameError",
     "evalue": "name 'a' is not defined",
     "output_type": "error",
     "traceback": [
      "\u001B[1;31m---------------------------------------------------------------------------\u001B[0m",
      "\u001B[1;31mNameError\u001B[0m                                 Traceback (most recent call last)",
      "Cell \u001B[1;32mIn[6], line 1\u001B[0m\n\u001B[1;32m----> 1\u001B[0m \u001B[43ma\u001B[49m\n",
      "\u001B[1;31mNameError\u001B[0m: name 'a' is not defined"
     ]
    }
   ]
  },
  {
   "cell_type": "code",
   "metadata": {
    "id": "z8lzWRFkj8DQ",
    "ExecuteTime": {
     "end_time": "2023-08-24T01:12:11.719695800Z",
     "start_time": "2023-08-24T01:12:11.656693Z"
    }
   },
   "source": [
    "print(a)"
   ],
   "execution_count": 39,
   "outputs": [
    {
     "name": "stdout",
     "output_type": "stream",
     "text": [
      "{1, 2, 3, 4, 5, 6}\n"
     ]
    }
   ]
  },
  {
   "cell_type": "code",
   "metadata": {
    "id": "XmaGOIA5iqTk",
    "ExecuteTime": {
     "end_time": "2023-08-24T01:12:18.301761700Z",
     "start_time": "2023-08-24T01:12:18.234762900Z"
    }
   },
   "source": [
    "print(*a, sep=', ')"
   ],
   "execution_count": 40,
   "outputs": [
    {
     "name": "stdout",
     "output_type": "stream",
     "text": [
      "1, 2, 3, 4, 5, 6\n"
     ]
    }
   ]
  },
  {
   "cell_type": "code",
   "metadata": {
    "id": "lCCIh1ktiqTk",
    "ExecuteTime": {
     "end_time": "2023-08-26T00:02:58.005575600Z",
     "start_time": "2023-08-26T00:02:57.961574400Z"
    }
   },
   "source": [
    "2 in a"
   ],
   "execution_count": 5,
   "outputs": [
    {
     "ename": "NameError",
     "evalue": "name 'a' is not defined",
     "output_type": "error",
     "traceback": [
      "\u001B[1;31m---------------------------------------------------------------------------\u001B[0m",
      "\u001B[1;31mNameError\u001B[0m                                 Traceback (most recent call last)",
      "Cell \u001B[1;32mIn[5], line 1\u001B[0m\n\u001B[1;32m----> 1\u001B[0m \u001B[38;5;241m2\u001B[39m \u001B[38;5;129;01min\u001B[39;00m \u001B[43ma\u001B[49m\n",
      "\u001B[1;31mNameError\u001B[0m: name 'a' is not defined"
     ]
    }
   ]
  },
  {
   "cell_type": "code",
   "metadata": {
    "id": "bxO3CMGtiqTk",
    "ExecuteTime": {
     "end_time": "2023-08-26T00:04:29.695658900Z",
     "start_time": "2023-08-26T00:04:29.641649900Z"
    }
   },
   "source": [
    "# Lo mismo pero usando la función print()\n",
    "\n",
    "print(2 in a)\n",
    "print(f'{2 in a}')"
   ],
   "execution_count": 17,
   "outputs": [
    {
     "name": "stdout",
     "output_type": "stream",
     "text": [
      "True\n",
      "True\n"
     ]
    }
   ]
  },
  {
   "cell_type": "code",
   "metadata": {
    "id": "Mjx67LauiqTk",
    "ExecuteTime": {
     "end_time": "2023-08-26T00:04:25.518684600Z",
     "start_time": "2023-08-26T00:04:25.502124200Z"
    }
   },
   "source": [
    "'2' in a"
   ],
   "execution_count": 16,
   "outputs": [
    {
     "data": {
      "text/plain": "False"
     },
     "execution_count": 16,
     "metadata": {},
     "output_type": "execute_result"
    }
   ]
  },
  {
   "cell_type": "code",
   "metadata": {
    "id": "O9CBAdnAiqTl",
    "ExecuteTime": {
     "end_time": "2023-08-26T00:02:50.782499600Z",
     "start_time": "2023-08-26T00:02:50.765500Z"
    }
   },
   "source": [
    "# Busquemos un set en otro\n",
    "\n",
    "c = {2, 3}"
   ],
   "execution_count": 2,
   "outputs": []
  },
  {
   "cell_type": "markdown",
   "metadata": {
    "id": "E0ei9szIiqTl"
   },
   "source": [
    "Se dice que $C$ es un subconjunto de $A$ cuando todos los elementos de aquél pertenecen también a éste. Python puede determinar esta relación vía el método `issubset()`."
   ]
  },
  {
   "cell_type": "code",
   "metadata": {
    "id": "xw-vY7BPiqTl",
    "ExecuteTime": {
     "end_time": "2023-08-26T00:03:29.949352700Z",
     "start_time": "2023-08-26T00:03:29.852348900Z"
    }
   },
   "source": [
    "c.issubset(a)"
   ],
   "execution_count": 15,
   "outputs": [
    {
     "data": {
      "text/plain": "True"
     },
     "execution_count": 15,
     "metadata": {},
     "output_type": "execute_result"
    }
   ]
  },
  {
   "cell_type": "markdown",
   "metadata": {
    "id": "pEjZnbwniqTl"
   },
   "source": [
    "Inversamente, se dice que $A$ es un superconjunto de $B$."
   ]
  },
  {
   "cell_type": "code",
   "metadata": {
    "id": "5sEJS2wiiqTl",
    "ExecuteTime": {
     "end_time": "2023-08-26T00:04:42.855294700Z",
     "start_time": "2023-08-26T00:04:42.815296700Z"
    }
   },
   "source": [
    "a.issuperset(c)"
   ],
   "execution_count": 18,
   "outputs": [
    {
     "data": {
      "text/plain": "True"
     },
     "execution_count": 18,
     "metadata": {},
     "output_type": "execute_result"
    }
   ]
  },
  {
   "cell_type": "markdown",
   "source": [
    "## <font color='blue'>__Ejercicios__</font>"
   ],
   "metadata": {
    "id": "DRz0glw8THwv"
   }
  },
  {
   "cell_type": "markdown",
   "metadata": {
    "id": "4CwVLx8eiqTf"
   },
   "source": [
    "### <font color='green'>Actividad 1:</font>\n",
    "### Crea un set con 5 elementos del tipo float\n",
    "Crea un set llamado $a$\n",
    "\n",
    "Tip:\n",
    "1. Usa el método `set()`\n",
    "2. Recuerda el uso de floats con punto decimal como 4.3 or 0.123"
   ]
  },
  {
   "cell_type": "code",
   "metadata": {
    "id": "hXrB8L4AiqTg"
   },
   "source": [
    "# Tu código aquí ...\n",
    "\n"
   ],
   "execution_count": null,
   "outputs": []
  },
  {
   "cell_type": "markdown",
   "metadata": {
    "id": "3SKIgAEniqTg"
   },
   "source": [
    "<font color='green'>Fin actividad 1</font>"
   ]
  },
  {
   "cell_type": "markdown",
   "metadata": {
    "id": "88RiHnkBiqTj"
   },
   "source": [
    "### <font color='green'>Actividad 2:</font>\n",
    "### Operaciones sobre conjutos (sets)\n",
    "En la siguiente celda hay dos conjuntos con los personajes del programa de televisión de Riverdale: $A$ y $B$ <br>\n",
    "Haz lo siguiente:\n",
    "* Agregar un nuevo personaje en el conjunto $A$\n",
    "* Eliminar un personaje de set $B$\n",
    "* Imprimir la intersección entre $A$ y $B$\n",
    "* Imprimir la unión entre $A$ y $B$\n",
    "* Extraer la diferencia simétrica entre $A$ y $B$"
   ]
  },
  {
   "cell_type": "code",
   "metadata": {
    "id": "zVjqWcgEiqTj"
   },
   "source": [
    "A = {'Josie', 'Archie', 'Jughead', 'Cheryl', 'Kevin'}\n",
    "B = set(['Veronica', 'Betty', 'Cheryl', 'Fred', 'Melody', 'Josie'])"
   ],
   "execution_count": null,
   "outputs": []
  },
  {
   "cell_type": "code",
   "metadata": {
    "id": "21BfbaxCiqTj"
   },
   "source": [
    "# Tu código aquí ...\n",
    "\n"
   ],
   "execution_count": null,
   "outputs": []
  },
  {
   "cell_type": "markdown",
   "metadata": {
    "id": "D3r1l_W6iqTk"
   },
   "source": [
    "<font color='green'>Fin actividad 2</font>"
   ]
  }
 ]
}
