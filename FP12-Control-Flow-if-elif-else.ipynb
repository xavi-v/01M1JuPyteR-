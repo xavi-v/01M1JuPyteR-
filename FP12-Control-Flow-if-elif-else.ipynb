{
 "cells": [
  {
   "cell_type": "markdown",
   "metadata": {
    "id": "wokqh2w_dTI5"
   },
   "source": [
    "# **Introducción a Python**\n",
    "# FP12. Control de flujo (Contro Flow)"
   ]
  },
  {
   "cell_type": "markdown",
   "metadata": {
    "id": "QkGx3Xx_dTI9"
   },
   "source": [
    "\n",
    "##<font color='blue'>**`if` , `elif` , y `else` statements**</font>\n",
    "\n",
    "A veces necesitamos tomar decisiones en nuestro código. Necesitamos realizar algunas acciones u otras distintas dependiendo de si se cumplen o no ciertas condiciones. Para ello usamos las declaraciones `if`, `elif` y `else` para controlar estos casos.\n",
    "\n",
    "Veamos cómo funcionan !!!"
   ]
  },
  {
   "cell_type": "markdown",
   "metadata": {
    "id": "Mo4CpFr5dTI9"
   },
   "source": [
    "## <font color='blue'>**La instrucción `if`**</font>\n",
    "La forma más simple de la sentencia `if` es la siguiente:\n",
    "```Python\n",
    "    if some_condition:\n",
    "        # Do Something\n",
    "```"
   ]
  },
  {
   "cell_type": "raw",
   "source": [
    "if 1 < 2:\n",
    "    print('Uno es menor que dos')"
   ],
   "metadata": {
    "collapsed": false
   }
  },
  {
   "cell_type": "code",
   "execution_count": 6,
   "outputs": [
    {
     "name": "stdout",
     "output_type": "stream",
     "text": [
      "menor\n"
     ]
    }
   ],
   "source": [
    "if (2 < 5):\n",
    "    print(\"menor\")"
   ],
   "metadata": {
    "collapsed": false,
    "ExecuteTime": {
     "end_time": "2023-08-25T23:08:28.625956500Z",
     "start_time": "2023-08-25T23:08:28.597952600Z"
    }
   }
  },
  {
   "cell_type": "markdown",
   "metadata": {
    "id": "wQrmemVrdTI_"
   },
   "source": [
    "**Pyhtonista:** El operador lógico siempre lleva un espacio antes y después."
   ]
  },
  {
   "cell_type": "code",
   "execution_count": 8,
   "metadata": {
    "id": "YUlpiXzqdTI_",
    "ExecuteTime": {
     "end_time": "2023-08-25T23:10:30.412506900Z",
     "start_time": "2023-08-25T23:10:30.381509200Z"
    }
   },
   "outputs": [],
   "source": [
    "if 1 > 2:\n",
    "    print(\"Uno es más grande que dos?\")"
   ]
  },
  {
   "cell_type": "markdown",
   "metadata": {
    "id": "xkT_LshWdTJA"
   },
   "source": [
    "Observa lo que sucede, el bloque de código sangrado solo se ejecuta cuando la condición `if` es verdadera (`True`)."
   ]
  },
  {
   "cell_type": "code",
   "execution_count": 10,
   "metadata": {
    "id": "iS3XZnoVdTJA",
    "ExecuteTime": {
     "end_time": "2023-08-25T23:11:29.571819200Z",
     "start_time": "2023-08-25T23:11:29.547818200Z"
    }
   },
   "outputs": [
    {
     "name": "stdout",
     "output_type": "stream",
     "text": [
      "La sentencia 'if' se evaluó afirmativamente\n"
     ]
    }
   ],
   "source": [
    "# Podemos usar una variable booleana\n",
    "\n",
    "if True:\n",
    "    print(\"La sentencia 'if' se evaluó afirmativamente\")"
   ]
  },
  {
   "cell_type": "markdown",
   "metadata": {
    "id": "yNDVTw-QdTJB"
   },
   "source": [
    "**ATENCION con la indentación**.\n",
    "\n",
    "\n",
    "La **indentación** (sangría del código) le permite a Python saber cuáles líneas de código pertenecen a un mismo bloque. Unas celdas más abajo veremos reglas detalladas de cómo hacerlo."
   ]
  },
  {
   "cell_type": "markdown",
   "metadata": {
    "id": "08frzTUvdTJB"
   },
   "source": [
    "## <font color='blue'>**La instrucción `if` `else`**</font>\n",
    "Ahora agreguemos una acción alternativa en caso de que `if` no sea `True` usando la instrucción `else`.\n",
    "\n",
    "Observa el formato y cómo se alinean los bloques de código con **indentación**, ¡esto es crucial en Python!"
   ]
  },
  {
   "cell_type": "code",
   "execution_count": 12,
   "metadata": {
    "id": "xiHdmOsRdTJC",
    "ExecuteTime": {
     "end_time": "2023-08-25T23:12:30.722420300Z",
     "start_time": "2023-08-25T23:12:30.676418200Z"
    }
   },
   "outputs": [
    {
     "name": "stdout",
     "output_type": "stream",
     "text": [
      "Uno es igual a uno, obvio !!\n"
     ]
    }
   ],
   "source": [
    "if 1 == 1:\n",
    "    print(\"Uno es igual a uno, obvio !!\")\n",
    "else:\n",
    "    print(\"La comparación no es correcta\")\n",
    "## = asignar , == igual"
   ]
  },
  {
   "cell_type": "code",
   "execution_count": 14,
   "metadata": {
    "id": "gmUQOlgUdTJC",
    "ExecuteTime": {
     "end_time": "2023-08-25T23:12:55.888391800Z",
     "start_time": "2023-08-25T23:12:55.858867200Z"
    }
   },
   "outputs": [
    {
     "name": "stdout",
     "output_type": "stream",
     "text": [
      "La comparación no es Verdadera (True)\n"
     ]
    }
   ],
   "source": [
    "if 1 == 2:\n",
    "    print(\"Uno es igual a uno, obvio !!\")\n",
    "else:\n",
    "    print(\"La comparación no es Verdadera (True)\")"
   ]
  },
  {
   "cell_type": "markdown",
   "metadata": {
    "id": "2AdoSuqudTJC"
   },
   "source": [
    "## <font color='blue'>**La instrucción `if`, `elif`, `else`**</font>\n",
    "\n",
    "Ahora imaginemos que tenemos varias condiciones para verificar antes de la declaración `else` final, aquí es donde podemos usar la palabra clave `elif` para verificar tantas condiciones individuales como sea necesario:"
   ]
  },
  {
   "cell_type": "code",
   "execution_count": 16,
   "metadata": {
    "id": "mPnGX3cCdTJD",
    "ExecuteTime": {
     "end_time": "2023-08-25T23:16:48.505623600Z",
     "start_time": "2023-08-25T23:16:48.494624100Z"
    }
   },
   "outputs": [
    {
     "name": "stdout",
     "output_type": "stream",
     "text": [
      "La tercera comparación es Verdadera (True)\n"
     ]
    }
   ],
   "source": [
    "if 2 == 0:\n",
    "    print('La primera comparación es Verdadera (True)')\n",
    "elif 2 == 1:\n",
    "    print(\"La segunda comparación es Verdadera (True)\")\n",
    "elif 2 == 2:\n",
    "    print(\"La tercera comparación es Verdadera (True)\")\n",
    "else:\n",
    "    print(\"Ninguna de las comparaciones anteriores es Verdadera (True)\")"
   ]
  },
  {
   "cell_type": "code",
   "execution_count": 17,
   "metadata": {
    "id": "slzUF9e9dTJD",
    "ExecuteTime": {
     "end_time": "2023-08-25T23:21:41.034639500Z",
     "start_time": "2023-08-25T23:21:41.017641200Z"
    }
   },
   "outputs": [
    {
     "name": "stdout",
     "output_type": "stream",
     "text": [
      "Ninguna de las comparaciones anteriores es Verdadera (True)\n"
     ]
    }
   ],
   "source": [
    "if 2 == 0:\n",
    "    print('La primera comparación es Verdadera (True)')\n",
    "elif 2 == 1:\n",
    "    print(\"La segunda comparación es Verdadera (True)\")\n",
    "elif 2 == 100:\n",
    "    print(\"La tercera comparación es Verdadera (True)\")\n",
    "else:\n",
    "    print(\"Ninguna de las comparaciones anteriores es Verdadera (True)\")"
   ]
  },
  {
   "cell_type": "markdown",
   "metadata": {
    "id": "UgS3N9WsdTJD"
   },
   "source": [
    "Veamos qué sucede si tuviéramos múltiples condiciones `True`:"
   ]
  },
  {
   "cell_type": "code",
   "execution_count": 19,
   "metadata": {
    "id": "goEE74kmdTJE",
    "ExecuteTime": {
     "end_time": "2023-08-25T23:22:02.768400800Z",
     "start_time": "2023-08-25T23:22:02.737687400Z"
    }
   },
   "outputs": [
    {
     "name": "stdout",
     "output_type": "stream",
     "text": [
      "La primera comparación es Verdadera (True)\n"
     ]
    }
   ],
   "source": [
    "if 2 == 2:\n",
    "    print('La primera comparación es Verdadera (True)')\n",
    "elif 2 == 2:\n",
    "    print(\"La segunda comparación es Verdadera (True)\")\n",
    "elif 2 == 2:\n",
    "    print(\"La tercera comparación es Verdadera (True)\")\n",
    "else:\n",
    "    print(\"Ninguna de las comparaciones anteriores es Verdadera (True)\")"
   ]
  },
  {
   "cell_type": "markdown",
   "metadata": {
    "id": "rRsQb16udTJE"
   },
   "source": [
    "Observa cómo solo se ejecutará el bloque de código de la primera condición verdadera, ¡ten esto en cuenta al escribir sus scripts!"
   ]
  },
  {
   "cell_type": "markdown",
   "metadata": {
    "id": "PfGLXFyHdTJE"
   },
   "source": [
    "Es importante tener una buena comprensión de cómo funciona la **indentación** en Python para mantener la estructura y el orden de su código. ¡Tocaremos este tema nuevamente cuando comencemos a construir funciones!"
   ]
  },
  {
   "cell_type": "markdown",
   "metadata": {
    "id": "CaeVnu5mdTJE"
   },
   "source": [
    "## <font color='blue'>**Veamos un poco más acerca de la indentación**</font>\n",
    "### Reglas\n",
    "1. Cada nivel de indentación utiliza 4 espacios\n",
    "2. Aún cuando funcionan, se recomienda NO usar tabs para las indentaciones\n",
    "3. NUNCA combines tabs y espacios para indentar código"
   ]
  },
  {
   "cell_type": "code",
   "execution_count": 24,
   "metadata": {
    "id": "KtmNheOodTJF",
    "ExecuteTime": {
     "end_time": "2023-08-25T23:23:17.788556700Z",
     "start_time": "2023-08-25T23:23:17.747557500Z"
    }
   },
   "outputs": [
    {
     "name": "stdout",
     "output_type": "stream",
     "text": [
      "Esta impresión está dentro del bloque 'if'\n",
      "Esta impresión está dentro del bloque 'if'\n",
      "Esta impresión está dentro del bloque 'if'\n",
      "Esta impresión está fuera del bloque 'if'\n"
     ]
    }
   ],
   "source": [
    "if True:\n",
    "    print(\"Esta impresión está dentro del bloque 'if'\")\n",
    "    print(\"Esta impresión está dentro del bloque 'if'\")\n",
    "    print(\"Esta impresión está dentro del bloque 'if'\")\n",
    "print(\"Esta impresión está fuera del bloque 'if'\")"
   ]
  },
  {
   "cell_type": "code",
   "execution_count": 26,
   "metadata": {
    "id": "-68bbq7WdTJF",
    "ExecuteTime": {
     "end_time": "2023-08-25T23:25:36.204866300Z",
     "start_time": "2023-08-25T23:25:36.200864800Z"
    }
   },
   "outputs": [
    {
     "name": "stdout",
     "output_type": "stream",
     "text": [
      "Esta impresión está fuera del bloque 'if'\n"
     ]
    }
   ],
   "source": [
    "# Veamos que ocurre cuando cambiamos la condición a False\n",
    "\n",
    "if False:\n",
    "    print(\"Esta impresión está dentro del bloque 'if'\")\n",
    "    print(\"Esta impresión está dentro del bloque 'if'\")\n",
    "    print(\"Esta impresión está dentro del bloque 'if'\")\n",
    "print(\"Esta impresión está fuera del bloque 'if'\")"
   ]
  },
  {
   "cell_type": "code",
   "execution_count": 28,
   "metadata": {
    "id": "vhQfWr0IdTJF",
    "ExecuteTime": {
     "end_time": "2023-08-25T23:25:47.843843600Z",
     "start_time": "2023-08-25T23:25:47.832844400Z"
    }
   },
   "outputs": [
    {
     "ename": "IndentationError",
     "evalue": "unindent does not match any outer indentation level (<tokenize>, line 6)",
     "output_type": "error",
     "traceback": [
      "\u001B[1;36m  File \u001B[1;32m<tokenize>:6\u001B[1;36m\u001B[0m\n\u001B[1;33m    print(\"Esta impresión está dentro del bloque 'if'\")\u001B[0m\n\u001B[1;37m    ^\u001B[0m\n\u001B[1;31mIndentationError\u001B[0m\u001B[1;31m:\u001B[0m unindent does not match any outer indentation level\n"
     ]
    }
   ],
   "source": [
    "# En este caso hemos introducido una indentación de tres espacios.\n",
    "# Esto genererá un error del tipo *IndentationEror*\n",
    "\n",
    "if False:\n",
    "    print(\"Esta impresión está dentro del bloque 'if'\")\n",
    "   print(\"Esta impresión está dentro del bloque 'if'\")\n",
    "    print(\"Esta impresión está dentro del bloque 'if'\")\n",
    "print(\"Esta impresión está fuera del bloque 'if'\")"
   ]
  },
  {
   "cell_type": "markdown",
   "metadata": {
    "id": "f55-b8I7dTJG"
   },
   "source": [
    "## <font color='blue'>**Agreguemos todo en un ejemplo final**</font>\n"
   ]
  },
  {
   "cell_type": "code",
   "execution_count": 29,
   "metadata": {
    "id": "upDamKFhdTJG",
    "ExecuteTime": {
     "end_time": "2023-08-25T23:27:30.847749600Z",
     "start_time": "2023-08-25T23:27:30.835752900Z"
    }
   },
   "outputs": [],
   "source": [
    "agent_code = 231912\n",
    "access = False"
   ]
  },
  {
   "cell_type": "code",
   "execution_count": 31,
   "metadata": {
    "id": "yZCMKijVdTJG",
    "ExecuteTime": {
     "end_time": "2023-08-25T23:28:45.126696Z",
     "start_time": "2023-08-25T23:28:45.102694700Z"
    }
   },
   "outputs": [
    {
     "name": "stdout",
     "output_type": "stream",
     "text": [
      "Bienvenido agente\n",
      "Inicializando su aceso a condición: Verdadera\n"
     ]
    }
   ],
   "source": [
    "if agent_code == 12345:\n",
    "    print('Código reinicializado')\n",
    "    print(\"Comuníquese con el supervisor\")\n",
    "elif agent_code == 231912:\n",
    "    print('Bienvenido agente')\n",
    "    print('Inicializando su aceso a condición: Verdadera')\n",
    "    access = True\n",
    "else:\n",
    "    print(\"Código erréneo\")"
   ]
  },
  {
   "cell_type": "code",
   "execution_count": null,
   "outputs": [],
   "source": [
    "# Ahora podemos iniciar otro conjunto de lógica de flujo de control aquí.\n",
    "\n",
    "if access == True:\n",
    "    print('Acceso concedido')\n",
    "else:\n",
    "    print('Access denegado')"
   ],
   "metadata": {
    "collapsed": false
   }
  },
  {
   "cell_type": "markdown",
   "source": [
    "Echa un vistazo al último conjunto del bloque `if` ...  `else`, dado que la variable **access** en sí es un booleano, también podríamos haberlo escrito así:\n"
   ],
   "metadata": {
    "collapsed": false
   }
  },
  {
   "cell_type": "code",
   "execution_count": 36,
   "outputs": [],
   "source": [
    "i = 2\n",
    "j = 3"
   ],
   "metadata": {
    "collapsed": false,
    "ExecuteTime": {
     "end_time": "2023-08-25T23:34:17.740964900Z",
     "start_time": "2023-08-25T23:34:17.715965100Z"
    }
   }
  },
  {
   "cell_type": "code",
   "execution_count": 37,
   "metadata": {
    "id": "D0BxQJLrdTJG",
    "ExecuteTime": {
     "end_time": "2023-08-25T23:34:19.249909600Z",
     "start_time": "2023-08-25T23:34:19.233911300Z"
    }
   },
   "outputs": [
    {
     "name": "stdout",
     "output_type": "stream",
     "text": [
      "Acceso concedido\n"
     ]
    }
   ],
   "source": [
    "if access and (i < j):\n",
    "    print('Acceso concedido')\n",
    "else:\n",
    "    print('Access denegado')"
   ]
  },
  {
   "cell_type": "markdown",
   "metadata": {
    "id": "3KbmAL8VdTJG"
   },
   "source": [
    "Escribir código como acabamos de hacer en la celda anterior es más limpio. Puedes nombrar tus variables de manera diferente para que también sea aún más legible tu código; por ejemplo, cambia el nombre de **access** a __access_request__ (solicitud_acceso) de forma que el código quede como sigue:\n",
    "\n",
    "```python\n",
    "if access_request:\n",
    "```"
   ]
  },
  {
   "cell_type": "markdown",
   "source": [
    "## <font color='blue'>__Ejercicios__</font>"
   ],
   "metadata": {
    "id": "QEQrP-aQsEXm"
   }
  },
  {
   "cell_type": "markdown",
   "source": [
    "### <font color='green'>Actividad 1:</font>\n",
    "### Juego de adivina el número\n",
    "\n",
    "Juego: el computador generará un número aleatorio; intenta adivinarlo !!!\n",
    "\n",
    "Pasos:\n",
    "1. Ingresa un número desde el teclado usando la función de entrada y guárdalo en una variable llamada 'my_guess_number'\n",
    "2. Genera un número aleatorio y guárdalo en una variable llamada 'número_secreto'\n",
    "3. Compara los números e imprime un mensaje: si lo adivinó, imprime \"¡Bingo, tú ganas!\" y si no, imprime \"Inténtalo de nuevo\""
   ],
   "metadata": {
    "collapsed": false
   }
  },
  {
   "cell_type": "code",
   "execution_count": 45,
   "outputs": [
    {
     "ename": "ModuleNotFoundError",
     "evalue": "No module named 'numpy'",
     "output_type": "error",
     "traceback": [
      "\u001B[1;31m---------------------------------------------------------------------------\u001B[0m",
      "\u001B[1;31mModuleNotFoundError\u001B[0m                       Traceback (most recent call last)",
      "Cell \u001B[1;32mIn[45], line 5\u001B[0m\n\u001B[0;32m      1\u001B[0m \u001B[38;5;66;03m# Primero vamos a importar una biblioteca llamada 'numpy'\u001B[39;00m\n\u001B[0;32m      2\u001B[0m \u001B[38;5;66;03m# Hablaremos mucho de bibliotecas muy pronto; por ahora decir que en ellas hay mucho código pre-armado\u001B[39;00m\n\u001B[0;32m      3\u001B[0m \u001B[38;5;66;03m# Por ahora ejecuta esta celda\u001B[39;00m\n\u001B[1;32m----> 5\u001B[0m \u001B[38;5;28;01mimport\u001B[39;00m \u001B[38;5;21;01mnumpy\u001B[39;00m \u001B[38;5;28;01mas\u001B[39;00m \u001B[38;5;21;01mnp\u001B[39;00m\n",
      "\u001B[1;31mModuleNotFoundError\u001B[0m: No module named 'numpy'"
     ]
    }
   ],
   "source": [
    "# Primero vamos a importar una biblioteca llamada 'numpy'\n",
    "# Hablaremos mucho de bibliotecas muy pronto; por ahora decir que en ellas hay mucho código pre-armado\n",
    "# Por ahora ejecuta esta celda\n",
    "\n",
    "import numpy as np"
   ],
   "metadata": {
    "collapsed": false,
    "ExecuteTime": {
     "end_time": "2023-08-25T23:49:20.517089200Z",
     "start_time": "2023-08-25T23:49:20.476084900Z"
    }
   }
  },
  {
   "cell_type": "markdown",
   "source": [
    "my_guess_number = input(\"Ingresa un número: \")\n",
    "secret_number = np.random.randint(0,9)\n",
    "\n",
    "# Tu código aquí ...\n",
    "\n"
   ],
   "metadata": {
    "collapsed": false
   }
  },
  {
   "cell_type": "markdown",
   "metadata": {
    "id": "yTojLC0bdTJH"
   },
   "source": [
    "<font color='green'>Fin actividad 1</font>"
   ]
  },
  {
   "cell_type": "markdown",
   "metadata": {
    "tags": [],
    "id": "3hlZzXdhdTJH"
   },
   "source": [
    "### <font color='green'>Actividad 2: Super challenging</font>\n",
    "### Año bisiesto\n",
    "Un año bisiesto (también conocido como año intercalario o año bissextil) es un año calendario que contiene un día adicional. Cada año bisiesto tiene 366 días en lugar de los 365 habituales, extendiendo febrero a 29 días en lugar de los 28 habituales.\n",
    "\n",
    "En el calendario gregoriano, un año normal consta de 365 días. Debido a que la duración real de un año sideral (el tiempo necesario para que la Tierra gire una vez alrededor del Sol) es en realidad 365.2425 días, un \"año bisiesto\" de 366 días se utiliza una vez cada cuatro años para eliminar el error causado por tres años normales (pero cortos).\n",
    "\n",
    "Cualquier año divisible por 4 es un año bisiesto: por ejemplo, 1988, 1992 y 1996 son años bisiestos.\n",
    "\n",
    "Sin embargo, hay un pequeño error de cálculo que debe tenerse en cuenta. Para eliminar este error, el calendario gregoriano estipula que un año que es divisible por 100 (por ejemplo, 1900) es un año bisiesto solo si también es divisible por 400.\n",
    "\n",
    "Por esta razón, los años siguientes no son años bisiestos:\n",
    "1700, 1800, 1900, 2100, 2200, 2300, 2500, 2600\n",
    "\n",
    "Esto se debe a que son divisibles por 100 pero no por 400.\n",
    "\n",
    "Los años siguientes son años bisiestos: 1600, 2000, 2400\n",
    "Esto se debe a que son divisibles por 100 y 400.\n",
    "\n",
    "### Algoritmo para calcular si un año es bisiesto\n",
    "\n",
    "Comprueba las siguientes condiciones en el orden en que se presentan:\n",
    "\n",
    "**Condición_1:** si el año es exactamente divisible por 4<br>\n",
    "**Condición_2:** si el año es divisible por 100<br>\n",
    "**Condición_3:** si el año es exactamente divisible por 400. <br>\n",
    "\n",
    "El pseudo-código que se suele usar para establecer si un año es bisiesto sería:\n",
    "\n",
    "```python\n",
    "si condición_1 y (no condición_2 o condición_3) entonces:\n",
    "    es año bisiesto\n",
    "sino\n",
    "    no es bisiesto\n",
    "```\n",
    "Por ejemplo, los años 1700, 1800 y 1900 no fueron años bisiestos, pero los años 1600 y 2000 sí lo fueron.\n",
    "\n",
    "Desafío: determina si un año específico es bisiesto o no.\n",
    "\n",
    "Pasos:\n",
    "1. Ingrese un año desde el teclado usando la función de entrada y guárdelo en una variable llamada 'input_year'\n",
    "2. Cree un código que determine si 'input_year' es o no es un año bisiesto.\n",
    "3. Imprima un mensaje que indique que input_year 'es un año bisiesto' o 'no es un año bisiesto'\n",
    "\n",
    "Tips:\n",
    "\n",
    "1. Use las funciones de entrada para ingresar el año\n",
    "2. Utilice el operador `%` (módulo) para hacer las divisiones"
   ]
  },
  {
   "cell_type": "code",
   "execution_count": null,
   "metadata": {
    "id": "IDmbIdvYdTJH"
   },
   "outputs": [],
   "source": [
    "# Tip 2: recuerda el operador %\n",
    "\n",
    "2200 % 4"
   ]
  },
  {
   "cell_type": "code",
   "execution_count": null,
   "metadata": {
    "id": "cvblWUQ_dTJH"
   },
   "outputs": [],
   "source": [
    "# Tu código aquí ...\n",
    "\n"
   ]
  },
  {
   "cell_type": "markdown",
   "metadata": {
    "id": "fBYazfNWdTJH"
   },
   "source": [
    "<font color='green'>Fin actividad 2</font>"
   ]
  },
  {
   "cell_type": "markdown",
   "source": [
    "<img src=\"https://drive.google.com/uc?export=view&id=1Igtn9UXg6NGeRWsqh4hefQUjV0hmzlBv\" width=\"100\" align=\"left\" title=\"Runa-perth\">\n",
    "<br clear=\"left\">\n",
    "Contenido opcional\n",
    "\n",
    "##<font color='blue'>__Ejercicios avanzados__</font>\n",
    "\n",
    "Si quieres aprender más, anímate a desarrollar los siguientes ejercicios utilizando sólo lo aprendido hasta el momento: tipos de datos, estructuras y sus métodos (e.g., listas, diccionarios, conjuntos, tuplas), slicing e indexing, y control de flujo.\n",
    "\n",
    "No puedes utilizar funciones, lambdas, ciclos (`for`, `while`) o librerías de apoyo.\n",
    "\n",
    "Imprime un mensaje con `print()` indicando si la condición solicitada en el ejercicio se cumple o no; e.g., la Actividad 3 debería tener una salida condicional del tipo:\n",
    "\n",
    "```python\n",
    "print(\"La primera lista es un subconjunto de la segunda lista.\")\n",
    "````\n",
    "o si no se cumple la condición ...\n",
    "```python\n",
    "print(\"La primera lista no es un subconjunto de la segunda lista.\")\n",
    "```"
   ],
   "metadata": {
    "id": "l2zr0weLbhk_"
   }
  },
  {
   "cell_type": "markdown",
   "source": [
    "### <font color='green'>Actividad 3</font>\n",
    "Dadas dos listas, verificar si la primera lista es un subconjunto de la segunda lista. Imprime un mensaje correspondiente para cada caso."
   ],
   "metadata": {
    "id": "1uo6_TkGb2aW"
   }
  },
  {
   "cell_type": "code",
   "source": [
    "lista1 = [1, 2, 3]\n",
    "lista2 = [1, 2, 3, 4, 5]\n",
    "\n",
    "# Tu código aquí ...\n",
    "lis1 = set(lista1)\n",
    "lis2 = set(lista2)\n",
    "\n",
    "if lis1.issubset(lis2):\n",
    "  print(\"La lista lista1 es subconjunto de lista2\")\n",
    "\n",
    "else:\n",
    "  print(\"No es subconjunto\")"
   ],
   "metadata": {
    "id": "kIVx6VclbwCY",
    "ExecuteTime": {
     "end_time": "2023-08-26T00:08:46.253951100Z",
     "start_time": "2023-08-26T00:08:46.195943200Z"
    }
   },
   "execution_count": 49,
   "outputs": [
    {
     "name": "stdout",
     "output_type": "stream",
     "text": [
      "La lista lista1 es subconjunto de lista2\n"
     ]
    }
   ]
  },
  {
   "cell_type": "markdown",
   "source": [
    "### <font color='green'>Actividad 4</font>\n",
    "Verificar si una tupla es palíndromo. Imprime un mensaje correspondiente para cada caso."
   ],
   "metadata": {
    "id": "ZpVSlqfhcB0W"
   }
  },
  {
   "cell_type": "code",
   "source": [
    "tupla = (\"a\", \"b\", \"c\", \"b\", \"a\")\n",
    "\n",
    "# Tu código aquí ...\n",
    "\n"
   ],
   "metadata": {
    "id": "EKUGwDhecCsV"
   },
   "execution_count": null,
   "outputs": []
  },
  {
   "cell_type": "markdown",
   "source": [
    "### <font color='green'>Actividad 5</font>\n",
    " Verificar si un diccionario tiene alguna clave duplicada. Imprime un mensaje correspondiente para cada caso."
   ],
   "metadata": {
    "id": "wzkQPWihcDX8"
   }
  },
  {
   "cell_type": "code",
   "source": [
    "diccionario = {1: \"a\", 2: \"b\", 3: \"c\", 2: \"d\"}\n",
    "\n",
    "# Tu código aquí ...\n",
    "\n"
   ],
   "metadata": {
    "id": "c_YlB5accECr"
   },
   "execution_count": null,
   "outputs": []
  },
  {
   "cell_type": "markdown",
   "source": [
    "### <font color='green'>Actividad 6</font>\n",
    "Verificar si un número está presente en un conjunto. Imprime un mensaje correspondiente para cada caso."
   ],
   "metadata": {
    "id": "hOVGQ2X-cEll"
   }
  },
  {
   "cell_type": "code",
   "source": [
    "conjunto = {1, 2, 3, 4, 5}\n",
    "numero = 3\n",
    "\n",
    "# Tu código aquí ...\n",
    "\n"
   ],
   "metadata": {
    "id": "BoT3tJrIcFZ_"
   },
   "execution_count": null,
   "outputs": []
  },
  {
   "cell_type": "markdown",
   "source": [
    "### <font color='green'>Actividad 7</font>\n",
    " Verificar si una lista está vacía o no. Imprime un mensaje correspondiente para cada caso."
   ],
   "metadata": {
    "id": "volbvTuIcFzh"
   }
  },
  {
   "cell_type": "code",
   "source": [
    "lista = []\n",
    "\n",
    "# Tu código aquí ...\n",
    "\n"
   ],
   "metadata": {
    "id": "_RT3GWMncGn5"
   },
   "execution_count": null,
   "outputs": []
  },
  {
   "cell_type": "markdown",
   "source": [
    "### <font color='green'>Actividad 8</font>\n",
    "Verificar si todos los elementos en una lista son únicos. Imprime un mensaje correspondiente para cada caso."
   ],
   "metadata": {
    "id": "KGw-7LyccHE1"
   }
  },
  {
   "cell_type": "code",
   "source": [
    "lista = [1, 2, 3, 2]\n",
    "\n",
    "# Tu código aquí ...\n",
    "\n"
   ],
   "metadata": {
    "id": "ZP70CS9tcH6x"
   },
   "execution_count": null,
   "outputs": []
  },
  {
   "cell_type": "markdown",
   "source": [
    "### <font color='green'>Actividad 9</font>\n",
    "Verificar si una tupla contiene solamente números enteros. Imprime un mensaje correspondiente para cada caso."
   ],
   "metadata": {
    "id": "ULKMovy1cIfB"
   }
  },
  {
   "cell_type": "code",
   "source": [
    "tupla = (1, 2, \"3\")\n",
    "\n",
    "# Tu código aquí ...\n",
    "\n"
   ],
   "metadata": {
    "id": "sdCed0nUcJOt"
   },
   "execution_count": null,
   "outputs": []
  },
  {
   "cell_type": "markdown",
   "source": [
    "### <font color='green'>Actividad 10</font>\n",
    "Dados dos conjuntos, verifica si el primer conjunto es un subconjunto del segundo conjunto, si el segundo conjunto es un subconjunto del primer conjunto, o si ninguno de estos casos se cumple. Imprime un mensaje correspondiente para cada caso."
   ],
   "metadata": {
    "id": "xfrucFOhgMry"
   }
  },
  {
   "cell_type": "code",
   "source": [
    "conjunto1 = {1, 2, 3, 4, 5}\n",
    "conjunto2 = {1, 2, 3, 6}\n",
    "\n",
    "# Tu código aquí ...\n",
    "\n"
   ],
   "metadata": {
    "id": "Lf2Fnby5gOQG"
   },
   "execution_count": null,
   "outputs": []
  },
  {
   "cell_type": "markdown",
   "source": [
    "<img src=\"https://drive.google.com/uc?export=view&id=1Igtn9UXg6NGeRWsqh4hefQUjV0hmzlBv\" width=\"50\" align=\"left\" title=\"Runa-perth\">"
   ],
   "metadata": {
    "id": "gpwVaGLlixnp"
   }
  }
 ],
 "metadata": {
  "kernelspec": {
   "display_name": "Python 3 (ipykernel)",
   "language": "python",
   "name": "python3"
  },
  "language_info": {
   "codemirror_mode": {
    "name": "ipython",
    "version": 3
   },
   "file_extension": ".py",
   "mimetype": "text/x-python",
   "name": "python",
   "nbconvert_exporter": "python",
   "pygments_lexer": "ipython3",
   "version": "3.8.11"
  },
  "colab": {
   "provenance": [],
   "toc_visible": true
  }
 },
 "nbformat": 4,
 "nbformat_minor": 0
}
