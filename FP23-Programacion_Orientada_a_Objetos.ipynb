{
 "cells": [
  {
   "cell_type": "markdown",
   "metadata": {
    "id": "jfy7bWjqplPX"
   },
   "source": [
    "# **Introducción a Python**\n",
    "# FP23. Programación Orientada a Objetos (OOP)\n"
   ]
  },
  {
   "cell_type": "markdown",
   "metadata": {
    "id": "ErEmZrusplPY"
   },
   "source": [
    "## <font color='blue'>__Introducción__</font>\n",
    "\n",
    "**La programación orientada a objetos** (OOP, por sus siglas en inglés) es un paradigma de programación que se basa en la idea de organizar el código en estructuras llamadas \"objetos\". Estos objetos representan entidades o conceptos del mundo real y tienen propiedades y comportamientos asociados.\n",
    "\n",
    "Para esta lección, construiremos nuestro conocimiento de OOP en Python basándose en los siguientes temas:\n",
    "\n",
    "* Objetos\n",
    "* Usando la palabra clave `class`\n",
    "* Creando atributos de clase\n",
    "* Creando métodos en una clase\n",
    "* Aprendiendo sobre la herencia\n",
    "* Aprendiendo sobre métodos especiales para clases.\n",
    "\n",
    "Comencemos la lección recordando las estructuras (objetos) básicos de Python. Por ejemplo:"
   ]
  },
  {
   "cell_type": "code",
   "execution_count": 5,
   "metadata": {
    "id": "6PUoutsEplPZ",
    "ExecuteTime": {
     "end_time": "2023-09-07T00:06:54.956728900Z",
     "start_time": "2023-09-07T00:06:54.914727900Z"
    }
   },
   "outputs": [],
   "source": [
    "# En Python todo es un objeto\n",
    "mylist = [1, 2, 3, 2, 4]"
   ]
  },
  {
   "cell_type": "markdown",
   "metadata": {
    "id": "IGltXK_WplPa"
   },
   "source": [
    "¿Recuerda cómo usábamos los métodos en una lista?"
   ]
  },
  {
   "cell_type": "code",
   "execution_count": 6,
   "metadata": {
    "id": "6T4-pusrplPa",
    "ExecuteTime": {
     "end_time": "2023-09-07T00:06:58.193609800Z",
     "start_time": "2023-09-07T00:06:58.140612500Z"
    }
   },
   "outputs": [
    {
     "data": {
      "text/plain": "2"
     },
     "execution_count": 6,
     "metadata": {},
     "output_type": "execute_result"
    }
   ],
   "source": [
    "# Los objetos tienen métodos\n",
    "mylist.count(2)"
   ]
  },
  {
   "cell_type": "code",
   "source": [
    "mylist.pop()\n",
    "mylist"
   ],
   "metadata": {
    "id": "ENXAWwI0Q7dO",
    "ExecuteTime": {
     "end_time": "2023-09-07T00:00:37.497038200Z",
     "start_time": "2023-09-07T00:00:37.476040300Z"
    }
   },
   "execution_count": 4,
   "outputs": [
    {
     "data": {
      "text/plain": "[1, 2, 3, 2]"
     },
     "execution_count": 4,
     "metadata": {},
     "output_type": "execute_result"
    }
   ]
  },
  {
   "cell_type": "markdown",
   "metadata": {
    "id": "hjTdoWstplPb"
   },
   "source": [
    "## <font color='blue'>**Qué es la Programación Orientada a Objeto (_OOP_ en inglés)**</font>\n",
    "\n",
    "La programación orientada a objetos es un paradigma de programación que proporciona un medio para estructurar programas de modo que las __propiedades__ y los __comportamientos__ se agrupen en objetos individuales.\n",
    "\n",
    "Por ejemplo, un objeto podría representar a una persona con __propiedades__ como nombre, edad y dirección; y __comportamientos__ como caminar, hablar, respirar y correr. O podría representar un correo electrónico con propiedades como una lista de destinatarios, asunto y cuerpo y comportamientos como agregar archivos adjuntos y enviar.\n",
    "\n",
    "Dicho de otra manera, la programación orientada a objetos es un enfoque para modelar cosas concretas del mundo real, como automóviles, así como relaciones entre cosas, como empresas y empleados, estudiantes y profesores, etc. OOP modela entidades del mundo real como objetos de software que tienen algunos datos asociados y pueden realizar ciertas funciones."
   ]
  },
  {
   "cell_type": "markdown",
   "source": [
    "## <font color='blue'>**Objetos**</font>\n",
    "\n",
    "En Python, **todo es un objeto**. Recuerda que de lecciones anteriores podemos usar `type()` para verificar el tipo de objeto que es algo:"
   ],
   "metadata": {
    "id": "DxkR1SpbSCbJ"
   }
  },
  {
   "cell_type": "code",
   "execution_count": 7,
   "metadata": {
    "id": "55iPCY8QplPc",
    "ExecuteTime": {
     "end_time": "2023-09-07T00:07:45.190234600Z",
     "start_time": "2023-09-07T00:07:45.137231700Z"
    }
   },
   "outputs": [
    {
     "name": "stdout",
     "output_type": "stream",
     "text": [
      "<class 'int'>\n",
      "<class 'list'>\n",
      "<class 'tuple'>\n",
      "<class 'dict'>\n"
     ]
    }
   ],
   "source": [
    "print(type(1))\n",
    "print(type([]))\n",
    "print(type(()))\n",
    "print(type({}))"
   ]
  },
  {
   "cell_type": "markdown",
   "metadata": {
    "id": "K6o7xB7rplPd"
   },
   "source": [
    "## <font color='blue'>__Clases vs instancias__</font>\n",
    "Las clases se utilizan para crear estructuras de datos definidas por el usuario. Las clases definen funciones llamadas **métodos**, que identifican los comportamientos y acciones que un **objeto**, creado a partir de la **clase**, puede realizar con sus datos.\n",
    "\n",
    "En este notebook, creará una clase llamada **agente**, la cual almacena información sobre las características y comportamientos que puede tener un agente en particular.\n",
    "\n",
    "Una **clase** es un modelo de cómo se debe definir algo. En realidad, no contiene ningún dato. Veremos que nuestra clase Agente especifica que un nombre y una edad son necesarios para definir un agente, pero no contiene el nombre o la edad de ningún agente específico.\n",
    "\n",
    "Mientras que la __clase__ es el plano (el 'template'), una __instancia__ es un objeto que se construye a partir de una clase (a partir de ese plano o template) y contiene datos reales. Una instancia de la clase Agente ya no es un plano. Es un agente real con un nombre (como Beto), y atributos (tiene 50 años).\n",
    "\n",
    "Dicho de otra manera, una clase es como un formulario o cuestionario. Una instancia es como un formulario que se ha llenado con información. Al igual que muchas personas pueden completar el mismo formulario con su propia información única, se pueden crear muchas instancias a partir de una sola clase.\n",
    "\n",
    "\n",
    "## <font color='blue'>**Cómo definir una clase (`class`)**</font>\n",
    "\n",
    "Decíamos que una clase es una maqueta que define la naturaleza de un objeto futuro. A partir de clases podemos construir instancias de dicho objeto. Una instancia es un objeto específico creado a partir de una clase particular.\n",
    "\n",
    "Por ejemplo, creemos el objeto 'l' como una instancia de un objeto de la clase lista."
   ]
  },
  {
   "cell_type": "code",
   "execution_count": null,
   "metadata": {
    "id": "Urpe7humplPd"
   },
   "outputs": [],
   "source": [
    "l = list()\n",
    "print(type(list()))\n",
    "print(type(l))"
   ]
  },
  {
   "cell_type": "markdown",
   "metadata": {
    "id": "MepF6Oh6plPe"
   },
   "source": [
    "Sabemos que en Python todas estas cosas son objetos, entonces, ¿cómo podemos crear nuestros propios tipos de objetos? Ahí es donde entra la palabra reservada `class`\n",
    "\n",
    "Los objetos definidos por el usuario se crean utilizando la palabra reservada `class`. Veamos cómo:"
   ]
  },
  {
   "cell_type": "code",
   "execution_count": 8,
   "metadata": {
    "id": "MkC-QbZ9plPe",
    "ExecuteTime": {
     "end_time": "2023-09-07T00:10:11.587737400Z",
     "start_time": "2023-09-07T00:10:11.564735700Z"
    }
   },
   "outputs": [
    {
     "name": "stdout",
     "output_type": "stream",
     "text": [
      "<class '__main__.Agente'>\n"
     ]
    }
   ],
   "source": [
    "# Creamos un nuevo objeto llamado Agente\n",
    "# Es pythonista el nombrar los objetos con la primera letra en mayúscula\n",
    "\n",
    "class Agente:\n",
    "    pass\n",
    "\n",
    "# Creamos una instancia de la clase Agente\n",
    "x = Agente()\n",
    "\n",
    "print(type(x))"
   ]
  },
  {
   "cell_type": "markdown",
   "metadata": {
    "id": "ySR2uI2YplPf"
   },
   "source": [
    "<font color='red'>Importante</font>: Por convención (pytonista), damos a las clases un nombre que comienza con una letra mayúscula.\n",
    "\n",
    "Observa cómo $x$ es ahora la referencia a nuestra nueva instancia de una clase Agente. En otras palabras, decimos que creamos una **instancia** de la clase Agente o **instanciamos** la clase Agente.\n",
    "\n",
    "Dentro del código de la clase sólo tenemos, por ahora, `pass`, como una forma de poder definirla \"vacía\". Pero podemos definir **atributos** y **métodos** de clase.\n",
    "\n",
    "Un **atributo** es una característica de un objeto. Existen **atributos de clase** y **atributos de instancia**.\n",
    "\n",
    "Un **atributo de clase** de un Agente puede ser su especie (Homo Sapiens); de existir, todas las istancias de la clase tendrán este atributo. Por otro lado, **atributos de instancia** podrían ser su nombre_real, edad, altura, color de ojos, nombre_clave, etc., los cules serán propios de la instancia.\n",
    "\n",
    "Un **método** es una operación que podemos realizar con el objeto. Típicamente es más similar a una **función** (igual que `def`) que actúa sobre el objeto mismo, por ejemplo, hacer que el objeto Agente imprima su nombre de código.\n",
    "\n",
    "Los atributos que deben tener todos los objetos Agente se definen en un método llamado `.__init__()`. Cada vez que se crea un nuevo objeto Agente (una instancia de la clase), `.__init__()` establece el estado inicial del objeto asignando los valores de las propiedades del objeto. Es decir, `.__init__()` inicializa cada nueva instancia de la clase. Técnicamente es conocido como el **constructor** de la clase.\n",
    "\n",
    "En el método `.__init__()` puedes crear cualquier número de parámetros, pero el primer parámetro siempre será una variable llamada `self`. Cuando se crea una nueva instancia de clase, la instancia se pasa automáticamente al parámetro `self` en `.__init__()` para que se puedan definir nuevos atributos en el objeto.\n",
    "\n",
    "Actualicemos nuestra clase Agente."
   ]
  },
  {
   "cell_type": "code",
   "execution_count": 11,
   "metadata": {
    "id": "flHDMmGRplPf",
    "ExecuteTime": {
     "end_time": "2023-09-07T00:13:56.646426300Z",
     "start_time": "2023-09-07T00:13:56.597420100Z"
    }
   },
   "outputs": [],
   "source": [
    "class Agente:\n",
    "    def __init__(self, nombre_real, edad): # método y su parámetros\n",
    "        self.nombre_real = nombre_real     # atributo de instancia\n",
    "        self.edad = edad                   # atributo de instancia"
   ]
  },
  {
   "cell_type": "markdown",
   "metadata": {
    "id": "g5lJyjEcplPf"
   },
   "source": [
    "<font color='red'>Importante</font>: Fíjate en la indentación de la clase y del método (`def`)."
   ]
  },
  {
   "cell_type": "markdown",
   "metadata": {
    "id": "5xhtI7cXplPf"
   },
   "source": [
    "En el cuerpo de `.__init__()`, hay dos declaraciones que usan la variable `self`:\n",
    "\n",
    "1. `self.name = nombre_real`,  crea un atributo llamado nombre_real y le asigna el valor del parámetro de nombre_real.\n",
    "2. `self.edad = edad`,  crea un atributo llamado edad y le asigna el valor del parámetro edad.\n",
    "\n",
    "Los atributos creados en `.__init__()` se denominan **atributos de instancia**. El valor de un atributo de instancia es específico de una instancia particular de la clase. Todos los objetos Agente tienen un nombre real y una edad, pero los valores de los atributos de _nombre_real_ y _edad_ variarán según la instancia de Agente.\n",
    "\n",
    "Por otro lado, los **atributos de clase** son atributos que tienen el mismo valor para todas las instancias de clase. Puede definir un atributo de clase asignando un valor a un nombre de variable fuera de `.__init__()`.\n",
    "\n",
    "Por ejemplo, la siguiente clase Agente tiene un atributo de clase llamado _\"nivel\"_ con el valor _\"Regular\"_:"
   ]
  },
  {
   "cell_type": "code",
   "execution_count": 13,
   "metadata": {
    "id": "WcAkySpDplPg",
    "ExecuteTime": {
     "end_time": "2023-09-07T00:14:19.229175800Z",
     "start_time": "2023-09-07T00:14:19.213172400Z"
    }
   },
   "outputs": [],
   "source": [
    "class Agente:\n",
    "    nivel = 'Regular'               # atributo de clase\n",
    "\n",
    "    def __init__(self, nombre_real, edad): # método y su parámetros\n",
    "        self.nombre_real = nombre_real     # atributo de instancia\n",
    "        self.edad = edad                   # atributo de instancia"
   ]
  },
  {
   "cell_type": "markdown",
   "metadata": {
    "id": "7LBuU78eplPg"
   },
   "source": [
    "<font color='red'>Importante</font>: Por convención pythonista, definimos los atributos de clase antes del método `.__init__()`"
   ]
  },
  {
   "cell_type": "code",
   "execution_count": 14,
   "metadata": {
    "id": "WrmOTyyhplPg",
    "ExecuteTime": {
     "end_time": "2023-09-07T00:15:31.418278200Z",
     "start_time": "2023-09-07T00:15:31.331272900Z"
    }
   },
   "outputs": [
    {
     "data": {
      "text/plain": "__main__.Agente"
     },
     "execution_count": 14,
     "metadata": {},
     "output_type": "execute_result"
    }
   ],
   "source": [
    "Agente"
   ]
  },
  {
   "cell_type": "markdown",
   "metadata": {
    "id": "MgV6ZUi-plPg"
   },
   "source": [
    "## <font color='blue'>**Creando instancias de clase**</font>\n",
    "Veamos cómo podemos crear instancias de nuestra clase Agente."
   ]
  },
  {
   "cell_type": "code",
   "execution_count": 15,
   "metadata": {
    "id": "5x5G9ua1plPg",
    "ExecuteTime": {
     "end_time": "2023-09-07T00:15:47.544016600Z",
     "start_time": "2023-09-07T00:15:47.430011900Z"
    }
   },
   "outputs": [
    {
     "ename": "TypeError",
     "evalue": "__init__() missing 2 required positional arguments: 'nombre_real' and 'edad'",
     "output_type": "error",
     "traceback": [
      "\u001B[1;31m---------------------------------------------------------------------------\u001B[0m",
      "\u001B[1;31mTypeError\u001B[0m                                 Traceback (most recent call last)",
      "Cell \u001B[1;32mIn[15], line 2\u001B[0m\n\u001B[0;32m      1\u001B[0m \u001B[38;5;66;03m# Este código dará un error porque necesitamos pasarle argumentos!\u001B[39;00m\n\u001B[1;32m----> 2\u001B[0m m \u001B[38;5;241m=\u001B[39m \u001B[43mAgente\u001B[49m\u001B[43m(\u001B[49m\u001B[43m)\u001B[49m\n",
      "\u001B[1;31mTypeError\u001B[0m: __init__() missing 2 required positional arguments: 'nombre_real' and 'edad'"
     ]
    }
   ],
   "source": [
    "# Este código dará un error porque necesitamos pasarle argumentos!\n",
    "m = Agente()"
   ]
  },
  {
   "cell_type": "markdown",
   "metadata": {
    "id": "quJfkxE0plPh"
   },
   "source": [
    "Para pasar argumentos a los parámetros de _nombre_real_ y _edad_, coloque los valores entre paréntesis después del nombre de la clase:"
   ]
  },
  {
   "cell_type": "code",
   "execution_count": 16,
   "metadata": {
    "id": "7PdRobKVplPh",
    "ExecuteTime": {
     "end_time": "2023-09-07T00:15:58.421132500Z",
     "start_time": "2023-09-07T00:15:58.388081100Z"
    }
   },
   "outputs": [],
   "source": [
    "b = Agente('Beto', 50)"
   ]
  },
  {
   "cell_type": "code",
   "execution_count": 17,
   "metadata": {
    "id": "q1zOaLRLplPh",
    "ExecuteTime": {
     "end_time": "2023-09-07T00:16:04.308602700Z",
     "start_time": "2023-09-07T00:16:04.288607500Z"
    }
   },
   "outputs": [],
   "source": [
    "n = Agente('Norma', 40)"
   ]
  },
  {
   "cell_type": "markdown",
   "metadata": {
    "id": "ndU3P4nXplPh"
   },
   "source": [
    "Analicemos lo que tenemos arriba. El método especial\n",
    "```python\n",
    "     __init__()\n",
    "```\n",
    "es llamado automáticamente justo después de que se ha creado el objeto:\n",
    "```python\n",
    "     def __init __ (self, nombre_real, edad):\n",
    "```\n",
    "Como decíamos, cada atributo en una definición de clase comienza con una referencia al objeto instanciado. Por convención lo llamamos `self`. La variable *nombre_real* es el argumento. El valor se pasa durante la instanciación de la clase. Lo mismo ocurre con *edad*.\n",
    "```python\n",
    "      self.nombre_real = nombre_real\n",
    "      self.edad = edad    \n",
    "````"
   ]
  },
  {
   "cell_type": "markdown",
   "metadata": {
    "id": "VYhsrrZOplPh"
   },
   "source": [
    "Ahora hemos creado dos instancias de la clase Agente. Con dos instancias de Agente, cada una tiene sus propios atributos *nombre_real* y *edad*, luego podemos acceder a estos atributos utilizando la notación de punto (**dot notation**) de esta manera:\n",
    "```python\n",
    "objeto.atributo\n",
    "```"
   ]
  },
  {
   "cell_type": "code",
   "execution_count": 18,
   "metadata": {
    "id": "xCZlLJ0KplPh",
    "ExecuteTime": {
     "end_time": "2023-09-07T00:18:45.974846Z",
     "start_time": "2023-09-07T00:18:45.958844200Z"
    }
   },
   "outputs": [
    {
     "data": {
      "text/plain": "'Beto'"
     },
     "execution_count": 18,
     "metadata": {},
     "output_type": "execute_result"
    }
   ],
   "source": [
    "b.nombre_real"
   ]
  },
  {
   "cell_type": "code",
   "execution_count": 19,
   "metadata": {
    "id": "uRlgIzgoplPh",
    "ExecuteTime": {
     "end_time": "2023-09-07T00:18:50.896139300Z",
     "start_time": "2023-09-07T00:18:50.877139800Z"
    }
   },
   "outputs": [
    {
     "data": {
      "text/plain": "40"
     },
     "execution_count": 19,
     "metadata": {},
     "output_type": "execute_result"
    }
   ],
   "source": [
    "n.edad"
   ]
  },
  {
   "cell_type": "code",
   "execution_count": 20,
   "metadata": {
    "id": "nwpAxdeOplPi",
    "ExecuteTime": {
     "end_time": "2023-09-07T00:18:53.412587Z",
     "start_time": "2023-09-07T00:18:53.344593100Z"
    }
   },
   "outputs": [
    {
     "name": "stdout",
     "output_type": "stream",
     "text": [
      "La edad de Norma es 40\n"
     ]
    }
   ],
   "source": [
    "print(f'La edad de {n.nombre_real} es {n.edad}')"
   ]
  },
  {
   "cell_type": "markdown",
   "metadata": {
    "id": "bMVFPeCAplPi"
   },
   "source": [
    "Ten en cuenta que no ponemos paréntesis después de *nombre_real*, esto se debe a que es un atributo y no un método (una función de la clase); los atributos no aceptan argumentos.\n",
    "\n",
    "De la misma forma podemos acceder a los **atributos de clase**. En nuestro ejemplo, los agentes (independientemente de su nombre real, edad u otros atributos siempre serán del nivel _'Regular'_, ¡al menos por ahora!.\n",
    "\n",
    "Obtengamos dicho atributo"
   ]
  },
  {
   "cell_type": "code",
   "execution_count": 21,
   "metadata": {
    "id": "zeVu1gWNplPi",
    "ExecuteTime": {
     "end_time": "2023-09-07T00:19:03.448669800Z",
     "start_time": "2023-09-07T00:19:03.428334900Z"
    }
   },
   "outputs": [
    {
     "data": {
      "text/plain": "'Regular'"
     },
     "execution_count": 21,
     "metadata": {},
     "output_type": "execute_result"
    }
   ],
   "source": [
    "b.nivel"
   ]
  },
  {
   "cell_type": "code",
   "execution_count": 22,
   "metadata": {
    "id": "U2BB6AIwplPi",
    "ExecuteTime": {
     "end_time": "2023-09-07T00:19:05.299448900Z",
     "start_time": "2023-09-07T00:19:05.234444700Z"
    }
   },
   "outputs": [
    {
     "data": {
      "text/plain": "True"
     },
     "execution_count": 22,
     "metadata": {},
     "output_type": "execute_result"
    }
   ],
   "source": [
    "b.nivel == n.nivel"
   ]
  },
  {
   "cell_type": "markdown",
   "metadata": {
    "id": "DFuLgiKcplPi"
   },
   "source": [
    "Podemos cambiar los valores de los atributos."
   ]
  },
  {
   "cell_type": "code",
   "execution_count": 23,
   "metadata": {
    "id": "gAqTGF4MplPi",
    "ExecuteTime": {
     "end_time": "2023-09-07T00:19:07.584011100Z",
     "start_time": "2023-09-07T00:19:07.566009900Z"
    }
   },
   "outputs": [],
   "source": [
    "p= Agente('Pancho', 40)"
   ]
  },
  {
   "cell_type": "code",
   "execution_count": 24,
   "metadata": {
    "id": "xgIKUmhQplPi",
    "ExecuteTime": {
     "end_time": "2023-09-07T00:19:09.380263800Z",
     "start_time": "2023-09-07T00:19:09.365263200Z"
    }
   },
   "outputs": [
    {
     "data": {
      "text/plain": "'Pancho'"
     },
     "execution_count": 24,
     "metadata": {},
     "output_type": "execute_result"
    }
   ],
   "source": [
    "p.nombre_real"
   ]
  },
  {
   "cell_type": "code",
   "execution_count": 25,
   "metadata": {
    "id": "WCmAwKbUplPi",
    "ExecuteTime": {
     "end_time": "2023-09-07T00:19:11.266595200Z",
     "start_time": "2023-09-07T00:19:11.249593600Z"
    }
   },
   "outputs": [
    {
     "data": {
      "text/plain": "40"
     },
     "execution_count": 25,
     "metadata": {},
     "output_type": "execute_result"
    }
   ],
   "source": [
    "p.edad"
   ]
  },
  {
   "cell_type": "code",
   "execution_count": 26,
   "metadata": {
    "id": "Eg0S1uIJplPj",
    "ExecuteTime": {
     "end_time": "2023-09-07T00:19:13.102453200Z",
     "start_time": "2023-09-07T00:19:13.046448400Z"
    }
   },
   "outputs": [
    {
     "data": {
      "text/plain": "'Regular'"
     },
     "execution_count": 26,
     "metadata": {},
     "output_type": "execute_result"
    }
   ],
   "source": [
    "p.nivel"
   ]
  },
  {
   "cell_type": "code",
   "execution_count": 27,
   "metadata": {
    "id": "3A1AG_zfplPj",
    "ExecuteTime": {
     "end_time": "2023-09-07T00:19:14.249750100Z",
     "start_time": "2023-09-07T00:19:14.229748600Z"
    }
   },
   "outputs": [],
   "source": [
    "p.nombre_real = 'Francisco'"
   ]
  },
  {
   "cell_type": "code",
   "execution_count": 28,
   "metadata": {
    "id": "f5CZlQZUplPj",
    "ExecuteTime": {
     "end_time": "2023-09-07T00:19:15.518645600Z",
     "start_time": "2023-09-07T00:19:15.493646300Z"
    }
   },
   "outputs": [
    {
     "data": {
      "text/plain": "'Francisco'"
     },
     "execution_count": 28,
     "metadata": {},
     "output_type": "execute_result"
    }
   ],
   "source": [
    "p.nombre_real"
   ]
  },
  {
   "cell_type": "markdown",
   "metadata": {
    "id": "7yR9GEkDplPj"
   },
   "source": [
    "## <font color='blue'>**Métodos (_methods_)**</font>\n",
    "\n",
    "Los métodos son funciones definidas dentro del cuerpo de una clase y sólo pueden ser llamados desde una instancia de la clase. Se utilizan para realizar operaciones con los atributos de nuestros objetos. Los métodos son esenciales en el concepto de encapsulación del paradigma OOP. Esto es esencial para segmentar las funcionalidades, especialmente, en aplicaciones grandes.\n",
    "\n",
    "Básicamente, puedes pensar en los métodos como funciones que actúan sobre un Objeto y que tienen en cuenta el Objeto mismo a través de su argumento `self`.\n",
    "\n",
    "Completemos nuestra clase Agente."
   ]
  },
  {
   "cell_type": "code",
   "execution_count": 29,
   "metadata": {
    "id": "Xz_x0jXiplPj",
    "ExecuteTime": {
     "end_time": "2023-09-07T00:20:29.201121400Z",
     "start_time": "2023-09-07T00:20:29.129117900Z"
    }
   },
   "outputs": [],
   "source": [
    "class Agente:\n",
    "    nivel = 'Regular'               # atributo de clase\n",
    "\n",
    "    def __init__(self,\n",
    "                 nombre_real,\n",
    "                 edad,\n",
    "                 nombre_clave\n",
    "                ): # método y su parámetros\n",
    "        self.nombre_real = nombre_real     # atributo de instancia\n",
    "        self.edad = edad                   # atributo de instancia\n",
    "        self.nombre_clave = nombre_clave\n",
    "\n",
    "    def descripcion(self):\n",
    "        return f'Agente {self.nombre_clave}.'\n",
    "\n",
    "    def reporte(self):\n",
    "        return f'Mi nombre real es {self.nombre_real}, tengo {self.edad} años.'"
   ]
  },
  {
   "cell_type": "markdown",
   "metadata": {
    "id": "dlaHqdvxplPj"
   },
   "source": [
    "Ésta es ahora la clase Agente con dos métodos de instancia (**instance methods**):\n",
    "1. _descripcion( )_, la cual retorna el nombre_clave del agente.\n",
    "2. _reporte( )_, la cual retorna en nombre_real y la edad del agente."
   ]
  },
  {
   "cell_type": "code",
   "execution_count": 30,
   "metadata": {
    "id": "1CXC4bsuplPj",
    "ExecuteTime": {
     "end_time": "2023-09-07T00:21:11.580327600Z",
     "start_time": "2023-09-07T00:21:11.490323600Z"
    }
   },
   "outputs": [],
   "source": [
    "b = Agente('Beto', 50, 'Caribú')\n",
    "n = Agente('Norma', 40, 'Nana')"
   ]
  },
  {
   "cell_type": "code",
   "execution_count": 31,
   "metadata": {
    "id": "W4AsxGwVplPj",
    "ExecuteTime": {
     "end_time": "2023-09-07T00:21:20.491193100Z",
     "start_time": "2023-09-07T00:21:20.469173100Z"
    }
   },
   "outputs": [
    {
     "data": {
      "text/plain": "'Agente Caribú.'"
     },
     "execution_count": 31,
     "metadata": {},
     "output_type": "execute_result"
    }
   ],
   "source": [
    "b.descripcion()"
   ]
  },
  {
   "cell_type": "code",
   "execution_count": 32,
   "metadata": {
    "id": "qXs-5ITXplPj",
    "ExecuteTime": {
     "end_time": "2023-09-07T00:21:37.116891900Z",
     "start_time": "2023-09-07T00:21:37.041889100Z"
    }
   },
   "outputs": [
    {
     "data": {
      "text/plain": "'Mi nombre real es Norma, tengo 40 años.'"
     },
     "execution_count": 32,
     "metadata": {},
     "output_type": "execute_result"
    }
   ],
   "source": [
    "n.reporte()"
   ]
  },
  {
   "cell_type": "markdown",
   "metadata": {
    "id": "R-WhS2evplPj"
   },
   "source": [
    "En la clase Agente anterior, `.descripcion()` devuelve una cadena que contiene información sobre las instancia de Agente que hemos creado ('Beto' y 'Norma'). Al escribir sus propias clases, es una buena idea tener un método que devuelva una cadena que contenga información útil sobre una instancia de la clase. Sin embargo, `.description()` no es la forma más pythonista de hacer esto.\n",
    "\n",
    "Para esto utilizaremos un método de instancia especial llamado `.__str__()`."
   ]
  },
  {
   "cell_type": "code",
   "execution_count": 33,
   "metadata": {
    "id": "PJf2fqnzplPk",
    "ExecuteTime": {
     "end_time": "2023-09-07T00:22:12.042211200Z",
     "start_time": "2023-09-07T00:22:11.966208500Z"
    }
   },
   "outputs": [],
   "source": [
    "class Agente:\n",
    "    nivel = 'Regular'               # atributo de clase\n",
    "\n",
    "    def __init__(self,\n",
    "                 nombre_real,\n",
    "                 edad,\n",
    "                 nombre_clave\n",
    "                ): # método y su parámetros\n",
    "        self.nombre_real = nombre_real     # atributo de instancia\n",
    "        self.edad = edad                   # atributo de instancia\n",
    "        self.nombre_clave = nombre_clave\n",
    "\n",
    "    def __str__(self):          # reemplazamos el método descripcion\n",
    "        return f'Agente {self.nombre_clave}.'\n",
    "\n",
    "    def reporte(self):\n",
    "        return f'Mi nombre real es {self.nombre_real}, tengo {self.edad} años.'"
   ]
  },
  {
   "cell_type": "code",
   "execution_count": 34,
   "metadata": {
    "id": "qnhLZJiwplPk",
    "ExecuteTime": {
     "end_time": "2023-09-07T00:22:16.293685600Z",
     "start_time": "2023-09-07T00:22:16.262686400Z"
    }
   },
   "outputs": [],
   "source": [
    "b = Agente('Beto', 50, 'Caribú')\n",
    "n = Agente('Norma', 40, 'Nana')"
   ]
  },
  {
   "cell_type": "markdown",
   "metadata": {
    "id": "_F6l-7ahplPk"
   },
   "source": [
    "Invocaremos el nuevo método con `print()`"
   ]
  },
  {
   "cell_type": "code",
   "execution_count": 35,
   "metadata": {
    "id": "nkqT25qkplPk",
    "ExecuteTime": {
     "end_time": "2023-09-07T00:22:19.764416200Z",
     "start_time": "2023-09-07T00:22:19.733418400Z"
    }
   },
   "outputs": [
    {
     "name": "stdout",
     "output_type": "stream",
     "text": [
      "Agente Caribú.\n"
     ]
    }
   ],
   "source": [
    "print(b)"
   ]
  },
  {
   "cell_type": "code",
   "execution_count": 36,
   "metadata": {
    "id": "oBFOLztiplPk",
    "ExecuteTime": {
     "end_time": "2023-09-07T00:22:22.450858200Z",
     "start_time": "2023-09-07T00:22:22.428854Z"
    }
   },
   "outputs": [
    {
     "data": {
      "text/plain": "'Mi nombre real es Norma, tengo 40 años.'"
     },
     "execution_count": 36,
     "metadata": {},
     "output_type": "execute_result"
    }
   ],
   "source": [
    "n.reporte()"
   ]
  },
  {
   "cell_type": "markdown",
   "metadata": {
    "id": "lrHzi8IkplPk"
   },
   "source": [
    "Los métodos como `.__init__()` y `.__str__()` se denominan **métodos dunder** porque comienzan y terminan con guiones bajos dobles (**D**ouble **UNDER**score). Hay muchos métodos dunder que puedes utilizar para personalizar clases en Python. Comprender los métodos dunder es una parte importante del dominio de la programación orientada a objetos en Python."
   ]
  },
  {
   "cell_type": "markdown",
   "metadata": {
    "id": "bn8A6aRCplPk"
   },
   "source": [
    "## <font color='blue'>__Ejemplo: cómo crear una clase Circulo__</font>"
   ]
  },
  {
   "cell_type": "code",
   "execution_count": 37,
   "metadata": {
    "id": "Rb8ntRdIplPk",
    "ExecuteTime": {
     "end_time": "2023-09-07T00:23:18.104299700Z",
     "start_time": "2023-09-07T00:23:18.024326800Z"
    }
   },
   "outputs": [],
   "source": [
    "class Circulo:\n",
    "\n",
    "    # Definimos PI, el cual es el mismo para cualquier círculo (atributo de clase)\n",
    "    PI = 3.14\n",
    "\n",
    "    # Instanciamos un círculo con radio por defecto de 1\n",
    "    def __init__(self, radio=1):\n",
    "        self.radio = radio\n",
    "\n",
    "    def __str__(self):\n",
    "        return f'Instancia de clase círculo de radio {self.radio}'\n",
    "\n",
    "    # El método 'área´ calcula el área del círculo. Noten el uso de 'self'\n",
    "    def area(self):\n",
    "        return self.radio * self.radio * Circulo.PI\n",
    "\n",
    "    def perimetro(self):\n",
    "        return 2 * self.radio * Circulo.PI"
   ]
  },
  {
   "cell_type": "code",
   "execution_count": 41,
   "metadata": {
    "id": "Hb-8JjCZplPk",
    "ExecuteTime": {
     "end_time": "2023-09-07T00:25:05.797779600Z",
     "start_time": "2023-09-07T00:25:05.732778800Z"
    }
   },
   "outputs": [],
   "source": [
    "c = Circulo(radio=2)"
   ]
  },
  {
   "cell_type": "code",
   "execution_count": 42,
   "metadata": {
    "id": "HrVMyQjrplPk",
    "ExecuteTime": {
     "end_time": "2023-09-07T00:25:07.084152900Z",
     "start_time": "2023-09-07T00:25:07.021149500Z"
    }
   },
   "outputs": [
    {
     "name": "stdout",
     "output_type": "stream",
     "text": [
      "Instancia de clase círculo de radio 2\n"
     ]
    }
   ],
   "source": [
    "print(c)"
   ]
  },
  {
   "cell_type": "code",
   "execution_count": 43,
   "metadata": {
    "id": "xnd3CCd1plPk",
    "ExecuteTime": {
     "end_time": "2023-09-07T00:25:09.245558500Z",
     "start_time": "2023-09-07T00:25:09.229557100Z"
    }
   },
   "outputs": [
    {
     "name": "stdout",
     "output_type": "stream",
     "text": [
      "El radio del círculo es: 2\n"
     ]
    }
   ],
   "source": [
    "print(f'El radio del círculo es: {c.radio}')"
   ]
  },
  {
   "cell_type": "code",
   "execution_count": 44,
   "metadata": {
    "id": "OXQpC7yYplPl",
    "ExecuteTime": {
     "end_time": "2023-09-07T00:25:11.773992600Z",
     "start_time": "2023-09-07T00:25:11.753993700Z"
    }
   },
   "outputs": [
    {
     "name": "stdout",
     "output_type": "stream",
     "text": [
      "El área del círculo es: 12.56\n"
     ]
    }
   ],
   "source": [
    "# Observa cómo para un método necesitamos los paréntesis ()\n",
    "# a diferencia de un atributo\n",
    "\n",
    "print(f'El área del círculo es: {c.area()}')"
   ]
  },
  {
   "cell_type": "code",
   "execution_count": 45,
   "metadata": {
    "id": "nxaZU11XplPl",
    "ExecuteTime": {
     "end_time": "2023-09-07T00:25:15.450022700Z",
     "start_time": "2023-09-07T00:25:15.385020600Z"
    }
   },
   "outputs": [],
   "source": [
    "# Podemos cambiar el radio\n",
    "c.radio = 10"
   ]
  },
  {
   "cell_type": "code",
   "execution_count": 46,
   "metadata": {
    "id": "Tc8tsmA5plPl",
    "ExecuteTime": {
     "end_time": "2023-09-07T00:25:17.217443800Z",
     "start_time": "2023-09-07T00:25:17.185445800Z"
    }
   },
   "outputs": [
    {
     "data": {
      "text/plain": "314.0"
     },
     "execution_count": 46,
     "metadata": {},
     "output_type": "execute_result"
    }
   ],
   "source": [
    "c.area()"
   ]
  },
  {
   "cell_type": "code",
   "execution_count": 47,
   "metadata": {
    "id": "RGZIGfqYplPl",
    "ExecuteTime": {
     "end_time": "2023-09-07T00:25:21.114080600Z",
     "start_time": "2023-09-07T00:25:21.098081700Z"
    }
   },
   "outputs": [
    {
     "name": "stdout",
     "output_type": "stream",
     "text": [
      "Instancia de clase círculo de radio 10\n"
     ]
    }
   ],
   "source": [
    "print(c)"
   ]
  },
  {
   "cell_type": "markdown",
   "metadata": {
    "id": "7MyTjTomplPl"
   },
   "source": [
    "Observa la diferencia entre llamar a un método y llamar a un atributo, los métodos necesitan que se los llame con un ( ) al final, de lo contrario no se ejecutarán."
   ]
  },
  {
   "cell_type": "markdown",
   "metadata": {
    "id": "9JNuRc-eplPl"
   },
   "source": [
    "### <font color='green'>Actividad 1:</font>\n",
    "### Crea una clase triángulo y dos instancias de ella\n",
    "\n",
    "1. Haz que la clase tenga parámetros de entrada y atributos de instancia en los cuales se solicite el largo de cada lado.\n",
    "2. Incluye un método de instancia `.__str__()`\n",
    "3. Crea métodos para que entreguen el tipo de triángulo (escaleno, isósceles o equilátero), el área y el perímetro de la instancia.\n",
    "4. Verifica que la instancia sea efectivamente un triángulo en base a las dimensiones de sus lados."
   ]
  },
  {
   "cell_type": "code",
   "execution_count": null,
   "metadata": {
    "id": "yu5UmP2oplPl"
   },
   "outputs": [],
   "source": [
    "# Tu código aquí ...\n",
    "Class triangulo\n"
   ]
  },
  {
   "cell_type": "code",
   "execution_count": null,
   "metadata": {
    "id": "d-vYCWk1plPl"
   },
   "outputs": [],
   "source": [
    "t1 = Triangulo(3, 4, 5)\n",
    "t2 = Triangulo(1, 5, 3)\n",
    "t3 = Triangulo(4, 4, 3)\n",
    "t4 = Triangulo(5, 5, 5)\n",
    "t5 = Triangulo(5, 1, 1)"
   ]
  },
  {
   "cell_type": "code",
   "execution_count": null,
   "metadata": {
    "id": "9RCT58zYplPl"
   },
   "outputs": [],
   "source": [
    "print(t1)\n",
    "print(t2)\n",
    "print(t3)\n",
    "print(t4)\n",
    "print(t5)"
   ]
  },
  {
   "cell_type": "code",
   "execution_count": null,
   "metadata": {
    "id": "yXjiZXOVplPl"
   },
   "outputs": [],
   "source": [
    "t1.area()"
   ]
  },
  {
   "cell_type": "code",
   "execution_count": null,
   "metadata": {
    "id": "Pg9w6p0cplPl"
   },
   "outputs": [],
   "source": [
    "t4.perimetro()"
   ]
  },
  {
   "cell_type": "code",
   "source": [
    "t5.area()"
   ],
   "metadata": {
    "id": "_UVyrl6UsJCM"
   },
   "execution_count": null,
   "outputs": []
  },
  {
   "cell_type": "markdown",
   "metadata": {
    "id": "uwURHrKDplPl"
   },
   "source": [
    "<font color='green'>Fin actividad 1</font>"
   ]
  },
  {
   "cell_type": "markdown",
   "metadata": {
    "id": "v0Iga0v6plPm"
   },
   "source": [
    "## <font color='blue'>**Herencia (_inheritance_)**</font>\n",
    "\n",
    "La herencia es el proceso mediante el cual una clase adquiere los atributos y métodos de otra. Las clases recién formadas se denominan **clases derivadas, secundarias o hijas** y las clases de las que se derivan las clases secundarias se denominan **clases principales o padres**.\n",
    "\n",
    "Los principales beneficios de la herencia son la reutilización de código y la reducción de la complejidad de un programa. Las clases secundarias pueden anular o ampliar los atributos y métodos de las clases principales. En otras palabras, las clases secundarias heredan todos los atributos y métodos de los padres, pero también pueden especificar atributos y métodos que son únicos para ellos.\n",
    "\n",
    "Veamos un ejemplo incorporando nuestro trabajo anterior con la clase Agente."
   ]
  },
  {
   "cell_type": "markdown",
   "metadata": {
    "id": "qSNmKk8DplPm"
   },
   "source": [
    "### Primero la Clase Principal (Base Class)\n",
    "Recreamos nuestra clase Agente desarrollada más arriba. Pon atención a los atributos y métodos que implementa."
   ]
  },
  {
   "cell_type": "code",
   "execution_count": 48,
   "metadata": {
    "id": "Eojj7qG6plPm",
    "ExecuteTime": {
     "end_time": "2023-09-07T00:36:05.338300100Z",
     "start_time": "2023-09-07T00:36:05.254294300Z"
    }
   },
   "outputs": [],
   "source": [
    "class Agente:\n",
    "    nivel = 'Regular'               # atributo de clase\n",
    "\n",
    "    def __init__(self,\n",
    "                 nombre_real,\n",
    "                 edad,\n",
    "                 nombre_clave\n",
    "                ): # método y su parámetros\n",
    "        self.nombre_real = nombre_real     # atributo de instancia\n",
    "        self.edad = edad                   # atributo de instancia\n",
    "        self.nombre_clave = nombre_clave\n",
    "\n",
    "    def __str__(self):          # reemplazamos el método descripcion\n",
    "        return f'Agente {self.nombre_clave}.'\n",
    "\n",
    "    def reporte(self):\n",
    "        return f'Mi nombre real es {self.nombre_real}, tengo {self.edad} años.'\n",
    "\n",
    "    def tipo(self):             # añadimos el método tipo()\n",
    "        return f'Agente tipo {self.nivel}'"
   ]
  },
  {
   "cell_type": "markdown",
   "metadata": {
    "id": "i4U2gMNKplPm"
   },
   "source": [
    "### Luego la Clase Derivada\n",
    "La Clase Derivada (**Derived Class**) *AgenteEspecial*, heredará de la Clase Base (**Base Class**) *Agente*, sus atributos y métodos. Observa cómo pasamos la clase como argumento.\n",
    "```python\n",
    "class ClaseDerivada(ClaseBase):\n",
    "    pass\n",
    "```"
   ]
  },
  {
   "cell_type": "code",
   "execution_count": 49,
   "metadata": {
    "id": "xdiWhJFxplPm",
    "ExecuteTime": {
     "end_time": "2023-09-07T00:36:11.116136200Z",
     "start_time": "2023-09-07T00:36:11.014124200Z"
    }
   },
   "outputs": [],
   "source": [
    "class AgenteEspecial(Agente):\n",
    "    nivel = 'Especial'\n",
    "\n",
    "    def __init__(self,              # todos los atributos de instancia\n",
    "                 nombre_real,\n",
    "                 edad,\n",
    "                 nombre_clave,\n",
    "                 mision,\n",
    "                 pais\n",
    "                ):\n",
    "        Agente.__init__(self,       # de los atributos, aquellos que se heredan de Agente\n",
    "                        nombre_real,\n",
    "                        edad,\n",
    "                        nombre_clave\n",
    "                        )\n",
    "        self.mision = mision        # atributos adiconales de la subclase\n",
    "        self.pais = pais\n",
    "\n",
    "    def reporte(self):\n",
    "        # Esto sobre-escribe el metodo report() de la clase Agente\n",
    "        print('Lo siento, esta información es clasificada')\n",
    "        print(f\"Puede llamarme {self.nombre_clave}\")\n",
    "\n",
    "    def nombre(self, clave):\n",
    "        # Podemos añadir métodos adicionales únicos para la clase AgenteEspecial\n",
    "        if clave == 123:\n",
    "            print(\"Clave secreta correcta!!\")\n",
    "            print(f'Mi nombre real es {self.nombre_real}, opero en {self.pais}.')\n",
    "        else:\n",
    "            self.reporte()\n",
    "\n",
    "    def _metodos_privados(self):\n",
    "        # Inicia los métodos con un solo guión bajo para hacerlos \"privados\"\n",
    "        # Ten en cuenta que Python es muy abierto por naturaleza\n",
    "        # cualquier usuario podría descubrir que estos métodos existen\n",
    "        # esto es solo una convención, la cual denota que el usuario no debería\n",
    "        # necesitar interactuar con este método\n",
    "        # Estos métodos, por convención, debieran ser llamados solo dentro de la clase\n",
    "        print(\"Método privado.\")\n",
    "\n",
    "    def _mision(self):\n",
    "        return f'Misión actual: {self.mision}'\n",
    "\n",
    "\n",
    "\n",
    "    # Observa que no tenemos aquí el método tipo( ) porque\n",
    "    # lo heredaremos de la clase Agente!"
   ]
  },
  {
   "cell_type": "code",
   "execution_count": 53,
   "metadata": {
    "id": "bottgpCLplPm",
    "ExecuteTime": {
     "end_time": "2023-09-07T00:37:05.388194400Z",
     "start_time": "2023-09-07T00:37:05.343190100Z"
    }
   },
   "outputs": [],
   "source": [
    "# Creamos una instancia de Agente\n",
    "m = Agente(nombre_real = 'Beto',\n",
    "           edad = 60,\n",
    "           nombre_clave = 'Caribú')"
   ]
  },
  {
   "cell_type": "code",
   "execution_count": 54,
   "metadata": {
    "id": "jJyIC775plPm",
    "ExecuteTime": {
     "end_time": "2023-09-07T00:37:09.480718300Z",
     "start_time": "2023-09-07T00:37:09.457717700Z"
    }
   },
   "outputs": [
    {
     "name": "stdout",
     "output_type": "stream",
     "text": [
      "Agente Caribú.\n"
     ]
    }
   ],
   "source": [
    "# Vemos su método __str__()\n",
    "print(m)"
   ]
  },
  {
   "cell_type": "code",
   "execution_count": 55,
   "metadata": {
    "id": "xOEl055splPm",
    "ExecuteTime": {
     "end_time": "2023-09-07T00:37:11.821895300Z",
     "start_time": "2023-09-07T00:37:11.782898100Z"
    }
   },
   "outputs": [
    {
     "data": {
      "text/plain": "'Mi nombre real es Beto, tengo 60 años.'"
     },
     "execution_count": 55,
     "metadata": {},
     "output_type": "execute_result"
    }
   ],
   "source": [
    "# Invocamos al método reporte()\n",
    "m.reporte()"
   ]
  },
  {
   "cell_type": "code",
   "execution_count": 56,
   "metadata": {
    "id": "chdL_GY9plPm",
    "ExecuteTime": {
     "end_time": "2023-09-07T00:37:13.698113900Z",
     "start_time": "2023-09-07T00:37:13.674112Z"
    }
   },
   "outputs": [
    {
     "data": {
      "text/plain": "'Agente tipo Regular'"
     },
     "execution_count": 56,
     "metadata": {},
     "output_type": "execute_result"
    }
   ],
   "source": [
    "# y el método tipo()\n",
    "m.tipo()"
   ]
  },
  {
   "cell_type": "code",
   "execution_count": 57,
   "metadata": {
    "id": "ngHALnovplPm",
    "ExecuteTime": {
     "end_time": "2023-09-07T00:37:16.405417400Z",
     "start_time": "2023-09-07T00:37:16.356407800Z"
    }
   },
   "outputs": [],
   "source": [
    "# Creamos una instancia de la subclase AgenteEspecial\n",
    "n = AgenteEspecial(nombre_real = 'Norma',\n",
    "                   edad = 40,\n",
    "                   nombre_clave = 'Nana',\n",
    "                   mision = 'Keto',\n",
    "                   pais = 'USA'\n",
    "                  )"
   ]
  },
  {
   "cell_type": "code",
   "execution_count": 58,
   "metadata": {
    "id": "XWHSvQjYplPn",
    "ExecuteTime": {
     "end_time": "2023-09-07T00:37:19.857255600Z",
     "start_time": "2023-09-07T00:37:19.838255Z"
    }
   },
   "outputs": [
    {
     "name": "stdout",
     "output_type": "stream",
     "text": [
      "Agente Nana.\n"
     ]
    }
   ],
   "source": [
    "# Invocamos el método __str__() el cual no está explícito en la subclase ...\n",
    "# ... fue heredado\n",
    "print(n)"
   ]
  },
  {
   "cell_type": "code",
   "execution_count": 59,
   "metadata": {
    "id": "wKGUeTkEplPn",
    "ExecuteTime": {
     "end_time": "2023-09-07T00:38:40.154859800Z",
     "start_time": "2023-09-07T00:38:40.079857300Z"
    }
   },
   "outputs": [
    {
     "name": "stdout",
     "output_type": "stream",
     "text": [
      "Lo siento, esta información es clasificada\n",
      "Puede llamarme Nana\n"
     ]
    }
   ],
   "source": [
    "# Invocamos el método reporte(), pero la subclase lo ha redefinido\n",
    "# Nos entrega un resultado distinto al de la clase base (Agente)\n",
    "n.reporte()"
   ]
  },
  {
   "cell_type": "code",
   "execution_count": 60,
   "metadata": {
    "id": "YaR55xUmplPn",
    "ExecuteTime": {
     "end_time": "2023-09-07T00:38:54.930205100Z",
     "start_time": "2023-09-07T00:38:54.908206Z"
    }
   },
   "outputs": [
    {
     "data": {
      "text/plain": "'Agente tipo Especial'"
     },
     "execution_count": 60,
     "metadata": {},
     "output_type": "execute_result"
    }
   ],
   "source": [
    "# El método tipo() también fue heredado\n",
    "# Pero la referencia al atributo de clase fue cambiado al de la subclase\n",
    "n.tipo()"
   ]
  },
  {
   "cell_type": "code",
   "execution_count": 61,
   "metadata": {
    "id": "sKuTs25eplPn",
    "ExecuteTime": {
     "end_time": "2023-09-07T00:38:57.663880100Z",
     "start_time": "2023-09-07T00:38:57.642881500Z"
    }
   },
   "outputs": [
    {
     "name": "stdout",
     "output_type": "stream",
     "text": [
      "Lo siento, esta información es clasificada\n",
      "Puede llamarme Nana\n"
     ]
    }
   ],
   "source": [
    "# La subclase AgenteEspecial implementa otros métodos (extiende a la clase base)\n",
    "n.nombre(clave=122)"
   ]
  },
  {
   "cell_type": "code",
   "execution_count": 62,
   "metadata": {
    "id": "fOQotzNJplPn",
    "ExecuteTime": {
     "end_time": "2023-09-07T00:38:59.702104900Z",
     "start_time": "2023-09-07T00:38:59.634103100Z"
    }
   },
   "outputs": [
    {
     "name": "stdout",
     "output_type": "stream",
     "text": [
      "Clave secreta correcta!!\n",
      "Mi nombre real es Norma, opero en USA.\n"
     ]
    }
   ],
   "source": [
    "n.nombre(123)"
   ]
  },
  {
   "cell_type": "code",
   "execution_count": 63,
   "metadata": {
    "id": "erxLpt9aplPn",
    "ExecuteTime": {
     "end_time": "2023-09-07T00:39:03.588680800Z",
     "start_time": "2023-09-07T00:39:03.542680200Z"
    }
   },
   "outputs": [
    {
     "data": {
      "text/plain": "'Misión actual: Keto'"
     },
     "execution_count": 63,
     "metadata": {},
     "output_type": "execute_result"
    }
   ],
   "source": [
    "# Y posee métodos privados\n",
    "n._mision()"
   ]
  },
  {
   "cell_type": "markdown",
   "source": [
    "<img src=\"https://drive.google.com/uc?export=view&id=1Igtn9UXg6NGeRWsqh4hefQUjV0hmzlBv\" width=\"100\" align=\"left\" title=\"Runa-perth\">\n",
    "<br clear=\"left\">\n",
    "Contenido opcional\n",
    "\n",
    "##<font color='blue'>__Polimorfismo__</font>\n",
    "El __polimorfismo__ es un concepto fundamental en la programación orientada a objetos, el cual permite que objetos de diferentes clases sean tratados de manera uniforme a través de una interfaz común. En otras palabras, un mismo método puede tener diferentes comportamientos según la clase del objeto sobre el cual se invoca.\n",
    "\n",
    "El polimorfismo se basa en la capacidad de las clases hijas (__Derived Class__) de sobrescribir los métodos de la clase base (__Base Class__) para adaptar su comportamiento específico. Esto significa que un método en la clase base puede tener una implementación general, pero cada clase hija puede proporcionar su propia implementación particular.\n",
    "\n",
    "Cuando se llama a un método polimórfico, el intérprete de Python determina en tiempo de ejecución qué versión del método debe ejecutar, según el tipo real del objeto. Esto permite tratar a objetos de diferentes clases de manera uniforme a través de una interfaz común, lo que facilita la reutilización de código y hace que el código sea más flexible y escalable.\n",
    "\n",
    "El polimorfismo es útil en situaciones donde se necesita manejar diferentes tipos de objetos de manera genérica. Por ejemplo, si tenemos una clase \"Animal\" con un método \"hacer_sonido()\", y luego creamos subclases como \"Perro\" y \"Gato\" que heredan de la clase \"Animal\" y sobrescriben el método \"hacer_sonido()\" con su propio comportamiento. Podemos tratar a un objeto \"Perro\" y un objeto \"Gato\" como objetos \"Animal\" y llamar al método \"hacer_sonido()\", obteniendo el sonido específico de cada animal.\n",
    "\n",
    "El polimorfismo se basa en los principios de la herencia y la encapsulación en la programación orientada a objetos. Al permitir que los objetos se comporten de manera polimórfica, podemos escribir código más genérico, flexible y fácil de mantener, ya que no necesitamos conocer los detalles internos de cada objeto para trabajar con ellos."
   ],
   "metadata": {
    "id": "m9airk1vZd7x"
   }
  },
  {
   "cell_type": "code",
   "source": [
    "# Creams una nueva clase derivada\n",
    "# Ahora tenemos dos de ellas: AgenteEspecial y AgenteNovato\n",
    "class AgenteNovato(Agente):\n",
    "    nivel = 'Novato'\n",
    "\n",
    "    # La clase hija o derivada sobre escribe el método tipo()\n",
    "    def tipo(self):\n",
    "        return f'Agente tipo {self.nivel}, debe operar acompañado'"
   ],
   "metadata": {
    "id": "XxNgjvoqaqUr"
   },
   "execution_count": null,
   "outputs": []
  },
  {
   "cell_type": "code",
   "source": [
    "q = AgenteNovato('Alex', 25, 'OneHand')\n",
    "\n",
    "agentes = [m, n, q]\n",
    "\n",
    "for agente in agentes:\n",
    "    print(agente.tipo())"
   ],
   "metadata": {
    "id": "QqAA_JPpaqHZ"
   },
   "execution_count": null,
   "outputs": []
  },
  {
   "cell_type": "code",
   "source": [
    "q.reporte()"
   ],
   "metadata": {
    "id": "21rbQpFmb7Zc"
   },
   "execution_count": null,
   "outputs": []
  },
  {
   "cell_type": "markdown",
   "source": [
    "El polimorfismo nos permite tratar a los objetos de diferentes clases de manera uniforme, pero obtener resultados específicos según el comportamiento definido en cada clase hija."
   ],
   "metadata": {
    "id": "d9MFatymeTM9"
   }
  },
  {
   "cell_type": "markdown",
   "source": [
    "##<font color='blue'>__Encapsulamiento__</font>\n",
    "El __encapsulamiento__ es un concepto de la programación orientada a objetos que se refiere a la ocultación de los detalles internos de una clase y la protección de sus atributos y métodos. Permite controlar el acceso a los datos de una clase y asegura que solo se puedan modificar o acceder a ellos a través de métodos específicos.\n",
    "\n",
    "En Python, el encapsulamiento se logra utilizando convenciones de nomenclatura para los atributos y métodos, donde se utiliza un prefijo de subrayado (__dunder__) para indicar que un atributo o método es privado o protegido. Sin embargo, en Python, esto es solo una convención y no impide el acceso directo a los atributos o métodos desde fuera de la clase.\n",
    "\n",
    "### __Protegido y privado__\n",
    "Tanto los atributos como los métodos pueden ser definidos como protegidos o privados. Aunque ambos tienen la intención de restringir el acceso desde fuera de la clase, hay una diferencia clave entre ellos:\n",
    "\n",
    "__Atributos y métodos protegidos__: Se definen utilizando un solo guion bajo al principio del nombre, por ejemplo, `_atributo_prot`. Los atributos y métodos protegidos pueden ser accedidos y utilizados desde fuera de la clase, pero se considera una convención que no deben ser accedidos directamente desde fuera de la clase. Se espera que los desarrolladores respeten esta convención y los utilicen solo dentro de la clase o en subclases.\n",
    "\n",
    "__Atributos y métodos privados__: Se definen utilizando dos guiones bajos al principio del nombre, por ejemplo, `__atributo_priv`. Los atributos y métodos privados no pueden ser accedidos o utilizados desde fuera de la clase. Están diseñados para ser utilizados internamente dentro de la clase y no se espera que sean accesibles desde el exterior. Esto ayuda a mantener la encapsulación y evita que el código externo acceda y modifique directamente los atributos y métodos privados de una clase.\n",
    "\n",
    "A continuación, se incluye un ejemplo de encapsulamiento aplicado a la clase Agente:"
   ],
   "metadata": {
    "id": "l9iPuZ7An1pl"
   }
  },
  {
   "cell_type": "code",
   "source": [
    "class Agente:\n",
    "    nivel = 'Regular'               # atributo de clase\n",
    "\n",
    "    def __init__(self,\n",
    "                 nombre_real,\n",
    "                 edad,\n",
    "                 nombre_clave\n",
    "                ): # método y su parámetros\n",
    "        self._nombre_real = nombre_real   # atributo de instancia protegido (dunder)\n",
    "        self.__edad = edad                # atributo de instancia privado (dunder dunder)\n",
    "        self.nombre_clave = nombre_clave\n",
    "\n",
    "    def __str__(self):\n",
    "        return f'Agente {self.nombre_clave}.'\n",
    "\n",
    "    # Método público para acceder a un dato protegido\n",
    "    def nombre(self, clave):\n",
    "        # Podemos añadir métodos adicionales únicos para la clase AgenteEspecial\n",
    "        if clave == 123:\n",
    "            print(\"Clave secreta correcta!!\")\n",
    "            print(f'Mi nombre real es {self._nombre_real}')\n",
    "            print(f'Mi vida útil es de {self.__vida_util()} años')\n",
    "        else:\n",
    "            self._reporte()\n",
    "\n",
    "    # Método privado\n",
    "    def __vida_util(self):\n",
    "        return 65 - self.__edad\n",
    "\n",
    "    # Método protegido; no debe ser accedido desde fuera de la clase\n",
    "    def _reporte(self):\n",
    "        print('Lo siento, esta información es clasificada')\n",
    "        print(f\"Puede llamarme {self.nombre_clave}\")\n",
    "\n",
    "    def tipo(self):             # añadimos el método tipo()\n",
    "        return f'Agente tipo {self.nivel}'"
   ],
   "metadata": {
    "id": "_xnUpOvGuLKq"
   },
   "execution_count": null,
   "outputs": []
  },
  {
   "cell_type": "code",
   "source": [
    "x = Agente('Andrea', 55, 'Bambina')"
   ],
   "metadata": {
    "id": "ENaC3b2L2Ryz"
   },
   "execution_count": null,
   "outputs": []
  },
  {
   "cell_type": "code",
   "source": [
    "x.nombre(121)"
   ],
   "metadata": {
    "id": "qy1pC7302Rfo"
   },
   "execution_count": null,
   "outputs": []
  },
  {
   "cell_type": "code",
   "source": [
    "x.nombre(123)"
   ],
   "metadata": {
    "id": "SBnlcAKR2yRu"
   },
   "execution_count": null,
   "outputs": []
  },
  {
   "cell_type": "code",
   "source": [
    "# Pero recuerden que es solo una convención\n",
    "x._reporte()"
   ],
   "metadata": {
    "id": "ASXy0W3a4khw"
   },
   "execution_count": null,
   "outputs": []
  },
  {
   "cell_type": "markdown",
   "source": [
    "En este ejemplo, el atributo **_nombre_real** es protegido, lo que significa que puede ser accedido desde fuera de la clase, pero se considera una convención que no debe ser accedido directamente. El atributo **__edad** es privado, lo que significa que no puede ser accedido directamente desde fuera de la clase. Además, la clase tiene un método privado **__vida_util()** y un método protegido **_reporte()**. Ambos métodos son accedidios desde dentro de la propia clase desde el método público **nombre()**."
   ],
   "metadata": {
    "id": "TmGE1iH7xSB5"
   }
  },
  {
   "cell_type": "code",
   "source": [
    "# Esto dará un error\n",
    "x.__vida_util()"
   ],
   "metadata": {
    "id": "iBvxlfo34qgX"
   },
   "execution_count": null,
   "outputs": []
  },
  {
   "cell_type": "code",
   "source": [
    "# Y esto también\n",
    "x.__edad"
   ],
   "metadata": {
    "id": "Z9tkCe-s4-o-"
   },
   "execution_count": null,
   "outputs": []
  },
  {
   "cell_type": "markdown",
   "source": [
    "Como pueden observar, métodos y atributos privados (dunder) no están disponibles desde fuera de la clase.\n",
    "\n",
    "<img src=\"https://drive.google.com/uc?export=view&id=1Igtn9UXg6NGeRWsqh4hefQUjV0hmzlBv\" width=\"50\" align=\"left\" title=\"Runa-perth\">"
   ],
   "metadata": {
    "id": "EWhJa9Jh560N"
   }
  },
  {
   "cell_type": "markdown",
   "metadata": {
    "id": "mCnUUoyyplPn"
   },
   "source": [
    "## <font color='blue'>**Métodos especiales**</font>\n",
    "Finalmente, repasemos los métodos especiales. Imaginemos que deseas verificar la longitud de una lista, eso es fácil, simplemente llama a la función `len()` en ese objeto. Pero, ¿cuál es el largo de un Agente? Veamos qué pasa:"
   ]
  },
  {
   "cell_type": "code",
   "execution_count": null,
   "metadata": {
    "id": "rj12ObgzplPn"
   },
   "outputs": [],
   "source": [
    "# Esta celda dará un error\n",
    "len(b)"
   ]
  },
  {
   "cell_type": "markdown",
   "metadata": {
    "id": "B-1JjxnvplPn"
   },
   "source": [
    "Mmmm interesante!!<br>\n",
    "¿Qué pasa si intentamos imprimir el objeto Agente?"
   ]
  },
  {
   "cell_type": "code",
   "execution_count": null,
   "metadata": {
    "id": "wV7GYjDGplPn"
   },
   "outputs": [],
   "source": [
    "print(b)"
   ]
  },
  {
   "cell_type": "markdown",
   "metadata": {
    "id": "OerSkBFIplPn"
   },
   "source": [
    "Para interactuar con los métodos integrados de Python, necesitaremos usar nombres de métodos especiales que están integrados en Python. Estos se indican mediante el uso de guiones bajos dobles (dunders) en cada lado:"
   ]
  },
  {
   "cell_type": "markdown",
   "metadata": {
    "id": "phreARwBplPn"
   },
   "source": [
    "Las clases en Python pueden implementar ciertas operaciones con nombres de métodos especiales. En realidad, estos métodos no se llaman directamente, sino mediante la sintaxis específica del lenguaje Python.\n",
    "\n",
    "Por ejemplo, creemos una clase de *Libro*:"
   ]
  },
  {
   "cell_type": "code",
   "execution_count": null,
   "metadata": {
    "id": "q5fdAvyeplPn"
   },
   "outputs": [],
   "source": [
    "class Libro():\n",
    "\n",
    "    def __init__(self, titulo, autor, paginas):\n",
    "        self.titulo = titulo\n",
    "        self.autor = autor\n",
    "        self.paginas = paginas\n",
    "\n",
    "    def __str__(self):\n",
    "        return f\"Título: {self.titulo} \\nAutor: {self.autor} \\nPáginas: {self.paginas}.\\n\"\n",
    "\n",
    "    def __len__(self):\n",
    "        return self.paginas\n",
    "\n",
    "    def __del__(self):       # Generamos un método para eliminar la instancia de clase\n",
    "        return f'Un libro es destruido'"
   ]
  },
  {
   "cell_type": "code",
   "execution_count": null,
   "metadata": {
    "id": "F27RUgvfplPo"
   },
   "outputs": [],
   "source": [
    "hp_1 = Libro(\"Harry Potter y la piedra filosofal\", \"J.K.Rowling\", 180)\n",
    "\n",
    "# Métodos especiales\n",
    "print(hp_1)\n",
    "print(f'El libro tiene {len(hp_1)} páginas')"
   ]
  },
  {
   "cell_type": "code",
   "execution_count": null,
   "metadata": {
    "id": "ew2C5XEDplPo"
   },
   "outputs": [],
   "source": [
    "del(hp_1)"
   ]
  },
  {
   "cell_type": "markdown",
   "metadata": {
    "id": "dmUHz3CEplPo"
   },
   "source": [
    "```python\n",
    "__init__(),\n",
    "__str__(),\n",
    "__len__(),\n",
    "__del__()\n",
    "```\n",
    "\n",
    "Los métodos especiales nos permiten usar funciones específicas de Python en objetos creados a través de nuestra clase."
   ]
  },
  {
   "cell_type": "markdown",
   "source": [
    "<img src=\"https://drive.google.com/uc?export=view&id=1DNuGbS1i-9it4Nyr3ZMncQz9cRhs2eJr\" width=\"100\" align=\"left\" title=\"Runa-perth\">\n",
    "<br clear=\"left\">\n",
    "\n",
    "## <font color='blue'>**Resumen**</font>\n",
    "\n",
    "La programación orientada a objetos (POO) es un paradigma de programación que organiza el código en objetos, los cuales son entidades que tienen propiedades (atributos) y comportamientos (métodos). En Python, la POO se implementa utilizando clases y objetos.\n",
    "\n",
    "\n",
    "* __Clases__: Las clases son plantillas para crear objetos. Definen las propiedades y comportamientos comunes que tendrán los objetos de esa clase.\n",
    "* __Objetos__: Los objetos son instancias de una clase. Son entidades reales que se crean a partir de una clase y tienen sus propias propiedades y comportamientos.\n",
    "* __Constructor__: Un constructor es un método especial en una clase que se llama automáticamente cuando se crea un objeto de esa clase. Su objetivo principal es inicializar los atributos del objeto y realizar cualquier configuración inicial necesaria.\n",
    "* __Atributos__: Los atributos son variables asociadas a un objeto que representan sus propiedades. Pueden ser variables de instancia (asociadas a un objeto específico) o variables de clase (compartidas por todos los objetos de la clase).\n",
    "* __Métodos__: Los métodos son funciones asociadas a una clase que representan los comportamientos de los objetos. Pueden acceder y modificar los atributos de un objeto y pueden realizar operaciones específicas.\n",
    "* __Encapsulamiento__: El encapsulamiento es el proceso de ocultar los detalles internos de una clase y proporcionar una interfaz para interactuar con los objetos. Se utiliza para proteger los atributos y métodos de una clase y controlar el acceso a ellos.\n",
    "* __Herencia__: La herencia permite crear nuevas clases basadas en clases existentes. La clase nueva hereda las propiedades y comportamientos de la clase existente (llamada clase padre o superclase) y puede añadir o modificar su funcionalidad.\n",
    "* __Polimorfismo__: El polimorfismo permite que objetos de diferentes clases respondan de manera diferente a la misma función o método. Permite tratar diferentes tipos de objetos de manera uniforme.\n",
    "* __Métodos especiales__: Python proporciona una serie de métodos especiales, precedidos y seguidos por doble guion bajo (__) o _dunder_, que permiten definir el comportamiento específico de una clase en determinadas circunstancias (por ejemplo, __init__ para la inicialización, o __str__ para mostrar el objeto como una cadena de caracteres).\n",
    "* __Modificadores de acceso__: Aunque no existen modificadores de acceso estrictos en Python, se utiliza la convención del guion bajo simple y doble (_ y  __) para indicar que un atributo o método es protegido o privado respectivamente."
   ],
   "metadata": {
    "id": "n3SQQMtKefop"
   }
  },
  {
   "cell_type": "markdown",
   "source": [
    "<img src=\"https://drive.google.com/uc?export=view&id=1DNuGbS1i-9it4Nyr3ZMncQz9cRhs2eJr\" width=\"50\" align=\"left\" title=\"Runa-perth\">\n",
    "<br clear=\"left\">"
   ],
   "metadata": {
    "id": "g5tvTzGMUMTq"
   }
  },
  {
   "cell_type": "markdown",
   "metadata": {
    "id": "CQsfdEADplPo"
   },
   "source": [
    "¡Excelente trabajo recluta!"
   ]
  }
 ],
 "metadata": {
  "anaconda-cloud": {},
  "kernelspec": {
   "display_name": "Python 3 (ipykernel)",
   "language": "python",
   "name": "python3"
  },
  "language_info": {
   "codemirror_mode": {
    "name": "ipython",
    "version": 3
   },
   "file_extension": ".py",
   "mimetype": "text/x-python",
   "name": "python",
   "nbconvert_exporter": "python",
   "pygments_lexer": "ipython3",
   "version": "3.8.11"
  },
  "colab": {
   "provenance": [],
   "toc_visible": true
  }
 },
 "nbformat": 4,
 "nbformat_minor": 0
}
