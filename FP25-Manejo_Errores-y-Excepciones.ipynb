{
 "cells": [
  {
   "cell_type": "markdown",
   "metadata": {
    "id": "BUZH2533wuuq"
   },
   "source": [
    "# **Introducción a Python**\n",
    "# FP25. Manejo de errores y excepciones"
   ]
  },
  {
   "cell_type": "markdown",
   "metadata": {
    "id": "CXOHoI0rwuut"
   },
   "source": [
    "¡Incluso los agentes especiales cometen errores! Definitivamente has cometido errores hasta este punto de tu entrenamiento. Veamos qué se produce cuando obtenemos un error e intentemos comprenderlos mejor:"
   ]
  },
  {
   "cell_type": "code",
   "execution_count": 1,
   "metadata": {
    "id": "9wsl8Ecrwuuu",
    "ExecuteTime": {
     "end_time": "2023-09-07T01:00:04.133101900Z",
     "start_time": "2023-09-07T01:00:04.118100800Z"
    }
   },
   "outputs": [
    {
     "ename": "SyntaxError",
     "evalue": "EOL while scanning string literal (2614715401.py, line 3)",
     "output_type": "error",
     "traceback": [
      "\u001B[1;36m  Cell \u001B[1;32mIn[1], line 3\u001B[1;36m\u001B[0m\n\u001B[1;33m    print('hola)\u001B[0m\n\u001B[1;37m                ^\u001B[0m\n\u001B[1;31mSyntaxError\u001B[0m\u001B[1;31m:\u001B[0m EOL while scanning string literal\n"
     ]
    }
   ],
   "source": [
    "# Ejecuta esta celda tal y como está ...\n",
    "\n",
    "print('hola)"
   ]
  },
  {
   "cell_type": "markdown",
   "metadata": {
    "id": "c4cwxjb9wuuv"
   },
   "source": [
    "Fíjate que obtenemos un **SyntaxError**, con la descripción adicional de que fue un **EOL (Error de fin de línea) mientras se escanea la cadena literal**. Esto es lo suficientemente específico para que veamos que olvidamos una comilla simple al final de la línea. Comprender estos diversos tipos de errores te ayudarán a depurar tu código mucho más rápido.\n",
    "\n",
    "Este tipo de error y descripción se conoce como una **Excepción** (*Exception*). Incluso si una declaración o expresión es sintácticamente correcta, puede causar un error cuando se intenta ejecutarla. Los errores detectados durante la ejecución se denominan excepciones y no son necesariamente fatales.\n",
    "\n",
    "Puedes consultar la lista completa de [excepciones](https://docs.python.org/3/tutorial/errors.html) aquí. Ahora aprendamos a manejar errores y excepciones en nuestro propio código."
   ]
  },
  {
   "cell_type": "markdown",
   "metadata": {
    "id": "vLTI3Hcnwuuw"
   },
   "source": [
    "## <font color='blue'>**La sentencia `try` `except`**</font>\n",
    "\n",
    "La terminología y la sintaxis básicas que se utilizan para manejar errores en Python son las declaraciones `try` y `except`. El código que puede hacer que ocurra una excepción se coloca en el bloque `try` y el manejo de la excepción se implementa en el bloque de código `except`. Nuevamente la indentación es clave en esta estructura. La forma de sintaxis es:\n",
    "```python\n",
    "     try:\n",
    "        # Intentas tu operación aquí\n",
    "     except ExceptionI:\n",
    "        # Si hay ExceptionI, ejecuta este bloque.\n",
    "     except ExceptionII:\n",
    "        # Si hay ExceptionII, ejecuta este bloque.\n",
    "     else:\n",
    "        # Si no hay excepción, ejecuta este bloque.\n",
    "     finally:\n",
    "        # Siempre ejecuta este código\n",
    "```\n",
    "También podemos verificar cualquier excepción con solo usar `except`. Para comprender mejor todo esto, veremos un ejemplo de un código que abre y escribe en un archivo."
   ]
  },
  {
   "cell_type": "markdown",
   "metadata": {
    "id": "-NjkE3OAwuuw"
   },
   "source": [
    "<font color='red'>Atención:</font>\n",
    "\n",
    "La siguiente línea de código creará un archivo en modo escritura en el directorio en el cual este notebook se está ejecutando."
   ]
  },
  {
   "cell_type": "code",
   "execution_count": 3,
   "metadata": {
    "id": "hoMxCJBiwuux",
    "ExecuteTime": {
     "end_time": "2023-09-07T01:04:24.438681Z",
     "start_time": "2023-09-07T01:04:24.392681700Z"
    }
   },
   "outputs": [
    {
     "name": "stdout",
     "output_type": "stream",
     "text": [
      "Contenido escrito exitosamente\n"
     ]
    }
   ],
   "source": [
    "try:\n",
    "    f = open('testfile','w')\n",
    "    f.write('Prueba escribiendo esto')\n",
    "\n",
    "except IOError:\n",
    "\n",
    "    # Esto solo buscará una excepción del tipo IOError y luego ejecutará la declaración de print( )\n",
    "    print(\"Error: Archivo no encontrado o no se pudo leer su data\")\n",
    "else:\n",
    "\n",
    "    print(\"Contenido escrito exitosamente\")\n",
    "    f.close()"
   ]
  },
  {
   "cell_type": "markdown",
   "metadata": {
    "id": "niDeY-Ttwuuy"
   },
   "source": [
    "Ahora veamos qué pasaría si no tuviéramos permiso de escritura (abriendo solo con 'r'):"
   ]
  },
  {
   "cell_type": "code",
   "execution_count": 4,
   "metadata": {
    "id": "5eam3xn-wuuy",
    "ExecuteTime": {
     "end_time": "2023-09-07T01:04:33.198349900Z",
     "start_time": "2023-09-07T01:04:33.183349200Z"
    }
   },
   "outputs": [
    {
     "name": "stdout",
     "output_type": "stream",
     "text": [
      "Error: Archivo no encontrado o no se pudo leer su data\n"
     ]
    }
   ],
   "source": [
    "try:\n",
    "    f = open('testfile','r')\n",
    "    f.write('Prueba escribiendo esto')\n",
    "\n",
    "except IOError:\n",
    "\n",
    "    # Esto solo buscará una excepción del tipo IOError y luego ejecutará la declaración de print( )\n",
    "    print(\"Error: Archivo no encontrado o no se pudo leer su data\")\n",
    "else:\n",
    "\n",
    "    print(\"Contenido escrito exitosamente\")\n",
    "    f.close()"
   ]
  },
  {
   "cell_type": "markdown",
   "metadata": {
    "id": "lh_uCCzAwuuz"
   },
   "source": [
    "Si queremos verificar varios errores, podemos usar sólo `except:`"
   ]
  },
  {
   "cell_type": "code",
   "execution_count": 5,
   "metadata": {
    "id": "uTkb6VRWwuuz",
    "ExecuteTime": {
     "end_time": "2023-09-07T01:04:53.580420300Z",
     "start_time": "2023-09-07T01:04:53.519414500Z"
    }
   },
   "outputs": [
    {
     "name": "stdout",
     "output_type": "stream",
     "text": [
      "Error: Archivo no encontrado o no se pudo leer su data\n"
     ]
    }
   ],
   "source": [
    "try:\n",
    "    f = open('testfile','r')\n",
    "    f.write('Prueba escribiendo esto')\n",
    "\n",
    "except:\n",
    "\n",
    "    # En este caso se evaluarán todas las posibles excepciones\n",
    "    print(\"Error: Archivo no encontrado o no se pudo leer su data\")\n",
    "else:\n",
    "\n",
    "    print(\"Contenido escrito exitosamente\")\n",
    "    f.close()"
   ]
  },
  {
   "cell_type": "markdown",
   "metadata": {
    "id": "S7BzbrBFwuuz"
   },
   "source": [
    "De esta manera, no tendrás que preocuparte por memorizar todos los tipos de excepción posibles.\n",
    "\n",
    "## <font color='blue'>**La cláusula `finally`**</font>\n",
    "Veamos ahora la palabra clave `finally`:"
   ]
  },
  {
   "cell_type": "code",
   "execution_count": 13,
   "metadata": {
    "id": "DCtLOiAuwuu0",
    "ExecuteTime": {
     "end_time": "2023-09-07T01:10:25.628558Z",
     "start_time": "2023-09-07T01:10:25.572555400Z"
    }
   },
   "outputs": [
    {
     "name": "stdout",
     "output_type": "stream",
     "text": [
      "Siempre se ejecuta el set de instrucciones anidadas en 'finally'\n"
     ]
    }
   ],
   "source": [
    "try:\n",
    "    f = open(\"testfile\", \"w\")\n",
    "    f.write(\"Prueba escribiendo esto\")\n",
    "finally:\n",
    "    print(\"Siempre se ejecuta el set de instrucciones anidadas en 'finally'\")\n",
    "    f.close()"
   ]
  },
  {
   "cell_type": "code",
   "execution_count": 14,
   "metadata": {
    "id": "yeOaMz8zwuu0",
    "ExecuteTime": {
     "end_time": "2023-09-07T01:10:28.197182Z",
     "start_time": "2023-09-07T01:10:28.159178700Z"
    }
   },
   "outputs": [
    {
     "name": "stdout",
     "output_type": "stream",
     "text": [
      "Siempre se ejecuta el set de instrucciones anidadas en 'finally'\n"
     ]
    },
    {
     "ename": "UnsupportedOperation",
     "evalue": "not writable",
     "output_type": "error",
     "traceback": [
      "\u001B[1;31m---------------------------------------------------------------------------\u001B[0m",
      "\u001B[1;31mUnsupportedOperation\u001B[0m                      Traceback (most recent call last)",
      "Cell \u001B[1;32mIn[14], line 4\u001B[0m\n\u001B[0;32m      1\u001B[0m \u001B[38;5;28;01mtry\u001B[39;00m:\n\u001B[0;32m      3\u001B[0m     f \u001B[38;5;241m=\u001B[39m \u001B[38;5;28mopen\u001B[39m(\u001B[38;5;124m\"\u001B[39m\u001B[38;5;124mtestfile\u001B[39m\u001B[38;5;124m\"\u001B[39m, \u001B[38;5;124m\"\u001B[39m\u001B[38;5;124mr\u001B[39m\u001B[38;5;124m\"\u001B[39m)\n\u001B[1;32m----> 4\u001B[0m     \u001B[43mf\u001B[49m\u001B[38;5;241;43m.\u001B[39;49m\u001B[43mwrite\u001B[49m\u001B[43m(\u001B[49m\u001B[38;5;124;43m\"\u001B[39;49m\u001B[38;5;124;43mPrueba escribiendo esto\u001B[39;49m\u001B[38;5;124;43m\"\u001B[39;49m\u001B[43m)\u001B[49m\n\u001B[0;32m      5\u001B[0m \u001B[38;5;28;01mfinally\u001B[39;00m:\n\u001B[0;32m      6\u001B[0m     \u001B[38;5;28mprint\u001B[39m(\u001B[38;5;124m\"\u001B[39m\u001B[38;5;124mSiempre se ejecuta el set de instrucciones anidadas en \u001B[39m\u001B[38;5;124m'\u001B[39m\u001B[38;5;124mfinally\u001B[39m\u001B[38;5;124m'\u001B[39m\u001B[38;5;124m\"\u001B[39m)\n",
      "\u001B[1;31mUnsupportedOperation\u001B[0m: not writable"
     ]
    }
   ],
   "source": [
    "try:\n",
    "\n",
    "    f = open(\"testfile\", \"r\")\n",
    "    f.write(\"Prueba escribiendo esto\")\n",
    "finally:\n",
    "    print(\"Siempre se ejecuta el set de instrucciones anidadas en 'finally'\")"
   ]
  },
  {
   "cell_type": "markdown",
   "metadata": {
    "id": "6nq40ZDcwuu0"
   },
   "source": [
    "Podemos usar esto junto con la palabra clave `except`; con ello obtenemos una estructura de manejo de errores del tipo: `try`, `except`, `else` y `finally`."
   ]
  },
  {
   "cell_type": "code",
   "execution_count": 8,
   "metadata": {
    "id": "d3Gjq2IZwuu0",
    "ExecuteTime": {
     "end_time": "2023-09-07T01:06:51.243127400Z",
     "start_time": "2023-09-07T01:06:51.229128200Z"
    }
   },
   "outputs": [
    {
     "name": "stdout",
     "output_type": "stream",
     "text": [
      "Error: Archivo no encontrado o no se pudo leer su data\n",
      "Siempre se ejecuta el set de instrucciones anidadas en \"finally\"\n"
     ]
    }
   ],
   "source": [
    "try:\n",
    "    f = open('testfile','r')\n",
    "    f.write('Prueba escribiendo esto')\n",
    "\n",
    "except:\n",
    "\n",
    "    # En este caso se evaluarán todas las posibles excepciones\n",
    "    print(\"Error: Archivo no encontrado o no se pudo leer su data\")\n",
    "else:\n",
    "\n",
    "    print(\"Contenido escrito exitosamente\")\n",
    "\n",
    "finally:\n",
    "    f.close()\n",
    "    print('Siempre se ejecuta el set de instrucciones anidadas en \"finally\"')"
   ]
  },
  {
   "cell_type": "markdown",
   "metadata": {
    "id": "SSL9PW0Ywuu1"
   },
   "source": [
    "## <font color='blue'>**La palabra clave `raise`**</font>\n",
    "En Python, se generan excepciones cuando se producen errores en tiempo de ejecución. También podemos generar excepciones manualmente usando la palabra clave `raise`.\n",
    "\n",
    "Opcionalmente, podemos pasar valores a la excepción para aclarar por qué se generó esa excepción.\n",
    "\n",
    "La sintáxis completa es la siguiente:\n",
    "```python\n",
    "raise NombreError('Mensaje de error (opcional)')  # Con mensaje de error\n",
    "\n",
    "raise NombreError                                 # Si mensaje de error\n",
    "```\n",
    "Veamos un par de ejemplos"
   ]
  },
  {
   "cell_type": "code",
   "execution_count": 15,
   "metadata": {
    "id": "jXVnNxBrwuu1",
    "ExecuteTime": {
     "end_time": "2023-09-07T01:11:38.028620500Z",
     "start_time": "2023-09-07T01:11:37.975619900Z"
    }
   },
   "outputs": [
    {
     "ename": "Exception",
     "evalue": "Sólo números mayores a cero",
     "output_type": "error",
     "traceback": [
      "\u001B[1;31m---------------------------------------------------------------------------\u001B[0m",
      "\u001B[1;31mException\u001B[0m                                 Traceback (most recent call last)",
      "Cell \u001B[1;32mIn[15], line 4\u001B[0m\n\u001B[0;32m      2\u001B[0m x \u001B[38;5;241m=\u001B[39m \u001B[38;5;241m-\u001B[39m\u001B[38;5;241m1\u001B[39m\n\u001B[0;32m      3\u001B[0m \u001B[38;5;28;01mif\u001B[39;00m x \u001B[38;5;241m<\u001B[39m\u001B[38;5;241m=\u001B[39m \u001B[38;5;241m0\u001B[39m:\n\u001B[1;32m----> 4\u001B[0m     \u001B[38;5;28;01mraise\u001B[39;00m \u001B[38;5;167;01mException\u001B[39;00m(\u001B[38;5;124m'\u001B[39m\u001B[38;5;124mSólo números mayores a cero\u001B[39m\u001B[38;5;124m'\u001B[39m)\n",
      "\u001B[1;31mException\u001B[0m: Sólo números mayores a cero"
     ]
    }
   ],
   "source": [
    "# Genera una excepción si el valor es menor a cero\n",
    "x = -1\n",
    "if x <= 0:\n",
    "    raise Exception('Sólo números mayores a cero')"
   ]
  },
  {
   "cell_type": "code",
   "execution_count": 16,
   "metadata": {
    "id": "6xpknXTgwuu1",
    "ExecuteTime": {
     "end_time": "2023-09-07T01:12:08.474222700Z",
     "start_time": "2023-09-07T01:12:08.442224500Z"
    }
   },
   "outputs": [],
   "source": [
    "# Ingresar un año\n",
    "\n",
    "def isBisiesto(year):\n",
    "    if year.isnumeric():\n",
    "        print('Calcula año bisiento')\n",
    "    else:\n",
    "        raise TypeError('Solo ingresar números enteros')"
   ]
  },
  {
   "cell_type": "code",
   "execution_count": 17,
   "metadata": {
    "id": "6aRF58puwuu1",
    "ExecuteTime": {
     "end_time": "2023-09-07T01:12:10.479899100Z",
     "start_time": "2023-09-07T01:12:10.395910200Z"
    }
   },
   "outputs": [
    {
     "name": "stdout",
     "output_type": "stream",
     "text": [
      "Calcula año bisiento\n"
     ]
    }
   ],
   "source": [
    "isBisiesto('2021')"
   ]
  },
  {
   "cell_type": "code",
   "execution_count": 18,
   "metadata": {
    "id": "MRpP8b1lwuu2",
    "ExecuteTime": {
     "end_time": "2023-09-07T01:12:12.327041600Z",
     "start_time": "2023-09-07T01:12:12.211031200Z"
    }
   },
   "outputs": [
    {
     "ename": "TypeError",
     "evalue": "Solo ingresar números enteros",
     "output_type": "error",
     "traceback": [
      "\u001B[1;31m---------------------------------------------------------------------------\u001B[0m",
      "\u001B[1;31mTypeError\u001B[0m                                 Traceback (most recent call last)",
      "Cell \u001B[1;32mIn[18], line 1\u001B[0m\n\u001B[1;32m----> 1\u001B[0m \u001B[43misBisiesto\u001B[49m\u001B[43m(\u001B[49m\u001B[38;5;124;43m'\u001B[39;49m\u001B[38;5;124;43mhola\u001B[39;49m\u001B[38;5;124;43m'\u001B[39;49m\u001B[43m)\u001B[49m\n",
      "Cell \u001B[1;32mIn[16], line 7\u001B[0m, in \u001B[0;36misBisiesto\u001B[1;34m(year)\u001B[0m\n\u001B[0;32m      5\u001B[0m     \u001B[38;5;28mprint\u001B[39m(\u001B[38;5;124m'\u001B[39m\u001B[38;5;124mCalcula año bisiento\u001B[39m\u001B[38;5;124m'\u001B[39m)\n\u001B[0;32m      6\u001B[0m \u001B[38;5;28;01melse\u001B[39;00m:\n\u001B[1;32m----> 7\u001B[0m     \u001B[38;5;28;01mraise\u001B[39;00m \u001B[38;5;167;01mTypeError\u001B[39;00m(\u001B[38;5;124m'\u001B[39m\u001B[38;5;124mSolo ingresar números enteros\u001B[39m\u001B[38;5;124m'\u001B[39m)\n",
      "\u001B[1;31mTypeError\u001B[0m: Solo ingresar números enteros"
     ]
    }
   ],
   "source": [
    "isBisiesto('hola')"
   ]
  },
  {
   "cell_type": "markdown",
   "metadata": {
    "id": "pWmtRKHJwuu2"
   },
   "source": [
    "Veamos lo mismo con `try`, `except`"
   ]
  },
  {
   "cell_type": "code",
   "execution_count": 19,
   "metadata": {
    "id": "C0HjIsolwuu2",
    "ExecuteTime": {
     "end_time": "2023-09-07T01:12:56.634282400Z",
     "start_time": "2023-09-07T01:12:56.614286400Z"
    }
   },
   "outputs": [],
   "source": [
    "def isBisiesto2(year):\n",
    "    try:\n",
    "        int(year)\n",
    "\n",
    "    except ValueError:\n",
    "        raise TypeError('Solo ingresar números enteros')\n",
    "\n",
    "    else:\n",
    "        print('Calcula año bisiento')\n"
   ]
  },
  {
   "cell_type": "code",
   "execution_count": 20,
   "metadata": {
    "id": "FlNNBZ8Wwuu2",
    "ExecuteTime": {
     "end_time": "2023-09-07T01:12:58.192630600Z",
     "start_time": "2023-09-07T01:12:58.172629900Z"
    }
   },
   "outputs": [
    {
     "name": "stdout",
     "output_type": "stream",
     "text": [
      "Calcula año bisiento\n"
     ]
    }
   ],
   "source": [
    "isBisiesto2('1998')"
   ]
  },
  {
   "cell_type": "code",
   "execution_count": 21,
   "metadata": {
    "id": "TLTn9jWZwuu2",
    "ExecuteTime": {
     "end_time": "2023-09-07T01:12:59.683741200Z",
     "start_time": "2023-09-07T01:12:59.626740100Z"
    }
   },
   "outputs": [
    {
     "ename": "TypeError",
     "evalue": "Solo ingresar números enteros",
     "output_type": "error",
     "traceback": [
      "\u001B[1;31m---------------------------------------------------------------------------\u001B[0m",
      "\u001B[1;31mValueError\u001B[0m                                Traceback (most recent call last)",
      "Cell \u001B[1;32mIn[19], line 3\u001B[0m, in \u001B[0;36misBisiesto2\u001B[1;34m(year)\u001B[0m\n\u001B[0;32m      2\u001B[0m \u001B[38;5;28;01mtry\u001B[39;00m:\n\u001B[1;32m----> 3\u001B[0m     \u001B[38;5;28;43mint\u001B[39;49m\u001B[43m(\u001B[49m\u001B[43myear\u001B[49m\u001B[43m)\u001B[49m\n\u001B[0;32m      5\u001B[0m \u001B[38;5;28;01mexcept\u001B[39;00m \u001B[38;5;167;01mValueError\u001B[39;00m:\n",
      "\u001B[1;31mValueError\u001B[0m: invalid literal for int() with base 10: 'hola'",
      "\nDuring handling of the above exception, another exception occurred:\n",
      "\u001B[1;31mTypeError\u001B[0m                                 Traceback (most recent call last)",
      "Cell \u001B[1;32mIn[21], line 1\u001B[0m\n\u001B[1;32m----> 1\u001B[0m \u001B[43misBisiesto2\u001B[49m\u001B[43m(\u001B[49m\u001B[38;5;124;43m'\u001B[39;49m\u001B[38;5;124;43mhola\u001B[39;49m\u001B[38;5;124;43m'\u001B[39;49m\u001B[43m)\u001B[49m\n",
      "Cell \u001B[1;32mIn[19], line 6\u001B[0m, in \u001B[0;36misBisiesto2\u001B[1;34m(year)\u001B[0m\n\u001B[0;32m      3\u001B[0m     \u001B[38;5;28mint\u001B[39m(year)\n\u001B[0;32m      5\u001B[0m \u001B[38;5;28;01mexcept\u001B[39;00m \u001B[38;5;167;01mValueError\u001B[39;00m:\n\u001B[1;32m----> 6\u001B[0m     \u001B[38;5;28;01mraise\u001B[39;00m \u001B[38;5;167;01mTypeError\u001B[39;00m(\u001B[38;5;124m'\u001B[39m\u001B[38;5;124mSolo ingresar números enteros\u001B[39m\u001B[38;5;124m'\u001B[39m)\n\u001B[0;32m      8\u001B[0m \u001B[38;5;28;01melse\u001B[39;00m:\n\u001B[0;32m      9\u001B[0m     \u001B[38;5;28mprint\u001B[39m(\u001B[38;5;124m'\u001B[39m\u001B[38;5;124mCalcula año bisiento\u001B[39m\u001B[38;5;124m'\u001B[39m)\n",
      "\u001B[1;31mTypeError\u001B[0m: Solo ingresar números enteros"
     ]
    }
   ],
   "source": [
    "isBisiesto2('hola')"
   ]
  },
  {
   "cell_type": "markdown",
   "source": [
    "## <font color='blue'>__Ejercicios__</font>"
   ],
   "metadata": {
    "id": "pXeh9WolSLIA"
   }
  },
  {
   "cell_type": "markdown",
   "metadata": {
    "id": "56KW-_sewuu2"
   },
   "source": [
    "### <font color='green'>Actividad 1: Challenging</font>\n",
    "### Mejora tu función para el algoritmo del año bisiesto del notebook FP18\n",
    "\n",
    "Toma función que realizaste en el notebook FP18 y mejórala con lo siguiente:\n",
    "\n",
    "* Utiliza `try`, `except`, `else` para controlar errores\n",
    "* Utiliza `raise` para generar excepciones\n",
    "* Prueba isBisiesto3()\n",
    "\n",
    "Nombra tu función **isBisiesto3()**"
   ]
  },
  {
   "cell_type": "code",
   "execution_count": null,
   "metadata": {
    "id": "DjditIq3wuu2"
   },
   "outputs": [],
   "source": [
    "# Tu código aquí ...\n",
    "\n"
   ]
  },
  {
   "cell_type": "code",
   "execution_count": null,
   "metadata": {
    "id": "W1WxfZziwuu3"
   },
   "outputs": [],
   "source": [
    "isBisiesto3('2018')"
   ]
  },
  {
   "cell_type": "code",
   "execution_count": null,
   "metadata": {
    "id": "F8Od1tE_wuu3"
   },
   "outputs": [],
   "source": [
    "isBisiesto3('2020')"
   ]
  },
  {
   "cell_type": "code",
   "execution_count": null,
   "metadata": {
    "id": "2wlldjiDwuu3"
   },
   "outputs": [],
   "source": [
    "isBisiesto3('hola')"
   ]
  },
  {
   "cell_type": "code",
   "execution_count": null,
   "metadata": {
    "id": "ZShQq7e8wuu3"
   },
   "outputs": [],
   "source": [
    "isBisiesto3('2018.0')"
   ]
  },
  {
   "cell_type": "markdown",
   "metadata": {
    "id": "frQjbvRCwuu3"
   },
   "source": [
    "<font color='green'>Fin actividad 1</font>"
   ]
  },
  {
   "cell_type": "markdown",
   "source": [
    "<img src=\"https://drive.google.com/uc?export=view&id=1DNuGbS1i-9it4Nyr3ZMncQz9cRhs2eJr\" width=\"100\" align=\"left\" title=\"Runa-perth\">\n",
    "<br clear=\"left\">\n",
    "\n",
    "## <font color='blue'>**Resumen**</font>\n",
    "La cláusula `try` en Python se utiliza para atrapar y manejar excepciones. Las excepciones son errores que ocurren durante la ejecución del programa. Cuando ocurre una excepción en el código, el flujo normal del programa se interrumpe. Si la excepción no se maneja, el programa se detendrá y mostrará un mensaje de error.\n",
    "\n",
    "Aquí es donde entra en juego la cláusula `try`. Puedes poner el código que podría generar una excepción dentro de un bloque `try`. Si ocurre una excepción en el bloque try, el flujo del programa se pasa a un bloque `except` correspondiente, donde se puede manejar la excepción.\n",
    "\n",
    "Además, la declaración `try` puede tener una cláusula `else`. El código dentro del bloque `else` se ejecuta si el código dentro del bloque `try` no generó ninguna excepción.\n",
    "\n",
    "Finalmente, la cláusula `finally` es opcional y se puede agregar después de los bloques `try` y `except`. El código dentro del bloque `finally` se ejecuta sin importar si se produjo una excepción o no. Es útil para acciones de limpieza que deben ser ejecutadas independientemente de si ocurrió un error.\n",
    "\n",
    "Aquí tienes un ejemplo:\n",
    "\n",
    "```python\n",
    "try:\n",
    "    # Código que podría generar una excepción\n",
    "    resultado = 10 / 0\n",
    "except ZeroDivisionError:\n",
    "    # Esto se ejecuta si hay una excepción ZeroDivisionError\n",
    "    print(\"Ha ocurrido una división por cero.\")\n",
    "else:\n",
    "    # Esto se ejecuta si no hay excepciones\n",
    "    print(\"La división se realizó con éxito.\")\n",
    "finally:\n",
    "    # Esto se ejecuta sin importar si hay una excepción o no\n",
    "    print(\"Esto se imprime siempre.\")\n",
    "\n",
    "```\n",
    "En este ejemplo, la división por cero genera una excepción `ZeroDivisionError`, por lo que el bloque `except` se ejecuta. Luego, sin importar si se produjo una excepción o no, el bloque `finally` también se ejecuta.\n",
    "\n",
    "<img src=\"https://drive.google.com/uc?export=view&id=1DNuGbS1i-9it4Nyr3ZMncQz9cRhs2eJr\" width=\"50\" align=\"left\" title=\"Runa-perth\">\n",
    "<br clear=\"left\">"
   ],
   "metadata": {
    "id": "5J_-4m0NSzBl"
   }
  },
  {
   "cell_type": "markdown",
   "metadata": {
    "id": "YqhW9kDJwuu3"
   },
   "source": [
    "Muy bien hecho!!"
   ]
  }
 ],
 "metadata": {
  "anaconda-cloud": {},
  "kernelspec": {
   "display_name": "Python 3 (ipykernel)",
   "language": "python",
   "name": "python3"
  },
  "language_info": {
   "codemirror_mode": {
    "name": "ipython",
    "version": 3
   },
   "file_extension": ".py",
   "mimetype": "text/x-python",
   "name": "python",
   "nbconvert_exporter": "python",
   "pygments_lexer": "ipython3",
   "version": "3.8.11"
  },
  "colab": {
   "provenance": [],
   "toc_visible": true
  }
 },
 "nbformat": 4,
 "nbformat_minor": 0
}
