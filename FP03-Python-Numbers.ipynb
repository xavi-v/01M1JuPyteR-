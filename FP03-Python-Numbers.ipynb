{
 "cells": [
  {
   "cell_type": "markdown",
   "metadata": {
    "id": "7cXYTli5yoif"
   },
   "source": [
    "# **Introducción a Pyton**\n",
    "# FP03. Números en Python  \n",
    "\n",
    "En esta clase comenzaremos a discutir los conceptos básicos de trabajar con números en Python. Esto debería ser sencillo."
   ]
  },
  {
   "cell_type": "markdown",
   "metadata": {
    "id": "oC73jJiAyoih"
   },
   "source": [
    "## <font color='blue'>**Principales tipos de números**</font>\n",
    "\n",
    "Los `int` son números enteros. <br>Los `float` son números decimales (recuerda que en Python la parte decimal se delimita con un punto y NO con una coma).<br>\n",
    "`complex` son números complejos."
   ]
  },
  {
   "cell_type": "code",
   "execution_count": 1,
   "metadata": {
    "id": "LWuh32APyoih",
    "ExecuteTime": {
     "end_time": "2023-09-05T07:49:15.909698300Z",
     "start_time": "2023-09-05T07:49:15.869694600Z"
    }
   },
   "outputs": [
    {
     "data": {
      "text/plain": "100"
     },
     "execution_count": 1,
     "metadata": {},
     "output_type": "execute_result"
    }
   ],
   "source": [
    "100"
   ]
  },
  {
   "cell_type": "code",
   "execution_count": 2,
   "metadata": {
    "id": "GMsGro4Kyoij",
    "ExecuteTime": {
     "end_time": "2023-09-05T07:49:25.356253200Z",
     "start_time": "2023-09-05T07:49:25.284252200Z"
    }
   },
   "outputs": [
    {
     "data": {
      "text/plain": "int"
     },
     "execution_count": 2,
     "metadata": {},
     "output_type": "execute_result"
    }
   ],
   "source": [
    "type(100)"
   ]
  },
  {
   "cell_type": "code",
   "execution_count": 3,
   "metadata": {
    "id": "PfeWqvePyoij",
    "ExecuteTime": {
     "end_time": "2023-09-05T07:49:27.734233900Z",
     "start_time": "2023-09-05T07:49:27.713237200Z"
    }
   },
   "outputs": [
    {
     "data": {
      "text/plain": "1.25"
     },
     "execution_count": 3,
     "metadata": {},
     "output_type": "execute_result"
    }
   ],
   "source": [
    "1.25"
   ]
  },
  {
   "cell_type": "code",
   "execution_count": 4,
   "metadata": {
    "id": "1-_Dvh2uyoij",
    "ExecuteTime": {
     "end_time": "2023-09-05T07:49:31.824871300Z",
     "start_time": "2023-09-05T07:49:31.762862400Z"
    }
   },
   "outputs": [
    {
     "data": {
      "text/plain": "float"
     },
     "execution_count": 4,
     "metadata": {},
     "output_type": "execute_result"
    }
   ],
   "source": [
    "type(1.2)"
   ]
  },
  {
   "cell_type": "code",
   "execution_count": 5,
   "metadata": {
    "id": "-dSLvrOQyoik",
    "ExecuteTime": {
     "end_time": "2023-09-05T07:49:33.444989700Z",
     "start_time": "2023-09-05T07:49:33.366078700Z"
    }
   },
   "outputs": [
    {
     "data": {
      "text/plain": "float"
     },
     "execution_count": 5,
     "metadata": {},
     "output_type": "execute_result"
    }
   ],
   "source": [
    "type(100.0)"
   ]
  },
  {
   "cell_type": "code",
   "execution_count": 6,
   "metadata": {
    "id": "B8m251Y2yoil",
    "ExecuteTime": {
     "end_time": "2023-09-05T07:49:35.335757300Z",
     "start_time": "2023-09-05T07:49:35.257756900Z"
    }
   },
   "outputs": [
    {
     "data": {
      "text/plain": "float"
     },
     "execution_count": 6,
     "metadata": {},
     "output_type": "execute_result"
    }
   ],
   "source": [
    "type(100.)"
   ]
  },
  {
   "cell_type": "code",
   "execution_count": 7,
   "metadata": {
    "id": "u4GovJlMyoil",
    "ExecuteTime": {
     "end_time": "2023-09-05T07:49:37.681026200Z",
     "start_time": "2023-09-05T07:49:37.618024200Z"
    }
   },
   "outputs": [
    {
     "data": {
      "text/plain": "True"
     },
     "execution_count": 7,
     "metadata": {},
     "output_type": "execute_result"
    }
   ],
   "source": [
    "100 == 100.0"
   ]
  },
  {
   "cell_type": "code",
   "execution_count": 8,
   "metadata": {
    "id": "ihnDSJC-yoim",
    "ExecuteTime": {
     "end_time": "2023-09-05T07:49:40.039359100Z",
     "start_time": "2023-09-05T07:49:39.968007900Z"
    }
   },
   "outputs": [
    {
     "data": {
      "text/plain": "False"
     },
     "execution_count": 8,
     "metadata": {},
     "output_type": "execute_result"
    }
   ],
   "source": [
    "id(100) == id(100.0)"
   ]
  },
  {
   "cell_type": "code",
   "source": [
    "2+3j"
   ],
   "metadata": {
    "id": "2VL-gs0avCxh",
    "ExecuteTime": {
     "end_time": "2023-09-05T07:49:44.431135800Z",
     "start_time": "2023-09-05T07:49:44.331619300Z"
    }
   },
   "execution_count": 9,
   "outputs": [
    {
     "data": {
      "text/plain": "(2+3j)"
     },
     "execution_count": 9,
     "metadata": {},
     "output_type": "execute_result"
    }
   ]
  },
  {
   "cell_type": "code",
   "source": [
    "type(2+3j)"
   ],
   "metadata": {
    "id": "qKopIstvvKIX",
    "ExecuteTime": {
     "end_time": "2023-09-05T07:49:49.147084Z",
     "start_time": "2023-09-05T07:49:49.116085900Z"
    }
   },
   "execution_count": 10,
   "outputs": [
    {
     "data": {
      "text/plain": "complex"
     },
     "execution_count": 10,
     "metadata": {},
     "output_type": "execute_result"
    }
   ]
  },
  {
   "cell_type": "markdown",
   "metadata": {
    "id": "OVo9hmeCyoim"
   },
   "source": [
    "## <font color='blue'>**Aritmética básica**</font>"
   ]
  },
  {
   "cell_type": "code",
   "execution_count": 11,
   "metadata": {
    "id": "2uuDbMamyoim",
    "ExecuteTime": {
     "end_time": "2023-09-05T07:49:56.608110900Z",
     "start_time": "2023-09-05T07:49:56.529237300Z"
    }
   },
   "outputs": [
    {
     "data": {
      "text/plain": "2"
     },
     "execution_count": 11,
     "metadata": {},
     "output_type": "execute_result"
    }
   ],
   "source": [
    "# Suma\n",
    "1 + 1"
   ]
  },
  {
   "cell_type": "code",
   "execution_count": 12,
   "metadata": {
    "id": "UGEahjh4yoin",
    "ExecuteTime": {
     "end_time": "2023-09-05T07:49:58.370921Z",
     "start_time": "2023-09-05T07:49:58.307804500Z"
    }
   },
   "outputs": [
    {
     "data": {
      "text/plain": "1"
     },
     "execution_count": 12,
     "metadata": {},
     "output_type": "execute_result"
    }
   ],
   "source": [
    "# Resta\n",
    "2 - 1"
   ]
  },
  {
   "cell_type": "code",
   "execution_count": 13,
   "metadata": {
    "id": "WyMoko6nyoin",
    "ExecuteTime": {
     "end_time": "2023-09-05T07:50:00.758219900Z",
     "start_time": "2023-09-05T07:50:00.710478300Z"
    }
   },
   "outputs": [
    {
     "data": {
      "text/plain": "4"
     },
     "execution_count": 13,
     "metadata": {},
     "output_type": "execute_result"
    }
   ],
   "source": [
    "# Multiplicación\n",
    "2 * 2"
   ]
  },
  {
   "cell_type": "code",
   "execution_count": 14,
   "metadata": {
    "id": "m8zJbrNKyoin",
    "ExecuteTime": {
     "end_time": "2023-09-05T07:50:02.341070600Z",
     "start_time": "2023-09-05T07:50:02.304070300Z"
    }
   },
   "outputs": [
    {
     "data": {
      "text/plain": "1.5"
     },
     "execution_count": 14,
     "metadata": {},
     "output_type": "execute_result"
    }
   ],
   "source": [
    "# División\n",
    "3 / 2"
   ]
  },
  {
   "cell_type": "code",
   "execution_count": 15,
   "metadata": {
    "id": "C9XC9Jmwyoio",
    "ExecuteTime": {
     "end_time": "2023-09-05T07:50:03.736625700Z",
     "start_time": "2023-09-05T07:50:03.669898200Z"
    }
   },
   "outputs": [
    {
     "data": {
      "text/plain": "1.0"
     },
     "execution_count": 15,
     "metadata": {},
     "output_type": "execute_result"
    }
   ],
   "source": [
    "# Considera que la división siempre retorna floats\n",
    "1/1"
   ]
  },
  {
   "cell_type": "code",
   "execution_count": 16,
   "metadata": {
    "id": "uhamwlfVyoio",
    "ExecuteTime": {
     "end_time": "2023-09-05T07:50:05.688145Z",
     "start_time": "2023-09-05T07:50:05.665147Z"
    }
   },
   "outputs": [
    {
     "data": {
      "text/plain": "8"
     },
     "execution_count": 16,
     "metadata": {},
     "output_type": "execute_result"
    }
   ],
   "source": [
    "# Potencias\n",
    "2 ** 3"
   ]
  },
  {
   "cell_type": "code",
   "execution_count": 17,
   "metadata": {
    "id": "nhLhZ6Nxyoio",
    "ExecuteTime": {
     "end_time": "2023-09-05T07:50:07.857569300Z",
     "start_time": "2023-09-05T07:50:07.792548400Z"
    }
   },
   "outputs": [
    {
     "data": {
      "text/plain": "1.4142135623730951"
     },
     "execution_count": 17,
     "metadata": {},
     "output_type": "execute_result"
    }
   ],
   "source": [
    "2 ** (1 / 2)"
   ]
  },
  {
   "cell_type": "code",
   "source": [
    "2 + 2+3j"
   ],
   "metadata": {
    "id": "0ZR2cW3evW0C",
    "ExecuteTime": {
     "end_time": "2023-09-05T07:50:11.398518400Z",
     "start_time": "2023-09-05T07:50:11.369515900Z"
    }
   },
   "execution_count": 18,
   "outputs": [
    {
     "data": {
      "text/plain": "(4+3j)"
     },
     "execution_count": 18,
     "metadata": {},
     "output_type": "execute_result"
    }
   ]
  },
  {
   "cell_type": "code",
   "source": [
    "2 * 2+3j"
   ],
   "metadata": {
    "id": "zP2iw7MbvcmF",
    "ExecuteTime": {
     "end_time": "2023-09-05T07:50:13.358148900Z",
     "start_time": "2023-09-05T07:50:13.315830500Z"
    }
   },
   "execution_count": 19,
   "outputs": [
    {
     "data": {
      "text/plain": "(4+3j)"
     },
     "execution_count": 19,
     "metadata": {},
     "output_type": "execute_result"
    }
   ]
  },
  {
   "cell_type": "code",
   "source": [
    "3j + 2+3j"
   ],
   "metadata": {
    "id": "EqID0PAQvtU6",
    "ExecuteTime": {
     "end_time": "2023-09-05T07:50:15.732325100Z",
     "start_time": "2023-09-05T07:50:15.711328Z"
    }
   },
   "execution_count": 20,
   "outputs": [
    {
     "data": {
      "text/plain": "(2+6j)"
     },
     "execution_count": 20,
     "metadata": {},
     "output_type": "execute_result"
    }
   ]
  },
  {
   "cell_type": "markdown",
   "metadata": {
    "id": "VnpdFFWryoip"
   },
   "source": [
    "### Orden de las operaciones"
   ]
  },
  {
   "cell_type": "markdown",
   "metadata": {
    "id": "xJqy-3pmyoip"
   },
   "source": [
    "Al igual que ocurre en matemáticas, en programación también tenemos una prioridad en los operadores. Esto significa que si una expresión matemática es precedida por un operador y seguido de otro, el operador más alto en la lista debe ser aplicado por primera vez. Las expresiones con paréntesis se evalúan de dentro a fuera, el paréntesis más interno se evalúa primero. El orden normal de las operaciones es de izquierda a derecha, evaluando en orden los siguientes operadores:\n",
    "\n",
    "* Términos entre paréntesis.\n",
    "* Potenciación y raíces.\n",
    "* Multiplicación y división.\n",
    "* Suma y resta.\n",
    "\n",
    "En Python se representan los operadores con el siguiente orden:\n",
    "```\n",
    "( )\n",
    "**\n",
    "X, /, %, //\n",
    "+, -\n",
    "````"
   ]
  },
  {
   "cell_type": "code",
   "execution_count": 21,
   "metadata": {
    "id": "Le1_qkOayoip",
    "ExecuteTime": {
     "end_time": "2023-09-05T07:50:55.673037500Z",
     "start_time": "2023-09-05T07:50:55.608020600Z"
    }
   },
   "outputs": [
    {
     "data": {
      "text/plain": "2002"
     },
     "execution_count": 21,
     "metadata": {},
     "output_type": "execute_result"
    }
   ],
   "source": [
    "# Orden de la operaciones\n",
    "1 + 2 * 1000 + 1"
   ]
  },
  {
   "cell_type": "code",
   "execution_count": null,
   "metadata": {
    "id": "aytYAw0zyoip"
   },
   "outputs": [],
   "source": [
    "# Python ejecuta priero los paréntesis\n",
    "(1 + 2) * (1000 + 1)"
   ]
  },
  {
   "cell_type": "code",
   "execution_count": null,
   "metadata": {
    "id": "CP2ICIIhyoip"
   },
   "outputs": [],
   "source": [
    "# Python primero la división y la multiplicación y luego la suma y la resta\n",
    "1 + 10 * 2"
   ]
  },
  {
   "cell_type": "code",
   "execution_count": null,
   "metadata": {
    "id": "NyJm5cTTyoiq"
   },
   "outputs": [],
   "source": [
    "# Pero al final del día, los paréntesis mandan\n",
    "(1 + 10) * 2"
   ]
  },
  {
   "cell_type": "markdown",
   "metadata": {
    "id": "GzqZOZhcyoiq"
   },
   "source": [
    "## <font color='blue'>**Asignando variables**</font>"
   ]
  },
  {
   "cell_type": "code",
   "execution_count": null,
   "metadata": {
    "id": "YX_sb1Layoiq"
   },
   "outputs": [],
   "source": [
    "a = 2.0"
   ]
  },
  {
   "cell_type": "code",
   "execution_count": null,
   "metadata": {
    "id": "dwbS5rG_yoir"
   },
   "outputs": [],
   "source": [
    "type(a)"
   ]
  },
  {
   "cell_type": "code",
   "execution_count": null,
   "metadata": {
    "id": "txX3st9Qyoir"
   },
   "outputs": [],
   "source": [
    "a + 3"
   ]
  },
  {
   "cell_type": "code",
   "execution_count": null,
   "metadata": {
    "id": "M_2yo-NFyoir"
   },
   "outputs": [],
   "source": [
    "b = 3"
   ]
  },
  {
   "cell_type": "code",
   "execution_count": null,
   "metadata": {
    "id": "ijwl32UMyoir"
   },
   "outputs": [],
   "source": [
    "a + b"
   ]
  },
  {
   "cell_type": "code",
   "execution_count": null,
   "metadata": {
    "id": "YRdWqOXLyoir"
   },
   "outputs": [],
   "source": [
    "print(f'El valor actual de a es {a}')\n",
    "\n",
    "# Reasignamos\n",
    "a = 1000\n",
    "\n",
    "print(f'El nuevo valor de a es {a}')"
   ]
  },
  {
   "cell_type": "code",
   "execution_count": null,
   "metadata": {
    "id": "l3BdmtvOyoir"
   },
   "outputs": [],
   "source": [
    "a + b"
   ]
  },
  {
   "cell_type": "markdown",
   "metadata": {
    "id": "a24QBdpYyoir"
   },
   "source": [
    "## <font color='blue'>**Python tipado dinámico**</font>\n",
    "\n",
    "Existen dos tipos de tipado:\n",
    "* Estático\n",
    "* Dinámico\n",
    "\n",
    "En los lenguajes estáticos, cuando declaramos una variable es necesario especificar el tipo que tiene y ese tipo es inalterable:\n",
    "```Javascript\n",
    "String nombre = 'Héctor'; // java\n",
    "```\n",
    "En cambio en lenguajes como Python no es necesario establecer un tipo y además puede cambiar en cualquier momento, eso es porque viene determinado en tiempo de ejecución por el valor asignado a la variable:"
   ]
  },
  {
   "cell_type": "code",
   "execution_count": null,
   "metadata": {
    "id": "GOC0fVrgyois"
   },
   "outputs": [],
   "source": [
    "nombre = 'Héctor'\n",
    "type(nombre)"
   ]
  },
  {
   "cell_type": "code",
   "execution_count": null,
   "metadata": {
    "id": "UfLJ84Sqyois"
   },
   "outputs": [],
   "source": [
    "nombre = 50\n",
    "type(nombre)"
   ]
  },
  {
   "cell_type": "markdown",
   "metadata": {
    "id": "8Sxb6xt8yois"
   },
   "source": [
    "### Reasignar con la misma variable"
   ]
  },
  {
   "cell_type": "code",
   "execution_count": null,
   "metadata": {
    "id": "UKAYdNxZyois"
   },
   "outputs": [],
   "source": [
    "a"
   ]
  },
  {
   "cell_type": "code",
   "execution_count": null,
   "metadata": {
    "id": "nkIvCcaJyois"
   },
   "outputs": [],
   "source": [
    "# Ten en mente que si ejecutas esta celda más de una vez estarás ejecutando a = a + a\n",
    "a = a + a"
   ]
  },
  {
   "cell_type": "code",
   "execution_count": null,
   "metadata": {
    "id": "7HnMXbURyois"
   },
   "outputs": [],
   "source": [
    "a"
   ]
  },
  {
   "cell_type": "code",
   "execution_count": null,
   "metadata": {
    "id": "4Tr9ndIoyois"
   },
   "outputs": [],
   "source": [
    "a = a + a"
   ]
  },
  {
   "cell_type": "code",
   "execution_count": null,
   "metadata": {
    "id": "kZSRUwclyois"
   },
   "outputs": [],
   "source": [
    "a"
   ]
  },
  {
   "cell_type": "markdown",
   "source": [
    "## <font color='blue'>__Ejercicios__</font>"
   ],
   "metadata": {
    "id": "mnmRssWTxfW-"
   }
  },
  {
   "cell_type": "markdown",
   "metadata": {
    "id": "Mf_eP1veyoiq"
   },
   "source": [
    "### <font color='green'>Actividad 1:</font>\n",
    "### Evalúa mentalmente\n",
    "Evalúa mentalmente las siguientes expresiones y luego descoméntalas y ejecúta la celda para ver si están correctas."
   ]
  },
  {
   "cell_type": "code",
   "execution_count": 22,
   "metadata": {
    "id": "Lj6uICpOyoiq",
    "ExecuteTime": {
     "end_time": "2023-09-05T07:57:38.511593Z",
     "start_time": "2023-09-05T07:57:38.462480100Z"
    }
   },
   "outputs": [],
   "source": [
    "#10 + (16 - 8) / 2 - 8"
   ]
  },
  {
   "cell_type": "code",
   "execution_count": 23,
   "metadata": {
    "id": "J8O5wZLEyoiq",
    "ExecuteTime": {
     "end_time": "2023-09-05T07:57:39.477366200Z",
     "start_time": "2023-09-05T07:57:39.453023700Z"
    }
   },
   "outputs": [],
   "source": [
    "# 10 + 16 - 8 / 2 - 8"
   ]
  },
  {
   "cell_type": "markdown",
   "metadata": {
    "id": "H3s22PrIyoiq"
   },
   "source": [
    "<font color='green'>Fin actividad 1</font>"
   ]
  },
  {
   "cell_type": "markdown",
   "metadata": {
    "id": "YInk921tyois"
   },
   "source": [
    "### <font color='green'>Actividad 2:</font>\n",
    "### Tipado dinámico\n",
    "Crea una variable `string`, imprímela y luego reasígnala como `float` y vuelve a imprimirla.\n",
    "Investiga y evalúa las ventajas y desventajas de esta caractarística de Python."
   ]
  },
  {
   "cell_type": "code",
   "execution_count": 24,
   "metadata": {
    "id": "3uIG5WFtyois",
    "ExecuteTime": {
     "end_time": "2023-09-05T07:58:38.765649Z",
     "start_time": "2023-09-05T07:58:38.633902200Z"
    }
   },
   "outputs": [
    {
     "name": "stdout",
     "output_type": "stream",
     "text": [
      "66.6\n",
      "66.6\n"
     ]
    }
   ],
   "source": [
    "# Tu código aquí ...\n",
    "va_string=\"66.6\"\n",
    "print(va_string)\n",
    "va_string=float(va_string)\n",
    "print(va_string)\n"
   ]
  },
  {
   "cell_type": "markdown",
   "metadata": {
    "id": "FRvGZVaSyois"
   },
   "source": [
    "Acá puedes encontrar más información de este aspecto fundamental de Python:\n",
    "\n",
    "[Tipado dinámico y tipado fuerte](https://recursospython.com/guias-y-manuales/tipado-dinamico-y-tipado-fuerte/)"
   ]
  },
  {
   "cell_type": "markdown",
   "metadata": {
    "id": "69kG6Tumyoit"
   },
   "source": [
    "<font color='green'>Fin actividad 2</font>"
   ]
  },
  {
   "cell_type": "markdown",
   "metadata": {
    "id": "IqGJH9dByoit"
   },
   "source": [
    "Excelente chicos! Tiempo de ver otros tipos de datos básicos."
   ]
  }
 ],
 "metadata": {
  "kernelspec": {
   "display_name": "Python 3 (ipykernel)",
   "language": "python",
   "name": "python3"
  },
  "language_info": {
   "codemirror_mode": {
    "name": "ipython",
    "version": 3
   },
   "file_extension": ".py",
   "mimetype": "text/x-python",
   "name": "python",
   "nbconvert_exporter": "python",
   "pygments_lexer": "ipython3",
   "version": "3.8.11"
  },
  "colab": {
   "provenance": [],
   "toc_visible": true
  }
 },
 "nbformat": 4,
 "nbformat_minor": 0
}
